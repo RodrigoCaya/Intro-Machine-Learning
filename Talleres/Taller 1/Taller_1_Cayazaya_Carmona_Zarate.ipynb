{
 "cells": [
  {
   "cell_type": "markdown",
   "metadata": {
    "id": "L5rfZ_hYaQ1Z"
   },
   "source": [
    "<center><img src=\"http://www.exalumnos.usm.cl/wp-content/uploads/2015/06/Isotipo-Negro.gif\" title=\"Title text\" width=\"30%\" /></center>\n",
    "\n",
    "<hr style=\"height:2px;border:none\"/>\n",
    "<h1 align='center'> INF-398 Aprendizaje Automático </h1>\n",
    "\n",
    "<H3 align='center'> Tarea/Taller 1 </H3>\n",
    "<hr style=\"height:2px;border:none\"/>\n"
   ]
  },
  {
   "cell_type": "markdown",
   "metadata": {
    "id": "nFFBg5ZftXLA"
   },
   "source": [
    "#Integrantes:\n",
    "- Rodrigo Cayazaya\n",
    "- Ethiel Carmona\n",
    "- Jean-Franco Zárate"
   ]
  },
  {
   "cell_type": "markdown",
   "metadata": {
    "id": "HZ2x2ppMfRfu"
   },
   "source": [
    "# Temas"
   ]
  },
  {
   "cell_type": "markdown",
   "metadata": {
    "id": "ylwudRXniRBW"
   },
   "source": [
    "* Clasificadores Discriminativos Clásicos\n",
    "* Clasificadores Generativos Clásicos\n",
    "* Evaluación de Clasificadores\n"
   ]
  },
  {
   "cell_type": "markdown",
   "metadata": {
    "id": "HvdvEYzKw3RL"
   },
   "source": [
    "# Reglas & Formalidades\n",
    "\n",
    "* Pueden trabajar en equipos de 2 a 3 personas. \n",
    "* Los equipos deben ser inscritos antes del 24 Septiembre.\n",
    "* Pueden reusar código visto en clases y/o recolectar código/ideas de otros sitios, mencionando al autor y entregando un link a la fuente. \n",
    "* Si resulta necesaria, la intervención de personas ajenas al grupo (e.g. experto) debe ser declarada y justificada.\n",
    "* Tener roles dentro del equipo está bien, pero al final del proceso, cada miembro debe entender y estar en condiciones de exponer todo el trabajo realizado. \n"
   ]
  },
  {
   "cell_type": "markdown",
   "metadata": {
    "id": "RjXyIFcChiWu"
   },
   "source": [
    "## Entregables \n",
    "\n"
   ]
  },
  {
   "cell_type": "markdown",
   "metadata": {
    "id": "D_BqodqziX7J"
   },
   "source": [
    "\n",
    "> * **Video:** Se debe preparar un video explicativo de **15 a 20 minutos** donde se describe la metodología utilizada, los resultados obtenidos y las conclusiones de la experiencia. \n",
    "\n",
    "> * **Código:** Se debe enviar un jupyter notebook con el código utilizado, de modo que sea posible **reproducir los resultados** presentados. Como alternativa, se puede entregar un link Github con el código fuente, incluyendo instrucciones precisas para ejecutar los experimentos. En cualquier caso (notebook o repo) el código debe estar ordenado y seccionado apropiadamente.\n",
    "\n",
    "> * **Conformidad Ética:** Se debe incluir una breve declaración ética en que se indique que el trabajo que se está enviando es un trabajo original, desarollado por los autores en conformidad con todas reglas antes mencionadas. Se debe también mencionar brevemente cuál fue la contribución de cada miembro del equipo. La declaración puede ser parte del notebook o estar en un archivo dentro del repo.\n",
    "\n",
    "> * **Defensa en vivo (video-conferencia):** El día de clases agendado para la discusión del taller, se seleccionarán aleatoriamente algunos equipos que presentarán oralmente su trabajo ante el curso. Los autores serán evaluados considerando la discusión y debate que generen entre sus pares. Los puntos obtenidos (positivos o negativos) se sumarán a la nota final de taller."
   ]
  },
  {
   "cell_type": "markdown",
   "metadata": {
    "id": "CqQpB2uohlP5"
   },
   "source": [
    "## Fechas"
   ]
  },
  {
   "cell_type": "markdown",
   "metadata": {
    "id": "8opRqEcUibfI"
   },
   "source": [
    "> * Defensas: 15 de Octubre, horario de clases.\n",
    "> * Fecha de entrega de vídeo: 16 de Octubre 23:59 Hrs. (1 días después de encuentro).\n",
    "> * Fecha de entrega de Jupyter (notebook): 15 de Octubre 08:00 (se pueden hacer actualizaciones hasta el 16 de Octubre 23:59 Hrs.). \n",
    "\n"
   ]
  },
  {
   "cell_type": "markdown",
   "metadata": {
    "id": "8SqC2y5Vig2c"
   },
   "source": [
    "# Instrucciones"
   ]
  },
  {
   "cell_type": "markdown",
   "metadata": {
    "id": "p-rhWdS_yyvG"
   },
   "source": [
    "La tarea se divide en dos secciones:\n",
    "\n",
    "\n",
    "\n",
    "> **1. Pregunta de Investigación**. Para esta parte, los autores deben elegir una hipótesis de investigación y diseñar un procedimiento experimental que permita reunir evidencia en contra o a favor de la misma. Es legítimo tomar una posición *a-priori* en base a lo que han aprendido en el curso, pero es importante analizar críticamente los resultados sin descartar hipótesis alternativas. \n",
    "\n",
    "> La metodología debe incluir al menos 3 datasets, de los cuales al menos 2 deben ser reales. Es deseable también que incluyan experimentos controlados sobre dataset sintéticos o semi-sintéticos no triviales diseñados por ustedes. Por ejemplo, para demostrar que un método logra ignorar variables irrelevantes se podrían crear variables \"fake\" manualmente. Experimentos de este último tipo que se basen en un dataset real contarán como realizados sobre \"dataset reales\".\n",
    "\n",
    "> Si no es relevante para la pregunta de investigación y en honor al tiempo, no es necesario llevar a cabo un análisis exploratorio detallado sobre cada dataset utilizado.\n",
    "\n",
    ">  **2. Desafío Kaggle**. Para esta parte, los autores enfrentarán un desafío en la plataforma Kaggle y serán calificados en base a su posición en el tablero de resultados y el puntaje obtenido.\n",
    "\n",
    "\n",
    "\n"
   ]
  },
  {
   "cell_type": "markdown",
   "metadata": {
    "id": "_d7yADwXq0yb"
   },
   "source": [
    "<hr style=\"height:2px;border:none\"/>\n"
   ]
  },
  {
   "cell_type": "markdown",
   "metadata": {
    "id": "_uIArKuIj89d"
   },
   "source": [
    "# Parte 1. Pregunta de Investigación"
   ]
  },
  {
   "cell_type": "markdown",
   "metadata": {
    "id": "Th2moALiMfxF"
   },
   "source": [
    "Reuna evidencia experimental para refutar o sostener una de las siguientes hipótesis u afirmaciones (máximo 2 equipos por hipótesis).\n",
    "\n",
    "Elegir tema acá **usando el nombre del equipo**:\n",
    "\n",
    "https://doodle.com/poll/qgw7h5xb72khqq9x?utm_source=poll&utm_medium=link\n"
   ]
  },
  {
   "cell_type": "markdown",
   "metadata": {
    "id": "fTkbRyusPMok"
   },
   "source": [
    "> **8. Texto & NLP.** En problemas de clasificación de texto, un modelo Bayesiano Ingenuo puede superar el desempeño de un clasificador discriminativo entrenado sobre una representación neuronal simple tipo AWE."
   ]
  },
  {
   "cell_type": "markdown",
   "metadata": {
    "id": "VOvqN-bkArds"
   },
   "source": []
  },
  {
   "cell_type": "markdown",
   "metadata": {
    "id": "BH9DxaBWArdt"
   },
   "source": [
    "# Introducción\n",
    "\n",
    "En machine learning, Naive Bayes es un algoritmo sencillo y potente al momento de clasificar. Está basado en aplicar el Teorema de Bayes con un supuesto de independencia entre las características y da muy buenos resultados al usarlo en análisis de texto, como lo es el procesamiento de lenguaje natural (NLP, por sus siglas en inglés)"
   ]
  },
  {
   "cell_type": "markdown",
   "metadata": {
    "id": "x0yWnJJYArdt"
   },
   "source": [
    "# Algoritmo Naive Bayes\n",
    "\n",
    "El clasificador Naive Bayes usa el Teorema de Bayes para predecir las probabilidades de pertenencia para cada una de las clases, determinando de esta manera a que clase particular pertenece un input al asignarle la clase más probable, lo que se conoce como el Máximo A Posteriori.\n",
    "\n",
    "El máximo a posteriori para una hipótesis con dos eventos, A y B, es:\n",
    "\n",
    "$$\n",
    "\\begin{align}\n",
    "{max(P(A | B))} & = max(\\frac{P(B | A) * P(A)}{P(B)})\\\\\n",
    "{} & = max(P(B | A) * P(A))\n",
    "\\end{align}\n",
    "$$\n",
    "\n",
    "Donde $P(B)$ viene de la evidencia y es usada para normalizar el resultado, aunque normalmente se suele remover.\n",
    "\n",
    "Como se mencionó antes, el clasificador Naive Bayes asume que las características no tienen relación unas con otras, por lo cual, la presencia o ausencia de alguna característica no influye en la presencia o ausencia de las demás.\n",
    "\n",
    "El uso de este supuesto es utilizado para desacoplar múltiples pruebas de la hipótesis, tratando cada una como independiente."
   ]
  },
  {
   "cell_type": "markdown",
   "metadata": {
    "id": "icHglz2MArdu"
   },
   "source": [
    "# Aplicaciones del algoritmo\n",
    "\n",
    "Dado que el algoritmo de clasificación Naive Bayes es uno de los algoritmos mas sencillos y rápidos, es muy útil en grandes volúmenes de datos para diversas aplicaciones, tales como:\n",
    "\n",
    "<ul>\n",
    "<li>Filtros de spam</li>\n",
    "<li>Clasificación de texto</li>\n",
    "<li>Análisis de sentimientos</li>\n",
    "<li>Sistemas recomendadores</li>\n",
    "</ul>"
   ]
  },
  {
   "cell_type": "markdown",
   "metadata": {
    "id": "_rMPDykgLHWm"
   },
   "source": [
    "## Contexto\n",
    "\n",
    "Las word embeddings son un conjunto de modelos de lenguaje y técnicas de aprendizaje utilizados en NLP, donde las palabras  o frases del lenguaje natural son representados como vectores de números reales.\n",
    "\n",
    "### One-hot encoder\n",
    "\n",
    "Transforma las palabras a vectores con un largo del tamaño de la cantidad de palabras que se le den a un modelo, y le asigna un 1 en la posición en que la palabra se encuentra y 0's en todas las demás posiciones. Si tenemos un vector de 10000 dimesiones, 9999 valores serán cero excepto 1. El problema que este enfoque tiene es que no da pistas sobre los resultados. Si un modelo está buscando alguna palabra, lo único que se le puede decir como retroalimentación es si la palabra que selección es correcta o no.\n",
    "\n",
    "Otra propuesta puede ser en vez de asignar un one-hot vector, asignarle un número a cada palabra, pero este enfoque le puede hacer entender al modelo que palabras con valores cercanos son similares, y esto no es en verdad. En un modelo de lenguaje que trata de predecir la siguiente palabra de una oración, por ejemplo: \"I like playing with my pet _\", si la palabra que estamos buscando es cat, pero la palabra que nos arroja el modelo es car, lexicograficamente son similares, ya que en el diccionario se encuentran cercanas, cuando en la realidad no lo son. Pero, que pasa si arrojara dog? Podríamos entrenar al modelo de tal forma que sepa que esa palabra no es correcta, sin embargo es bastante cercana a la palabra que queremos, ya que dog y cat son palabras que son similares en el contexto en que se usan.\n",
    "\n",
    "## Word embeddings\n",
    "\n",
    "Word embeddings digamos que responden la siguiente pregunta: ¿Qué hace que dos palabras sean similares?\n",
    "El supuesto que hace word embeddings es que dos palabras serán similares si estas se usan a menudo en contextos similares. Si buscamos las palabras cat y dog dentro de una base de datos de texto, encontraremos que en varias de las instancias donde dog y cat están, habrán otras palabras en común, como jugar, mascota, etc., estas son indicaciones de que dog y cat son palabras similares semánticamente.\n",
    "\n",
    "¿Cómo representar entonces las palabras como vectores de tal forma que dos vectores similares, dos palabras simialres y posiblemente las direcciones de estos tengan un significado tambien?\n",
    "\n",
    "El embedding es un vector denso de valores reales con un largo dado por input (hiperparametro, no entrenable) que brinda una representación eficiente y densa (no es sparse como one-hot vector) en la que palabras similares tienen una codificación similar\n",
    "\n",
    "### Word2Vec\n",
    "Word2Vec es un algoritmo ampliamente utilizado basado en redes neuronales. Utiliza grandes cantidades de texto raw, para aprender las relaciones entre las palabras. La salida del algoritmo son vectore que asocian una palabra en texto hacia un vector, entre vectores/palabras pueden haber relaciones.\n",
    "\n",
    "En este sentido esta red neuronal se encarga de pre-procesar texto para los modelos de aprendizaje como input, dependiendo de lo que se quiera realizar (generación de texto, clasificación y otros).\n",
    "\n",
    "### GloVe\n",
    "Glove es un algoritmo de aprendizaje no supervisado utilizado para generar embeddings de palabras agregandolas a una matriz global de co-ocurrencias tipo palabra-palabra de un corpus. Los embeddings resultantes pueden generar relaciones de palabras dado que son posicionadas en un espacio vectorial.\n",
    "\n",
    "GloVe se basa principalmente en dos técnicas:\n",
    "\n",
    "#### Factorización matricial global\n",
    "Proceso que utiliza la factorización matricial en álgebra lineal para reducir matrices de frecuencia de largo plazo (large term frequency matrices). Estas matrices generalmente representan las ocurrencias o la ausencia de palabras en el documento.\n",
    "\n",
    "#### Ventanas de contexto local\n",
    "Dado que GloVe es un método de representación de vectores de palabras donde el entrenamiento se realiza con estadídsitacas/datos globales de co-ocurrencias de palabra-palabra, de igual manera que Word2Vec, se hace uso del contexto para comprender y crear las representaciones. En lugar de aprender las probabilidades de ocurrencia como tal, aprende las \"proporciones\" de estas probabilidades de ocurrencias conjunta. Como los embeddings están optimizados (usualmente son representaciones que disminuyen el espacio de dimensiones) el producto punto entre 2 vectores es igual al logaritmo del número de veces que estas 2 palabras aparecerán cerca una de otra."
   ]
  },
  {
   "cell_type": "markdown",
   "metadata": {
    "id": "Fyf-ehE_OCeB"
   },
   "source": [
    "#Referencias"
   ]
  },
  {
   "cell_type": "markdown",
   "metadata": {
    "id": "jg7WHf-tODnm"
   },
   "source": [
    "##Naive Bayes\n",
    "\n",
    "- [How the Naive Bayes Classifier works in Machine Learning](https://dataaspirant.com/naive-bayes-classifier-machine-learning/)\n",
    "\n",
    "- [Naive Bayes Classification using Scikit-learn](https://www.datacamp.com/community/tutorials/naive-bayes-scikit-learn)\n",
    "\n",
    "- [The Naive Bayes Algorithm in Python with Scikit-Learn](https://stackabuse.com/the-naive-bayes-algorithm-in-python-with-scikit-learn/)\n",
    "\n",
    "- [In Depth: Naive Bayes Classification](https://jakevdp.github.io/PythonDataScienceHandbook/05.05-naive-bayes.html)\n",
    "\n",
    "- [Ayudantía 3 Introducción al aprendizaje automático: Clasificadores Ingenuos](https://drive.google.com/file/d/1XgB00ljz0nmjD_RAx-ltUeft4gq7Rjhe/view)\n",
    "\n",
    "##AWE\n",
    "\n",
    "- [What is GloVe?](https://medium.com/analytics-vidhya/word-vectorization-using-glove-76919685ee0b)\n",
    "- [GloVe: Global Vectors for Word Representation](https://nlp.stanford.edu/pubs/glove.pdf)\n",
    "- [Word Embeddings in NLP | Word2Vec | GloVe | fastText](https://medium.com/analytics-vidhya/word-embeddings-in-nlp-word2vec-glove-fasttext-24d4d4286a73)\n",
    "- [Word2vec Model](https://radimrehurek.com/gensim/auto_examples/tutorials/run_word2vec.html#sphx-glr-auto-examples-tutorials-run-word2vec-py)\n",
    "- [What does average of word2vec vector mean?](https://stats.stackexchange.com/questions/318882/what-does-average-of-word2vec-vector-mean/318891)\n",
    "- [Vectoring Words (Word Embeddings) - Computerphile](https://www.youtube.com/watch?v=gQddtTdmG_8)\n",
    "- [Average Word Embedding (AWE)](https://blog.marketmuse.com/glossary/average-word-embedding-awe-definition/#:~:text=AWE%20is%20An%20advanced%20approach,the%20weakness%20of%20simple%20averaging.&text=Word%20embedding%20techniques%20create%20a,similar%20meaning%20are%20similarity%20represented.)"
   ]
  },
  {
   "cell_type": "markdown",
   "metadata": {
    "id": "bmVvmNjKJWkj"
   },
   "source": [
    "# Importar Dataset"
   ]
  },
  {
   "cell_type": "code",
   "execution_count": null,
   "metadata": {
    "id": "HNXzSVWaJWDe"
   },
   "outputs": [],
   "source": [
    "from google.colab import files\n",
    "uploaded = files.upload()"
   ]
  },
  {
   "cell_type": "markdown",
   "metadata": {
    "id": "uQP5KbRyFmKM"
   },
   "source": [
    "# Naive Bayes"
   ]
  },
  {
   "cell_type": "markdown",
   "metadata": {
    "id": "GQbzf3uJexB9"
   },
   "source": [
    "##Dataset 1: Alexa"
   ]
  },
  {
   "cell_type": "code",
   "execution_count": null,
   "metadata": {
    "id": "tTT9Rtpky5J3"
   },
   "outputs": [],
   "source": [
    "import numpy as np\n",
    "import pandas as pd\n",
    "import matplotlib.pyplot as plt\n",
    "import seaborn as sns\n",
    "import re\n",
    "from bs4 import BeautifulSoup\n",
    "import string\n",
    "import nltk\n",
    "from nltk.corpus import stopwords\n",
    "#nltk.download('stopwords')\n",
    "#nltk.download('punkt')\n",
    "#nltk.download('wordnet')"
   ]
  },
  {
   "cell_type": "code",
   "execution_count": null,
   "metadata": {
    "id": "jSRsTUVnyrGr"
   },
   "outputs": [],
   "source": [
    "data = pd.read_csv('amazon_alexa.tsv', delimiter = '\\t', quoting = 3)"
   ]
  },
  {
   "cell_type": "code",
   "execution_count": null,
   "metadata": {
    "id": "V045fkS1zo32"
   },
   "outputs": [],
   "source": [
    "data = data.drop(['rating'],axis=1)\n",
    "data = data.drop(['date'],axis=1)\t\n",
    "data = data.drop(['variation'],axis=1)"
   ]
  },
  {
   "cell_type": "code",
   "execution_count": null,
   "metadata": {
    "colab": {
     "base_uri": "https://localhost:8080/",
     "height": 206
    },
    "id": "TDH2vHdqzgVw",
    "outputId": "8dce2d75-e8ee-4276-fc10-e9c2c32e8d51"
   },
   "outputs": [
    {
     "data": {
      "text/html": [
       "<div>\n",
       "<style scoped>\n",
       "    .dataframe tbody tr th:only-of-type {\n",
       "        vertical-align: middle;\n",
       "    }\n",
       "\n",
       "    .dataframe tbody tr th {\n",
       "        vertical-align: top;\n",
       "    }\n",
       "\n",
       "    .dataframe thead th {\n",
       "        text-align: right;\n",
       "    }\n",
       "</style>\n",
       "<table border=\"1\" class=\"dataframe\">\n",
       "  <thead>\n",
       "    <tr style=\"text-align: right;\">\n",
       "      <th></th>\n",
       "      <th>verified_reviews</th>\n",
       "      <th>feedback</th>\n",
       "    </tr>\n",
       "  </thead>\n",
       "  <tbody>\n",
       "    <tr>\n",
       "      <th>0</th>\n",
       "      <td>Love my Echo!</td>\n",
       "      <td>1</td>\n",
       "    </tr>\n",
       "    <tr>\n",
       "      <th>1</th>\n",
       "      <td>Loved it!</td>\n",
       "      <td>1</td>\n",
       "    </tr>\n",
       "    <tr>\n",
       "      <th>2</th>\n",
       "      <td>\"Sometimes while playing a game, you can answe...</td>\n",
       "      <td>1</td>\n",
       "    </tr>\n",
       "    <tr>\n",
       "      <th>3</th>\n",
       "      <td>\"I have had a lot of fun with this thing. My 4...</td>\n",
       "      <td>1</td>\n",
       "    </tr>\n",
       "    <tr>\n",
       "      <th>4</th>\n",
       "      <td>Music</td>\n",
       "      <td>1</td>\n",
       "    </tr>\n",
       "  </tbody>\n",
       "</table>\n",
       "</div>"
      ],
      "text/plain": [
       "                                    verified_reviews  feedback\n",
       "0                                      Love my Echo!         1\n",
       "1                                          Loved it!         1\n",
       "2  \"Sometimes while playing a game, you can answe...         1\n",
       "3  \"I have had a lot of fun with this thing. My 4...         1\n",
       "4                                              Music         1"
      ]
     },
     "execution_count": 8,
     "metadata": {},
     "output_type": "execute_result"
    }
   ],
   "source": [
    "data.head()"
   ]
  },
  {
   "cell_type": "code",
   "execution_count": null,
   "metadata": {
    "colab": {
     "base_uri": "https://localhost:8080/"
    },
    "id": "xnNoOUqa0FqK",
    "outputId": "a4572dbe-4e26-4d99-c10a-db4d4a4cdc78"
   },
   "outputs": [
    {
     "name": "stdout",
     "output_type": "stream",
     "text": [
      "<class 'pandas.core.frame.DataFrame'>\n",
      "RangeIndex: 3150 entries, 0 to 3149\n",
      "Data columns (total 2 columns):\n",
      " #   Column            Non-Null Count  Dtype \n",
      "---  ------            --------------  ----- \n",
      " 0   verified_reviews  3150 non-null   object\n",
      " 1   feedback          3150 non-null   int64 \n",
      "dtypes: int64(1), object(1)\n",
      "memory usage: 49.3+ KB\n"
     ]
    }
   ],
   "source": [
    "data.info()"
   ]
  },
  {
   "cell_type": "code",
   "execution_count": null,
   "metadata": {
    "colab": {
     "base_uri": "https://localhost:8080/"
    },
    "id": "J0qgSJ_E0MuO",
    "outputId": "3ca5c303-62e8-4a0d-96d1-b4e2b238b50d"
   },
   "outputs": [
    {
     "data": {
      "text/plain": [
       "verified_reviews    0\n",
       "feedback            0\n",
       "dtype: int64"
      ]
     },
     "execution_count": 10,
     "metadata": {},
     "output_type": "execute_result"
    }
   ],
   "source": [
    "data.isnull().sum()"
   ]
  },
  {
   "cell_type": "markdown",
   "metadata": {
    "id": "CXsgQCp-OBXW"
   },
   "source": [
    "###Unicode para emoticones"
   ]
  },
  {
   "cell_type": "code",
   "execution_count": null,
   "metadata": {
    "id": "-jQvcDsOM02C"
   },
   "outputs": [],
   "source": [
    "EMO_UNICODE = {\n",
    "    u':1st_place_medal:': u'\\U0001F947',\n",
    "    u':2nd_place_medal:': u'\\U0001F948',\n",
    "    u':3rd_place_medal:': u'\\U0001F949',\n",
    "    u':AB_button_(blood_type):': u'\\U0001F18E',\n",
    "    u':ATM_sign:': u'\\U0001F3E7',\n",
    "    u':A_button_(blood_type):': u'\\U0001F170',\n",
    "    u':Afghanistan:': u'\\U0001F1E6 \\U0001F1EB',\n",
    "    u':Albania:': u'\\U0001F1E6 \\U0001F1F1',\n",
    "    u':Algeria:': u'\\U0001F1E9 \\U0001F1FF',\n",
    "    u':American_Samoa:': u'\\U0001F1E6 \\U0001F1F8',\n",
    "    u':Andorra:': u'\\U0001F1E6 \\U0001F1E9',\n",
    "    u':Angola:': u'\\U0001F1E6 \\U0001F1F4',\n",
    "    u':Anguilla:': u'\\U0001F1E6 \\U0001F1EE',\n",
    "    u':Antarctica:': u'\\U0001F1E6 \\U0001F1F6',\n",
    "    u':Antigua_&_Barbuda:': u'\\U0001F1E6 \\U0001F1EC',\n",
    "    u':Aquarius:': u'\\U00002652',\n",
    "    u':Argentina:': u'\\U0001F1E6 \\U0001F1F7',\n",
    "    u':Aries:': u'\\U00002648',\n",
    "    u':Armenia:': u'\\U0001F1E6 \\U0001F1F2',\n",
    "    u':Aruba:': u'\\U0001F1E6 \\U0001F1FC',\n",
    "    u':Ascension_Island:': u'\\U0001F1E6 \\U0001F1E8',\n",
    "    u':Australia:': u'\\U0001F1E6 \\U0001F1FA',\n",
    "    u':Austria:': u'\\U0001F1E6 \\U0001F1F9',\n",
    "    u':Azerbaijan:': u'\\U0001F1E6 \\U0001F1FF',\n",
    "    u':BACK_arrow:': u'\\U0001F519',\n",
    "    u':B_button_(blood_type):': u'\\U0001F171',\n",
    "    u':Bahamas:': u'\\U0001F1E7 \\U0001F1F8',\n",
    "    u':Bahrain:': u'\\U0001F1E7 \\U0001F1ED',\n",
    "    u':Bangladesh:': u'\\U0001F1E7 \\U0001F1E9',\n",
    "    u':Barbados:': u'\\U0001F1E7 \\U0001F1E7',\n",
    "    u':Belarus:': u'\\U0001F1E7 \\U0001F1FE',\n",
    "    u':Belgium:': u'\\U0001F1E7 \\U0001F1EA',\n",
    "    u':Belize:': u'\\U0001F1E7 \\U0001F1FF',\n",
    "    u':Benin:': u'\\U0001F1E7 \\U0001F1EF',\n",
    "    u':Bermuda:': u'\\U0001F1E7 \\U0001F1F2',\n",
    "    u':Bhutan:': u'\\U0001F1E7 \\U0001F1F9',\n",
    "    u':Bolivia:': u'\\U0001F1E7 \\U0001F1F4',\n",
    "    u':Bosnia_&_Herzegovina:': u'\\U0001F1E7 \\U0001F1E6',\n",
    "    u':Botswana:': u'\\U0001F1E7 \\U0001F1FC',\n",
    "    u':Bouvet_Island:': u'\\U0001F1E7 \\U0001F1FB',\n",
    "    u':Brazil:': u'\\U0001F1E7 \\U0001F1F7',\n",
    "    u':British_Indian_Ocean_Territory:': u'\\U0001F1EE \\U0001F1F4',\n",
    "    u':British_Virgin_Islands:': u'\\U0001F1FB \\U0001F1EC',\n",
    "    u':Brunei:': u'\\U0001F1E7 \\U0001F1F3',\n",
    "    u':Bulgaria:': u'\\U0001F1E7 \\U0001F1EC',\n",
    "    u':Burkina_Faso:': u'\\U0001F1E7 \\U0001F1EB',\n",
    "    u':Burundi:': u'\\U0001F1E7 \\U0001F1EE',\n",
    "    u':CL_button:': u'\\U0001F191',\n",
    "    u':COOL_button:': u'\\U0001F192',\n",
    "    u':Cambodia:': u'\\U0001F1F0 \\U0001F1ED',\n",
    "    u':Cameroon:': u'\\U0001F1E8 \\U0001F1F2',\n",
    "    u':Canada:': u'\\U0001F1E8 \\U0001F1E6',\n",
    "    u':Canary_Islands:': u'\\U0001F1EE \\U0001F1E8',\n",
    "    u':Cancer:': u'\\U0000264B',\n",
    "    u':Cape_Verde:': u'\\U0001F1E8 \\U0001F1FB',\n",
    "    u':Capricorn:': u'\\U00002651',\n",
    "    u':Caribbean_Netherlands:': u'\\U0001F1E7 \\U0001F1F6',\n",
    "    u':Cayman_Islands:': u'\\U0001F1F0 \\U0001F1FE',\n",
    "    u':Central_African_Republic:': u'\\U0001F1E8 \\U0001F1EB',\n",
    "    u':Ceuta_&_Melilla:': u'\\U0001F1EA \\U0001F1E6',\n",
    "    u':Chad:': u'\\U0001F1F9 \\U0001F1E9',\n",
    "    u':Chile:': u'\\U0001F1E8 \\U0001F1F1',\n",
    "    u':China:': u'\\U0001F1E8 \\U0001F1F3',\n",
    "    u':Christmas_Island:': u'\\U0001F1E8 \\U0001F1FD',\n",
    "    u':Christmas_tree:': u'\\U0001F384',\n",
    "    u':Clipperton_Island:': u'\\U0001F1E8 \\U0001F1F5',\n",
    "    u':Cocos_(Keeling)_Islands:': u'\\U0001F1E8 \\U0001F1E8',\n",
    "    u':Colombia:': u'\\U0001F1E8 \\U0001F1F4',\n",
    "    u':Comoros:': u'\\U0001F1F0 \\U0001F1F2',\n",
    "    u':Congo_-_Brazzaville:': u'\\U0001F1E8 \\U0001F1EC',\n",
    "    u':Congo_-_Kinshasa:': u'\\U0001F1E8 \\U0001F1E9',\n",
    "    u':Cook_Islands:': u'\\U0001F1E8 \\U0001F1F0',\n",
    "    u':Costa_Rica:': u'\\U0001F1E8 \\U0001F1F7',\n",
    "    u':Croatia:': u'\\U0001F1ED \\U0001F1F7',\n",
    "    u':Cuba:': u'\\U0001F1E8 \\U0001F1FA',\n",
    "    u':Curaçao:': u'\\U0001F1E8 \\U0001F1FC',\n",
    "    u':Cyprus:': u'\\U0001F1E8 \\U0001F1FE',\n",
    "    u':Czech_Republic:': u'\\U0001F1E8 \\U0001F1FF',\n",
    "    u':Côte_d’Ivoire:': u'\\U0001F1E8 \\U0001F1EE',\n",
    "    u':Denmark:': u'\\U0001F1E9 \\U0001F1F0',\n",
    "    u':Diego_Garcia:': u'\\U0001F1E9 \\U0001F1EC',\n",
    "    u':Djibouti:': u'\\U0001F1E9 \\U0001F1EF',\n",
    "    u':Dominica:': u'\\U0001F1E9 \\U0001F1F2',\n",
    "    u':Dominican_Republic:': u'\\U0001F1E9 \\U0001F1F4',\n",
    "    u':END_arrow:': u'\\U0001F51A',\n",
    "    u':Ecuador:': u'\\U0001F1EA \\U0001F1E8',\n",
    "    u':Egypt:': u'\\U0001F1EA \\U0001F1EC',\n",
    "    u':El_Salvador:': u'\\U0001F1F8 \\U0001F1FB',\n",
    "    u':Equatorial_Guinea:': u'\\U0001F1EC \\U0001F1F6',\n",
    "    u':Eritrea:': u'\\U0001F1EA \\U0001F1F7',\n",
    "    u':Estonia:': u'\\U0001F1EA \\U0001F1EA',\n",
    "    u':Ethiopia:': u'\\U0001F1EA \\U0001F1F9',\n",
    "    u':European_Union:': u'\\U0001F1EA \\U0001F1FA',\n",
    "    u':FREE_button:': u'\\U0001F193',\n",
    "    u':Falkland_Islands:': u'\\U0001F1EB \\U0001F1F0',\n",
    "    u':Faroe_Islands:': u'\\U0001F1EB \\U0001F1F4',\n",
    "    u':Fiji:': u'\\U0001F1EB \\U0001F1EF',\n",
    "    u':Finland:': u'\\U0001F1EB \\U0001F1EE',\n",
    "    u':France:': u'\\U0001F1EB \\U0001F1F7',\n",
    "    u':French_Guiana:': u'\\U0001F1EC \\U0001F1EB',\n",
    "    u':French_Polynesia:': u'\\U0001F1F5 \\U0001F1EB',\n",
    "    u':French_Southern_Territories:': u'\\U0001F1F9 \\U0001F1EB',\n",
    "    u':Gabon:': u'\\U0001F1EC \\U0001F1E6',\n",
    "    u':Gambia:': u'\\U0001F1EC \\U0001F1F2',\n",
    "    u':Gemini:': u'\\U0000264A',\n",
    "    u':Georgia:': u'\\U0001F1EC \\U0001F1EA',\n",
    "    u':Germany:': u'\\U0001F1E9 \\U0001F1EA',\n",
    "    u':Ghana:': u'\\U0001F1EC \\U0001F1ED',\n",
    "    u':Gibraltar:': u'\\U0001F1EC \\U0001F1EE',\n",
    "    u':Greece:': u'\\U0001F1EC \\U0001F1F7',\n",
    "    u':Greenland:': u'\\U0001F1EC \\U0001F1F1',\n",
    "    u':Grenada:': u'\\U0001F1EC \\U0001F1E9',\n",
    "    u':Guadeloupe:': u'\\U0001F1EC \\U0001F1F5',\n",
    "    u':Guam:': u'\\U0001F1EC \\U0001F1FA',\n",
    "    u':Guatemala:': u'\\U0001F1EC \\U0001F1F9',\n",
    "    u':Guernsey:': u'\\U0001F1EC \\U0001F1EC',\n",
    "    u':Guinea:': u'\\U0001F1EC \\U0001F1F3',\n",
    "    u':Guinea-Bissau:': u'\\U0001F1EC \\U0001F1FC',\n",
    "    u':Guyana:': u'\\U0001F1EC \\U0001F1FE',\n",
    "    u':Haiti:': u'\\U0001F1ED \\U0001F1F9',\n",
    "    u':Heard_&_McDonald_Islands:': u'\\U0001F1ED \\U0001F1F2',\n",
    "    u':Honduras:': u'\\U0001F1ED \\U0001F1F3',\n",
    "    u':Hong_Kong_SAR_China:': u'\\U0001F1ED \\U0001F1F0',\n",
    "    u':Hungary:': u'\\U0001F1ED \\U0001F1FA',\n",
    "    u':ID_button:': u'\\U0001F194',\n",
    "    u':Iceland:': u'\\U0001F1EE \\U0001F1F8',\n",
    "    u':India:': u'\\U0001F1EE \\U0001F1F3',\n",
    "    u':Indonesia:': u'\\U0001F1EE \\U0001F1E9',\n",
    "    u':Iran:': u'\\U0001F1EE \\U0001F1F7',\n",
    "    u':Iraq:': u'\\U0001F1EE \\U0001F1F6',\n",
    "    u':Ireland:': u'\\U0001F1EE \\U0001F1EA',\n",
    "    u':Isle_of_Man:': u'\\U0001F1EE \\U0001F1F2',\n",
    "    u':Israel:': u'\\U0001F1EE \\U0001F1F1',\n",
    "    u':Italy:': u'\\U0001F1EE \\U0001F1F9',\n",
    "    u':Jamaica:': u'\\U0001F1EF \\U0001F1F2',\n",
    "    u':Japan:': u'\\U0001F1EF \\U0001F1F5',\n",
    "    u':Japanese_acceptable_button:': u'\\U0001F251',\n",
    "    u':Japanese_application_button:': u'\\U0001F238',\n",
    "    u':Japanese_bargain_button:': u'\\U0001F250',\n",
    "    u':Japanese_castle:': u'\\U0001F3EF',\n",
    "    u':Japanese_congratulations_button:': u'\\U00003297',\n",
    "    u':Japanese_discount_button:': u'\\U0001F239',\n",
    "    u':Japanese_dolls:': u'\\U0001F38E',\n",
    "    u':Japanese_free_of_charge_button:': u'\\U0001F21A',\n",
    "    u':Japanese_here_button:': u'\\U0001F201',\n",
    "    u':Japanese_monthly_amount_button:': u'\\U0001F237',\n",
    "    u':Japanese_no_vacancy_button:': u'\\U0001F235',\n",
    "    u':Japanese_not_free_of_charge_button:': u'\\U0001F236',\n",
    "    u':Japanese_open_for_business_button:': u'\\U0001F23A',\n",
    "    u':Japanese_passing_grade_button:': u'\\U0001F234',\n",
    "    u':Japanese_post_office:': u'\\U0001F3E3',\n",
    "    u':Japanese_prohibited_button:': u'\\U0001F232',\n",
    "    u':Japanese_reserved_button:': u'\\U0001F22F',\n",
    "    u':Japanese_secret_button:': u'\\U00003299',\n",
    "    u':Japanese_service_charge_button:': u'\\U0001F202',\n",
    "    u':Japanese_symbol_for_beginner:': u'\\U0001F530',\n",
    "    u':Japanese_vacancy_button:': u'\\U0001F233',\n",
    "    u':Jersey:': u'\\U0001F1EF \\U0001F1EA',\n",
    "    u':Jordan:': u'\\U0001F1EF \\U0001F1F4',\n",
    "    u':Kazakhstan:': u'\\U0001F1F0 \\U0001F1FF',\n",
    "    u':Kenya:': u'\\U0001F1F0 \\U0001F1EA',\n",
    "    u':Kiribati:': u'\\U0001F1F0 \\U0001F1EE',\n",
    "    u':Kosovo:': u'\\U0001F1FD \\U0001F1F0',\n",
    "    u':Kuwait:': u'\\U0001F1F0 \\U0001F1FC',\n",
    "    u':Kyrgyzstan:': u'\\U0001F1F0 \\U0001F1EC',\n",
    "    u':Laos:': u'\\U0001F1F1 \\U0001F1E6',\n",
    "    u':Latvia:': u'\\U0001F1F1 \\U0001F1FB',\n",
    "    u':Lebanon:': u'\\U0001F1F1 \\U0001F1E7',\n",
    "    u':Leo:': u'\\U0000264C',\n",
    "    u':Lesotho:': u'\\U0001F1F1 \\U0001F1F8',\n",
    "    u':Liberia:': u'\\U0001F1F1 \\U0001F1F7',\n",
    "    u':Libra:': u'\\U0000264E',\n",
    "    u':Libya:': u'\\U0001F1F1 \\U0001F1FE',\n",
    "    u':Liechtenstein:': u'\\U0001F1F1 \\U0001F1EE',\n",
    "    u':Lithuania:': u'\\U0001F1F1 \\U0001F1F9',\n",
    "    u':Luxembourg:': u'\\U0001F1F1 \\U0001F1FA',\n",
    "    u':Macau_SAR_China:': u'\\U0001F1F2 \\U0001F1F4',\n",
    "    u':Macedonia:': u'\\U0001F1F2 \\U0001F1F0',\n",
    "    u':Madagascar:': u'\\U0001F1F2 \\U0001F1EC',\n",
    "    u':Malawi:': u'\\U0001F1F2 \\U0001F1FC',\n",
    "    u':Malaysia:': u'\\U0001F1F2 \\U0001F1FE',\n",
    "    u':Maldives:': u'\\U0001F1F2 \\U0001F1FB',\n",
    "    u':Mali:': u'\\U0001F1F2 \\U0001F1F1',\n",
    "    u':Malta:': u'\\U0001F1F2 \\U0001F1F9',\n",
    "    u':Marshall_Islands:': u'\\U0001F1F2 \\U0001F1ED',\n",
    "    u':Martinique:': u'\\U0001F1F2 \\U0001F1F6',\n",
    "    u':Mauritania:': u'\\U0001F1F2 \\U0001F1F7',\n",
    "    u':Mauritius:': u'\\U0001F1F2 \\U0001F1FA',\n",
    "    u':Mayotte:': u'\\U0001F1FE \\U0001F1F9',\n",
    "    u':Mexico:': u'\\U0001F1F2 \\U0001F1FD',\n",
    "    u':Micronesia:': u'\\U0001F1EB \\U0001F1F2',\n",
    "    u':Moldova:': u'\\U0001F1F2 \\U0001F1E9',\n",
    "    u':Monaco:': u'\\U0001F1F2 \\U0001F1E8',\n",
    "    u':Mongolia:': u'\\U0001F1F2 \\U0001F1F3',\n",
    "    u':Montenegro:': u'\\U0001F1F2 \\U0001F1EA',\n",
    "    u':Montserrat:': u'\\U0001F1F2 \\U0001F1F8',\n",
    "    u':Morocco:': u'\\U0001F1F2 \\U0001F1E6',\n",
    "    u':Mozambique:': u'\\U0001F1F2 \\U0001F1FF',\n",
    "    u':Mrs._Claus:': u'\\U0001F936',\n",
    "    u':Mrs._Claus_dark_skin_tone:': u'\\U0001F936 \\U0001F3FF',\n",
    "    u':Mrs._Claus_light_skin_tone:': u'\\U0001F936 \\U0001F3FB',\n",
    "    u':Mrs._Claus_medium-dark_skin_tone:': u'\\U0001F936 \\U0001F3FE',\n",
    "    u':Mrs._Claus_medium-light_skin_tone:': u'\\U0001F936 \\U0001F3FC',\n",
    "    u':Mrs._Claus_medium_skin_tone:': u'\\U0001F936 \\U0001F3FD',\n",
    "    u':Myanmar_(Burma):': u'\\U0001F1F2 \\U0001F1F2',\n",
    "    u':NEW_button:': u'\\U0001F195',\n",
    "    u':NG_button:': u'\\U0001F196',\n",
    "    u':Namibia:': u'\\U0001F1F3 \\U0001F1E6',\n",
    "    u':Nauru:': u'\\U0001F1F3 \\U0001F1F7',\n",
    "    u':Nepal:': u'\\U0001F1F3 \\U0001F1F5',\n",
    "    u':Netherlands:': u'\\U0001F1F3 \\U0001F1F1',\n",
    "    u':New_Caledonia:': u'\\U0001F1F3 \\U0001F1E8',\n",
    "    u':New_Zealand:': u'\\U0001F1F3 \\U0001F1FF',\n",
    "    u':Nicaragua:': u'\\U0001F1F3 \\U0001F1EE',\n",
    "    u':Niger:': u'\\U0001F1F3 \\U0001F1EA',\n",
    "    u':Nigeria:': u'\\U0001F1F3 \\U0001F1EC',\n",
    "    u':Niue:': u'\\U0001F1F3 \\U0001F1FA',\n",
    "    u':Norfolk_Island:': u'\\U0001F1F3 \\U0001F1EB',\n",
    "    u':North_Korea:': u'\\U0001F1F0 \\U0001F1F5',\n",
    "    u':Northern_Mariana_Islands:': u'\\U0001F1F2 \\U0001F1F5',\n",
    "    u':Norway:': u'\\U0001F1F3 \\U0001F1F4',\n",
    "    u':OK_button:': u'\\U0001F197',\n",
    "    u':OK_hand:': u'\\U0001F44C',\n",
    "    u':OK_hand_dark_skin_tone:': u'\\U0001F44C \\U0001F3FF',\n",
    "    u':OK_hand_light_skin_tone:': u'\\U0001F44C \\U0001F3FB',\n",
    "    u':OK_hand_medium-dark_skin_tone:': u'\\U0001F44C \\U0001F3FE',\n",
    "    u':OK_hand_medium-light_skin_tone:': u'\\U0001F44C \\U0001F3FC',\n",
    "    u':OK_hand_medium_skin_tone:': u'\\U0001F44C \\U0001F3FD',\n",
    "    u':ON!_arrow:': u'\\U0001F51B',\n",
    "    u':O_button_(blood_type):': u'\\U0001F17E',\n",
    "    u':Oman:': u'\\U0001F1F4 \\U0001F1F2',\n",
    "    u':Ophiuchus:': u'\\U000026CE',\n",
    "    u':P_button:': u'\\U0001F17F',\n",
    "    u':Pakistan:': u'\\U0001F1F5 \\U0001F1F0',\n",
    "    u':Palau:': u'\\U0001F1F5 \\U0001F1FC',\n",
    "    u':Palestinian_Territories:': u'\\U0001F1F5 \\U0001F1F8',\n",
    "    u':Panama:': u'\\U0001F1F5 \\U0001F1E6',\n",
    "    u':Papua_New_Guinea:': u'\\U0001F1F5 \\U0001F1EC',\n",
    "    u':Paraguay:': u'\\U0001F1F5 \\U0001F1FE',\n",
    "    u':Peru:': u'\\U0001F1F5 \\U0001F1EA',\n",
    "    u':Philippines:': u'\\U0001F1F5 \\U0001F1ED',\n",
    "    u':Pisces:': u'\\U00002653',\n",
    "    u':Pitcairn_Islands:': u'\\U0001F1F5 \\U0001F1F3',\n",
    "    u':Poland:': u'\\U0001F1F5 \\U0001F1F1',\n",
    "    u':Portugal:': u'\\U0001F1F5 \\U0001F1F9',\n",
    "    u':Puerto_Rico:': u'\\U0001F1F5 \\U0001F1F7',\n",
    "    u':Qatar:': u'\\U0001F1F6 \\U0001F1E6',\n",
    "    u':Romania:': u'\\U0001F1F7 \\U0001F1F4',\n",
    "    u':Russia:': u'\\U0001F1F7 \\U0001F1FA',\n",
    "    u':Rwanda:': u'\\U0001F1F7 \\U0001F1FC',\n",
    "    u':Réunion:': u'\\U0001F1F7 \\U0001F1EA',\n",
    "    u':SOON_arrow:': u'\\U0001F51C',\n",
    "    u':SOS_button:': u'\\U0001F198',\n",
    "    u':Sagittarius:': u'\\U00002650',\n",
    "    u':Samoa:': u'\\U0001F1FC \\U0001F1F8',\n",
    "    u':San_Marino:': u'\\U0001F1F8 \\U0001F1F2',\n",
    "    u':Santa_Claus:': u'\\U0001F385',\n",
    "    u':Santa_Claus_dark_skin_tone:': u'\\U0001F385 \\U0001F3FF',\n",
    "    u':Santa_Claus_light_skin_tone:': u'\\U0001F385 \\U0001F3FB',\n",
    "    u':Santa_Claus_medium-dark_skin_tone:': u'\\U0001F385 \\U0001F3FE',\n",
    "    u':Santa_Claus_medium-light_skin_tone:': u'\\U0001F385 \\U0001F3FC',\n",
    "    u':Santa_Claus_medium_skin_tone:': u'\\U0001F385 \\U0001F3FD',\n",
    "    u':Saudi_Arabia:': u'\\U0001F1F8 \\U0001F1E6',\n",
    "    u':Scorpius:': u'\\U0000264F',\n",
    "    u':Senegal:': u'\\U0001F1F8 \\U0001F1F3',\n",
    "    u':Serbia:': u'\\U0001F1F7 \\U0001F1F8',\n",
    "    u':Seychelles:': u'\\U0001F1F8 \\U0001F1E8',\n",
    "    u':Sierra_Leone:': u'\\U0001F1F8 \\U0001F1F1',\n",
    "    u':Singapore:': u'\\U0001F1F8 \\U0001F1EC',\n",
    "    u':Sint_Maarten:': u'\\U0001F1F8 \\U0001F1FD',\n",
    "    u':Slovakia:': u'\\U0001F1F8 \\U0001F1F0',\n",
    "    u':Slovenia:': u'\\U0001F1F8 \\U0001F1EE',\n",
    "    u':Solomon_Islands:': u'\\U0001F1F8 \\U0001F1E7',\n",
    "    u':Somalia:': u'\\U0001F1F8 \\U0001F1F4',\n",
    "    u':South_Africa:': u'\\U0001F1FF \\U0001F1E6',\n",
    "    u':South_Georgia_&_South_Sandwich_Islands:': u'\\U0001F1EC \\U0001F1F8',\n",
    "    u':South_Korea:': u'\\U0001F1F0 \\U0001F1F7',\n",
    "    u':South_Sudan:': u'\\U0001F1F8 \\U0001F1F8',\n",
    "    u':Spain:': u'\\U0001F1EA \\U0001F1F8',\n",
    "    u':Sri_Lanka:': u'\\U0001F1F1 \\U0001F1F0',\n",
    "    u':St._Barthélemy:': u'\\U0001F1E7 \\U0001F1F1',\n",
    "    u':St._Helena:': u'\\U0001F1F8 \\U0001F1ED',\n",
    "    u':St._Kitts_&_Nevis:': u'\\U0001F1F0 \\U0001F1F3',\n",
    "    u':St._Lucia:': u'\\U0001F1F1 \\U0001F1E8',\n",
    "    u':St._Martin:': u'\\U0001F1F2 \\U0001F1EB',\n",
    "    u':St._Pierre_&_Miquelon:': u'\\U0001F1F5 \\U0001F1F2',\n",
    "    u':St._Vincent_&_Grenadines:': u'\\U0001F1FB \\U0001F1E8',\n",
    "    u':Statue_of_Liberty:': u'\\U0001F5FD',\n",
    "    u':Sudan:': u'\\U0001F1F8 \\U0001F1E9',\n",
    "    u':Suriname:': u'\\U0001F1F8 \\U0001F1F7',\n",
    "    u':Svalbard_&_Jan_Mayen:': u'\\U0001F1F8 \\U0001F1EF',\n",
    "    u':Swaziland:': u'\\U0001F1F8 \\U0001F1FF',\n",
    "    u':Sweden:': u'\\U0001F1F8 \\U0001F1EA',\n",
    "    u':Switzerland:': u'\\U0001F1E8 \\U0001F1ED',\n",
    "    u':Syria:': u'\\U0001F1F8 \\U0001F1FE',\n",
    "    u':São_Tomé_&_Príncipe:': u'\\U0001F1F8 \\U0001F1F9',\n",
    "    u':TOP_arrow:': u'\\U0001F51D',\n",
    "    u':Taiwan:': u'\\U0001F1F9 \\U0001F1FC',\n",
    "    u':Tajikistan:': u'\\U0001F1F9 \\U0001F1EF',\n",
    "    u':Tanzania:': u'\\U0001F1F9 \\U0001F1FF',\n",
    "    u':Taurus:': u'\\U00002649',\n",
    "    u':Thailand:': u'\\U0001F1F9 \\U0001F1ED',\n",
    "    u':Timor-Leste:': u'\\U0001F1F9 \\U0001F1F1',\n",
    "    u':Togo:': u'\\U0001F1F9 \\U0001F1EC',\n",
    "    u':Tokelau:': u'\\U0001F1F9 \\U0001F1F0',\n",
    "    u':Tokyo_tower:': u'\\U0001F5FC',\n",
    "    u':Tonga:': u'\\U0001F1F9 \\U0001F1F4',\n",
    "    u':Trinidad_&_Tobago:': u'\\U0001F1F9 \\U0001F1F9',\n",
    "    u':Tristan_da_Cunha:': u'\\U0001F1F9 \\U0001F1E6',\n",
    "    u':Tunisia:': u'\\U0001F1F9 \\U0001F1F3',\n",
    "    u':Turkey:': u'\\U0001F1F9 \\U0001F1F7',\n",
    "    u':Turkmenistan:': u'\\U0001F1F9 \\U0001F1F2',\n",
    "    u':Turks_&_Caicos_Islands:': u'\\U0001F1F9 \\U0001F1E8',\n",
    "    u':Tuvalu:': u'\\U0001F1F9 \\U0001F1FB',\n",
    "    u':U.S._Outlying_Islands:': u'\\U0001F1FA \\U0001F1F2',\n",
    "    u':U.S._Virgin_Islands:': u'\\U0001F1FB \\U0001F1EE',\n",
    "    u':UP!_button:': u'\\U0001F199',\n",
    "    u':Uganda:': u'\\U0001F1FA \\U0001F1EC',\n",
    "    u':Ukraine:': u'\\U0001F1FA \\U0001F1E6',\n",
    "    u':United_Arab_Emirates:': u'\\U0001F1E6 \\U0001F1EA',\n",
    "    u':United_Kingdom:': u'\\U0001F1EC \\U0001F1E7',\n",
    "    u':United_Nations:': u'\\U0001F1FA \\U0001F1F3',\n",
    "    u':United_States:': u'\\U0001F1FA \\U0001F1F8',\n",
    "    u':Uruguay:': u'\\U0001F1FA \\U0001F1FE',\n",
    "    u':Uzbekistan:': u'\\U0001F1FA \\U0001F1FF',\n",
    "    u':VS_button:': u'\\U0001F19A',\n",
    "    u':Vanuatu:': u'\\U0001F1FB \\U0001F1FA',\n",
    "    u':Vatican_City:': u'\\U0001F1FB \\U0001F1E6',\n",
    "    u':Venezuela:': u'\\U0001F1FB \\U0001F1EA',\n",
    "    u':Vietnam:': u'\\U0001F1FB \\U0001F1F3',\n",
    "    u':Virgo:': u'\\U0000264D',\n",
    "    u':Wallis_&_Futuna:': u'\\U0001F1FC \\U0001F1EB',\n",
    "    u':Western_Sahara:': u'\\U0001F1EA \\U0001F1ED',\n",
    "    u':Yemen:': u'\\U0001F1FE \\U0001F1EA',\n",
    "    u':Zambia:': u'\\U0001F1FF \\U0001F1F2',\n",
    "    u':Zimbabwe:': u'\\U0001F1FF \\U0001F1FC',\n",
    "    u':admission_tickets:': u'\\U0001F39F',\n",
    "    u':aerial_tramway:': u'\\U0001F6A1',\n",
    "    u':airplane:': u'\\U00002708',\n",
    "    u':airplane_arrival:': u'\\U0001F6EC',\n",
    "    u':airplane_departure:': u'\\U0001F6EB',\n",
    "    u':alarm_clock:': u'\\U000023F0',\n",
    "    u':alembic:': u'\\U00002697',\n",
    "    u':alien:': u'\\U0001F47D',\n",
    "    u':alien_monster:': u'\\U0001F47E',\n",
    "    u':ambulance:': u'\\U0001F691',\n",
    "    u':american_football:': u'\\U0001F3C8',\n",
    "    u':amphora:': u'\\U0001F3FA',\n",
    "    u':anchor:': u'\\U00002693',\n",
    "    u':anger_symbol:': u'\\U0001F4A2',\n",
    "    u':angry_face:': u'\\U0001F620',\n",
    "    u':angry_face_with_horns:': u'\\U0001F47F',\n",
    "    u':anguished_face:': u'\\U0001F627',\n",
    "    u':ant:': u'\\U0001F41C',\n",
    "    u':antenna_bars:': u'\\U0001F4F6',\n",
    "    u':anticlockwise_arrows_button:': u'\\U0001F504',\n",
    "    u':articulated_lorry:': u'\\U0001F69B',\n",
    "    u':artist_palette:': u'\\U0001F3A8',\n",
    "    u':astonished_face:': u'\\U0001F632',\n",
    "    u':atom_symbol:': u'\\U0000269B',\n",
    "    u':automobile:': u'\\U0001F697',\n",
    "    u':avocado:': u'\\U0001F951',\n",
    "    u':baby:': u'\\U0001F476',\n",
    "    u':baby_angel:': u'\\U0001F47C',\n",
    "    u':baby_angel_dark_skin_tone:': u'\\U0001F47C \\U0001F3FF',\n",
    "    u':baby_angel_light_skin_tone:': u'\\U0001F47C \\U0001F3FB',\n",
    "    u':baby_angel_medium-dark_skin_tone:': u'\\U0001F47C \\U0001F3FE',\n",
    "    u':baby_angel_medium-light_skin_tone:': u'\\U0001F47C \\U0001F3FC',\n",
    "    u':baby_angel_medium_skin_tone:': u'\\U0001F47C \\U0001F3FD',\n",
    "    u':baby_bottle:': u'\\U0001F37C',\n",
    "    u':baby_chick:': u'\\U0001F424',\n",
    "    u':baby_dark_skin_tone:': u'\\U0001F476 \\U0001F3FF',\n",
    "    u':baby_light_skin_tone:': u'\\U0001F476 \\U0001F3FB',\n",
    "    u':baby_medium-dark_skin_tone:': u'\\U0001F476 \\U0001F3FE',\n",
    "    u':baby_medium-light_skin_tone:': u'\\U0001F476 \\U0001F3FC',\n",
    "    u':baby_medium_skin_tone:': u'\\U0001F476 \\U0001F3FD',\n",
    "    u':baby_symbol:': u'\\U0001F6BC',\n",
    "    u':backhand_index_pointing_down:': u'\\U0001F447',\n",
    "    u':backhand_index_pointing_down_dark_skin_tone:': u'\\U0001F447 \\U0001F3FF',\n",
    "    u':backhand_index_pointing_down_light_skin_tone:': u'\\U0001F447 \\U0001F3FB',\n",
    "    u':backhand_index_pointing_down_medium-dark_skin_tone:': u'\\U0001F447 \\U0001F3FE',\n",
    "    u':backhand_index_pointing_down_medium-light_skin_tone:': u'\\U0001F447 \\U0001F3FC',\n",
    "    u':backhand_index_pointing_down_medium_skin_tone:': u'\\U0001F447 \\U0001F3FD',\n",
    "    u':backhand_index_pointing_left:': u'\\U0001F448',\n",
    "    u':backhand_index_pointing_left_dark_skin_tone:': u'\\U0001F448 \\U0001F3FF',\n",
    "    u':backhand_index_pointing_left_light_skin_tone:': u'\\U0001F448 \\U0001F3FB',\n",
    "    u':backhand_index_pointing_left_medium-dark_skin_tone:': u'\\U0001F448 \\U0001F3FE',\n",
    "    u':backhand_index_pointing_left_medium-light_skin_tone:': u'\\U0001F448 \\U0001F3FC',\n",
    "    u':backhand_index_pointing_left_medium_skin_tone:': u'\\U0001F448 \\U0001F3FD',\n",
    "    u':backhand_index_pointing_right:': u'\\U0001F449',\n",
    "    u':backhand_index_pointing_right_dark_skin_tone:': u'\\U0001F449 \\U0001F3FF',\n",
    "    u':backhand_index_pointing_right_light_skin_tone:': u'\\U0001F449 \\U0001F3FB',\n",
    "    u':backhand_index_pointing_right_medium-dark_skin_tone:': u'\\U0001F449 \\U0001F3FE',\n",
    "    u':backhand_index_pointing_right_medium-light_skin_tone:': u'\\U0001F449 \\U0001F3FC',\n",
    "    u':backhand_index_pointing_right_medium_skin_tone:': u'\\U0001F449 \\U0001F3FD',\n",
    "    u':backhand_index_pointing_up:': u'\\U0001F446',\n",
    "    u':backhand_index_pointing_up_dark_skin_tone:': u'\\U0001F446 \\U0001F3FF',\n",
    "    u':backhand_index_pointing_up_light_skin_tone:': u'\\U0001F446 \\U0001F3FB',\n",
    "    u':backhand_index_pointing_up_medium-dark_skin_tone:': u'\\U0001F446 \\U0001F3FE',\n",
    "    u':backhand_index_pointing_up_medium-light_skin_tone:': u'\\U0001F446 \\U0001F3FC',\n",
    "    u':backhand_index_pointing_up_medium_skin_tone:': u'\\U0001F446 \\U0001F3FD',\n",
    "    u':bacon:': u'\\U0001F953',\n",
    "    u':badminton:': u'\\U0001F3F8',\n",
    "    u':baggage_claim:': u'\\U0001F6C4',\n",
    "    u':baguette_bread:': u'\\U0001F956',\n",
    "    u':balance_scale:': u'\\U00002696',\n",
    "    u':balloon:': u'\\U0001F388',\n",
    "    u':ballot_box_with_ballot:': u'\\U0001F5F3',\n",
    "    u':ballot_box_with_check:': u'\\U00002611',\n",
    "    u':banana:': u'\\U0001F34C',\n",
    "    u':bank:': u'\\U0001F3E6',\n",
    "    u':bar_chart:': u'\\U0001F4CA',\n",
    "    u':barber_pole:': u'\\U0001F488',\n",
    "    u':baseball:': u'\\U000026BE',\n",
    "    u':basketball:': u'\\U0001F3C0',\n",
    "    u':bat:': u'\\U0001F987',\n",
    "    u':bathtub:': u'\\U0001F6C1',\n",
    "    u':battery:': u'\\U0001F50B',\n",
    "    u':beach_with_umbrella:': u'\\U0001F3D6',\n",
    "    u':bear_face:': u'\\U0001F43B',\n",
    "    u':beating_heart:': u'\\U0001F493',\n",
    "    u':bed:': u'\\U0001F6CF',\n",
    "    u':beer_mug:': u'\\U0001F37A',\n",
    "    u':bell:': u'\\U0001F514',\n",
    "    u':bell_with_slash:': u'\\U0001F515',\n",
    "    u':bellhop_bell:': u'\\U0001F6CE',\n",
    "    u':bento_box:': u'\\U0001F371',\n",
    "    u':bicycle:': u'\\U0001F6B2',\n",
    "    u':bikini:': u'\\U0001F459',\n",
    "    u':biohazard:': u'\\U00002623',\n",
    "    u':bird:': u'\\U0001F426',\n",
    "    u':birthday_cake:': u'\\U0001F382',\n",
    "    u':black_circle:': u'\\U000026AB',\n",
    "    u':black_flag:': u'\\U0001F3F4',\n",
    "    u':black_heart:': u'\\U0001F5A4',\n",
    "    u':black_large_square:': u'\\U00002B1B',\n",
    "    u':black_medium-small_square:': u'\\U000025FE',\n",
    "    u':black_medium_square:': u'\\U000025FC',\n",
    "    u':black_nib:': u'\\U00002712',\n",
    "    u':black_small_square:': u'\\U000025AA',\n",
    "    u':black_square_button:': u'\\U0001F532',\n",
    "    u':blond-haired_man:': u'\\U0001F471 \\U0000200D \\U00002642 \\U0000FE0F',\n",
    "    u':blond-haired_man_dark_skin_tone:': u'\\U0001F471 \\U0001F3FF \\U0000200D \\U00002642 \\U0000FE0F',\n",
    "    u':blond-haired_man_light_skin_tone:': u'\\U0001F471 \\U0001F3FB \\U0000200D \\U00002642 \\U0000FE0F',\n",
    "    u':blond-haired_man_medium-dark_skin_tone:': u'\\U0001F471 \\U0001F3FE \\U0000200D \\U00002642 \\U0000FE0F',\n",
    "    u':blond-haired_man_medium-light_skin_tone:': u'\\U0001F471 \\U0001F3FC \\U0000200D \\U00002642 \\U0000FE0F',\n",
    "    u':blond-haired_man_medium_skin_tone:': u'\\U0001F471 \\U0001F3FD \\U0000200D \\U00002642 \\U0000FE0F',\n",
    "    u':blond-haired_person:': u'\\U0001F471',\n",
    "    u':blond-haired_person_dark_skin_tone:': u'\\U0001F471 \\U0001F3FF',\n",
    "    u':blond-haired_person_light_skin_tone:': u'\\U0001F471 \\U0001F3FB',\n",
    "    u':blond-haired_person_medium-dark_skin_tone:': u'\\U0001F471 \\U0001F3FE',\n",
    "    u':blond-haired_person_medium-light_skin_tone:': u'\\U0001F471 \\U0001F3FC',\n",
    "    u':blond-haired_person_medium_skin_tone:': u'\\U0001F471 \\U0001F3FD',\n",
    "    u':blond-haired_woman:': u'\\U0001F471 \\U0000200D \\U00002640 \\U0000FE0F',\n",
    "    u':blond-haired_woman_dark_skin_tone:': u'\\U0001F471 \\U0001F3FF \\U0000200D \\U00002640 \\U0000FE0F',\n",
    "    u':blond-haired_woman_light_skin_tone:': u'\\U0001F471 \\U0001F3FB \\U0000200D \\U00002640 \\U0000FE0F',\n",
    "    u':blond-haired_woman_medium-dark_skin_tone:': u'\\U0001F471 \\U0001F3FE \\U0000200D \\U00002640 \\U0000FE0F',\n",
    "    u':blond-haired_woman_medium-light_skin_tone:': u'\\U0001F471 \\U0001F3FC \\U0000200D \\U00002640 \\U0000FE0F',\n",
    "    u':blond-haired_woman_medium_skin_tone:': u'\\U0001F471 \\U0001F3FD \\U0000200D \\U00002640 \\U0000FE0F',\n",
    "    u':blossom:': u'\\U0001F33C',\n",
    "    u':blowfish:': u'\\U0001F421',\n",
    "    u':blue_book:': u'\\U0001F4D8',\n",
    "    u':blue_circle:': u'\\U0001F535',\n",
    "    u':blue_heart:': u'\\U0001F499',\n",
    "    u':boar:': u'\\U0001F417',\n",
    "    u':bomb:': u'\\U0001F4A3',\n",
    "    u':bookmark:': u'\\U0001F516',\n",
    "    u':bookmark_tabs:': u'\\U0001F4D1',\n",
    "    u':books:': u'\\U0001F4DA',\n",
    "    u':bottle_with_popping_cork:': u'\\U0001F37E',\n",
    "    u':bouquet:': u'\\U0001F490',\n",
    "    u':bow_and_arrow:': u'\\U0001F3F9',\n",
    "    u':bowling:': u'\\U0001F3B3',\n",
    "    u':boxing_glove:': u'\\U0001F94A',\n",
    "    u':boy:': u'\\U0001F466',\n",
    "    u':boy_dark_skin_tone:': u'\\U0001F466 \\U0001F3FF',\n",
    "    u':boy_light_skin_tone:': u'\\U0001F466 \\U0001F3FB',\n",
    "    u':boy_medium-dark_skin_tone:': u'\\U0001F466 \\U0001F3FE',\n",
    "    u':boy_medium-light_skin_tone:': u'\\U0001F466 \\U0001F3FC',\n",
    "    u':boy_medium_skin_tone:': u'\\U0001F466 \\U0001F3FD',\n",
    "    u':bread:': u'\\U0001F35E',\n",
    "    u':bride_with_veil:': u'\\U0001F470',\n",
    "    u':bride_with_veil_dark_skin_tone:': u'\\U0001F470 \\U0001F3FF',\n",
    "    u':bride_with_veil_light_skin_tone:': u'\\U0001F470 \\U0001F3FB',\n",
    "    u':bride_with_veil_medium-dark_skin_tone:': u'\\U0001F470 \\U0001F3FE',\n",
    "    u':bride_with_veil_medium-light_skin_tone:': u'\\U0001F470 \\U0001F3FC',\n",
    "    u':bride_with_veil_medium_skin_tone:': u'\\U0001F470 \\U0001F3FD',\n",
    "    u':bridge_at_night:': u'\\U0001F309',\n",
    "    u':briefcase:': u'\\U0001F4BC',\n",
    "    u':bright_button:': u'\\U0001F506',\n",
    "    u':broken_heart:': u'\\U0001F494',\n",
    "    u':bug:': u'\\U0001F41B',\n",
    "    u':building_construction:': u'\\U0001F3D7',\n",
    "    u':burrito:': u'\\U0001F32F',\n",
    "    u':bus:': u'\\U0001F68C',\n",
    "    u':bus_stop:': u'\\U0001F68F',\n",
    "    u':bust_in_silhouette:': u'\\U0001F464',\n",
    "    u':busts_in_silhouette:': u'\\U0001F465',\n",
    "    u':butterfly:': u'\\U0001F98B',\n",
    "    u':cactus:': u'\\U0001F335',\n",
    "    u':calendar:': u'\\U0001F4C5',\n",
    "    u':call_me_hand:': u'\\U0001F919',\n",
    "    u':call_me_hand_dark_skin_tone:': u'\\U0001F919 \\U0001F3FF',\n",
    "    u':call_me_hand_light_skin_tone:': u'\\U0001F919 \\U0001F3FB',\n",
    "    u':call_me_hand_medium-dark_skin_tone:': u'\\U0001F919 \\U0001F3FE',\n",
    "    u':call_me_hand_medium-light_skin_tone:': u'\\U0001F919 \\U0001F3FC',\n",
    "    u':call_me_hand_medium_skin_tone:': u'\\U0001F919 \\U0001F3FD',\n",
    "    u':camel:': u'\\U0001F42A',\n",
    "    u':camera:': u'\\U0001F4F7',\n",
    "    u':camera_with_flash:': u'\\U0001F4F8',\n",
    "    u':camping:': u'\\U0001F3D5',\n",
    "    u':candle:': u'\\U0001F56F',\n",
    "    u':candy:': u'\\U0001F36C',\n",
    "    u':canoe:': u'\\U0001F6F6',\n",
    "    u':card_file_box:': u'\\U0001F5C3',\n",
    "    u':card_index:': u'\\U0001F4C7',\n",
    "    u':card_index_dividers:': u'\\U0001F5C2',\n",
    "    u':carousel_horse:': u'\\U0001F3A0',\n",
    "    u':carp_streamer:': u'\\U0001F38F',\n",
    "    u':carrot:': u'\\U0001F955',\n",
    "    u':castle:': u'\\U0001F3F0',\n",
    "    u':cat:': u'\\U0001F408',\n",
    "    u':cat_face:': u'\\U0001F431',\n",
    "    u':cat_face_with_tears_of_joy:': u'\\U0001F639',\n",
    "    u':cat_face_with_wry_smile:': u'\\U0001F63C',\n",
    "    u':chains:': u'\\U000026D3',\n",
    "    u':chart_decreasing:': u'\\U0001F4C9',\n",
    "    u':chart_increasing:': u'\\U0001F4C8',\n",
    "    u':chart_increasing_with_yen:': u'\\U0001F4B9',\n",
    "    u':cheese_wedge:': u'\\U0001F9C0',\n",
    "    u':chequered_flag:': u'\\U0001F3C1',\n",
    "    u':cherries:': u'\\U0001F352',\n",
    "    u':cherry_blossom:': u'\\U0001F338',\n",
    "    u':chestnut:': u'\\U0001F330',\n",
    "    u':chicken:': u'\\U0001F414',\n",
    "    u':children_crossing:': u'\\U0001F6B8',\n",
    "    u':chipmunk:': u'\\U0001F43F',\n",
    "    u':chocolate_bar:': u'\\U0001F36B',\n",
    "    u':church:': u'\\U000026EA',\n",
    "    u':cigarette:': u'\\U0001F6AC',\n",
    "    u':cinema:': u'\\U0001F3A6',\n",
    "    u':circled_M:': u'\\U000024C2',\n",
    "    u':circus_tent:': u'\\U0001F3AA',\n",
    "    u':cityscape:': u'\\U0001F3D9',\n",
    "    u':cityscape_at_dusk:': u'\\U0001F306',\n",
    "    u':clamp:': u'\\U0001F5DC',\n",
    "    u':clapper_board:': u'\\U0001F3AC',\n",
    "    u':clapping_hands:': u'\\U0001F44F',\n",
    "    u':clapping_hands_dark_skin_tone:': u'\\U0001F44F \\U0001F3FF',\n",
    "    u':clapping_hands_light_skin_tone:': u'\\U0001F44F \\U0001F3FB',\n",
    "    u':clapping_hands_medium-dark_skin_tone:': u'\\U0001F44F \\U0001F3FE',\n",
    "    u':clapping_hands_medium-light_skin_tone:': u'\\U0001F44F \\U0001F3FC',\n",
    "    u':clapping_hands_medium_skin_tone:': u'\\U0001F44F \\U0001F3FD',\n",
    "    u':classical_building:': u'\\U0001F3DB',\n",
    "    u':clinking_beer_mugs:': u'\\U0001F37B',\n",
    "    u':clinking_glasses:': u'\\U0001F942',\n",
    "    u':clipboard:': u'\\U0001F4CB',\n",
    "    u':clockwise_vertical_arrows:': u'\\U0001F503',\n",
    "    u':closed_book:': u'\\U0001F4D5',\n",
    "    u':closed_mailbox_with_lowered_flag:': u'\\U0001F4EA',\n",
    "    u':closed_mailbox_with_raised_flag:': u'\\U0001F4EB',\n",
    "    u':closed_umbrella:': u'\\U0001F302',\n",
    "    u':cloud:': u'\\U00002601',\n",
    "    u':cloud_with_lightning:': u'\\U0001F329',\n",
    "    u':cloud_with_lightning_and_rain:': u'\\U000026C8',\n",
    "    u':cloud_with_rain:': u'\\U0001F327',\n",
    "    u':cloud_with_snow:': u'\\U0001F328',\n",
    "    u':clown_face:': u'\\U0001F921',\n",
    "    u':club_suit:': u'\\U00002663',\n",
    "    u':clutch_bag:': u'\\U0001F45D',\n",
    "    u':cocktail_glass:': u'\\U0001F378',\n",
    "    u':coffin:': u'\\U000026B0',\n",
    "    u':collision:': u'\\U0001F4A5',\n",
    "    u':comet:': u'\\U00002604',\n",
    "    u':computer_disk:': u'\\U0001F4BD',\n",
    "    u':computer_mouse:': u'\\U0001F5B1',\n",
    "    u':confetti_ball:': u'\\U0001F38A',\n",
    "    u':confounded_face:': u'\\U0001F616',\n",
    "    u':confused_face:': u'\\U0001F615',\n",
    "    u':construction:': u'\\U0001F6A7',\n",
    "    u':construction_worker:': u'\\U0001F477',\n",
    "    u':construction_worker_dark_skin_tone:': u'\\U0001F477 \\U0001F3FF',\n",
    "    u':construction_worker_light_skin_tone:': u'\\U0001F477 \\U0001F3FB',\n",
    "    u':construction_worker_medium-dark_skin_tone:': u'\\U0001F477 \\U0001F3FE',\n",
    "    u':construction_worker_medium-light_skin_tone:': u'\\U0001F477 \\U0001F3FC',\n",
    "    u':construction_worker_medium_skin_tone:': u'\\U0001F477 \\U0001F3FD',\n",
    "    u':control_knobs:': u'\\U0001F39B',\n",
    "    u':convenience_store:': u'\\U0001F3EA',\n",
    "    u':cooked_rice:': u'\\U0001F35A',\n",
    "    u':cookie:': u'\\U0001F36A',\n",
    "    u':cooking:': u'\\U0001F373',\n",
    "    u':copyright:': u'\\U000000A9',\n",
    "    u':couch_and_lamp:': u'\\U0001F6CB',\n",
    "    u':couple_with_heart:': u'\\U0001F491',\n",
    "    u':couple_with_heart_man_man:': u'\\U0001F468 \\U0000200D \\U00002764 \\U0000FE0F \\U0000200D \\U0001F468',\n",
    "    u':couple_with_heart_woman_man:': u'\\U0001F469 \\U0000200D \\U00002764 \\U0000FE0F \\U0000200D \\U0001F468',\n",
    "    u':couple_with_heart_woman_woman:': u'\\U0001F469 \\U0000200D \\U00002764 \\U0000FE0F \\U0000200D \\U0001F469',\n",
    "    u':cow:': u'\\U0001F404',\n",
    "    u':cow_face:': u'\\U0001F42E',\n",
    "    u':cowboy_hat_face:': u'\\U0001F920',\n",
    "    u':crab:': u'\\U0001F980',\n",
    "    u':crayon:': u'\\U0001F58D',\n",
    "    u':credit_card:': u'\\U0001F4B3',\n",
    "    u':crescent_moon:': u'\\U0001F319',\n",
    "    u':cricket:': u'\\U0001F3CF',\n",
    "    u':crocodile:': u'\\U0001F40A',\n",
    "    u':croissant:': u'\\U0001F950',\n",
    "    u':cross_mark:': u'\\U0000274C',\n",
    "    u':cross_mark_button:': u'\\U0000274E',\n",
    "    u':crossed_fingers:': u'\\U0001F91E',\n",
    "    u':crossed_fingers_dark_skin_tone:': u'\\U0001F91E \\U0001F3FF',\n",
    "    u':crossed_fingers_light_skin_tone:': u'\\U0001F91E \\U0001F3FB',\n",
    "    u':crossed_fingers_medium-dark_skin_tone:': u'\\U0001F91E \\U0001F3FE',\n",
    "    u':crossed_fingers_medium-light_skin_tone:': u'\\U0001F91E \\U0001F3FC',\n",
    "    u':crossed_fingers_medium_skin_tone:': u'\\U0001F91E \\U0001F3FD',\n",
    "    u':crossed_flags:': u'\\U0001F38C',\n",
    "    u':crossed_swords:': u'\\U00002694',\n",
    "    u':crown:': u'\\U0001F451',\n",
    "    u':crying_cat_face:': u'\\U0001F63F',\n",
    "    u':crying_face:': u'\\U0001F622',\n",
    "    u':crystal_ball:': u'\\U0001F52E',\n",
    "    u':cucumber:': u'\\U0001F952',\n",
    "    u':curly_loop:': u'\\U000027B0',\n",
    "    u':currency_exchange:': u'\\U0001F4B1',\n",
    "    u':curry_rice:': u'\\U0001F35B',\n",
    "    u':custard:': u'\\U0001F36E',\n",
    "    u':customs:': u'\\U0001F6C3',\n",
    "    u':cyclone:': u'\\U0001F300',\n",
    "    u':dagger:': u'\\U0001F5E1',\n",
    "    u':dango:': u'\\U0001F361',\n",
    "    u':dark_skin_tone:': u'\\U0001F3FF',\n",
    "    u':dashing_away:': u'\\U0001F4A8',\n",
    "    u':deciduous_tree:': u'\\U0001F333',\n",
    "    u':deer:': u'\\U0001F98C',\n",
    "    u':delivery_truck:': u'\\U0001F69A',\n",
    "    u':department_store:': u'\\U0001F3EC',\n",
    "    u':derelict_house:': u'\\U0001F3DA',\n",
    "    u':desert:': u'\\U0001F3DC',\n",
    "    u':desert_island:': u'\\U0001F3DD',\n",
    "    u':desktop_computer:': u'\\U0001F5A5',\n",
    "    u':detective:': u'\\U0001F575',\n",
    "    u':detective_dark_skin_tone:': u'\\U0001F575 \\U0001F3FF',\n",
    "    u':detective_light_skin_tone:': u'\\U0001F575 \\U0001F3FB',\n",
    "    u':detective_medium-dark_skin_tone:': u'\\U0001F575 \\U0001F3FE',\n",
    "    u':detective_medium-light_skin_tone:': u'\\U0001F575 \\U0001F3FC',\n",
    "    u':detective_medium_skin_tone:': u'\\U0001F575 \\U0001F3FD',\n",
    "    u':diamond_suit:': u'\\U00002666',\n",
    "    u':diamond_with_a_dot:': u'\\U0001F4A0',\n",
    "    u':dim_button:': u'\\U0001F505',\n",
    "    u':direct_hit:': u'\\U0001F3AF',\n",
    "    u':disappointed_but_relieved_face:': u'\\U0001F625',\n",
    "    u':disappointed_face:': u'\\U0001F61E',\n",
    "    u':dizzy:': u'\\U0001F4AB',\n",
    "    u':dizzy_face:': u'\\U0001F635',\n",
    "    u':dog:': u'\\U0001F415',\n",
    "    u':dog_face:': u'\\U0001F436',\n",
    "    u':dollar_banknote:': u'\\U0001F4B5',\n",
    "    u':dolphin:': u'\\U0001F42C',\n",
    "    u':door:': u'\\U0001F6AA',\n",
    "    u':dotted_six-pointed_star:': u'\\U0001F52F',\n",
    "    u':double_curly_loop:': u'\\U000027BF',\n",
    "    u':double_exclamation_mark:': u'\\U0000203C',\n",
    "    u':doughnut:': u'\\U0001F369',\n",
    "    u':dove:': u'\\U0001F54A',\n",
    "    u':down-left_arrow:': u'\\U00002199',\n",
    "    u':down-right_arrow:': u'\\U00002198',\n",
    "    u':down_arrow:': u'\\U00002B07',\n",
    "    u':down_button:': u'\\U0001F53D',\n",
    "    u':dragon:': u'\\U0001F409',\n",
    "    u':dragon_face:': u'\\U0001F432',\n",
    "    u':dress:': u'\\U0001F457',\n",
    "    u':drooling_face:': u'\\U0001F924',\n",
    "    u':droplet:': u'\\U0001F4A7',\n",
    "    u':drum:': u'\\U0001F941',\n",
    "    u':duck:': u'\\U0001F986',\n",
    "    u':dvd:': u'\\U0001F4C0',\n",
    "    u':e-mail:': u'\\U0001F4E7',\n",
    "    u':eagle:': u'\\U0001F985',\n",
    "    u':ear:': u'\\U0001F442',\n",
    "    u':ear_dark_skin_tone:': u'\\U0001F442 \\U0001F3FF',\n",
    "    u':ear_light_skin_tone:': u'\\U0001F442 \\U0001F3FB',\n",
    "    u':ear_medium-dark_skin_tone:': u'\\U0001F442 \\U0001F3FE',\n",
    "    u':ear_medium-light_skin_tone:': u'\\U0001F442 \\U0001F3FC',\n",
    "    u':ear_medium_skin_tone:': u'\\U0001F442 \\U0001F3FD',\n",
    "    u':ear_of_corn:': u'\\U0001F33D',\n",
    "    u':egg:': u'\\U0001F95A',\n",
    "    u':eggplant:': u'\\U0001F346',\n",
    "    u':eight-pointed_star:': u'\\U00002734',\n",
    "    u':eight-spoked_asterisk:': u'\\U00002733',\n",
    "    u':eight-thirty:': u'\\U0001F563',\n",
    "    u':eight_o’clock:': u'\\U0001F557',\n",
    "    u':eject_button:': u'\\U000023CF',\n",
    "    u':electric_plug:': u'\\U0001F50C',\n",
    "    u':elephant:': u'\\U0001F418',\n",
    "    u':eleven-thirty:': u'\\U0001F566',\n",
    "    u':eleven_o’clock:': u'\\U0001F55A',\n",
    "    u':envelope:': u'\\U00002709',\n",
    "    u':envelope_with_arrow:': u'\\U0001F4E9',\n",
    "    u':euro_banknote:': u'\\U0001F4B6',\n",
    "    u':evergreen_tree:': u'\\U0001F332',\n",
    "    u':exclamation_mark:': u'\\U00002757',\n",
    "    u':exclamation_question_mark:': u'\\U00002049',\n",
    "    u':expressionless_face:': u'\\U0001F611',\n",
    "    u':eye:': u'\\U0001F441',\n",
    "    u':eye_in_speech_bubble:': u'\\U0001F441 \\U0000FE0F \\U0000200D \\U0001F5E8 \\U0000FE0F',\n",
    "    u':eyes:': u'\\U0001F440',\n",
    "    u':face_blowing_a_kiss:': u'\\U0001F618',\n",
    "    u':face_savouring_delicious_food:': u'\\U0001F60B',\n",
    "    u':face_screaming_in_fear:': u'\\U0001F631',\n",
    "    u':face_with_cold_sweat:': u'\\U0001F613',\n",
    "    u':face_with_head-bandage:': u'\\U0001F915',\n",
    "    u':face_with_medical_mask:': u'\\U0001F637',\n",
    "    u':face_with_open_mouth:': u'\\U0001F62E',\n",
    "    u':face_with_open_mouth_&_cold_sweat:': u'\\U0001F630',\n",
    "    u':face_with_rolling_eyes:': u'\\U0001F644',\n",
    "    u':face_with_steam_from_nose:': u'\\U0001F624',\n",
    "    u':face_with_stuck-out_tongue:': u'\\U0001F61B',\n",
    "    u':face_with_stuck-out_tongue_&_closed_eyes:': u'\\U0001F61D',\n",
    "    u':face_with_stuck-out_tongue_&_winking_eye:': u'\\U0001F61C',\n",
    "    u':face_with_tears_of_joy:': u'\\U0001F602',\n",
    "    u':face_with_thermometer:': u'\\U0001F912',\n",
    "    u':face_without_mouth:': u'\\U0001F636',\n",
    "    u':factory:': u'\\U0001F3ED',\n",
    "    u':fallen_leaf:': u'\\U0001F342',\n",
    "    u':family:': u'\\U0001F46A',\n",
    "    u':family_man_boy:': u'\\U0001F468 \\U0000200D \\U0001F466',\n",
    "    u':family_man_boy_boy:': u'\\U0001F468 \\U0000200D \\U0001F466 \\U0000200D \\U0001F466',\n",
    "    u':family_man_girl:': u'\\U0001F468 \\U0000200D \\U0001F467',\n",
    "    u':family_man_girl_boy:': u'\\U0001F468 \\U0000200D \\U0001F467 \\U0000200D \\U0001F466',\n",
    "    u':family_man_girl_girl:': u'\\U0001F468 \\U0000200D \\U0001F467 \\U0000200D \\U0001F467',\n",
    "    u':family_man_man_boy:': u'\\U0001F468 \\U0000200D \\U0001F468 \\U0000200D \\U0001F466',\n",
    "    u':family_man_man_boy_boy:': u'\\U0001F468 \\U0000200D \\U0001F468 \\U0000200D \\U0001F466 \\U0000200D \\U0001F466',\n",
    "    u':family_man_man_girl:': u'\\U0001F468 \\U0000200D \\U0001F468 \\U0000200D \\U0001F467',\n",
    "    u':family_man_man_girl_boy:': u'\\U0001F468 \\U0000200D \\U0001F468 \\U0000200D \\U0001F467 \\U0000200D \\U0001F466',\n",
    "    u':family_man_man_girl_girl:': u'\\U0001F468 \\U0000200D \\U0001F468 \\U0000200D \\U0001F467 \\U0000200D \\U0001F467',\n",
    "    u':family_man_woman_boy:': u'\\U0001F468 \\U0000200D \\U0001F469 \\U0000200D \\U0001F466',\n",
    "    u':family_man_woman_boy_boy:': u'\\U0001F468 \\U0000200D \\U0001F469 \\U0000200D \\U0001F466 \\U0000200D \\U0001F466',\n",
    "    u':family_man_woman_girl:': u'\\U0001F468 \\U0000200D \\U0001F469 \\U0000200D \\U0001F467',\n",
    "    u':family_man_woman_girl_boy:': u'\\U0001F468 \\U0000200D \\U0001F469 \\U0000200D \\U0001F467 \\U0000200D \\U0001F466',\n",
    "    u':family_man_woman_girl_girl:': u'\\U0001F468 \\U0000200D \\U0001F469 \\U0000200D \\U0001F467 \\U0000200D \\U0001F467',\n",
    "    u':family_woman_boy:': u'\\U0001F469 \\U0000200D \\U0001F466',\n",
    "    u':family_woman_boy_boy:': u'\\U0001F469 \\U0000200D \\U0001F466 \\U0000200D \\U0001F466',\n",
    "    u':family_woman_girl:': u'\\U0001F469 \\U0000200D \\U0001F467',\n",
    "    u':family_woman_girl_boy:': u'\\U0001F469 \\U0000200D \\U0001F467 \\U0000200D \\U0001F466',\n",
    "    u':family_woman_girl_girl:': u'\\U0001F469 \\U0000200D \\U0001F467 \\U0000200D \\U0001F467',\n",
    "    u':family_woman_woman_boy:': u'\\U0001F469 \\U0000200D \\U0001F469 \\U0000200D \\U0001F466',\n",
    "    u':family_woman_woman_boy_boy:': u'\\U0001F469 \\U0000200D \\U0001F469 \\U0000200D \\U0001F466 \\U0000200D \\U0001F466',\n",
    "    u':family_woman_woman_girl:': u'\\U0001F469 \\U0000200D \\U0001F469 \\U0000200D \\U0001F467',\n",
    "    u':family_woman_woman_girl_boy:': u'\\U0001F469 \\U0000200D \\U0001F469 \\U0000200D \\U0001F467 \\U0000200D \\U0001F466',\n",
    "    u':family_woman_woman_girl_girl:': u'\\U0001F469 \\U0000200D \\U0001F469 \\U0000200D \\U0001F467 \\U0000200D \\U0001F467',\n",
    "    u':fast-forward_button:': u'\\U000023E9',\n",
    "    u':fast_down_button:': u'\\U000023EC',\n",
    "    u':fast_reverse_button:': u'\\U000023EA',\n",
    "    u':fast_up_button:': u'\\U000023EB',\n",
    "    u':fax_machine:': u'\\U0001F4E0',\n",
    "    u':fearful_face:': u'\\U0001F628',\n",
    "    u':female_sign:': u'\\U00002640',\n",
    "    u':ferris_wheel:': u'\\U0001F3A1',\n",
    "    u':ferry:': u'\\U000026F4',\n",
    "    u':field_hockey:': u'\\U0001F3D1',\n",
    "    u':file_cabinet:': u'\\U0001F5C4',\n",
    "    u':file_folder:': u'\\U0001F4C1',\n",
    "    u':film_frames:': u'\\U0001F39E',\n",
    "    u':film_projector:': u'\\U0001F4FD',\n",
    "    u':fire:': u'\\U0001F525',\n",
    "    u':fire_engine:': u'\\U0001F692',\n",
    "    u':fireworks:': u'\\U0001F386',\n",
    "    u':first_quarter_moon:': u'\\U0001F313',\n",
    "    u':first_quarter_moon_with_face:': u'\\U0001F31B',\n",
    "    u':fish:': u'\\U0001F41F',\n",
    "    u':fish_cake_with_swirl:': u'\\U0001F365',\n",
    "    u':fishing_pole:': u'\\U0001F3A3',\n",
    "    u':five-thirty:': u'\\U0001F560',\n",
    "    u':five_o’clock:': u'\\U0001F554',\n",
    "    u':flag_in_hole:': u'\\U000026F3',\n",
    "    u':flashlight:': u'\\U0001F526',\n",
    "    u':fleur-de-lis:': u'\\U0000269C',\n",
    "    u':flexed_biceps:': u'\\U0001F4AA',\n",
    "    u':flexed_biceps_dark_skin_tone:': u'\\U0001F4AA \\U0001F3FF',\n",
    "    u':flexed_biceps_light_skin_tone:': u'\\U0001F4AA \\U0001F3FB',\n",
    "    u':flexed_biceps_medium-dark_skin_tone:': u'\\U0001F4AA \\U0001F3FE',\n",
    "    u':flexed_biceps_medium-light_skin_tone:': u'\\U0001F4AA \\U0001F3FC',\n",
    "    u':flexed_biceps_medium_skin_tone:': u'\\U0001F4AA \\U0001F3FD',\n",
    "    u':floppy_disk:': u'\\U0001F4BE',\n",
    "    u':flower_playing_cards:': u'\\U0001F3B4',\n",
    "    u':flushed_face:': u'\\U0001F633',\n",
    "    u':fog:': u'\\U0001F32B',\n",
    "    u':foggy:': u'\\U0001F301',\n",
    "    u':folded_hands:': u'\\U0001F64F',\n",
    "    u':folded_hands_dark_skin_tone:': u'\\U0001F64F \\U0001F3FF',\n",
    "    u':folded_hands_light_skin_tone:': u'\\U0001F64F \\U0001F3FB',\n",
    "    u':folded_hands_medium-dark_skin_tone:': u'\\U0001F64F \\U0001F3FE',\n",
    "    u':folded_hands_medium-light_skin_tone:': u'\\U0001F64F \\U0001F3FC',\n",
    "    u':folded_hands_medium_skin_tone:': u'\\U0001F64F \\U0001F3FD',\n",
    "    u':footprints:': u'\\U0001F463',\n",
    "    u':fork_and_knife:': u'\\U0001F374',\n",
    "    u':fork_and_knife_with_plate:': u'\\U0001F37D',\n",
    "    u':fountain:': u'\\U000026F2',\n",
    "    u':fountain_pen:': u'\\U0001F58B',\n",
    "    u':four-thirty:': u'\\U0001F55F',\n",
    "    u':four_leaf_clover:': u'\\U0001F340',\n",
    "    u':four_o’clock:': u'\\U0001F553',\n",
    "    u':fox_face:': u'\\U0001F98A',\n",
    "    u':framed_picture:': u'\\U0001F5BC',\n",
    "    u':french_fries:': u'\\U0001F35F',\n",
    "    u':fried_shrimp:': u'\\U0001F364',\n",
    "    u':frog_face:': u'\\U0001F438',\n",
    "    u':front-facing_baby_chick:': u'\\U0001F425',\n",
    "    u':frowning_face:': u'\\U00002639',\n",
    "    u':frowning_face_with_open_mouth:': u'\\U0001F626',\n",
    "    u':fuel_pump:': u'\\U000026FD',\n",
    "    u':full_moon:': u'\\U0001F315',\n",
    "    u':full_moon_with_face:': u'\\U0001F31D',\n",
    "    u':funeral_urn:': u'\\U000026B1',\n",
    "    u':game_die:': u'\\U0001F3B2',\n",
    "    u':gear:': u'\\U00002699',\n",
    "    u':gem_stone:': u'\\U0001F48E',\n",
    "    u':ghost:': u'\\U0001F47B',\n",
    "    u':girl:': u'\\U0001F467',\n",
    "    u':girl_dark_skin_tone:': u'\\U0001F467 \\U0001F3FF',\n",
    "    u':girl_light_skin_tone:': u'\\U0001F467 \\U0001F3FB',\n",
    "    u':girl_medium-dark_skin_tone:': u'\\U0001F467 \\U0001F3FE',\n",
    "    u':girl_medium-light_skin_tone:': u'\\U0001F467 \\U0001F3FC',\n",
    "    u':girl_medium_skin_tone:': u'\\U0001F467 \\U0001F3FD',\n",
    "    u':glass_of_milk:': u'\\U0001F95B',\n",
    "    u':glasses:': u'\\U0001F453',\n",
    "    u':globe_showing_Americas:': u'\\U0001F30E',\n",
    "    u':globe_showing_Asia-Australia:': u'\\U0001F30F',\n",
    "    u':globe_showing_Europe-Africa:': u'\\U0001F30D',\n",
    "    u':globe_with_meridians:': u'\\U0001F310',\n",
    "    u':glowing_star:': u'\\U0001F31F',\n",
    "    u':goal_net:': u'\\U0001F945',\n",
    "    u':goat:': u'\\U0001F410',\n",
    "    u':goblin:': u'\\U0001F47A',\n",
    "    u':gorilla:': u'\\U0001F98D',\n",
    "    u':graduation_cap:': u'\\U0001F393',\n",
    "    u':grapes:': u'\\U0001F347',\n",
    "    u':green_apple:': u'\\U0001F34F',\n",
    "    u':green_book:': u'\\U0001F4D7',\n",
    "    u':green_heart:': u'\\U0001F49A',\n",
    "    u':green_salad:': u'\\U0001F957',\n",
    "    u':grimacing_face:': u'\\U0001F62C',\n",
    "    u':grinning_cat_face_with_smiling_eyes:': u'\\U0001F638',\n",
    "    u':grinning_face:': u'\\U0001F600',\n",
    "    u':grinning_face_with_smiling_eyes:': u'\\U0001F601',\n",
    "    u':growing_heart:': u'\\U0001F497',\n",
    "    u':guard:': u'\\U0001F482',\n",
    "    u':guard_dark_skin_tone:': u'\\U0001F482 \\U0001F3FF',\n",
    "    u':guard_light_skin_tone:': u'\\U0001F482 \\U0001F3FB',\n",
    "    u':guard_medium-dark_skin_tone:': u'\\U0001F482 \\U0001F3FE',\n",
    "    u':guard_medium-light_skin_tone:': u'\\U0001F482 \\U0001F3FC',\n",
    "    u':guard_medium_skin_tone:': u'\\U0001F482 \\U0001F3FD',\n",
    "    u':guitar:': u'\\U0001F3B8',\n",
    "    u':hamburger:': u'\\U0001F354',\n",
    "    u':hammer:': u'\\U0001F528',\n",
    "    u':hammer_and_pick:': u'\\U00002692',\n",
    "    u':hammer_and_wrench:': u'\\U0001F6E0',\n",
    "    u':hamster_face:': u'\\U0001F439',\n",
    "    u':handbag:': u'\\U0001F45C',\n",
    "    u':handshake:': u'\\U0001F91D',\n",
    "    u':hatching_chick:': u'\\U0001F423',\n",
    "    u':headphone:': u'\\U0001F3A7',\n",
    "    u':hear-no-evil_monkey:': u'\\U0001F649',\n",
    "    u':heart_decoration:': u'\\U0001F49F',\n",
    "    u':heart_suit:': u'\\U00002665',\n",
    "    u':heart_with_arrow:': u'\\U0001F498',\n",
    "    u':heart_with_ribbon:': u'\\U0001F49D',\n",
    "    u':heavy_check_mark:': u'\\U00002714',\n",
    "    u':heavy_division_sign:': u'\\U00002797',\n",
    "    u':heavy_dollar_sign:': u'\\U0001F4B2',\n",
    "    u':heavy_heart_exclamation:': u'\\U00002763',\n",
    "    u':heavy_large_circle:': u'\\U00002B55',\n",
    "    u':heavy_minus_sign:': u'\\U00002796',\n",
    "    u':heavy_multiplication_x:': u'\\U00002716',\n",
    "    u':heavy_plus_sign:': u'\\U00002795',\n",
    "    u':helicopter:': u'\\U0001F681',\n",
    "    u':herb:': u'\\U0001F33F',\n",
    "    u':hibiscus:': u'\\U0001F33A',\n",
    "    u':high-heeled_shoe:': u'\\U0001F460',\n",
    "    u':high-speed_train:': u'\\U0001F684',\n",
    "    u':high-speed_train_with_bullet_nose:': u'\\U0001F685',\n",
    "    u':high_voltage:': u'\\U000026A1',\n",
    "    u':hole:': u'\\U0001F573',\n",
    "    u':honey_pot:': u'\\U0001F36F',\n",
    "    u':honeybee:': u'\\U0001F41D',\n",
    "    u':horizontal_traffic_light:': u'\\U0001F6A5',\n",
    "    u':horse:': u'\\U0001F40E',\n",
    "    u':horse_face:': u'\\U0001F434',\n",
    "    u':horse_racing:': u'\\U0001F3C7',\n",
    "    u':horse_racing_dark_skin_tone:': u'\\U0001F3C7 \\U0001F3FF',\n",
    "    u':horse_racing_light_skin_tone:': u'\\U0001F3C7 \\U0001F3FB',\n",
    "    u':horse_racing_medium-dark_skin_tone:': u'\\U0001F3C7 \\U0001F3FE',\n",
    "    u':horse_racing_medium-light_skin_tone:': u'\\U0001F3C7 \\U0001F3FC',\n",
    "    u':horse_racing_medium_skin_tone:': u'\\U0001F3C7 \\U0001F3FD',\n",
    "    u':hospital:': u'\\U0001F3E5',\n",
    "    u':hot_beverage:': u'\\U00002615',\n",
    "    u':hot_dog:': u'\\U0001F32D',\n",
    "    u':hot_pepper:': u'\\U0001F336',\n",
    "    u':hot_springs:': u'\\U00002668',\n",
    "    u':hotel:': u'\\U0001F3E8',\n",
    "    u':hourglass:': u'\\U0000231B',\n",
    "    u':hourglass_with_flowing_sand:': u'\\U000023F3',\n",
    "    u':house:': u'\\U0001F3E0',\n",
    "    u':house_with_garden:': u'\\U0001F3E1',\n",
    "    u':hugging_face:': u'\\U0001F917',\n",
    "    u':hundred_points:': u'\\U0001F4AF',\n",
    "    u':hushed_face:': u'\\U0001F62F',\n",
    "    u':ice_cream:': u'\\U0001F368',\n",
    "    u':ice_hockey:': u'\\U0001F3D2',\n",
    "    u':ice_skate:': u'\\U000026F8',\n",
    "    u':inbox_tray:': u'\\U0001F4E5',\n",
    "    u':incoming_envelope:': u'\\U0001F4E8',\n",
    "    u':index_pointing_up:': u'\\U0000261D',\n",
    "    u':index_pointing_up_dark_skin_tone:': u'\\U0000261D \\U0001F3FF',\n",
    "    u':index_pointing_up_light_skin_tone:': u'\\U0000261D \\U0001F3FB',\n",
    "    u':index_pointing_up_medium-dark_skin_tone:': u'\\U0000261D \\U0001F3FE',\n",
    "    u':index_pointing_up_medium-light_skin_tone:': u'\\U0000261D \\U0001F3FC',\n",
    "    u':index_pointing_up_medium_skin_tone:': u'\\U0000261D \\U0001F3FD',\n",
    "    u':information:': u'\\U00002139',\n",
    "    u':input_latin_letters:': u'\\U0001F524',\n",
    "    u':input_latin_lowercase:': u'\\U0001F521',\n",
    "    u':input_latin_uppercase:': u'\\U0001F520',\n",
    "    u':input_numbers:': u'\\U0001F522',\n",
    "    u':input_symbols:': u'\\U0001F523',\n",
    "    u':jack-o-lantern:': u'\\U0001F383',\n",
    "    u':jeans:': u'\\U0001F456',\n",
    "    u':joker:': u'\\U0001F0CF',\n",
    "    u':joystick:': u'\\U0001F579',\n",
    "    u':kaaba:': u'\\U0001F54B',\n",
    "    u':key:': u'\\U0001F511',\n",
    "    u':keyboard:': u'\\U00002328',\n",
    "    u':keycap_#:': u'\\U00000023 \\U0000FE0F \\U000020E3',\n",
    "    #u':keycap_*:': u'\\U0000002A \\U0000FE0F \\U000020E3',\n",
    "    u':keycap_0:': u'\\U00000030 \\U0000FE0F \\U000020E3',\n",
    "    u':keycap_1:': u'\\U00000031 \\U0000FE0F \\U000020E3',\n",
    "    u':keycap_10:': u'\\U0001F51F',\n",
    "    u':keycap_2:': u'\\U00000032 \\U0000FE0F \\U000020E3',\n",
    "    u':keycap_3:': u'\\U00000033 \\U0000FE0F \\U000020E3',\n",
    "    u':keycap_4:': u'\\U00000034 \\U0000FE0F \\U000020E3',\n",
    "    u':keycap_5:': u'\\U00000035 \\U0000FE0F \\U000020E3',\n",
    "    u':keycap_6:': u'\\U00000036 \\U0000FE0F \\U000020E3',\n",
    "    u':keycap_7:': u'\\U00000037 \\U0000FE0F \\U000020E3',\n",
    "    u':keycap_8:': u'\\U00000038 \\U0000FE0F \\U000020E3',\n",
    "    u':keycap_9:': u'\\U00000039 \\U0000FE0F \\U000020E3',\n",
    "    u':kick_scooter:': u'\\U0001F6F4',\n",
    "    u':kimono:': u'\\U0001F458',\n",
    "    u':kiss:': u'\\U0001F48F',\n",
    "    u':kiss_man_man:': u'\\U0001F468 \\U0000200D \\U00002764 \\U0000FE0F \\U0000200D \\U0001F48B \\U0000200D \\U0001F468',\n",
    "    u':kiss_mark:': u'\\U0001F48B',\n",
    "    u':kiss_woman_man:': u'\\U0001F469 \\U0000200D \\U00002764 \\U0000FE0F \\U0000200D \\U0001F48B \\U0000200D \\U0001F468',\n",
    "    u':kiss_woman_woman:': u'\\U0001F469 \\U0000200D \\U00002764 \\U0000FE0F \\U0000200D \\U0001F48B \\U0000200D \\U0001F469',\n",
    "    u':kissing_cat_face_with_closed_eyes:': u'\\U0001F63D',\n",
    "    u':kissing_face:': u'\\U0001F617',\n",
    "    u':kissing_face_with_closed_eyes:': u'\\U0001F61A',\n",
    "    u':kissing_face_with_smiling_eyes:': u'\\U0001F619',\n",
    "    u':kitchen_knife:': u'\\U0001F52A',\n",
    "    u':kiwi_fruit:': u'\\U0001F95D',\n",
    "    u':koala:': u'\\U0001F428',\n",
    "    u':label:': u'\\U0001F3F7',\n",
    "    u':lady_beetle:': u'\\U0001F41E',\n",
    "    u':laptop_computer:': u'\\U0001F4BB',\n",
    "    u':large_blue_diamond:': u'\\U0001F537',\n",
    "    u':large_orange_diamond:': u'\\U0001F536',\n",
    "    u':last_quarter_moon:': u'\\U0001F317',\n",
    "    u':last_quarter_moon_with_face:': u'\\U0001F31C',\n",
    "    u':last_track_button:': u'\\U000023EE',\n",
    "    u':latin_cross:': u'\\U0000271D',\n",
    "    u':leaf_fluttering_in_wind:': u'\\U0001F343',\n",
    "    u':ledger:': u'\\U0001F4D2',\n",
    "    u':left-facing_fist:': u'\\U0001F91B',\n",
    "    u':left-facing_fist_dark_skin_tone:': u'\\U0001F91B \\U0001F3FF',\n",
    "    u':left-facing_fist_light_skin_tone:': u'\\U0001F91B \\U0001F3FB',\n",
    "    u':left-facing_fist_medium-dark_skin_tone:': u'\\U0001F91B \\U0001F3FE',\n",
    "    u':left-facing_fist_medium-light_skin_tone:': u'\\U0001F91B \\U0001F3FC',\n",
    "    u':left-facing_fist_medium_skin_tone:': u'\\U0001F91B \\U0001F3FD',\n",
    "    u':left-pointing_magnifying_glass:': u'\\U0001F50D',\n",
    "    u':left-right_arrow:': u'\\U00002194',\n",
    "    u':left_arrow:': u'\\U00002B05',\n",
    "    u':left_arrow_curving_right:': u'\\U000021AA',\n",
    "    u':left_luggage:': u'\\U0001F6C5',\n",
    "    u':left_speech_bubble:': u'\\U0001F5E8',\n",
    "    u':lemon:': u'\\U0001F34B',\n",
    "    u':leopard:': u'\\U0001F406',\n",
    "    u':level_slider:': u'\\U0001F39A',\n",
    "    u':light_bulb:': u'\\U0001F4A1',\n",
    "    u':light_rail:': u'\\U0001F688',\n",
    "    u':light_skin_tone:': u'\\U0001F3FB',\n",
    "    u':link:': u'\\U0001F517',\n",
    "    u':linked_paperclips:': u'\\U0001F587',\n",
    "    u':lion_face:': u'\\U0001F981',\n",
    "    u':lipstick:': u'\\U0001F484',\n",
    "    u':litter_in_bin_sign:': u'\\U0001F6AE',\n",
    "    u':lizard:': u'\\U0001F98E',\n",
    "    u':locked:': u'\\U0001F512',\n",
    "    u':locked_with_key:': u'\\U0001F510',\n",
    "    u':locked_with_pen:': u'\\U0001F50F',\n",
    "    u':locomotive:': u'\\U0001F682',\n",
    "    u':lollipop:': u'\\U0001F36D',\n",
    "    u':loudly_crying_face:': u'\\U0001F62D',\n",
    "    u':loudspeaker:': u'\\U0001F4E2',\n",
    "    u':love_hotel:': u'\\U0001F3E9',\n",
    "    u':love_letter:': u'\\U0001F48C',\n",
    "    u':lying_face:': u'\\U0001F925',\n",
    "    u':mahjong_red_dragon:': u'\\U0001F004',\n",
    "    u':male_sign:': u'\\U00002642',\n",
    "    u':man:': u'\\U0001F468',\n",
    "    u':man_and_woman_holding_hands:': u'\\U0001F46B',\n",
    "    u':man_artist:': u'\\U0001F468 \\U0000200D \\U0001F3A8',\n",
    "    u':man_artist_dark_skin_tone:': u'\\U0001F468 \\U0001F3FF \\U0000200D \\U0001F3A8',\n",
    "    u':man_artist_light_skin_tone:': u'\\U0001F468 \\U0001F3FB \\U0000200D \\U0001F3A8',\n",
    "    u':man_artist_medium-dark_skin_tone:': u'\\U0001F468 \\U0001F3FE \\U0000200D \\U0001F3A8',\n",
    "    u':man_artist_medium-light_skin_tone:': u'\\U0001F468 \\U0001F3FC \\U0000200D \\U0001F3A8',\n",
    "    u':man_artist_medium_skin_tone:': u'\\U0001F468 \\U0001F3FD \\U0000200D \\U0001F3A8',\n",
    "    u':man_astronaut:': u'\\U0001F468 \\U0000200D \\U0001F680',\n",
    "    u':man_astronaut_dark_skin_tone:': u'\\U0001F468 \\U0001F3FF \\U0000200D \\U0001F680',\n",
    "    u':man_astronaut_light_skin_tone:': u'\\U0001F468 \\U0001F3FB \\U0000200D \\U0001F680',\n",
    "    u':man_astronaut_medium-dark_skin_tone:': u'\\U0001F468 \\U0001F3FE \\U0000200D \\U0001F680',\n",
    "    u':man_astronaut_medium-light_skin_tone:': u'\\U0001F468 \\U0001F3FC \\U0000200D \\U0001F680',\n",
    "    u':man_astronaut_medium_skin_tone:': u'\\U0001F468 \\U0001F3FD \\U0000200D \\U0001F680',\n",
    "    u':man_biking:': u'\\U0001F6B4 \\U0000200D \\U00002642 \\U0000FE0F',\n",
    "    u':man_biking_dark_skin_tone:': u'\\U0001F6B4 \\U0001F3FF \\U0000200D \\U00002642 \\U0000FE0F',\n",
    "    u':man_biking_light_skin_tone:': u'\\U0001F6B4 \\U0001F3FB \\U0000200D \\U00002642 \\U0000FE0F',\n",
    "    u':man_biking_medium-dark_skin_tone:': u'\\U0001F6B4 \\U0001F3FE \\U0000200D \\U00002642 \\U0000FE0F',\n",
    "    u':man_biking_medium-light_skin_tone:': u'\\U0001F6B4 \\U0001F3FC \\U0000200D \\U00002642 \\U0000FE0F',\n",
    "    u':man_biking_medium_skin_tone:': u'\\U0001F6B4 \\U0001F3FD \\U0000200D \\U00002642 \\U0000FE0F',\n",
    "    u':man_bouncing_ball:': u'\\U000026F9 \\U0000FE0F \\U0000200D \\U00002642 \\U0000FE0F',\n",
    "    u':man_bouncing_ball_dark_skin_tone:': u'\\U000026F9 \\U0001F3FF \\U0000200D \\U00002642 \\U0000FE0F',\n",
    "    u':man_bouncing_ball_light_skin_tone:': u'\\U000026F9 \\U0001F3FB \\U0000200D \\U00002642 \\U0000FE0F',\n",
    "    u':man_bouncing_ball_medium-dark_skin_tone:': u'\\U000026F9 \\U0001F3FE \\U0000200D \\U00002642 \\U0000FE0F',\n",
    "    u':man_bouncing_ball_medium-light_skin_tone:': u'\\U000026F9 \\U0001F3FC \\U0000200D \\U00002642 \\U0000FE0F',\n",
    "    u':man_bouncing_ball_medium_skin_tone:': u'\\U000026F9 \\U0001F3FD \\U0000200D \\U00002642 \\U0000FE0F',\n",
    "    u':man_bowing:': u'\\U0001F647 \\U0000200D \\U00002642 \\U0000FE0F',\n",
    "    u':man_bowing_dark_skin_tone:': u'\\U0001F647 \\U0001F3FF \\U0000200D \\U00002642 \\U0000FE0F',\n",
    "    u':man_bowing_light_skin_tone:': u'\\U0001F647 \\U0001F3FB \\U0000200D \\U00002642 \\U0000FE0F',\n",
    "    u':man_bowing_medium-dark_skin_tone:': u'\\U0001F647 \\U0001F3FE \\U0000200D \\U00002642 \\U0000FE0F',\n",
    "    u':man_bowing_medium-light_skin_tone:': u'\\U0001F647 \\U0001F3FC \\U0000200D \\U00002642 \\U0000FE0F',\n",
    "    u':man_bowing_medium_skin_tone:': u'\\U0001F647 \\U0001F3FD \\U0000200D \\U00002642 \\U0000FE0F',\n",
    "    u':man_cartwheeling:': u'\\U0001F938 \\U0000200D \\U00002642 \\U0000FE0F',\n",
    "    u':man_cartwheeling_dark_skin_tone:': u'\\U0001F938 \\U0001F3FF \\U0000200D \\U00002642 \\U0000FE0F',\n",
    "    u':man_cartwheeling_light_skin_tone:': u'\\U0001F938 \\U0001F3FB \\U0000200D \\U00002642 \\U0000FE0F',\n",
    "    u':man_cartwheeling_medium-dark_skin_tone:': u'\\U0001F938 \\U0001F3FE \\U0000200D \\U00002642 \\U0000FE0F',\n",
    "    u':man_cartwheeling_medium-light_skin_tone:': u'\\U0001F938 \\U0001F3FC \\U0000200D \\U00002642 \\U0000FE0F',\n",
    "    u':man_cartwheeling_medium_skin_tone:': u'\\U0001F938 \\U0001F3FD \\U0000200D \\U00002642 \\U0000FE0F',\n",
    "    u':man_construction_worker:': u'\\U0001F477 \\U0000200D \\U00002642 \\U0000FE0F',\n",
    "    u':man_construction_worker_dark_skin_tone:': u'\\U0001F477 \\U0001F3FF \\U0000200D \\U00002642 \\U0000FE0F',\n",
    "    u':man_construction_worker_light_skin_tone:': u'\\U0001F477 \\U0001F3FB \\U0000200D \\U00002642 \\U0000FE0F',\n",
    "    u':man_construction_worker_medium-dark_skin_tone:': u'\\U0001F477 \\U0001F3FE \\U0000200D \\U00002642 \\U0000FE0F',\n",
    "    u':man_construction_worker_medium-light_skin_tone:': u'\\U0001F477 \\U0001F3FC \\U0000200D \\U00002642 \\U0000FE0F',\n",
    "    u':man_construction_worker_medium_skin_tone:': u'\\U0001F477 \\U0001F3FD \\U0000200D \\U00002642 \\U0000FE0F',\n",
    "    u':man_cook:': u'\\U0001F468 \\U0000200D \\U0001F373',\n",
    "    u':man_cook_dark_skin_tone:': u'\\U0001F468 \\U0001F3FF \\U0000200D \\U0001F373',\n",
    "    u':man_cook_light_skin_tone:': u'\\U0001F468 \\U0001F3FB \\U0000200D \\U0001F373',\n",
    "    u':man_cook_medium-dark_skin_tone:': u'\\U0001F468 \\U0001F3FE \\U0000200D \\U0001F373',\n",
    "    u':man_cook_medium-light_skin_tone:': u'\\U0001F468 \\U0001F3FC \\U0000200D \\U0001F373',\n",
    "    u':man_cook_medium_skin_tone:': u'\\U0001F468 \\U0001F3FD \\U0000200D \\U0001F373',\n",
    "    u':man_dancing:': u'\\U0001F57A',\n",
    "    u':man_dancing_dark_skin_tone:': u'\\U0001F57A \\U0001F3FF',\n",
    "    u':man_dancing_light_skin_tone:': u'\\U0001F57A \\U0001F3FB',\n",
    "    u':man_dancing_medium-dark_skin_tone:': u'\\U0001F57A \\U0001F3FE',\n",
    "    u':man_dancing_medium-light_skin_tone:': u'\\U0001F57A \\U0001F3FC',\n",
    "    u':man_dancing_medium_skin_tone:': u'\\U0001F57A \\U0001F3FD',\n",
    "    u':man_dark_skin_tone:': u'\\U0001F468 \\U0001F3FF',\n",
    "    u':man_detective:': u'\\U0001F575 \\U0000FE0F \\U0000200D \\U00002642 \\U0000FE0F',\n",
    "    u':man_detective_dark_skin_tone:': u'\\U0001F575 \\U0001F3FF \\U0000200D \\U00002642 \\U0000FE0F',\n",
    "    u':man_detective_light_skin_tone:': u'\\U0001F575 \\U0001F3FB \\U0000200D \\U00002642 \\U0000FE0F',\n",
    "    u':man_detective_medium-dark_skin_tone:': u'\\U0001F575 \\U0001F3FE \\U0000200D \\U00002642 \\U0000FE0F',\n",
    "    u':man_detective_medium-light_skin_tone:': u'\\U0001F575 \\U0001F3FC \\U0000200D \\U00002642 \\U0000FE0F',\n",
    "    u':man_detective_medium_skin_tone:': u'\\U0001F575 \\U0001F3FD \\U0000200D \\U00002642 \\U0000FE0F',\n",
    "    u':man_facepalming:': u'\\U0001F926 \\U0000200D \\U00002642 \\U0000FE0F',\n",
    "    u':man_facepalming_dark_skin_tone:': u'\\U0001F926 \\U0001F3FF \\U0000200D \\U00002642 \\U0000FE0F',\n",
    "    u':man_facepalming_light_skin_tone:': u'\\U0001F926 \\U0001F3FB \\U0000200D \\U00002642 \\U0000FE0F',\n",
    "    u':man_facepalming_medium-dark_skin_tone:': u'\\U0001F926 \\U0001F3FE \\U0000200D \\U00002642 \\U0000FE0F',\n",
    "    u':man_facepalming_medium-light_skin_tone:': u'\\U0001F926 \\U0001F3FC \\U0000200D \\U00002642 \\U0000FE0F',\n",
    "    u':man_facepalming_medium_skin_tone:': u'\\U0001F926 \\U0001F3FD \\U0000200D \\U00002642 \\U0000FE0F',\n",
    "    u':man_factory_worker:': u'\\U0001F468 \\U0000200D \\U0001F3ED',\n",
    "    u':man_factory_worker_dark_skin_tone:': u'\\U0001F468 \\U0001F3FF \\U0000200D \\U0001F3ED',\n",
    "    u':man_factory_worker_light_skin_tone:': u'\\U0001F468 \\U0001F3FB \\U0000200D \\U0001F3ED',\n",
    "    u':man_factory_worker_medium-dark_skin_tone:': u'\\U0001F468 \\U0001F3FE \\U0000200D \\U0001F3ED',\n",
    "    u':man_factory_worker_medium-light_skin_tone:': u'\\U0001F468 \\U0001F3FC \\U0000200D \\U0001F3ED',\n",
    "    u':man_factory_worker_medium_skin_tone:': u'\\U0001F468 \\U0001F3FD \\U0000200D \\U0001F3ED',\n",
    "    u':man_farmer:': u'\\U0001F468 \\U0000200D \\U0001F33E',\n",
    "    u':man_farmer_dark_skin_tone:': u'\\U0001F468 \\U0001F3FF \\U0000200D \\U0001F33E',\n",
    "    u':man_farmer_light_skin_tone:': u'\\U0001F468 \\U0001F3FB \\U0000200D \\U0001F33E',\n",
    "    u':man_farmer_medium-dark_skin_tone:': u'\\U0001F468 \\U0001F3FE \\U0000200D \\U0001F33E',\n",
    "    u':man_farmer_medium-light_skin_tone:': u'\\U0001F468 \\U0001F3FC \\U0000200D \\U0001F33E',\n",
    "    u':man_farmer_medium_skin_tone:': u'\\U0001F468 \\U0001F3FD \\U0000200D \\U0001F33E',\n",
    "    u':man_firefighter:': u'\\U0001F468 \\U0000200D \\U0001F692',\n",
    "    u':man_firefighter_dark_skin_tone:': u'\\U0001F468 \\U0001F3FF \\U0000200D \\U0001F692',\n",
    "    u':man_firefighter_light_skin_tone:': u'\\U0001F468 \\U0001F3FB \\U0000200D \\U0001F692',\n",
    "    u':man_firefighter_medium-dark_skin_tone:': u'\\U0001F468 \\U0001F3FE \\U0000200D \\U0001F692',\n",
    "    u':man_firefighter_medium-light_skin_tone:': u'\\U0001F468 \\U0001F3FC \\U0000200D \\U0001F692',\n",
    "    u':man_firefighter_medium_skin_tone:': u'\\U0001F468 \\U0001F3FD \\U0000200D \\U0001F692',\n",
    "    u':man_frowning:': u'\\U0001F64D \\U0000200D \\U00002642 \\U0000FE0F',\n",
    "    u':man_frowning_dark_skin_tone:': u'\\U0001F64D \\U0001F3FF \\U0000200D \\U00002642 \\U0000FE0F',\n",
    "    u':man_frowning_light_skin_tone:': u'\\U0001F64D \\U0001F3FB \\U0000200D \\U00002642 \\U0000FE0F',\n",
    "    u':man_frowning_medium-dark_skin_tone:': u'\\U0001F64D \\U0001F3FE \\U0000200D \\U00002642 \\U0000FE0F',\n",
    "    u':man_frowning_medium-light_skin_tone:': u'\\U0001F64D \\U0001F3FC \\U0000200D \\U00002642 \\U0000FE0F',\n",
    "    u':man_frowning_medium_skin_tone:': u'\\U0001F64D \\U0001F3FD \\U0000200D \\U00002642 \\U0000FE0F',\n",
    "    u':man_gesturing_NO:': u'\\U0001F645 \\U0000200D \\U00002642 \\U0000FE0F',\n",
    "    u':man_gesturing_NO_dark_skin_tone:': u'\\U0001F645 \\U0001F3FF \\U0000200D \\U00002642 \\U0000FE0F',\n",
    "    u':man_gesturing_NO_light_skin_tone:': u'\\U0001F645 \\U0001F3FB \\U0000200D \\U00002642 \\U0000FE0F',\n",
    "    u':man_gesturing_NO_medium-dark_skin_tone:': u'\\U0001F645 \\U0001F3FE \\U0000200D \\U00002642 \\U0000FE0F',\n",
    "    u':man_gesturing_NO_medium-light_skin_tone:': u'\\U0001F645 \\U0001F3FC \\U0000200D \\U00002642 \\U0000FE0F',\n",
    "    u':man_gesturing_NO_medium_skin_tone:': u'\\U0001F645 \\U0001F3FD \\U0000200D \\U00002642 \\U0000FE0F',\n",
    "    u':man_gesturing_OK:': u'\\U0001F646 \\U0000200D \\U00002642 \\U0000FE0F',\n",
    "    u':man_gesturing_OK_dark_skin_tone:': u'\\U0001F646 \\U0001F3FF \\U0000200D \\U00002642 \\U0000FE0F',\n",
    "    u':man_gesturing_OK_light_skin_tone:': u'\\U0001F646 \\U0001F3FB \\U0000200D \\U00002642 \\U0000FE0F',\n",
    "    u':man_gesturing_OK_medium-dark_skin_tone:': u'\\U0001F646 \\U0001F3FE \\U0000200D \\U00002642 \\U0000FE0F',\n",
    "    u':man_gesturing_OK_medium-light_skin_tone:': u'\\U0001F646 \\U0001F3FC \\U0000200D \\U00002642 \\U0000FE0F',\n",
    "    u':man_gesturing_OK_medium_skin_tone:': u'\\U0001F646 \\U0001F3FD \\U0000200D \\U00002642 \\U0000FE0F',\n",
    "    u':man_getting_haircut:': u'\\U0001F487 \\U0000200D \\U00002642 \\U0000FE0F',\n",
    "    u':man_getting_haircut_dark_skin_tone:': u'\\U0001F487 \\U0001F3FF \\U0000200D \\U00002642 \\U0000FE0F',\n",
    "    u':man_getting_haircut_light_skin_tone:': u'\\U0001F487 \\U0001F3FB \\U0000200D \\U00002642 \\U0000FE0F',\n",
    "    u':man_getting_haircut_medium-dark_skin_tone:': u'\\U0001F487 \\U0001F3FE \\U0000200D \\U00002642 \\U0000FE0F',\n",
    "    u':man_getting_haircut_medium-light_skin_tone:': u'\\U0001F487 \\U0001F3FC \\U0000200D \\U00002642 \\U0000FE0F',\n",
    "    u':man_getting_haircut_medium_skin_tone:': u'\\U0001F487 \\U0001F3FD \\U0000200D \\U00002642 \\U0000FE0F',\n",
    "    u':man_getting_massage:': u'\\U0001F486 \\U0000200D \\U00002642 \\U0000FE0F',\n",
    "    u':man_getting_massage_dark_skin_tone:': u'\\U0001F486 \\U0001F3FF \\U0000200D \\U00002642 \\U0000FE0F',\n",
    "    u':man_getting_massage_light_skin_tone:': u'\\U0001F486 \\U0001F3FB \\U0000200D \\U00002642 \\U0000FE0F',\n",
    "    u':man_getting_massage_medium-dark_skin_tone:': u'\\U0001F486 \\U0001F3FE \\U0000200D \\U00002642 \\U0000FE0F',\n",
    "    u':man_getting_massage_medium-light_skin_tone:': u'\\U0001F486 \\U0001F3FC \\U0000200D \\U00002642 \\U0000FE0F',\n",
    "    u':man_getting_massage_medium_skin_tone:': u'\\U0001F486 \\U0001F3FD \\U0000200D \\U00002642 \\U0000FE0F',\n",
    "    u':man_golfing:': u'\\U0001F3CC \\U0000FE0F \\U0000200D \\U00002642 \\U0000FE0F',\n",
    "    u':man_golfing_dark_skin_tone:': u'\\U0001F3CC \\U0001F3FF \\U0000200D \\U00002642 \\U0000FE0F',\n",
    "    u':man_golfing_light_skin_tone:': u'\\U0001F3CC \\U0001F3FB \\U0000200D \\U00002642 \\U0000FE0F',\n",
    "    u':man_golfing_medium-dark_skin_tone:': u'\\U0001F3CC \\U0001F3FE \\U0000200D \\U00002642 \\U0000FE0F',\n",
    "    u':man_golfing_medium-light_skin_tone:': u'\\U0001F3CC \\U0001F3FC \\U0000200D \\U00002642 \\U0000FE0F',\n",
    "    u':man_golfing_medium_skin_tone:': u'\\U0001F3CC \\U0001F3FD \\U0000200D \\U00002642 \\U0000FE0F',\n",
    "    u':man_guard:': u'\\U0001F482 \\U0000200D \\U00002642 \\U0000FE0F',\n",
    "    u':man_guard_dark_skin_tone:': u'\\U0001F482 \\U0001F3FF \\U0000200D \\U00002642 \\U0000FE0F',\n",
    "    u':man_guard_light_skin_tone:': u'\\U0001F482 \\U0001F3FB \\U0000200D \\U00002642 \\U0000FE0F',\n",
    "    u':man_guard_medium-dark_skin_tone:': u'\\U0001F482 \\U0001F3FE \\U0000200D \\U00002642 \\U0000FE0F',\n",
    "    u':man_guard_medium-light_skin_tone:': u'\\U0001F482 \\U0001F3FC \\U0000200D \\U00002642 \\U0000FE0F',\n",
    "    u':man_guard_medium_skin_tone:': u'\\U0001F482 \\U0001F3FD \\U0000200D \\U00002642 \\U0000FE0F',\n",
    "    u':man_health_worker:': u'\\U0001F468 \\U0000200D \\U00002695 \\U0000FE0F',\n",
    "    u':man_health_worker_dark_skin_tone:': u'\\U0001F468 \\U0001F3FF \\U0000200D \\U00002695 \\U0000FE0F',\n",
    "    u':man_health_worker_light_skin_tone:': u'\\U0001F468 \\U0001F3FB \\U0000200D \\U00002695 \\U0000FE0F',\n",
    "    u':man_health_worker_medium-dark_skin_tone:': u'\\U0001F468 \\U0001F3FE \\U0000200D \\U00002695 \\U0000FE0F',\n",
    "    u':man_health_worker_medium-light_skin_tone:': u'\\U0001F468 \\U0001F3FC \\U0000200D \\U00002695 \\U0000FE0F',\n",
    "    u':man_health_worker_medium_skin_tone:': u'\\U0001F468 \\U0001F3FD \\U0000200D \\U00002695 \\U0000FE0F',\n",
    "    u':man_in_business_suit_levitating:': u'\\U0001F574',\n",
    "    u':man_in_business_suit_levitating_dark_skin_tone:': u'\\U0001F574 \\U0001F3FF',\n",
    "    u':man_in_business_suit_levitating_light_skin_tone:': u'\\U0001F574 \\U0001F3FB',\n",
    "    u':man_in_business_suit_levitating_medium-dark_skin_tone:': u'\\U0001F574 \\U0001F3FE',\n",
    "    u':man_in_business_suit_levitating_medium-light_skin_tone:': u'\\U0001F574 \\U0001F3FC',\n",
    "    u':man_in_business_suit_levitating_medium_skin_tone:': u'\\U0001F574 \\U0001F3FD',\n",
    "    u':man_in_tuxedo:': u'\\U0001F935',\n",
    "    u':man_in_tuxedo_dark_skin_tone:': u'\\U0001F935 \\U0001F3FF',\n",
    "    u':man_in_tuxedo_light_skin_tone:': u'\\U0001F935 \\U0001F3FB',\n",
    "    u':man_in_tuxedo_medium-dark_skin_tone:': u'\\U0001F935 \\U0001F3FE',\n",
    "    u':man_in_tuxedo_medium-light_skin_tone:': u'\\U0001F935 \\U0001F3FC',\n",
    "    u':man_in_tuxedo_medium_skin_tone:': u'\\U0001F935 \\U0001F3FD',\n",
    "    u':man_judge:': u'\\U0001F468 \\U0000200D \\U00002696 \\U0000FE0F',\n",
    "    u':man_judge_dark_skin_tone:': u'\\U0001F468 \\U0001F3FF \\U0000200D \\U00002696 \\U0000FE0F',\n",
    "    u':man_judge_light_skin_tone:': u'\\U0001F468 \\U0001F3FB \\U0000200D \\U00002696 \\U0000FE0F',\n",
    "    u':man_judge_medium-dark_skin_tone:': u'\\U0001F468 \\U0001F3FE \\U0000200D \\U00002696 \\U0000FE0F',\n",
    "    u':man_judge_medium-light_skin_tone:': u'\\U0001F468 \\U0001F3FC \\U0000200D \\U00002696 \\U0000FE0F',\n",
    "    u':man_judge_medium_skin_tone:': u'\\U0001F468 \\U0001F3FD \\U0000200D \\U00002696 \\U0000FE0F',\n",
    "    u':man_juggling:': u'\\U0001F939 \\U0000200D \\U00002642 \\U0000FE0F',\n",
    "    u':man_juggling_dark_skin_tone:': u'\\U0001F939 \\U0001F3FF \\U0000200D \\U00002642 \\U0000FE0F',\n",
    "    u':man_juggling_light_skin_tone:': u'\\U0001F939 \\U0001F3FB \\U0000200D \\U00002642 \\U0000FE0F',\n",
    "    u':man_juggling_medium-dark_skin_tone:': u'\\U0001F939 \\U0001F3FE \\U0000200D \\U00002642 \\U0000FE0F',\n",
    "    u':man_juggling_medium-light_skin_tone:': u'\\U0001F939 \\U0001F3FC \\U0000200D \\U00002642 \\U0000FE0F',\n",
    "    u':man_juggling_medium_skin_tone:': u'\\U0001F939 \\U0001F3FD \\U0000200D \\U00002642 \\U0000FE0F',\n",
    "    u':man_lifting_weights:': u'\\U0001F3CB \\U0000FE0F \\U0000200D \\U00002642 \\U0000FE0F',\n",
    "    u':man_lifting_weights_dark_skin_tone:': u'\\U0001F3CB \\U0001F3FF \\U0000200D \\U00002642 \\U0000FE0F',\n",
    "    u':man_lifting_weights_light_skin_tone:': u'\\U0001F3CB \\U0001F3FB \\U0000200D \\U00002642 \\U0000FE0F',\n",
    "    u':man_lifting_weights_medium-dark_skin_tone:': u'\\U0001F3CB \\U0001F3FE \\U0000200D \\U00002642 \\U0000FE0F',\n",
    "    u':man_lifting_weights_medium-light_skin_tone:': u'\\U0001F3CB \\U0001F3FC \\U0000200D \\U00002642 \\U0000FE0F',\n",
    "    u':man_lifting_weights_medium_skin_tone:': u'\\U0001F3CB \\U0001F3FD \\U0000200D \\U00002642 \\U0000FE0F',\n",
    "    u':man_light_skin_tone:': u'\\U0001F468 \\U0001F3FB',\n",
    "    u':man_mechanic:': u'\\U0001F468 \\U0000200D \\U0001F527',\n",
    "    u':man_mechanic_dark_skin_tone:': u'\\U0001F468 \\U0001F3FF \\U0000200D \\U0001F527',\n",
    "    u':man_mechanic_light_skin_tone:': u'\\U0001F468 \\U0001F3FB \\U0000200D \\U0001F527',\n",
    "    u':man_mechanic_medium-dark_skin_tone:': u'\\U0001F468 \\U0001F3FE \\U0000200D \\U0001F527',\n",
    "    u':man_mechanic_medium-light_skin_tone:': u'\\U0001F468 \\U0001F3FC \\U0000200D \\U0001F527',\n",
    "    u':man_mechanic_medium_skin_tone:': u'\\U0001F468 \\U0001F3FD \\U0000200D \\U0001F527',\n",
    "    u':man_medium-dark_skin_tone:': u'\\U0001F468 \\U0001F3FE',\n",
    "    u':man_medium-light_skin_tone:': u'\\U0001F468 \\U0001F3FC',\n",
    "    u':man_medium_skin_tone:': u'\\U0001F468 \\U0001F3FD',\n",
    "    u':man_mountain_biking:': u'\\U0001F6B5 \\U0000200D \\U00002642 \\U0000FE0F',\n",
    "    u':man_mountain_biking_dark_skin_tone:': u'\\U0001F6B5 \\U0001F3FF \\U0000200D \\U00002642 \\U0000FE0F',\n",
    "    u':man_mountain_biking_light_skin_tone:': u'\\U0001F6B5 \\U0001F3FB \\U0000200D \\U00002642 \\U0000FE0F',\n",
    "    u':man_mountain_biking_medium-dark_skin_tone:': u'\\U0001F6B5 \\U0001F3FE \\U0000200D \\U00002642 \\U0000FE0F',\n",
    "    u':man_mountain_biking_medium-light_skin_tone:': u'\\U0001F6B5 \\U0001F3FC \\U0000200D \\U00002642 \\U0000FE0F',\n",
    "    u':man_mountain_biking_medium_skin_tone:': u'\\U0001F6B5 \\U0001F3FD \\U0000200D \\U00002642 \\U0000FE0F',\n",
    "    u':man_office_worker:': u'\\U0001F468 \\U0000200D \\U0001F4BC',\n",
    "    u':man_office_worker_dark_skin_tone:': u'\\U0001F468 \\U0001F3FF \\U0000200D \\U0001F4BC',\n",
    "    u':man_office_worker_light_skin_tone:': u'\\U0001F468 \\U0001F3FB \\U0000200D \\U0001F4BC',\n",
    "    u':man_office_worker_medium-dark_skin_tone:': u'\\U0001F468 \\U0001F3FE \\U0000200D \\U0001F4BC',\n",
    "    u':man_office_worker_medium-light_skin_tone:': u'\\U0001F468 \\U0001F3FC \\U0000200D \\U0001F4BC',\n",
    "    u':man_office_worker_medium_skin_tone:': u'\\U0001F468 \\U0001F3FD \\U0000200D \\U0001F4BC',\n",
    "    u':man_pilot:': u'\\U0001F468 \\U0000200D \\U00002708 \\U0000FE0F',\n",
    "    u':man_pilot_dark_skin_tone:': u'\\U0001F468 \\U0001F3FF \\U0000200D \\U00002708 \\U0000FE0F',\n",
    "    u':man_pilot_light_skin_tone:': u'\\U0001F468 \\U0001F3FB \\U0000200D \\U00002708 \\U0000FE0F',\n",
    "    u':man_pilot_medium-dark_skin_tone:': u'\\U0001F468 \\U0001F3FE \\U0000200D \\U00002708 \\U0000FE0F',\n",
    "    u':man_pilot_medium-light_skin_tone:': u'\\U0001F468 \\U0001F3FC \\U0000200D \\U00002708 \\U0000FE0F',\n",
    "    u':man_pilot_medium_skin_tone:': u'\\U0001F468 \\U0001F3FD \\U0000200D \\U00002708 \\U0000FE0F',\n",
    "    u':man_playing_handball:': u'\\U0001F93E \\U0000200D \\U00002642 \\U0000FE0F',\n",
    "    u':man_playing_handball_dark_skin_tone:': u'\\U0001F93E \\U0001F3FF \\U0000200D \\U00002642 \\U0000FE0F',\n",
    "    u':man_playing_handball_light_skin_tone:': u'\\U0001F93E \\U0001F3FB \\U0000200D \\U00002642 \\U0000FE0F',\n",
    "    u':man_playing_handball_medium-dark_skin_tone:': u'\\U0001F93E \\U0001F3FE \\U0000200D \\U00002642 \\U0000FE0F',\n",
    "    u':man_playing_handball_medium-light_skin_tone:': u'\\U0001F93E \\U0001F3FC \\U0000200D \\U00002642 \\U0000FE0F',\n",
    "    u':man_playing_handball_medium_skin_tone:': u'\\U0001F93E \\U0001F3FD \\U0000200D \\U00002642 \\U0000FE0F',\n",
    "    u':man_playing_water_polo:': u'\\U0001F93D \\U0000200D \\U00002642 \\U0000FE0F',\n",
    "    u':man_playing_water_polo_dark_skin_tone:': u'\\U0001F93D \\U0001F3FF \\U0000200D \\U00002642 \\U0000FE0F',\n",
    "    u':man_playing_water_polo_light_skin_tone:': u'\\U0001F93D \\U0001F3FB \\U0000200D \\U00002642 \\U0000FE0F',\n",
    "    u':man_playing_water_polo_medium-dark_skin_tone:': u'\\U0001F93D \\U0001F3FE \\U0000200D \\U00002642 \\U0000FE0F',\n",
    "    u':man_playing_water_polo_medium-light_skin_tone:': u'\\U0001F93D \\U0001F3FC \\U0000200D \\U00002642 \\U0000FE0F',\n",
    "    u':man_playing_water_polo_medium_skin_tone:': u'\\U0001F93D \\U0001F3FD \\U0000200D \\U00002642 \\U0000FE0F',\n",
    "    u':man_police_officer:': u'\\U0001F46E \\U0000200D \\U00002642 \\U0000FE0F',\n",
    "    u':man_police_officer_dark_skin_tone:': u'\\U0001F46E \\U0001F3FF \\U0000200D \\U00002642 \\U0000FE0F',\n",
    "    u':man_police_officer_light_skin_tone:': u'\\U0001F46E \\U0001F3FB \\U0000200D \\U00002642 \\U0000FE0F',\n",
    "    u':man_police_officer_medium-dark_skin_tone:': u'\\U0001F46E \\U0001F3FE \\U0000200D \\U00002642 \\U0000FE0F',\n",
    "    u':man_police_officer_medium-light_skin_tone:': u'\\U0001F46E \\U0001F3FC \\U0000200D \\U00002642 \\U0000FE0F',\n",
    "    u':man_police_officer_medium_skin_tone:': u'\\U0001F46E \\U0001F3FD \\U0000200D \\U00002642 \\U0000FE0F',\n",
    "    u':man_pouting:': u'\\U0001F64E \\U0000200D \\U00002642 \\U0000FE0F',\n",
    "    u':man_pouting_dark_skin_tone:': u'\\U0001F64E \\U0001F3FF \\U0000200D \\U00002642 \\U0000FE0F',\n",
    "    u':man_pouting_light_skin_tone:': u'\\U0001F64E \\U0001F3FB \\U0000200D \\U00002642 \\U0000FE0F',\n",
    "    u':man_pouting_medium-dark_skin_tone:': u'\\U0001F64E \\U0001F3FE \\U0000200D \\U00002642 \\U0000FE0F',\n",
    "    u':man_pouting_medium-light_skin_tone:': u'\\U0001F64E \\U0001F3FC \\U0000200D \\U00002642 \\U0000FE0F',\n",
    "    u':man_pouting_medium_skin_tone:': u'\\U0001F64E \\U0001F3FD \\U0000200D \\U00002642 \\U0000FE0F',\n",
    "    u':man_raising_hand:': u'\\U0001F64B \\U0000200D \\U00002642 \\U0000FE0F',\n",
    "    u':man_raising_hand_dark_skin_tone:': u'\\U0001F64B \\U0001F3FF \\U0000200D \\U00002642 \\U0000FE0F',\n",
    "    u':man_raising_hand_light_skin_tone:': u'\\U0001F64B \\U0001F3FB \\U0000200D \\U00002642 \\U0000FE0F',\n",
    "    u':man_raising_hand_medium-dark_skin_tone:': u'\\U0001F64B \\U0001F3FE \\U0000200D \\U00002642 \\U0000FE0F',\n",
    "    u':man_raising_hand_medium-light_skin_tone:': u'\\U0001F64B \\U0001F3FC \\U0000200D \\U00002642 \\U0000FE0F',\n",
    "    u':man_raising_hand_medium_skin_tone:': u'\\U0001F64B \\U0001F3FD \\U0000200D \\U00002642 \\U0000FE0F',\n",
    "    u':man_rowing_boat:': u'\\U0001F6A3 \\U0000200D \\U00002642 \\U0000FE0F',\n",
    "    u':man_rowing_boat_dark_skin_tone:': u'\\U0001F6A3 \\U0001F3FF \\U0000200D \\U00002642 \\U0000FE0F',\n",
    "    u':man_rowing_boat_light_skin_tone:': u'\\U0001F6A3 \\U0001F3FB \\U0000200D \\U00002642 \\U0000FE0F',\n",
    "    u':man_rowing_boat_medium-dark_skin_tone:': u'\\U0001F6A3 \\U0001F3FE \\U0000200D \\U00002642 \\U0000FE0F',\n",
    "    u':man_rowing_boat_medium-light_skin_tone:': u'\\U0001F6A3 \\U0001F3FC \\U0000200D \\U00002642 \\U0000FE0F',\n",
    "    u':man_rowing_boat_medium_skin_tone:': u'\\U0001F6A3 \\U0001F3FD \\U0000200D \\U00002642 \\U0000FE0F',\n",
    "    u':man_running:': u'\\U0001F3C3 \\U0000200D \\U00002642 \\U0000FE0F',\n",
    "    u':man_running_dark_skin_tone:': u'\\U0001F3C3 \\U0001F3FF \\U0000200D \\U00002642 \\U0000FE0F',\n",
    "    u':man_running_light_skin_tone:': u'\\U0001F3C3 \\U0001F3FB \\U0000200D \\U00002642 \\U0000FE0F',\n",
    "    u':man_running_medium-dark_skin_tone:': u'\\U0001F3C3 \\U0001F3FE \\U0000200D \\U00002642 \\U0000FE0F',\n",
    "    u':man_running_medium-light_skin_tone:': u'\\U0001F3C3 \\U0001F3FC \\U0000200D \\U00002642 \\U0000FE0F',\n",
    "    u':man_running_medium_skin_tone:': u'\\U0001F3C3 \\U0001F3FD \\U0000200D \\U00002642 \\U0000FE0F',\n",
    "    u':man_scientist:': u'\\U0001F468 \\U0000200D \\U0001F52C',\n",
    "    u':man_scientist_dark_skin_tone:': u'\\U0001F468 \\U0001F3FF \\U0000200D \\U0001F52C',\n",
    "    u':man_scientist_light_skin_tone:': u'\\U0001F468 \\U0001F3FB \\U0000200D \\U0001F52C',\n",
    "    u':man_scientist_medium-dark_skin_tone:': u'\\U0001F468 \\U0001F3FE \\U0000200D \\U0001F52C',\n",
    "    u':man_scientist_medium-light_skin_tone:': u'\\U0001F468 \\U0001F3FC \\U0000200D \\U0001F52C',\n",
    "    u':man_scientist_medium_skin_tone:': u'\\U0001F468 \\U0001F3FD \\U0000200D \\U0001F52C',\n",
    "    u':man_shrugging:': u'\\U0001F937 \\U0000200D \\U00002642 \\U0000FE0F',\n",
    "    u':man_shrugging_dark_skin_tone:': u'\\U0001F937 \\U0001F3FF \\U0000200D \\U00002642 \\U0000FE0F',\n",
    "    u':man_shrugging_light_skin_tone:': u'\\U0001F937 \\U0001F3FB \\U0000200D \\U00002642 \\U0000FE0F',\n",
    "    u':man_shrugging_medium-dark_skin_tone:': u'\\U0001F937 \\U0001F3FE \\U0000200D \\U00002642 \\U0000FE0F',\n",
    "    u':man_shrugging_medium-light_skin_tone:': u'\\U0001F937 \\U0001F3FC \\U0000200D \\U00002642 \\U0000FE0F',\n",
    "    u':man_shrugging_medium_skin_tone:': u'\\U0001F937 \\U0001F3FD \\U0000200D \\U00002642 \\U0000FE0F',\n",
    "    u':man_singer:': u'\\U0001F468 \\U0000200D \\U0001F3A4',\n",
    "    u':man_singer_dark_skin_tone:': u'\\U0001F468 \\U0001F3FF \\U0000200D \\U0001F3A4',\n",
    "    u':man_singer_light_skin_tone:': u'\\U0001F468 \\U0001F3FB \\U0000200D \\U0001F3A4',\n",
    "    u':man_singer_medium-dark_skin_tone:': u'\\U0001F468 \\U0001F3FE \\U0000200D \\U0001F3A4',\n",
    "    u':man_singer_medium-light_skin_tone:': u'\\U0001F468 \\U0001F3FC \\U0000200D \\U0001F3A4',\n",
    "    u':man_singer_medium_skin_tone:': u'\\U0001F468 \\U0001F3FD \\U0000200D \\U0001F3A4',\n",
    "    u':man_student:': u'\\U0001F468 \\U0000200D \\U0001F393',\n",
    "    u':man_student_dark_skin_tone:': u'\\U0001F468 \\U0001F3FF \\U0000200D \\U0001F393',\n",
    "    u':man_student_light_skin_tone:': u'\\U0001F468 \\U0001F3FB \\U0000200D \\U0001F393',\n",
    "    u':man_student_medium-dark_skin_tone:': u'\\U0001F468 \\U0001F3FE \\U0000200D \\U0001F393',\n",
    "    u':man_student_medium-light_skin_tone:': u'\\U0001F468 \\U0001F3FC \\U0000200D \\U0001F393',\n",
    "    u':man_student_medium_skin_tone:': u'\\U0001F468 \\U0001F3FD \\U0000200D \\U0001F393',\n",
    "    u':man_surfing:': u'\\U0001F3C4 \\U0000200D \\U00002642 \\U0000FE0F',\n",
    "    u':man_surfing_dark_skin_tone:': u'\\U0001F3C4 \\U0001F3FF \\U0000200D \\U00002642 \\U0000FE0F',\n",
    "    u':man_surfing_light_skin_tone:': u'\\U0001F3C4 \\U0001F3FB \\U0000200D \\U00002642 \\U0000FE0F',\n",
    "    u':man_surfing_medium-dark_skin_tone:': u'\\U0001F3C4 \\U0001F3FE \\U0000200D \\U00002642 \\U0000FE0F',\n",
    "    u':man_surfing_medium-light_skin_tone:': u'\\U0001F3C4 \\U0001F3FC \\U0000200D \\U00002642 \\U0000FE0F',\n",
    "    u':man_surfing_medium_skin_tone:': u'\\U0001F3C4 \\U0001F3FD \\U0000200D \\U00002642 \\U0000FE0F',\n",
    "    u':man_swimming:': u'\\U0001F3CA \\U0000200D \\U00002642 \\U0000FE0F',\n",
    "    u':man_swimming_dark_skin_tone:': u'\\U0001F3CA \\U0001F3FF \\U0000200D \\U00002642 \\U0000FE0F',\n",
    "    u':man_swimming_light_skin_tone:': u'\\U0001F3CA \\U0001F3FB \\U0000200D \\U00002642 \\U0000FE0F',\n",
    "    u':man_swimming_medium-dark_skin_tone:': u'\\U0001F3CA \\U0001F3FE \\U0000200D \\U00002642 \\U0000FE0F',\n",
    "    u':man_swimming_medium-light_skin_tone:': u'\\U0001F3CA \\U0001F3FC \\U0000200D \\U00002642 \\U0000FE0F',\n",
    "    u':man_swimming_medium_skin_tone:': u'\\U0001F3CA \\U0001F3FD \\U0000200D \\U00002642 \\U0000FE0F',\n",
    "    u':man_teacher:': u'\\U0001F468 \\U0000200D \\U0001F3EB',\n",
    "    u':man_teacher_dark_skin_tone:': u'\\U0001F468 \\U0001F3FF \\U0000200D \\U0001F3EB',\n",
    "    u':man_teacher_light_skin_tone:': u'\\U0001F468 \\U0001F3FB \\U0000200D \\U0001F3EB',\n",
    "    u':man_teacher_medium-dark_skin_tone:': u'\\U0001F468 \\U0001F3FE \\U0000200D \\U0001F3EB',\n",
    "    u':man_teacher_medium-light_skin_tone:': u'\\U0001F468 \\U0001F3FC \\U0000200D \\U0001F3EB',\n",
    "    u':man_teacher_medium_skin_tone:': u'\\U0001F468 \\U0001F3FD \\U0000200D \\U0001F3EB',\n",
    "    u':man_technologist:': u'\\U0001F468 \\U0000200D \\U0001F4BB',\n",
    "    u':man_technologist_dark_skin_tone:': u'\\U0001F468 \\U0001F3FF \\U0000200D \\U0001F4BB',\n",
    "    u':man_technologist_light_skin_tone:': u'\\U0001F468 \\U0001F3FB \\U0000200D \\U0001F4BB',\n",
    "    u':man_technologist_medium-dark_skin_tone:': u'\\U0001F468 \\U0001F3FE \\U0000200D \\U0001F4BB',\n",
    "    u':man_technologist_medium-light_skin_tone:': u'\\U0001F468 \\U0001F3FC \\U0000200D \\U0001F4BB',\n",
    "    u':man_technologist_medium_skin_tone:': u'\\U0001F468 \\U0001F3FD \\U0000200D \\U0001F4BB',\n",
    "    u':man_tipping_hand:': u'\\U0001F481 \\U0000200D \\U00002642 \\U0000FE0F',\n",
    "    u':man_tipping_hand_dark_skin_tone:': u'\\U0001F481 \\U0001F3FF \\U0000200D \\U00002642 \\U0000FE0F',\n",
    "    u':man_tipping_hand_light_skin_tone:': u'\\U0001F481 \\U0001F3FB \\U0000200D \\U00002642 \\U0000FE0F',\n",
    "    u':man_tipping_hand_medium-dark_skin_tone:': u'\\U0001F481 \\U0001F3FE \\U0000200D \\U00002642 \\U0000FE0F',\n",
    "    u':man_tipping_hand_medium-light_skin_tone:': u'\\U0001F481 \\U0001F3FC \\U0000200D \\U00002642 \\U0000FE0F',\n",
    "    u':man_tipping_hand_medium_skin_tone:': u'\\U0001F481 \\U0001F3FD \\U0000200D \\U00002642 \\U0000FE0F',\n",
    "    u':man_walking:': u'\\U0001F6B6 \\U0000200D \\U00002642 \\U0000FE0F',\n",
    "    u':man_walking_dark_skin_tone:': u'\\U0001F6B6 \\U0001F3FF \\U0000200D \\U00002642 \\U0000FE0F',\n",
    "    u':man_walking_light_skin_tone:': u'\\U0001F6B6 \\U0001F3FB \\U0000200D \\U00002642 \\U0000FE0F',\n",
    "    u':man_walking_medium-dark_skin_tone:': u'\\U0001F6B6 \\U0001F3FE \\U0000200D \\U00002642 \\U0000FE0F',\n",
    "    u':man_walking_medium-light_skin_tone:': u'\\U0001F6B6 \\U0001F3FC \\U0000200D \\U00002642 \\U0000FE0F',\n",
    "    u':man_walking_medium_skin_tone:': u'\\U0001F6B6 \\U0001F3FD \\U0000200D \\U00002642 \\U0000FE0F',\n",
    "    u':man_wearing_turban:': u'\\U0001F473 \\U0000200D \\U00002642 \\U0000FE0F',\n",
    "    u':man_wearing_turban_dark_skin_tone:': u'\\U0001F473 \\U0001F3FF \\U0000200D \\U00002642 \\U0000FE0F',\n",
    "    u':man_wearing_turban_light_skin_tone:': u'\\U0001F473 \\U0001F3FB \\U0000200D \\U00002642 \\U0000FE0F',\n",
    "    u':man_wearing_turban_medium-dark_skin_tone:': u'\\U0001F473 \\U0001F3FE \\U0000200D \\U00002642 \\U0000FE0F',\n",
    "    u':man_wearing_turban_medium-light_skin_tone:': u'\\U0001F473 \\U0001F3FC \\U0000200D \\U00002642 \\U0000FE0F',\n",
    "    u':man_wearing_turban_medium_skin_tone:': u'\\U0001F473 \\U0001F3FD \\U0000200D \\U00002642 \\U0000FE0F',\n",
    "    u':man_with_Chinese_cap:': u'\\U0001F472',\n",
    "    u':man_with_Chinese_cap_dark_skin_tone:': u'\\U0001F472 \\U0001F3FF',\n",
    "    u':man_with_Chinese_cap_light_skin_tone:': u'\\U0001F472 \\U0001F3FB',\n",
    "    u':man_with_Chinese_cap_medium-dark_skin_tone:': u'\\U0001F472 \\U0001F3FE',\n",
    "    u':man_with_Chinese_cap_medium-light_skin_tone:': u'\\U0001F472 \\U0001F3FC',\n",
    "    u':man_with_Chinese_cap_medium_skin_tone:': u'\\U0001F472 \\U0001F3FD',\n",
    "    u':mantelpiece_clock:': u'\\U0001F570',\n",
    "    u':man’s_shoe:': u'\\U0001F45E',\n",
    "    u':map_of_Japan:': u'\\U0001F5FE',\n",
    "    u':maple_leaf:': u'\\U0001F341',\n",
    "    u':martial_arts_uniform:': u'\\U0001F94B',\n",
    "    u':meat_on_bone:': u'\\U0001F356',\n",
    "    u':medical_symbol:': u'\\U00002695',\n",
    "    u':medium-dark_skin_tone:': u'\\U0001F3FE',\n",
    "    u':medium-light_skin_tone:': u'\\U0001F3FC',\n",
    "    u':medium_skin_tone:': u'\\U0001F3FD',\n",
    "    u':megaphone:': u'\\U0001F4E3',\n",
    "    u':melon:': u'\\U0001F348',\n",
    "    u':memo:': u'\\U0001F4DD',\n",
    "    u':men_with_bunny_ears_partying:': u'\\U0001F46F \\U0000200D \\U00002642 \\U0000FE0F',\n",
    "    u':men_wrestling:': u'\\U0001F93C \\U0000200D \\U00002642 \\U0000FE0F',\n",
    "    u':menorah:': u'\\U0001F54E',\n",
    "    u':men’s_room:': u'\\U0001F6B9',\n",
    "    u':metro:': u'\\U0001F687',\n",
    "    u':microphone:': u'\\U0001F3A4',\n",
    "    u':microscope:': u'\\U0001F52C',\n",
    "    u':middle_finger:': u'\\U0001F595',\n",
    "    u':middle_finger_dark_skin_tone:': u'\\U0001F595 \\U0001F3FF',\n",
    "    u':middle_finger_light_skin_tone:': u'\\U0001F595 \\U0001F3FB',\n",
    "    u':middle_finger_medium-dark_skin_tone:': u'\\U0001F595 \\U0001F3FE',\n",
    "    u':middle_finger_medium-light_skin_tone:': u'\\U0001F595 \\U0001F3FC',\n",
    "    u':middle_finger_medium_skin_tone:': u'\\U0001F595 \\U0001F3FD',\n",
    "    u':military_medal:': u'\\U0001F396',\n",
    "    u':milky_way:': u'\\U0001F30C',\n",
    "    u':minibus:': u'\\U0001F690',\n",
    "    u':moai:': u'\\U0001F5FF',\n",
    "    u':mobile_phone:': u'\\U0001F4F1',\n",
    "    u':mobile_phone_off:': u'\\U0001F4F4',\n",
    "    u':mobile_phone_with_arrow:': u'\\U0001F4F2',\n",
    "    u':money-mouth_face:': u'\\U0001F911',\n",
    "    u':money_bag:': u'\\U0001F4B0',\n",
    "    u':money_with_wings:': u'\\U0001F4B8',\n",
    "    u':monkey:': u'\\U0001F412',\n",
    "    u':monkey_face:': u'\\U0001F435',\n",
    "    u':monorail:': u'\\U0001F69D',\n",
    "    u':moon_viewing_ceremony:': u'\\U0001F391',\n",
    "    u':mosque:': u'\\U0001F54C',\n",
    "    u':motor_boat:': u'\\U0001F6E5',\n",
    "    u':motor_scooter:': u'\\U0001F6F5',\n",
    "    u':motorcycle:': u'\\U0001F3CD',\n",
    "    u':motorway:': u'\\U0001F6E3',\n",
    "    u':mount_fuji:': u'\\U0001F5FB',\n",
    "    u':mountain:': u'\\U000026F0',\n",
    "    u':mountain_cableway:': u'\\U0001F6A0',\n",
    "    u':mountain_railway:': u'\\U0001F69E',\n",
    "    u':mouse:': u'\\U0001F401',\n",
    "    u':mouse_face:': u'\\U0001F42D',\n",
    "    u':mouth:': u'\\U0001F444',\n",
    "    u':movie_camera:': u'\\U0001F3A5',\n",
    "    u':mushroom:': u'\\U0001F344',\n",
    "    u':musical_keyboard:': u'\\U0001F3B9',\n",
    "    u':musical_note:': u'\\U0001F3B5',\n",
    "    u':musical_notes:': u'\\U0001F3B6',\n",
    "    u':musical_score:': u'\\U0001F3BC',\n",
    "    u':muted_speaker:': u'\\U0001F507',\n",
    "    u':nail_polish:': u'\\U0001F485',\n",
    "    u':nail_polish_dark_skin_tone:': u'\\U0001F485 \\U0001F3FF',\n",
    "    u':nail_polish_light_skin_tone:': u'\\U0001F485 \\U0001F3FB',\n",
    "    u':nail_polish_medium-dark_skin_tone:': u'\\U0001F485 \\U0001F3FE',\n",
    "    u':nail_polish_medium-light_skin_tone:': u'\\U0001F485 \\U0001F3FC',\n",
    "    u':nail_polish_medium_skin_tone:': u'\\U0001F485 \\U0001F3FD',\n",
    "    u':name_badge:': u'\\U0001F4DB',\n",
    "    u':national_park:': u'\\U0001F3DE',\n",
    "    u':nauseated_face:': u'\\U0001F922',\n",
    "    u':necktie:': u'\\U0001F454',\n",
    "    u':nerd_face:': u'\\U0001F913',\n",
    "    u':neutral_face:': u'\\U0001F610',\n",
    "    u':new_moon:': u'\\U0001F311',\n",
    "    u':new_moon_face:': u'\\U0001F31A',\n",
    "    u':newspaper:': u'\\U0001F4F0',\n",
    "    u':next_track_button:': u'\\U000023ED',\n",
    "    u':night_with_stars:': u'\\U0001F303',\n",
    "    u':nine-thirty:': u'\\U0001F564',\n",
    "    u':nine_o’clock:': u'\\U0001F558',\n",
    "    u':no_bicycles:': u'\\U0001F6B3',\n",
    "    u':no_entry:': u'\\U000026D4',\n",
    "    u':no_littering:': u'\\U0001F6AF',\n",
    "    u':no_mobile_phones:': u'\\U0001F4F5',\n",
    "    u':no_one_under_eighteen:': u'\\U0001F51E',\n",
    "    u':no_pedestrians:': u'\\U0001F6B7',\n",
    "    u':no_smoking:': u'\\U0001F6AD',\n",
    "    u':non-potable_water:': u'\\U0001F6B1',\n",
    "    u':nose:': u'\\U0001F443',\n",
    "    u':nose_dark_skin_tone:': u'\\U0001F443 \\U0001F3FF',\n",
    "    u':nose_light_skin_tone:': u'\\U0001F443 \\U0001F3FB',\n",
    "    u':nose_medium-dark_skin_tone:': u'\\U0001F443 \\U0001F3FE',\n",
    "    u':nose_medium-light_skin_tone:': u'\\U0001F443 \\U0001F3FC',\n",
    "    u':nose_medium_skin_tone:': u'\\U0001F443 \\U0001F3FD',\n",
    "    u':notebook:': u'\\U0001F4D3',\n",
    "    u':notebook_with_decorative_cover:': u'\\U0001F4D4',\n",
    "    u':nut_and_bolt:': u'\\U0001F529',\n",
    "    u':octopus:': u'\\U0001F419',\n",
    "    u':oden:': u'\\U0001F362',\n",
    "    u':office_building:': u'\\U0001F3E2',\n",
    "    u':ogre:': u'\\U0001F479',\n",
    "    u':oil_drum:': u'\\U0001F6E2',\n",
    "    u':old_key:': u'\\U0001F5DD',\n",
    "    u':old_man:': u'\\U0001F474',\n",
    "    u':old_man_dark_skin_tone:': u'\\U0001F474 \\U0001F3FF',\n",
    "    u':old_man_light_skin_tone:': u'\\U0001F474 \\U0001F3FB',\n",
    "    u':old_man_medium-dark_skin_tone:': u'\\U0001F474 \\U0001F3FE',\n",
    "    u':old_man_medium-light_skin_tone:': u'\\U0001F474 \\U0001F3FC',\n",
    "    u':old_man_medium_skin_tone:': u'\\U0001F474 \\U0001F3FD',\n",
    "    u':old_woman:': u'\\U0001F475',\n",
    "    u':old_woman_dark_skin_tone:': u'\\U0001F475 \\U0001F3FF',\n",
    "    u':old_woman_light_skin_tone:': u'\\U0001F475 \\U0001F3FB',\n",
    "    u':old_woman_medium-dark_skin_tone:': u'\\U0001F475 \\U0001F3FE',\n",
    "    u':old_woman_medium-light_skin_tone:': u'\\U0001F475 \\U0001F3FC',\n",
    "    u':old_woman_medium_skin_tone:': u'\\U0001F475 \\U0001F3FD',\n",
    "    u':om:': u'\\U0001F549',\n",
    "    u':oncoming_automobile:': u'\\U0001F698',\n",
    "    u':oncoming_bus:': u'\\U0001F68D',\n",
    "    u':oncoming_fist:': u'\\U0001F44A',\n",
    "    u':oncoming_fist_dark_skin_tone:': u'\\U0001F44A \\U0001F3FF',\n",
    "    u':oncoming_fist_light_skin_tone:': u'\\U0001F44A \\U0001F3FB',\n",
    "    u':oncoming_fist_medium-dark_skin_tone:': u'\\U0001F44A \\U0001F3FE',\n",
    "    u':oncoming_fist_medium-light_skin_tone:': u'\\U0001F44A \\U0001F3FC',\n",
    "    u':oncoming_fist_medium_skin_tone:': u'\\U0001F44A \\U0001F3FD',\n",
    "    u':oncoming_police_car:': u'\\U0001F694',\n",
    "    u':oncoming_taxi:': u'\\U0001F696',\n",
    "    u':one-thirty:': u'\\U0001F55C',\n",
    "    u':one_o’clock:': u'\\U0001F550',\n",
    "    u':open_book:': u'\\U0001F4D6',\n",
    "    u':open_file_folder:': u'\\U0001F4C2',\n",
    "    u':open_hands:': u'\\U0001F450',\n",
    "    u':open_hands_dark_skin_tone:': u'\\U0001F450 \\U0001F3FF',\n",
    "    u':open_hands_light_skin_tone:': u'\\U0001F450 \\U0001F3FB',\n",
    "    u':open_hands_medium-dark_skin_tone:': u'\\U0001F450 \\U0001F3FE',\n",
    "    u':open_hands_medium-light_skin_tone:': u'\\U0001F450 \\U0001F3FC',\n",
    "    u':open_hands_medium_skin_tone:': u'\\U0001F450 \\U0001F3FD',\n",
    "    u':open_mailbox_with_lowered_flag:': u'\\U0001F4ED',\n",
    "    u':open_mailbox_with_raised_flag:': u'\\U0001F4EC',\n",
    "    u':optical_disk:': u'\\U0001F4BF',\n",
    "    u':orange_book:': u'\\U0001F4D9',\n",
    "    u':orthodox_cross:': u'\\U00002626',\n",
    "    u':outbox_tray:': u'\\U0001F4E4',\n",
    "    u':owl:': u'\\U0001F989',\n",
    "    u':ox:': u'\\U0001F402',\n",
    "    u':package:': u'\\U0001F4E6',\n",
    "    u':page_facing_up:': u'\\U0001F4C4',\n",
    "    u':page_with_curl:': u'\\U0001F4C3',\n",
    "    u':pager:': u'\\U0001F4DF',\n",
    "    u':paintbrush:': u'\\U0001F58C',\n",
    "    u':palm_tree:': u'\\U0001F334',\n",
    "    u':pancakes:': u'\\U0001F95E',\n",
    "    u':panda_face:': u'\\U0001F43C',\n",
    "    u':paperclip:': u'\\U0001F4CE',\n",
    "    u':part_alternation_mark:': u'\\U0000303D',\n",
    "    u':party_popper:': u'\\U0001F389',\n",
    "    u':passenger_ship:': u'\\U0001F6F3',\n",
    "    u':passport_control:': u'\\U0001F6C2',\n",
    "    u':pause_button:': u'\\U000023F8',\n",
    "    u':paw_prints:': u'\\U0001F43E',\n",
    "    u':peace_symbol:': u'\\U0000262E',\n",
    "    u':peach:': u'\\U0001F351',\n",
    "    u':peanuts:': u'\\U0001F95C',\n",
    "    u':pear:': u'\\U0001F350',\n",
    "    u':pen:': u'\\U0001F58A',\n",
    "    u':pencil:': u'\\U0000270F',\n",
    "    u':penguin:': u'\\U0001F427',\n",
    "    u':pensive_face:': u'\\U0001F614',\n",
    "    u':people_with_bunny_ears_partying:': u'\\U0001F46F',\n",
    "    u':people_wrestling:': u'\\U0001F93C',\n",
    "    u':performing_arts:': u'\\U0001F3AD',\n",
    "    u':persevering_face:': u'\\U0001F623',\n",
    "    u':person_biking:': u'\\U0001F6B4',\n",
    "    u':person_biking_dark_skin_tone:': u'\\U0001F6B4 \\U0001F3FF',\n",
    "    u':person_biking_light_skin_tone:': u'\\U0001F6B4 \\U0001F3FB',\n",
    "    u':person_biking_medium-dark_skin_tone:': u'\\U0001F6B4 \\U0001F3FE',\n",
    "    u':person_biking_medium-light_skin_tone:': u'\\U0001F6B4 \\U0001F3FC',\n",
    "    u':person_biking_medium_skin_tone:': u'\\U0001F6B4 \\U0001F3FD',\n",
    "    u':person_bouncing_ball:': u'\\U000026F9',\n",
    "    u':person_bouncing_ball_dark_skin_tone:': u'\\U000026F9 \\U0001F3FF',\n",
    "    u':person_bouncing_ball_light_skin_tone:': u'\\U000026F9 \\U0001F3FB',\n",
    "    u':person_bouncing_ball_medium-dark_skin_tone:': u'\\U000026F9 \\U0001F3FE',\n",
    "    u':person_bouncing_ball_medium-light_skin_tone:': u'\\U000026F9 \\U0001F3FC',\n",
    "    u':person_bouncing_ball_medium_skin_tone:': u'\\U000026F9 \\U0001F3FD',\n",
    "    u':person_bowing:': u'\\U0001F647',\n",
    "    u':person_bowing_dark_skin_tone:': u'\\U0001F647 \\U0001F3FF',\n",
    "    u':person_bowing_light_skin_tone:': u'\\U0001F647 \\U0001F3FB',\n",
    "    u':person_bowing_medium-dark_skin_tone:': u'\\U0001F647 \\U0001F3FE',\n",
    "    u':person_bowing_medium-light_skin_tone:': u'\\U0001F647 \\U0001F3FC',\n",
    "    u':person_bowing_medium_skin_tone:': u'\\U0001F647 \\U0001F3FD',\n",
    "    u':person_cartwheeling:': u'\\U0001F938',\n",
    "    u':person_cartwheeling_dark_skin_tone:': u'\\U0001F938 \\U0001F3FF',\n",
    "    u':person_cartwheeling_light_skin_tone:': u'\\U0001F938 \\U0001F3FB',\n",
    "    u':person_cartwheeling_medium-dark_skin_tone:': u'\\U0001F938 \\U0001F3FE',\n",
    "    u':person_cartwheeling_medium-light_skin_tone:': u'\\U0001F938 \\U0001F3FC',\n",
    "    u':person_cartwheeling_medium_skin_tone:': u'\\U0001F938 \\U0001F3FD',\n",
    "    u':person_facepalming:': u'\\U0001F926',\n",
    "    u':person_facepalming_dark_skin_tone:': u'\\U0001F926 \\U0001F3FF',\n",
    "    u':person_facepalming_light_skin_tone:': u'\\U0001F926 \\U0001F3FB',\n",
    "    u':person_facepalming_medium-dark_skin_tone:': u'\\U0001F926 \\U0001F3FE',\n",
    "    u':person_facepalming_medium-light_skin_tone:': u'\\U0001F926 \\U0001F3FC',\n",
    "    u':person_facepalming_medium_skin_tone:': u'\\U0001F926 \\U0001F3FD',\n",
    "    u':person_fencing:': u'\\U0001F93A',\n",
    "    u':person_frowning:': u'\\U0001F64D',\n",
    "    u':person_frowning_dark_skin_tone:': u'\\U0001F64D \\U0001F3FF',\n",
    "    u':person_frowning_light_skin_tone:': u'\\U0001F64D \\U0001F3FB',\n",
    "    u':person_frowning_medium-dark_skin_tone:': u'\\U0001F64D \\U0001F3FE',\n",
    "    u':person_frowning_medium-light_skin_tone:': u'\\U0001F64D \\U0001F3FC',\n",
    "    u':person_frowning_medium_skin_tone:': u'\\U0001F64D \\U0001F3FD',\n",
    "    u':person_gesturing_NO:': u'\\U0001F645',\n",
    "    u':person_gesturing_NO_dark_skin_tone:': u'\\U0001F645 \\U0001F3FF',\n",
    "    u':person_gesturing_NO_light_skin_tone:': u'\\U0001F645 \\U0001F3FB',\n",
    "    u':person_gesturing_NO_medium-dark_skin_tone:': u'\\U0001F645 \\U0001F3FE',\n",
    "    u':person_gesturing_NO_medium-light_skin_tone:': u'\\U0001F645 \\U0001F3FC',\n",
    "    u':person_gesturing_NO_medium_skin_tone:': u'\\U0001F645 \\U0001F3FD',\n",
    "    u':person_gesturing_OK:': u'\\U0001F646',\n",
    "    u':person_gesturing_OK_dark_skin_tone:': u'\\U0001F646 \\U0001F3FF',\n",
    "    u':person_gesturing_OK_light_skin_tone:': u'\\U0001F646 \\U0001F3FB',\n",
    "    u':person_gesturing_OK_medium-dark_skin_tone:': u'\\U0001F646 \\U0001F3FE',\n",
    "    u':person_gesturing_OK_medium-light_skin_tone:': u'\\U0001F646 \\U0001F3FC',\n",
    "    u':person_gesturing_OK_medium_skin_tone:': u'\\U0001F646 \\U0001F3FD',\n",
    "    u':person_getting_haircut:': u'\\U0001F487',\n",
    "    u':person_getting_haircut_dark_skin_tone:': u'\\U0001F487 \\U0001F3FF',\n",
    "    u':person_getting_haircut_light_skin_tone:': u'\\U0001F487 \\U0001F3FB',\n",
    "    u':person_getting_haircut_medium-dark_skin_tone:': u'\\U0001F487 \\U0001F3FE',\n",
    "    u':person_getting_haircut_medium-light_skin_tone:': u'\\U0001F487 \\U0001F3FC',\n",
    "    u':person_getting_haircut_medium_skin_tone:': u'\\U0001F487 \\U0001F3FD',\n",
    "    u':person_getting_massage:': u'\\U0001F486',\n",
    "    u':person_getting_massage_dark_skin_tone:': u'\\U0001F486 \\U0001F3FF',\n",
    "    u':person_getting_massage_light_skin_tone:': u'\\U0001F486 \\U0001F3FB',\n",
    "    u':person_getting_massage_medium-dark_skin_tone:': u'\\U0001F486 \\U0001F3FE',\n",
    "    u':person_getting_massage_medium-light_skin_tone:': u'\\U0001F486 \\U0001F3FC',\n",
    "    u':person_getting_massage_medium_skin_tone:': u'\\U0001F486 \\U0001F3FD',\n",
    "    u':person_golfing:': u'\\U0001F3CC',\n",
    "    u':person_golfing_dark_skin_tone:': u'\\U0001F3CC \\U0001F3FF',\n",
    "    u':person_golfing_light_skin_tone:': u'\\U0001F3CC \\U0001F3FB',\n",
    "    u':person_golfing_medium-dark_skin_tone:': u'\\U0001F3CC \\U0001F3FE',\n",
    "    u':person_golfing_medium-light_skin_tone:': u'\\U0001F3CC \\U0001F3FC',\n",
    "    u':person_golfing_medium_skin_tone:': u'\\U0001F3CC \\U0001F3FD',\n",
    "    u':person_in_bed:': u'\\U0001F6CC',\n",
    "    u':person_in_bed_dark_skin_tone:': u'\\U0001F6CC \\U0001F3FF',\n",
    "    u':person_in_bed_light_skin_tone:': u'\\U0001F6CC \\U0001F3FB',\n",
    "    u':person_in_bed_medium-dark_skin_tone:': u'\\U0001F6CC \\U0001F3FE',\n",
    "    u':person_in_bed_medium-light_skin_tone:': u'\\U0001F6CC \\U0001F3FC',\n",
    "    u':person_in_bed_medium_skin_tone:': u'\\U0001F6CC \\U0001F3FD',\n",
    "    u':person_juggling:': u'\\U0001F939',\n",
    "    u':person_juggling_dark_skin_tone:': u'\\U0001F939 \\U0001F3FF',\n",
    "    u':person_juggling_light_skin_tone:': u'\\U0001F939 \\U0001F3FB',\n",
    "    u':person_juggling_medium-dark_skin_tone:': u'\\U0001F939 \\U0001F3FE',\n",
    "    u':person_juggling_medium-light_skin_tone:': u'\\U0001F939 \\U0001F3FC',\n",
    "    u':person_juggling_medium_skin_tone:': u'\\U0001F939 \\U0001F3FD',\n",
    "    u':person_lifting_weights:': u'\\U0001F3CB',\n",
    "    u':person_lifting_weights_dark_skin_tone:': u'\\U0001F3CB \\U0001F3FF',\n",
    "    u':person_lifting_weights_light_skin_tone:': u'\\U0001F3CB \\U0001F3FB',\n",
    "    u':person_lifting_weights_medium-dark_skin_tone:': u'\\U0001F3CB \\U0001F3FE',\n",
    "    u':person_lifting_weights_medium-light_skin_tone:': u'\\U0001F3CB \\U0001F3FC',\n",
    "    u':person_lifting_weights_medium_skin_tone:': u'\\U0001F3CB \\U0001F3FD',\n",
    "    u':person_mountain_biking:': u'\\U0001F6B5',\n",
    "    u':person_mountain_biking_dark_skin_tone:': u'\\U0001F6B5 \\U0001F3FF',\n",
    "    u':person_mountain_biking_light_skin_tone:': u'\\U0001F6B5 \\U0001F3FB',\n",
    "    u':person_mountain_biking_medium-dark_skin_tone:': u'\\U0001F6B5 \\U0001F3FE',\n",
    "    u':person_mountain_biking_medium-light_skin_tone:': u'\\U0001F6B5 \\U0001F3FC',\n",
    "    u':person_mountain_biking_medium_skin_tone:': u'\\U0001F6B5 \\U0001F3FD',\n",
    "    u':person_playing_handball:': u'\\U0001F93E',\n",
    "    u':person_playing_handball_dark_skin_tone:': u'\\U0001F93E \\U0001F3FF',\n",
    "    u':person_playing_handball_light_skin_tone:': u'\\U0001F93E \\U0001F3FB',\n",
    "    u':person_playing_handball_medium-dark_skin_tone:': u'\\U0001F93E \\U0001F3FE',\n",
    "    u':person_playing_handball_medium-light_skin_tone:': u'\\U0001F93E \\U0001F3FC',\n",
    "    u':person_playing_handball_medium_skin_tone:': u'\\U0001F93E \\U0001F3FD',\n",
    "    u':person_playing_water_polo:': u'\\U0001F93D',\n",
    "    u':person_playing_water_polo_dark_skin_tone:': u'\\U0001F93D \\U0001F3FF',\n",
    "    u':person_playing_water_polo_light_skin_tone:': u'\\U0001F93D \\U0001F3FB',\n",
    "    u':person_playing_water_polo_medium-dark_skin_tone:': u'\\U0001F93D \\U0001F3FE',\n",
    "    u':person_playing_water_polo_medium-light_skin_tone:': u'\\U0001F93D \\U0001F3FC',\n",
    "    u':person_playing_water_polo_medium_skin_tone:': u'\\U0001F93D \\U0001F3FD',\n",
    "    u':person_pouting:': u'\\U0001F64E',\n",
    "    u':person_pouting_dark_skin_tone:': u'\\U0001F64E \\U0001F3FF',\n",
    "    u':person_pouting_light_skin_tone:': u'\\U0001F64E \\U0001F3FB',\n",
    "    u':person_pouting_medium-dark_skin_tone:': u'\\U0001F64E \\U0001F3FE',\n",
    "    u':person_pouting_medium-light_skin_tone:': u'\\U0001F64E \\U0001F3FC',\n",
    "    u':person_pouting_medium_skin_tone:': u'\\U0001F64E \\U0001F3FD',\n",
    "    u':person_raising_hand:': u'\\U0001F64B',\n",
    "    u':person_raising_hand_dark_skin_tone:': u'\\U0001F64B \\U0001F3FF',\n",
    "    u':person_raising_hand_light_skin_tone:': u'\\U0001F64B \\U0001F3FB',\n",
    "    u':person_raising_hand_medium-dark_skin_tone:': u'\\U0001F64B \\U0001F3FE',\n",
    "    u':person_raising_hand_medium-light_skin_tone:': u'\\U0001F64B \\U0001F3FC',\n",
    "    u':person_raising_hand_medium_skin_tone:': u'\\U0001F64B \\U0001F3FD',\n",
    "    u':person_rowing_boat:': u'\\U0001F6A3',\n",
    "    u':person_rowing_boat_dark_skin_tone:': u'\\U0001F6A3 \\U0001F3FF',\n",
    "    u':person_rowing_boat_light_skin_tone:': u'\\U0001F6A3 \\U0001F3FB',\n",
    "    u':person_rowing_boat_medium-dark_skin_tone:': u'\\U0001F6A3 \\U0001F3FE',\n",
    "    u':person_rowing_boat_medium-light_skin_tone:': u'\\U0001F6A3 \\U0001F3FC',\n",
    "    u':person_rowing_boat_medium_skin_tone:': u'\\U0001F6A3 \\U0001F3FD',\n",
    "    u':person_running:': u'\\U0001F3C3',\n",
    "    u':person_running_dark_skin_tone:': u'\\U0001F3C3 \\U0001F3FF',\n",
    "    u':person_running_light_skin_tone:': u'\\U0001F3C3 \\U0001F3FB',\n",
    "    u':person_running_medium-dark_skin_tone:': u'\\U0001F3C3 \\U0001F3FE',\n",
    "    u':person_running_medium-light_skin_tone:': u'\\U0001F3C3 \\U0001F3FC',\n",
    "    u':person_running_medium_skin_tone:': u'\\U0001F3C3 \\U0001F3FD',\n",
    "    u':person_shrugging:': u'\\U0001F937',\n",
    "    u':person_shrugging_dark_skin_tone:': u'\\U0001F937 \\U0001F3FF',\n",
    "    u':person_shrugging_light_skin_tone:': u'\\U0001F937 \\U0001F3FB',\n",
    "    u':person_shrugging_medium-dark_skin_tone:': u'\\U0001F937 \\U0001F3FE',\n",
    "    u':person_shrugging_medium-light_skin_tone:': u'\\U0001F937 \\U0001F3FC',\n",
    "    u':person_shrugging_medium_skin_tone:': u'\\U0001F937 \\U0001F3FD',\n",
    "    u':person_surfing:': u'\\U0001F3C4',\n",
    "    u':person_surfing_dark_skin_tone:': u'\\U0001F3C4 \\U0001F3FF',\n",
    "    u':person_surfing_light_skin_tone:': u'\\U0001F3C4 \\U0001F3FB',\n",
    "    u':person_surfing_medium-dark_skin_tone:': u'\\U0001F3C4 \\U0001F3FE',\n",
    "    u':person_surfing_medium-light_skin_tone:': u'\\U0001F3C4 \\U0001F3FC',\n",
    "    u':person_surfing_medium_skin_tone:': u'\\U0001F3C4 \\U0001F3FD',\n",
    "    u':person_swimming:': u'\\U0001F3CA',\n",
    "    u':person_swimming_dark_skin_tone:': u'\\U0001F3CA \\U0001F3FF',\n",
    "    u':person_swimming_light_skin_tone:': u'\\U0001F3CA \\U0001F3FB',\n",
    "    u':person_swimming_medium-dark_skin_tone:': u'\\U0001F3CA \\U0001F3FE',\n",
    "    u':person_swimming_medium-light_skin_tone:': u'\\U0001F3CA \\U0001F3FC',\n",
    "    u':person_swimming_medium_skin_tone:': u'\\U0001F3CA \\U0001F3FD',\n",
    "    u':person_taking_bath:': u'\\U0001F6C0',\n",
    "    u':person_taking_bath_dark_skin_tone:': u'\\U0001F6C0 \\U0001F3FF',\n",
    "    u':person_taking_bath_light_skin_tone:': u'\\U0001F6C0 \\U0001F3FB',\n",
    "    u':person_taking_bath_medium-dark_skin_tone:': u'\\U0001F6C0 \\U0001F3FE',\n",
    "    u':person_taking_bath_medium-light_skin_tone:': u'\\U0001F6C0 \\U0001F3FC',\n",
    "    u':person_taking_bath_medium_skin_tone:': u'\\U0001F6C0 \\U0001F3FD',\n",
    "    u':person_tipping_hand:': u'\\U0001F481',\n",
    "    u':person_tipping_hand_dark_skin_tone:': u'\\U0001F481 \\U0001F3FF',\n",
    "    u':person_tipping_hand_light_skin_tone:': u'\\U0001F481 \\U0001F3FB',\n",
    "    u':person_tipping_hand_medium-dark_skin_tone:': u'\\U0001F481 \\U0001F3FE',\n",
    "    u':person_tipping_hand_medium-light_skin_tone:': u'\\U0001F481 \\U0001F3FC',\n",
    "    u':person_tipping_hand_medium_skin_tone:': u'\\U0001F481 \\U0001F3FD',\n",
    "    u':person_walking:': u'\\U0001F6B6',\n",
    "    u':person_walking_dark_skin_tone:': u'\\U0001F6B6 \\U0001F3FF',\n",
    "    u':person_walking_light_skin_tone:': u'\\U0001F6B6 \\U0001F3FB',\n",
    "    u':person_walking_medium-dark_skin_tone:': u'\\U0001F6B6 \\U0001F3FE',\n",
    "    u':person_walking_medium-light_skin_tone:': u'\\U0001F6B6 \\U0001F3FC',\n",
    "    u':person_walking_medium_skin_tone:': u'\\U0001F6B6 \\U0001F3FD',\n",
    "    u':person_wearing_turban:': u'\\U0001F473',\n",
    "    u':person_wearing_turban_dark_skin_tone:': u'\\U0001F473 \\U0001F3FF',\n",
    "    u':person_wearing_turban_light_skin_tone:': u'\\U0001F473 \\U0001F3FB',\n",
    "    u':person_wearing_turban_medium-dark_skin_tone:': u'\\U0001F473 \\U0001F3FE',\n",
    "    u':person_wearing_turban_medium-light_skin_tone:': u'\\U0001F473 \\U0001F3FC',\n",
    "    u':person_wearing_turban_medium_skin_tone:': u'\\U0001F473 \\U0001F3FD',\n",
    "    u':pick:': u'\\U000026CF',\n",
    "    u':pig:': u'\\U0001F416',\n",
    "    u':pig_face:': u'\\U0001F437',\n",
    "    u':pig_nose:': u'\\U0001F43D',\n",
    "    u':pile_of_poo:': u'\\U0001F4A9',\n",
    "    u':pill:': u'\\U0001F48A',\n",
    "    u':pine_decoration:': u'\\U0001F38D',\n",
    "    u':pineapple:': u'\\U0001F34D',\n",
    "    u':ping_pong:': u'\\U0001F3D3',\n",
    "    u':pistol:': u'\\U0001F52B',\n",
    "    u':pizza:': u'\\U0001F355',\n",
    "    u':place_of_worship:': u'\\U0001F6D0',\n",
    "    u':play_button:': u'\\U000025B6',\n",
    "    u':play_or_pause_button:': u'\\U000023EF',\n",
    "    u':police_car:': u'\\U0001F693',\n",
    "    u':police_car_light:': u'\\U0001F6A8',\n",
    "    u':police_officer:': u'\\U0001F46E',\n",
    "    u':police_officer_dark_skin_tone:': u'\\U0001F46E \\U0001F3FF',\n",
    "    u':police_officer_light_skin_tone:': u'\\U0001F46E \\U0001F3FB',\n",
    "    u':police_officer_medium-dark_skin_tone:': u'\\U0001F46E \\U0001F3FE',\n",
    "    u':police_officer_medium-light_skin_tone:': u'\\U0001F46E \\U0001F3FC',\n",
    "    u':police_officer_medium_skin_tone:': u'\\U0001F46E \\U0001F3FD',\n",
    "    u':poodle:': u'\\U0001F429',\n",
    "    u':pool_8_ball:': u'\\U0001F3B1',\n",
    "    u':popcorn:': u'\\U0001F37F',\n",
    "    u':post_office:': u'\\U0001F3E4',\n",
    "    u':postal_horn:': u'\\U0001F4EF',\n",
    "    u':postbox:': u'\\U0001F4EE',\n",
    "    u':pot_of_food:': u'\\U0001F372',\n",
    "    u':potable_water:': u'\\U0001F6B0',\n",
    "    u':potato:': u'\\U0001F954',\n",
    "    u':poultry_leg:': u'\\U0001F357',\n",
    "    u':pound_banknote:': u'\\U0001F4B7',\n",
    "    u':pouting_cat_face:': u'\\U0001F63E',\n",
    "    u':pouting_face:': u'\\U0001F621',\n",
    "    u':prayer_beads:': u'\\U0001F4FF',\n",
    "    u':pregnant_woman:': u'\\U0001F930',\n",
    "    u':pregnant_woman_dark_skin_tone:': u'\\U0001F930 \\U0001F3FF',\n",
    "    u':pregnant_woman_light_skin_tone:': u'\\U0001F930 \\U0001F3FB',\n",
    "    u':pregnant_woman_medium-dark_skin_tone:': u'\\U0001F930 \\U0001F3FE',\n",
    "    u':pregnant_woman_medium-light_skin_tone:': u'\\U0001F930 \\U0001F3FC',\n",
    "    u':pregnant_woman_medium_skin_tone:': u'\\U0001F930 \\U0001F3FD',\n",
    "    u':prince:': u'\\U0001F934',\n",
    "    u':prince_dark_skin_tone:': u'\\U0001F934 \\U0001F3FF',\n",
    "    u':prince_light_skin_tone:': u'\\U0001F934 \\U0001F3FB',\n",
    "    u':prince_medium-dark_skin_tone:': u'\\U0001F934 \\U0001F3FE',\n",
    "    u':prince_medium-light_skin_tone:': u'\\U0001F934 \\U0001F3FC',\n",
    "    u':prince_medium_skin_tone:': u'\\U0001F934 \\U0001F3FD',\n",
    "    u':princess:': u'\\U0001F478',\n",
    "    u':princess_dark_skin_tone:': u'\\U0001F478 \\U0001F3FF',\n",
    "    u':princess_light_skin_tone:': u'\\U0001F478 \\U0001F3FB',\n",
    "    u':princess_medium-dark_skin_tone:': u'\\U0001F478 \\U0001F3FE',\n",
    "    u':princess_medium-light_skin_tone:': u'\\U0001F478 \\U0001F3FC',\n",
    "    u':princess_medium_skin_tone:': u'\\U0001F478 \\U0001F3FD',\n",
    "    u':printer:': u'\\U0001F5A8',\n",
    "    u':prohibited:': u'\\U0001F6AB',\n",
    "    u':purple_heart:': u'\\U0001F49C',\n",
    "    u':purse:': u'\\U0001F45B',\n",
    "    u':pushpin:': u'\\U0001F4CC',\n",
    "    u':question_mark:': u'\\U00002753',\n",
    "    u':rabbit:': u'\\U0001F407',\n",
    "    u':rabbit_face:': u'\\U0001F430',\n",
    "    u':racing_car:': u'\\U0001F3CE',\n",
    "    u':radio:': u'\\U0001F4FB',\n",
    "    u':radio_button:': u'\\U0001F518',\n",
    "    u':radioactive:': u'\\U00002622',\n",
    "    u':railway_car:': u'\\U0001F683',\n",
    "    u':railway_track:': u'\\U0001F6E4',\n",
    "    u':rainbow:': u'\\U0001F308',\n",
    "    u':rainbow_flag:': u'\\U0001F3F3 \\U0000FE0F \\U0000200D \\U0001F308',\n",
    "    u':raised_back_of_hand:': u'\\U0001F91A',\n",
    "    u':raised_back_of_hand_dark_skin_tone:': u'\\U0001F91A \\U0001F3FF',\n",
    "    u':raised_back_of_hand_light_skin_tone:': u'\\U0001F91A \\U0001F3FB',\n",
    "    u':raised_back_of_hand_medium-dark_skin_tone:': u'\\U0001F91A \\U0001F3FE',\n",
    "    u':raised_back_of_hand_medium-light_skin_tone:': u'\\U0001F91A \\U0001F3FC',\n",
    "    u':raised_back_of_hand_medium_skin_tone:': u'\\U0001F91A \\U0001F3FD',\n",
    "    u':raised_fist:': u'\\U0000270A',\n",
    "    u':raised_fist_dark_skin_tone:': u'\\U0000270A \\U0001F3FF',\n",
    "    u':raised_fist_light_skin_tone:': u'\\U0000270A \\U0001F3FB',\n",
    "    u':raised_fist_medium-dark_skin_tone:': u'\\U0000270A \\U0001F3FE',\n",
    "    u':raised_fist_medium-light_skin_tone:': u'\\U0000270A \\U0001F3FC',\n",
    "    u':raised_fist_medium_skin_tone:': u'\\U0000270A \\U0001F3FD',\n",
    "    u':raised_hand:': u'\\U0000270B',\n",
    "    u':raised_hand_dark_skin_tone:': u'\\U0000270B \\U0001F3FF',\n",
    "    u':raised_hand_light_skin_tone:': u'\\U0000270B \\U0001F3FB',\n",
    "    u':raised_hand_medium-dark_skin_tone:': u'\\U0000270B \\U0001F3FE',\n",
    "    u':raised_hand_medium-light_skin_tone:': u'\\U0000270B \\U0001F3FC',\n",
    "    u':raised_hand_medium_skin_tone:': u'\\U0000270B \\U0001F3FD',\n",
    "    u':raised_hand_with_fingers_splayed:': u'\\U0001F590',\n",
    "    u':raised_hand_with_fingers_splayed_dark_skin_tone:': u'\\U0001F590 \\U0001F3FF',\n",
    "    u':raised_hand_with_fingers_splayed_light_skin_tone:': u'\\U0001F590 \\U0001F3FB',\n",
    "    u':raised_hand_with_fingers_splayed_medium-dark_skin_tone:': u'\\U0001F590 \\U0001F3FE',\n",
    "    u':raised_hand_with_fingers_splayed_medium-light_skin_tone:': u'\\U0001F590 \\U0001F3FC',\n",
    "    u':raised_hand_with_fingers_splayed_medium_skin_tone:': u'\\U0001F590 \\U0001F3FD',\n",
    "    u':raising_hands:': u'\\U0001F64C',\n",
    "    u':raising_hands_dark_skin_tone:': u'\\U0001F64C \\U0001F3FF',\n",
    "    u':raising_hands_light_skin_tone:': u'\\U0001F64C \\U0001F3FB',\n",
    "    u':raising_hands_medium-dark_skin_tone:': u'\\U0001F64C \\U0001F3FE',\n",
    "    u':raising_hands_medium-light_skin_tone:': u'\\U0001F64C \\U0001F3FC',\n",
    "    u':raising_hands_medium_skin_tone:': u'\\U0001F64C \\U0001F3FD',\n",
    "    u':ram:': u'\\U0001F40F',\n",
    "    u':rat:': u'\\U0001F400',\n",
    "    u':record_button:': u'\\U000023FA',\n",
    "    u':recycling_symbol:': u'\\U0000267B',\n",
    "    u':red_apple:': u'\\U0001F34E',\n",
    "    u':red_circle:': u'\\U0001F534',\n",
    "    u':red_heart:': u'\\U00002764',\n",
    "    u':red_paper_lantern:': u'\\U0001F3EE',\n",
    "    u':red_triangle_pointed_down:': u'\\U0001F53B',\n",
    "    u':red_triangle_pointed_up:': u'\\U0001F53A',\n",
    "    u':registered:': u'\\U000000AE',\n",
    "    u':relieved_face:': u'\\U0001F60C',\n",
    "    u':reminder_ribbon:': u'\\U0001F397',\n",
    "    u':repeat_button:': u'\\U0001F501',\n",
    "    u':repeat_single_button:': u'\\U0001F502',\n",
    "    u':rescue_worker’s_helmet:': u'\\U000026D1',\n",
    "    u':restroom:': u'\\U0001F6BB',\n",
    "    u':reverse_button:': u'\\U000025C0',\n",
    "    u':revolving_hearts:': u'\\U0001F49E',\n",
    "    u':rhinoceros:': u'\\U0001F98F',\n",
    "    u':ribbon:': u'\\U0001F380',\n",
    "    u':rice_ball:': u'\\U0001F359',\n",
    "    u':rice_cracker:': u'\\U0001F358',\n",
    "    u':right-facing_fist:': u'\\U0001F91C',\n",
    "    u':right-facing_fist_dark_skin_tone:': u'\\U0001F91C \\U0001F3FF',\n",
    "    u':right-facing_fist_light_skin_tone:': u'\\U0001F91C \\U0001F3FB',\n",
    "    u':right-facing_fist_medium-dark_skin_tone:': u'\\U0001F91C \\U0001F3FE',\n",
    "    u':right-facing_fist_medium-light_skin_tone:': u'\\U0001F91C \\U0001F3FC',\n",
    "    u':right-facing_fist_medium_skin_tone:': u'\\U0001F91C \\U0001F3FD',\n",
    "    u':right-pointing_magnifying_glass:': u'\\U0001F50E',\n",
    "    u':right_anger_bubble:': u'\\U0001F5EF',\n",
    "    u':right_arrow:': u'\\U000027A1',\n",
    "    u':right_arrow_curving_down:': u'\\U00002935',\n",
    "    u':right_arrow_curving_left:': u'\\U000021A9',\n",
    "    u':right_arrow_curving_up:': u'\\U00002934',\n",
    "    u':ring:': u'\\U0001F48D',\n",
    "    u':roasted_sweet_potato:': u'\\U0001F360',\n",
    "    u':robot_face:': u'\\U0001F916',\n",
    "    u':rocket:': u'\\U0001F680',\n",
    "    u':rolled-up_newspaper:': u'\\U0001F5DE',\n",
    "    u':roller_coaster:': u'\\U0001F3A2',\n",
    "    u':rolling_on_the_floor_laughing:': u'\\U0001F923',\n",
    "    u':rooster:': u'\\U0001F413',\n",
    "    u':rose:': u'\\U0001F339',\n",
    "    u':rosette:': u'\\U0001F3F5',\n",
    "    u':round_pushpin:': u'\\U0001F4CD',\n",
    "    u':rugby_football:': u'\\U0001F3C9',\n",
    "    u':running_shirt:': u'\\U0001F3BD',\n",
    "    u':running_shoe:': u'\\U0001F45F',\n",
    "    u':sailboat:': u'\\U000026F5',\n",
    "    u':sake:': u'\\U0001F376',\n",
    "    u':satellite:': u'\\U0001F6F0',\n",
    "    u':satellite_antenna:': u'\\U0001F4E1',\n",
    "    u':saxophone:': u'\\U0001F3B7',\n",
    "    u':school:': u'\\U0001F3EB',\n",
    "    u':school_backpack:': u'\\U0001F392',\n",
    "    u':scissors:': u'\\U00002702',\n",
    "    u':scorpion:': u'\\U0001F982',\n",
    "    u':scroll:': u'\\U0001F4DC',\n",
    "    u':seat:': u'\\U0001F4BA',\n",
    "    u':see-no-evil_monkey:': u'\\U0001F648',\n",
    "    u':seedling:': u'\\U0001F331',\n",
    "    u':selfie:': u'\\U0001F933',\n",
    "    u':selfie_dark_skin_tone:': u'\\U0001F933 \\U0001F3FF',\n",
    "    u':selfie_light_skin_tone:': u'\\U0001F933 \\U0001F3FB',\n",
    "    u':selfie_medium-dark_skin_tone:': u'\\U0001F933 \\U0001F3FE',\n",
    "    u':selfie_medium-light_skin_tone:': u'\\U0001F933 \\U0001F3FC',\n",
    "    u':selfie_medium_skin_tone:': u'\\U0001F933 \\U0001F3FD',\n",
    "    u':seven-thirty:': u'\\U0001F562',\n",
    "    u':seven_o’clock:': u'\\U0001F556',\n",
    "    u':shallow_pan_of_food:': u'\\U0001F958',\n",
    "    u':shamrock:': u'\\U00002618',\n",
    "    u':shark:': u'\\U0001F988',\n",
    "    u':shaved_ice:': u'\\U0001F367',\n",
    "    u':sheaf_of_rice:': u'\\U0001F33E',\n",
    "    u':sheep:': u'\\U0001F411',\n",
    "    u':shield:': u'\\U0001F6E1',\n",
    "    u':shinto_shrine:': u'\\U000026E9',\n",
    "    u':ship:': u'\\U0001F6A2',\n",
    "    u':shooting_star:': u'\\U0001F320',\n",
    "    u':shopping_bags:': u'\\U0001F6CD',\n",
    "    u':shopping_cart:': u'\\U0001F6D2',\n",
    "    u':shortcake:': u'\\U0001F370',\n",
    "    u':shower:': u'\\U0001F6BF',\n",
    "    u':shrimp:': u'\\U0001F990',\n",
    "    u':shuffle_tracks_button:': u'\\U0001F500',\n",
    "    u':sign_of_the_horns:': u'\\U0001F918',\n",
    "    u':sign_of_the_horns_dark_skin_tone:': u'\\U0001F918 \\U0001F3FF',\n",
    "    u':sign_of_the_horns_light_skin_tone:': u'\\U0001F918 \\U0001F3FB',\n",
    "    u':sign_of_the_horns_medium-dark_skin_tone:': u'\\U0001F918 \\U0001F3FE',\n",
    "    u':sign_of_the_horns_medium-light_skin_tone:': u'\\U0001F918 \\U0001F3FC',\n",
    "    u':sign_of_the_horns_medium_skin_tone:': u'\\U0001F918 \\U0001F3FD',\n",
    "    u':six-thirty:': u'\\U0001F561',\n",
    "    u':six_o’clock:': u'\\U0001F555',\n",
    "    u':skier:': u'\\U000026F7',\n",
    "    u':skis:': u'\\U0001F3BF',\n",
    "    u':skull:': u'\\U0001F480',\n",
    "    u':skull_and_crossbones:': u'\\U00002620',\n",
    "    u':sleeping_face:': u'\\U0001F634',\n",
    "    u':sleepy_face:': u'\\U0001F62A',\n",
    "    u':slightly_frowning_face:': u'\\U0001F641',\n",
    "    u':slightly_smiling_face:': u'\\U0001F642',\n",
    "    u':slot_machine:': u'\\U0001F3B0',\n",
    "    u':small_airplane:': u'\\U0001F6E9',\n",
    "    u':small_blue_diamond:': u'\\U0001F539',\n",
    "    u':small_orange_diamond:': u'\\U0001F538',\n",
    "    u':smiling_cat_face_with_heart-eyes:': u'\\U0001F63B',\n",
    "    u':smiling_cat_face_with_open_mouth:': u'\\U0001F63A',\n",
    "    u':smiling_face:': u'\\U0000263A',\n",
    "    u':smiling_face_with_halo:': u'\\U0001F607',\n",
    "    u':smiling_face_with_heart-eyes:': u'\\U0001F60D',\n",
    "    u':smiling_face_with_horns:': u'\\U0001F608',\n",
    "    u':smiling_face_with_open_mouth:': u'\\U0001F603',\n",
    "    u':smiling_face_with_open_mouth_&_closed_eyes:': u'\\U0001F606',\n",
    "    u':smiling_face_with_open_mouth_&_cold_sweat:': u'\\U0001F605',\n",
    "    u':smiling_face_with_open_mouth_&_smiling_eyes:': u'\\U0001F604',\n",
    "    u':smiling_face_with_smiling_eyes:': u'\\U0001F60A',\n",
    "    u':smiling_face_with_sunglasses:': u'\\U0001F60E',\n",
    "    u':smirking_face:': u'\\U0001F60F',\n",
    "    u':snail:': u'\\U0001F40C',\n",
    "    u':snake:': u'\\U0001F40D',\n",
    "    u':sneezing_face:': u'\\U0001F927',\n",
    "    u':snow-capped_mountain:': u'\\U0001F3D4',\n",
    "    u':snowboarder:': u'\\U0001F3C2',\n",
    "    u':snowboarder_dark_skin_tone:': u'\\U0001F3C2 \\U0001F3FF',\n",
    "    u':snowboarder_light_skin_tone:': u'\\U0001F3C2 \\U0001F3FB',\n",
    "    u':snowboarder_medium-dark_skin_tone:': u'\\U0001F3C2 \\U0001F3FE',\n",
    "    u':snowboarder_medium-light_skin_tone:': u'\\U0001F3C2 \\U0001F3FC',\n",
    "    u':snowboarder_medium_skin_tone:': u'\\U0001F3C2 \\U0001F3FD',\n",
    "    u':snowflake:': u'\\U00002744',\n",
    "    u':snowman:': u'\\U00002603',\n",
    "    u':snowman_without_snow:': u'\\U000026C4',\n",
    "    u':soccer_ball:': u'\\U000026BD',\n",
    "    u':soft_ice_cream:': u'\\U0001F366',\n",
    "    u':spade_suit:': u'\\U00002660',\n",
    "    u':spaghetti:': u'\\U0001F35D',\n",
    "    u':sparkle:': u'\\U00002747',\n",
    "    u':sparkler:': u'\\U0001F387',\n",
    "    u':sparkles:': u'\\U00002728',\n",
    "    u':sparkling_heart:': u'\\U0001F496',\n",
    "    u':speak-no-evil_monkey:': u'\\U0001F64A',\n",
    "    u':speaker_high_volume:': u'\\U0001F50A',\n",
    "    u':speaker_low_volume:': u'\\U0001F508',\n",
    "    u':speaker_medium_volume:': u'\\U0001F509',\n",
    "    u':speaking_head:': u'\\U0001F5E3',\n",
    "    u':speech_balloon:': u'\\U0001F4AC',\n",
    "    u':speedboat:': u'\\U0001F6A4',\n",
    "    u':spider:': u'\\U0001F577',\n",
    "    u':spider_web:': u'\\U0001F578',\n",
    "    u':spiral_calendar:': u'\\U0001F5D3',\n",
    "    u':spiral_notepad:': u'\\U0001F5D2',\n",
    "    u':spiral_shell:': u'\\U0001F41A',\n",
    "    u':spoon:': u'\\U0001F944',\n",
    "    u':sport_utility_vehicle:': u'\\U0001F699',\n",
    "    u':sports_medal:': u'\\U0001F3C5',\n",
    "    u':spouting_whale:': u'\\U0001F433',\n",
    "    u':squid:': u'\\U0001F991',\n",
    "    u':stadium:': u'\\U0001F3DF',\n",
    "    u':star_and_crescent:': u'\\U0000262A',\n",
    "    u':star_of_David:': u'\\U00002721',\n",
    "    u':station:': u'\\U0001F689',\n",
    "    u':steaming_bowl:': u'\\U0001F35C',\n",
    "    u':stop_button:': u'\\U000023F9',\n",
    "    u':stop_sign:': u'\\U0001F6D1',\n",
    "    u':stopwatch:': u'\\U000023F1',\n",
    "    u':straight_ruler:': u'\\U0001F4CF',\n",
    "    u':strawberry:': u'\\U0001F353',\n",
    "    u':studio_microphone:': u'\\U0001F399',\n",
    "    u':stuffed_flatbread:': u'\\U0001F959',\n",
    "    u':sun:': u'\\U00002600',\n",
    "    u':sun_behind_cloud:': u'\\U000026C5',\n",
    "    u':sun_behind_large_cloud:': u'\\U0001F325',\n",
    "    u':sun_behind_rain_cloud:': u'\\U0001F326',\n",
    "    u':sun_behind_small_cloud:': u'\\U0001F324',\n",
    "    u':sun_with_face:': u'\\U0001F31E',\n",
    "    u':sunflower:': u'\\U0001F33B',\n",
    "    u':sunglasses:': u'\\U0001F576',\n",
    "    u':sunrise:': u'\\U0001F305',\n",
    "    u':sunrise_over_mountains:': u'\\U0001F304',\n",
    "    u':sunset:': u'\\U0001F307',\n",
    "    u':sushi:': u'\\U0001F363',\n",
    "    u':suspension_railway:': u'\\U0001F69F',\n",
    "    u':sweat_droplets:': u'\\U0001F4A6',\n",
    "    u':synagogue:': u'\\U0001F54D',\n",
    "    u':syringe:': u'\\U0001F489',\n",
    "    u':t-shirt:': u'\\U0001F455',\n",
    "    u':taco:': u'\\U0001F32E',\n",
    "    u':tanabata_tree:': u'\\U0001F38B',\n",
    "    u':tangerine:': u'\\U0001F34A',\n",
    "    u':taxi:': u'\\U0001F695',\n",
    "    u':teacup_without_handle:': u'\\U0001F375',\n",
    "    u':tear-off_calendar:': u'\\U0001F4C6',\n",
    "    u':telephone:': u'\\U0000260E',\n",
    "    u':telephone_receiver:': u'\\U0001F4DE',\n",
    "    u':telescope:': u'\\U0001F52D',\n",
    "    u':television:': u'\\U0001F4FA',\n",
    "    u':ten-thirty:': u'\\U0001F565',\n",
    "    u':ten_o’clock:': u'\\U0001F559',\n",
    "    u':tennis:': u'\\U0001F3BE',\n",
    "    u':tent:': u'\\U000026FA',\n",
    "    u':thermometer:': u'\\U0001F321',\n",
    "    u':thinking_face:': u'\\U0001F914',\n",
    "    u':thought_balloon:': u'\\U0001F4AD',\n",
    "    u':three-thirty:': u'\\U0001F55E',\n",
    "    u':three_o’clock:': u'\\U0001F552',\n",
    "    u':thumbs_down:': u'\\U0001F44E',\n",
    "    u':thumbs_down_dark_skin_tone:': u'\\U0001F44E \\U0001F3FF',\n",
    "    u':thumbs_down_light_skin_tone:': u'\\U0001F44E \\U0001F3FB',\n",
    "    u':thumbs_down_medium-dark_skin_tone:': u'\\U0001F44E \\U0001F3FE',\n",
    "    u':thumbs_down_medium-light_skin_tone:': u'\\U0001F44E \\U0001F3FC',\n",
    "    u':thumbs_down_medium_skin_tone:': u'\\U0001F44E \\U0001F3FD',\n",
    "    u':thumbs_up:': u'\\U0001F44D',\n",
    "    u':thumbs_up_dark_skin_tone:': u'\\U0001F44D \\U0001F3FF',\n",
    "    u':thumbs_up_light_skin_tone:': u'\\U0001F44D \\U0001F3FB',\n",
    "    u':thumbs_up_medium-dark_skin_tone:': u'\\U0001F44D \\U0001F3FE',\n",
    "    u':thumbs_up_medium-light_skin_tone:': u'\\U0001F44D \\U0001F3FC',\n",
    "    u':thumbs_up_medium_skin_tone:': u'\\U0001F44D \\U0001F3FD',\n",
    "    u':ticket:': u'\\U0001F3AB',\n",
    "    u':tiger:': u'\\U0001F405',\n",
    "    u':tiger_face:': u'\\U0001F42F',\n",
    "    u':timer_clock:': u'\\U000023F2',\n",
    "    u':tired_face:': u'\\U0001F62B',\n",
    "    u':toilet:': u'\\U0001F6BD',\n",
    "    u':tomato:': u'\\U0001F345',\n",
    "    u':tongue:': u'\\U0001F445',\n",
    "    u':top_hat:': u'\\U0001F3A9',\n",
    "    u':tornado:': u'\\U0001F32A',\n",
    "    u':trackball:': u'\\U0001F5B2',\n",
    "    u':tractor:': u'\\U0001F69C',\n",
    "    u':trade_mark:': u'\\U00002122',\n",
    "    u':train:': u'\\U0001F686',\n",
    "    u':tram:': u'\\U0001F68A',\n",
    "    u':tram_car:': u'\\U0001F68B',\n",
    "    u':triangular_flag:': u'\\U0001F6A9',\n",
    "    u':triangular_ruler:': u'\\U0001F4D0',\n",
    "    u':trident_emblem:': u'\\U0001F531',\n",
    "    u':trolleybus:': u'\\U0001F68E',\n",
    "    u':trophy:': u'\\U0001F3C6',\n",
    "    u':tropical_drink:': u'\\U0001F379',\n",
    "    u':tropical_fish:': u'\\U0001F420',\n",
    "    u':trumpet:': u'\\U0001F3BA',\n",
    "    u':tulip:': u'\\U0001F337',\n",
    "    u':tumbler_glass:': u'\\U0001F943',\n",
    "    u':turkey:': u'\\U0001F983',\n",
    "    u':turtle:': u'\\U0001F422',\n",
    "    u':twelve-thirty:': u'\\U0001F567',\n",
    "    u':twelve_o’clock:': u'\\U0001F55B',\n",
    "    u':two-hump_camel:': u'\\U0001F42B',\n",
    "    u':two-thirty:': u'\\U0001F55D',\n",
    "    u':two_hearts:': u'\\U0001F495',\n",
    "    u':two_men_holding_hands:': u'\\U0001F46C',\n",
    "    u':two_o’clock:': u'\\U0001F551',\n",
    "    u':two_women_holding_hands:': u'\\U0001F46D',\n",
    "    u':umbrella:': u'\\U00002602',\n",
    "    u':umbrella_on_ground:': u'\\U000026F1',\n",
    "    u':umbrella_with_rain_drops:': u'\\U00002614',\n",
    "    u':unamused_face:': u'\\U0001F612',\n",
    "    u':unicorn_face:': u'\\U0001F984',\n",
    "    u':unlocked:': u'\\U0001F513',\n",
    "    u':up-down_arrow:': u'\\U00002195',\n",
    "    u':up-left_arrow:': u'\\U00002196',\n",
    "    u':up-right_arrow:': u'\\U00002197',\n",
    "    u':up_arrow:': u'\\U00002B06',\n",
    "    u':up_button:': u'\\U0001F53C',\n",
    "    u':upside-down_face:': u'\\U0001F643',\n",
    "    u':vertical_traffic_light:': u'\\U0001F6A6',\n",
    "    u':vibration_mode:': u'\\U0001F4F3',\n",
    "    u':victory_hand:': u'\\U0000270C',\n",
    "    u':victory_hand_dark_skin_tone:': u'\\U0000270C \\U0001F3FF',\n",
    "    u':victory_hand_light_skin_tone:': u'\\U0000270C \\U0001F3FB',\n",
    "    u':victory_hand_medium-dark_skin_tone:': u'\\U0000270C \\U0001F3FE',\n",
    "    u':victory_hand_medium-light_skin_tone:': u'\\U0000270C \\U0001F3FC',\n",
    "    u':victory_hand_medium_skin_tone:': u'\\U0000270C \\U0001F3FD',\n",
    "    u':video_camera:': u'\\U0001F4F9',\n",
    "    u':video_game:': u'\\U0001F3AE',\n",
    "    u':videocassette:': u'\\U0001F4FC',\n",
    "    u':violin:': u'\\U0001F3BB',\n",
    "    u':volcano:': u'\\U0001F30B',\n",
    "    u':volleyball:': u'\\U0001F3D0',\n",
    "    u':vulcan_salute:': u'\\U0001F596',\n",
    "    u':vulcan_salute_dark_skin_tone:': u'\\U0001F596 \\U0001F3FF',\n",
    "    u':vulcan_salute_light_skin_tone:': u'\\U0001F596 \\U0001F3FB',\n",
    "    u':vulcan_salute_medium-dark_skin_tone:': u'\\U0001F596 \\U0001F3FE',\n",
    "    u':vulcan_salute_medium-light_skin_tone:': u'\\U0001F596 \\U0001F3FC',\n",
    "    u':vulcan_salute_medium_skin_tone:': u'\\U0001F596 \\U0001F3FD',\n",
    "    u':waning_crescent_moon:': u'\\U0001F318',\n",
    "    u':waning_gibbous_moon:': u'\\U0001F316',\n",
    "    u':warning:': u'\\U000026A0',\n",
    "    u':wastebasket:': u'\\U0001F5D1',\n",
    "    u':watch:': u'\\U0000231A',\n",
    "    u':water_buffalo:': u'\\U0001F403',\n",
    "    u':water_closet:': u'\\U0001F6BE',\n",
    "    u':water_wave:': u'\\U0001F30A',\n",
    "    u':watermelon:': u'\\U0001F349',\n",
    "    u':waving_hand:': u'\\U0001F44B',\n",
    "    u':waving_hand_dark_skin_tone:': u'\\U0001F44B \\U0001F3FF',\n",
    "    u':waving_hand_light_skin_tone:': u'\\U0001F44B \\U0001F3FB',\n",
    "    u':waving_hand_medium-dark_skin_tone:': u'\\U0001F44B \\U0001F3FE',\n",
    "    u':waving_hand_medium-light_skin_tone:': u'\\U0001F44B \\U0001F3FC',\n",
    "    u':waving_hand_medium_skin_tone:': u'\\U0001F44B \\U0001F3FD',\n",
    "    u':wavy_dash:': u'\\U00003030',\n",
    "    u':waxing_crescent_moon:': u'\\U0001F312',\n",
    "    u':waxing_gibbous_moon:': u'\\U0001F314',\n",
    "    u':weary_cat_face:': u'\\U0001F640',\n",
    "    u':weary_face:': u'\\U0001F629',\n",
    "    u':wedding:': u'\\U0001F492',\n",
    "    u':whale:': u'\\U0001F40B',\n",
    "    u':wheel_of_dharma:': u'\\U00002638',\n",
    "    u':wheelchair_symbol:': u'\\U0000267F',\n",
    "    u':white_circle:': u'\\U000026AA',\n",
    "    u':white_exclamation_mark:': u'\\U00002755',\n",
    "    u':white_flag:': u'\\U0001F3F3',\n",
    "    u':white_flower:': u'\\U0001F4AE',\n",
    "    u':white_heavy_check_mark:': u'\\U00002705',\n",
    "    u':white_large_square:': u'\\U00002B1C',\n",
    "    u':white_medium-small_square:': u'\\U000025FD',\n",
    "    u':white_medium_square:': u'\\U000025FB',\n",
    "    u':white_medium_star:': u'\\U00002B50',\n",
    "    u':white_question_mark:': u'\\U00002754',\n",
    "    u':white_small_square:': u'\\U000025AB',\n",
    "    u':white_square_button:': u'\\U0001F533',\n",
    "    u':wilted_flower:': u'\\U0001F940',\n",
    "    u':wind_chime:': u'\\U0001F390',\n",
    "    u':wind_face:': u'\\U0001F32C',\n",
    "    u':wine_glass:': u'\\U0001F377',\n",
    "    u':winking_face:': u'\\U0001F609',\n",
    "    u':wolf_face:': u'\\U0001F43A',\n",
    "    u':woman:': u'\\U0001F469',\n",
    "    u':woman_artist:': u'\\U0001F469 \\U0000200D \\U0001F3A8',\n",
    "    u':woman_artist_dark_skin_tone:': u'\\U0001F469 \\U0001F3FF \\U0000200D \\U0001F3A8',\n",
    "    u':woman_artist_light_skin_tone:': u'\\U0001F469 \\U0001F3FB \\U0000200D \\U0001F3A8',\n",
    "    u':woman_artist_medium-dark_skin_tone:': u'\\U0001F469 \\U0001F3FE \\U0000200D \\U0001F3A8',\n",
    "    u':woman_artist_medium-light_skin_tone:': u'\\U0001F469 \\U0001F3FC \\U0000200D \\U0001F3A8',\n",
    "    u':woman_artist_medium_skin_tone:': u'\\U0001F469 \\U0001F3FD \\U0000200D \\U0001F3A8',\n",
    "    u':woman_astronaut:': u'\\U0001F469 \\U0000200D \\U0001F680',\n",
    "    u':woman_astronaut_dark_skin_tone:': u'\\U0001F469 \\U0001F3FF \\U0000200D \\U0001F680',\n",
    "    u':woman_astronaut_light_skin_tone:': u'\\U0001F469 \\U0001F3FB \\U0000200D \\U0001F680',\n",
    "    u':woman_astronaut_medium-dark_skin_tone:': u'\\U0001F469 \\U0001F3FE \\U0000200D \\U0001F680',\n",
    "    u':woman_astronaut_medium-light_skin_tone:': u'\\U0001F469 \\U0001F3FC \\U0000200D \\U0001F680',\n",
    "    u':woman_astronaut_medium_skin_tone:': u'\\U0001F469 \\U0001F3FD \\U0000200D \\U0001F680',\n",
    "    u':woman_biking:': u'\\U0001F6B4 \\U0000200D \\U00002640 \\U0000FE0F',\n",
    "    u':woman_biking_dark_skin_tone:': u'\\U0001F6B4 \\U0001F3FF \\U0000200D \\U00002640 \\U0000FE0F',\n",
    "    u':woman_biking_light_skin_tone:': u'\\U0001F6B4 \\U0001F3FB \\U0000200D \\U00002640 \\U0000FE0F',\n",
    "    u':woman_biking_medium-dark_skin_tone:': u'\\U0001F6B4 \\U0001F3FE \\U0000200D \\U00002640 \\U0000FE0F',\n",
    "    u':woman_biking_medium-light_skin_tone:': u'\\U0001F6B4 \\U0001F3FC \\U0000200D \\U00002640 \\U0000FE0F',\n",
    "    u':woman_biking_medium_skin_tone:': u'\\U0001F6B4 \\U0001F3FD \\U0000200D \\U00002640 \\U0000FE0F',\n",
    "    u':woman_bouncing_ball:': u'\\U000026F9 \\U0000FE0F \\U0000200D \\U00002640 \\U0000FE0F',\n",
    "    u':woman_bouncing_ball_dark_skin_tone:': u'\\U000026F9 \\U0001F3FF \\U0000200D \\U00002640 \\U0000FE0F',\n",
    "    u':woman_bouncing_ball_light_skin_tone:': u'\\U000026F9 \\U0001F3FB \\U0000200D \\U00002640 \\U0000FE0F',\n",
    "    u':woman_bouncing_ball_medium-dark_skin_tone:': u'\\U000026F9 \\U0001F3FE \\U0000200D \\U00002640 \\U0000FE0F',\n",
    "    u':woman_bouncing_ball_medium-light_skin_tone:': u'\\U000026F9 \\U0001F3FC \\U0000200D \\U00002640 \\U0000FE0F',\n",
    "    u':woman_bouncing_ball_medium_skin_tone:': u'\\U000026F9 \\U0001F3FD \\U0000200D \\U00002640 \\U0000FE0F',\n",
    "    u':woman_bowing:': u'\\U0001F647 \\U0000200D \\U00002640 \\U0000FE0F',\n",
    "    u':woman_bowing_dark_skin_tone:': u'\\U0001F647 \\U0001F3FF \\U0000200D \\U00002640 \\U0000FE0F',\n",
    "    u':woman_bowing_light_skin_tone:': u'\\U0001F647 \\U0001F3FB \\U0000200D \\U00002640 \\U0000FE0F',\n",
    "    u':woman_bowing_medium-dark_skin_tone:': u'\\U0001F647 \\U0001F3FE \\U0000200D \\U00002640 \\U0000FE0F',\n",
    "    u':woman_bowing_medium-light_skin_tone:': u'\\U0001F647 \\U0001F3FC \\U0000200D \\U00002640 \\U0000FE0F',\n",
    "    u':woman_bowing_medium_skin_tone:': u'\\U0001F647 \\U0001F3FD \\U0000200D \\U00002640 \\U0000FE0F',\n",
    "    u':woman_cartwheeling:': u'\\U0001F938 \\U0000200D \\U00002640 \\U0000FE0F',\n",
    "    u':woman_cartwheeling_dark_skin_tone:': u'\\U0001F938 \\U0001F3FF \\U0000200D \\U00002640 \\U0000FE0F',\n",
    "    u':woman_cartwheeling_light_skin_tone:': u'\\U0001F938 \\U0001F3FB \\U0000200D \\U00002640 \\U0000FE0F',\n",
    "    u':woman_cartwheeling_medium-dark_skin_tone:': u'\\U0001F938 \\U0001F3FE \\U0000200D \\U00002640 \\U0000FE0F',\n",
    "    u':woman_cartwheeling_medium-light_skin_tone:': u'\\U0001F938 \\U0001F3FC \\U0000200D \\U00002640 \\U0000FE0F',\n",
    "    u':woman_cartwheeling_medium_skin_tone:': u'\\U0001F938 \\U0001F3FD \\U0000200D \\U00002640 \\U0000FE0F',\n",
    "    u':woman_construction_worker:': u'\\U0001F477 \\U0000200D \\U00002640 \\U0000FE0F',\n",
    "    u':woman_construction_worker_dark_skin_tone:': u'\\U0001F477 \\U0001F3FF \\U0000200D \\U00002640 \\U0000FE0F',\n",
    "    u':woman_construction_worker_light_skin_tone:': u'\\U0001F477 \\U0001F3FB \\U0000200D \\U00002640 \\U0000FE0F',\n",
    "    u':woman_construction_worker_medium-dark_skin_tone:': u'\\U0001F477 \\U0001F3FE \\U0000200D \\U00002640 \\U0000FE0F',\n",
    "    u':woman_construction_worker_medium-light_skin_tone:': u'\\U0001F477 \\U0001F3FC \\U0000200D \\U00002640 \\U0000FE0F',\n",
    "    u':woman_construction_worker_medium_skin_tone:': u'\\U0001F477 \\U0001F3FD \\U0000200D \\U00002640 \\U0000FE0F',\n",
    "    u':woman_cook:': u'\\U0001F469 \\U0000200D \\U0001F373',\n",
    "    u':woman_cook_dark_skin_tone:': u'\\U0001F469 \\U0001F3FF \\U0000200D \\U0001F373',\n",
    "    u':woman_cook_light_skin_tone:': u'\\U0001F469 \\U0001F3FB \\U0000200D \\U0001F373',\n",
    "    u':woman_cook_medium-dark_skin_tone:': u'\\U0001F469 \\U0001F3FE \\U0000200D \\U0001F373',\n",
    "    u':woman_cook_medium-light_skin_tone:': u'\\U0001F469 \\U0001F3FC \\U0000200D \\U0001F373',\n",
    "    u':woman_cook_medium_skin_tone:': u'\\U0001F469 \\U0001F3FD \\U0000200D \\U0001F373',\n",
    "    u':woman_dancing:': u'\\U0001F483',\n",
    "    u':woman_dancing_dark_skin_tone:': u'\\U0001F483 \\U0001F3FF',\n",
    "    u':woman_dancing_light_skin_tone:': u'\\U0001F483 \\U0001F3FB',\n",
    "    u':woman_dancing_medium-dark_skin_tone:': u'\\U0001F483 \\U0001F3FE',\n",
    "    u':woman_dancing_medium-light_skin_tone:': u'\\U0001F483 \\U0001F3FC',\n",
    "    u':woman_dancing_medium_skin_tone:': u'\\U0001F483 \\U0001F3FD',\n",
    "    u':woman_dark_skin_tone:': u'\\U0001F469 \\U0001F3FF',\n",
    "    u':woman_detective:': u'\\U0001F575 \\U0000FE0F \\U0000200D \\U00002640 \\U0000FE0F',\n",
    "    u':woman_detective_dark_skin_tone:': u'\\U0001F575 \\U0001F3FF \\U0000200D \\U00002640 \\U0000FE0F',\n",
    "    u':woman_detective_light_skin_tone:': u'\\U0001F575 \\U0001F3FB \\U0000200D \\U00002640 \\U0000FE0F',\n",
    "    u':woman_detective_medium-dark_skin_tone:': u'\\U0001F575 \\U0001F3FE \\U0000200D \\U00002640 \\U0000FE0F',\n",
    "    u':woman_detective_medium-light_skin_tone:': u'\\U0001F575 \\U0001F3FC \\U0000200D \\U00002640 \\U0000FE0F',\n",
    "    u':woman_detective_medium_skin_tone:': u'\\U0001F575 \\U0001F3FD \\U0000200D \\U00002640 \\U0000FE0F',\n",
    "    u':woman_facepalming:': u'\\U0001F926 \\U0000200D \\U00002640 \\U0000FE0F',\n",
    "    u':woman_facepalming_dark_skin_tone:': u'\\U0001F926 \\U0001F3FF \\U0000200D \\U00002640 \\U0000FE0F',\n",
    "    u':woman_facepalming_light_skin_tone:': u'\\U0001F926 \\U0001F3FB \\U0000200D \\U00002640 \\U0000FE0F',\n",
    "    u':woman_facepalming_medium-dark_skin_tone:': u'\\U0001F926 \\U0001F3FE \\U0000200D \\U00002640 \\U0000FE0F',\n",
    "    u':woman_facepalming_medium-light_skin_tone:': u'\\U0001F926 \\U0001F3FC \\U0000200D \\U00002640 \\U0000FE0F',\n",
    "    u':woman_facepalming_medium_skin_tone:': u'\\U0001F926 \\U0001F3FD \\U0000200D \\U00002640 \\U0000FE0F',\n",
    "    u':woman_factory_worker:': u'\\U0001F469 \\U0000200D \\U0001F3ED',\n",
    "    u':woman_factory_worker_dark_skin_tone:': u'\\U0001F469 \\U0001F3FF \\U0000200D \\U0001F3ED',\n",
    "    u':woman_factory_worker_light_skin_tone:': u'\\U0001F469 \\U0001F3FB \\U0000200D \\U0001F3ED',\n",
    "    u':woman_factory_worker_medium-dark_skin_tone:': u'\\U0001F469 \\U0001F3FE \\U0000200D \\U0001F3ED',\n",
    "    u':woman_factory_worker_medium-light_skin_tone:': u'\\U0001F469 \\U0001F3FC \\U0000200D \\U0001F3ED',\n",
    "    u':woman_factory_worker_medium_skin_tone:': u'\\U0001F469 \\U0001F3FD \\U0000200D \\U0001F3ED',\n",
    "    u':woman_farmer:': u'\\U0001F469 \\U0000200D \\U0001F33E',\n",
    "    u':woman_farmer_dark_skin_tone:': u'\\U0001F469 \\U0001F3FF \\U0000200D \\U0001F33E',\n",
    "    u':woman_farmer_light_skin_tone:': u'\\U0001F469 \\U0001F3FB \\U0000200D \\U0001F33E',\n",
    "    u':woman_farmer_medium-dark_skin_tone:': u'\\U0001F469 \\U0001F3FE \\U0000200D \\U0001F33E',\n",
    "    u':woman_farmer_medium-light_skin_tone:': u'\\U0001F469 \\U0001F3FC \\U0000200D \\U0001F33E',\n",
    "    u':woman_farmer_medium_skin_tone:': u'\\U0001F469 \\U0001F3FD \\U0000200D \\U0001F33E',\n",
    "    u':woman_firefighter:': u'\\U0001F469 \\U0000200D \\U0001F692',\n",
    "    u':woman_firefighter_dark_skin_tone:': u'\\U0001F469 \\U0001F3FF \\U0000200D \\U0001F692',\n",
    "    u':woman_firefighter_light_skin_tone:': u'\\U0001F469 \\U0001F3FB \\U0000200D \\U0001F692',\n",
    "    u':woman_firefighter_medium-dark_skin_tone:': u'\\U0001F469 \\U0001F3FE \\U0000200D \\U0001F692',\n",
    "    u':woman_firefighter_medium-light_skin_tone:': u'\\U0001F469 \\U0001F3FC \\U0000200D \\U0001F692',\n",
    "    u':woman_firefighter_medium_skin_tone:': u'\\U0001F469 \\U0001F3FD \\U0000200D \\U0001F692',\n",
    "    u':woman_frowning:': u'\\U0001F64D \\U0000200D \\U00002640 \\U0000FE0F',\n",
    "    u':woman_frowning_dark_skin_tone:': u'\\U0001F64D \\U0001F3FF \\U0000200D \\U00002640 \\U0000FE0F',\n",
    "    u':woman_frowning_light_skin_tone:': u'\\U0001F64D \\U0001F3FB \\U0000200D \\U00002640 \\U0000FE0F',\n",
    "    u':woman_frowning_medium-dark_skin_tone:': u'\\U0001F64D \\U0001F3FE \\U0000200D \\U00002640 \\U0000FE0F',\n",
    "    u':woman_frowning_medium-light_skin_tone:': u'\\U0001F64D \\U0001F3FC \\U0000200D \\U00002640 \\U0000FE0F',\n",
    "    u':woman_frowning_medium_skin_tone:': u'\\U0001F64D \\U0001F3FD \\U0000200D \\U00002640 \\U0000FE0F',\n",
    "    u':woman_gesturing_NO:': u'\\U0001F645 \\U0000200D \\U00002640 \\U0000FE0F',\n",
    "    u':woman_gesturing_NO_dark_skin_tone:': u'\\U0001F645 \\U0001F3FF \\U0000200D \\U00002640 \\U0000FE0F',\n",
    "    u':woman_gesturing_NO_light_skin_tone:': u'\\U0001F645 \\U0001F3FB \\U0000200D \\U00002640 \\U0000FE0F',\n",
    "    u':woman_gesturing_NO_medium-dark_skin_tone:': u'\\U0001F645 \\U0001F3FE \\U0000200D \\U00002640 \\U0000FE0F',\n",
    "    u':woman_gesturing_NO_medium-light_skin_tone:': u'\\U0001F645 \\U0001F3FC \\U0000200D \\U00002640 \\U0000FE0F',\n",
    "    u':woman_gesturing_NO_medium_skin_tone:': u'\\U0001F645 \\U0001F3FD \\U0000200D \\U00002640 \\U0000FE0F',\n",
    "    u':woman_gesturing_OK:': u'\\U0001F646 \\U0000200D \\U00002640 \\U0000FE0F',\n",
    "    u':woman_gesturing_OK_dark_skin_tone:': u'\\U0001F646 \\U0001F3FF \\U0000200D \\U00002640 \\U0000FE0F',\n",
    "    u':woman_gesturing_OK_light_skin_tone:': u'\\U0001F646 \\U0001F3FB \\U0000200D \\U00002640 \\U0000FE0F',\n",
    "    u':woman_gesturing_OK_medium-dark_skin_tone:': u'\\U0001F646 \\U0001F3FE \\U0000200D \\U00002640 \\U0000FE0F',\n",
    "    u':woman_gesturing_OK_medium-light_skin_tone:': u'\\U0001F646 \\U0001F3FC \\U0000200D \\U00002640 \\U0000FE0F',\n",
    "    u':woman_gesturing_OK_medium_skin_tone:': u'\\U0001F646 \\U0001F3FD \\U0000200D \\U00002640 \\U0000FE0F',\n",
    "    u':woman_getting_haircut:': u'\\U0001F487 \\U0000200D \\U00002640 \\U0000FE0F',\n",
    "    u':woman_getting_haircut_dark_skin_tone:': u'\\U0001F487 \\U0001F3FF \\U0000200D \\U00002640 \\U0000FE0F',\n",
    "    u':woman_getting_haircut_light_skin_tone:': u'\\U0001F487 \\U0001F3FB \\U0000200D \\U00002640 \\U0000FE0F',\n",
    "    u':woman_getting_haircut_medium-dark_skin_tone:': u'\\U0001F487 \\U0001F3FE \\U0000200D \\U00002640 \\U0000FE0F',\n",
    "    u':woman_getting_haircut_medium-light_skin_tone:': u'\\U0001F487 \\U0001F3FC \\U0000200D \\U00002640 \\U0000FE0F',\n",
    "    u':woman_getting_haircut_medium_skin_tone:': u'\\U0001F487 \\U0001F3FD \\U0000200D \\U00002640 \\U0000FE0F',\n",
    "    u':woman_getting_massage:': u'\\U0001F486 \\U0000200D \\U00002640 \\U0000FE0F',\n",
    "    u':woman_getting_massage_dark_skin_tone:': u'\\U0001F486 \\U0001F3FF \\U0000200D \\U00002640 \\U0000FE0F',\n",
    "    u':woman_getting_massage_light_skin_tone:': u'\\U0001F486 \\U0001F3FB \\U0000200D \\U00002640 \\U0000FE0F',\n",
    "    u':woman_getting_massage_medium-dark_skin_tone:': u'\\U0001F486 \\U0001F3FE \\U0000200D \\U00002640 \\U0000FE0F',\n",
    "    u':woman_getting_massage_medium-light_skin_tone:': u'\\U0001F486 \\U0001F3FC \\U0000200D \\U00002640 \\U0000FE0F',\n",
    "    u':woman_getting_massage_medium_skin_tone:': u'\\U0001F486 \\U0001F3FD \\U0000200D \\U00002640 \\U0000FE0F',\n",
    "    u':woman_golfing:': u'\\U0001F3CC \\U0000FE0F \\U0000200D \\U00002640 \\U0000FE0F',\n",
    "    u':woman_golfing_dark_skin_tone:': u'\\U0001F3CC \\U0001F3FF \\U0000200D \\U00002640 \\U0000FE0F',\n",
    "    u':woman_golfing_light_skin_tone:': u'\\U0001F3CC \\U0001F3FB \\U0000200D \\U00002640 \\U0000FE0F',\n",
    "    u':woman_golfing_medium-dark_skin_tone:': u'\\U0001F3CC \\U0001F3FE \\U0000200D \\U00002640 \\U0000FE0F',\n",
    "    u':woman_golfing_medium-light_skin_tone:': u'\\U0001F3CC \\U0001F3FC \\U0000200D \\U00002640 \\U0000FE0F',\n",
    "    u':woman_golfing_medium_skin_tone:': u'\\U0001F3CC \\U0001F3FD \\U0000200D \\U00002640 \\U0000FE0F',\n",
    "    u':woman_guard:': u'\\U0001F482 \\U0000200D \\U00002640 \\U0000FE0F',\n",
    "    u':woman_guard_dark_skin_tone:': u'\\U0001F482 \\U0001F3FF \\U0000200D \\U00002640 \\U0000FE0F',\n",
    "    u':woman_guard_light_skin_tone:': u'\\U0001F482 \\U0001F3FB \\U0000200D \\U00002640 \\U0000FE0F',\n",
    "    u':woman_guard_medium-dark_skin_tone:': u'\\U0001F482 \\U0001F3FE \\U0000200D \\U00002640 \\U0000FE0F',\n",
    "    u':woman_guard_medium-light_skin_tone:': u'\\U0001F482 \\U0001F3FC \\U0000200D \\U00002640 \\U0000FE0F',\n",
    "    u':woman_guard_medium_skin_tone:': u'\\U0001F482 \\U0001F3FD \\U0000200D \\U00002640 \\U0000FE0F',\n",
    "    u':woman_health_worker:': u'\\U0001F469 \\U0000200D \\U00002695 \\U0000FE0F',\n",
    "    u':woman_health_worker_dark_skin_tone:': u'\\U0001F469 \\U0001F3FF \\U0000200D \\U00002695 \\U0000FE0F',\n",
    "    u':woman_health_worker_light_skin_tone:': u'\\U0001F469 \\U0001F3FB \\U0000200D \\U00002695 \\U0000FE0F',\n",
    "    u':woman_health_worker_medium-dark_skin_tone:': u'\\U0001F469 \\U0001F3FE \\U0000200D \\U00002695 \\U0000FE0F',\n",
    "    u':woman_health_worker_medium-light_skin_tone:': u'\\U0001F469 \\U0001F3FC \\U0000200D \\U00002695 \\U0000FE0F',\n",
    "    u':woman_health_worker_medium_skin_tone:': u'\\U0001F469 \\U0001F3FD \\U0000200D \\U00002695 \\U0000FE0F',\n",
    "    u':woman_judge:': u'\\U0001F469 \\U0000200D \\U00002696 \\U0000FE0F',\n",
    "    u':woman_judge_dark_skin_tone:': u'\\U0001F469 \\U0001F3FF \\U0000200D \\U00002696 \\U0000FE0F',\n",
    "    u':woman_judge_light_skin_tone:': u'\\U0001F469 \\U0001F3FB \\U0000200D \\U00002696 \\U0000FE0F',\n",
    "    u':woman_judge_medium-dark_skin_tone:': u'\\U0001F469 \\U0001F3FE \\U0000200D \\U00002696 \\U0000FE0F',\n",
    "    u':woman_judge_medium-light_skin_tone:': u'\\U0001F469 \\U0001F3FC \\U0000200D \\U00002696 \\U0000FE0F',\n",
    "    u':woman_judge_medium_skin_tone:': u'\\U0001F469 \\U0001F3FD \\U0000200D \\U00002696 \\U0000FE0F',\n",
    "    u':woman_juggling:': u'\\U0001F939 \\U0000200D \\U00002640 \\U0000FE0F',\n",
    "    u':woman_juggling_dark_skin_tone:': u'\\U0001F939 \\U0001F3FF \\U0000200D \\U00002640 \\U0000FE0F',\n",
    "    u':woman_juggling_light_skin_tone:': u'\\U0001F939 \\U0001F3FB \\U0000200D \\U00002640 \\U0000FE0F',\n",
    "    u':woman_juggling_medium-dark_skin_tone:': u'\\U0001F939 \\U0001F3FE \\U0000200D \\U00002640 \\U0000FE0F',\n",
    "    u':woman_juggling_medium-light_skin_tone:': u'\\U0001F939 \\U0001F3FC \\U0000200D \\U00002640 \\U0000FE0F',\n",
    "    u':woman_juggling_medium_skin_tone:': u'\\U0001F939 \\U0001F3FD \\U0000200D \\U00002640 \\U0000FE0F',\n",
    "    u':woman_lifting_weights:': u'\\U0001F3CB \\U0000FE0F \\U0000200D \\U00002640 \\U0000FE0F',\n",
    "    u':woman_lifting_weights_dark_skin_tone:': u'\\U0001F3CB \\U0001F3FF \\U0000200D \\U00002640 \\U0000FE0F',\n",
    "    u':woman_lifting_weights_light_skin_tone:': u'\\U0001F3CB \\U0001F3FB \\U0000200D \\U00002640 \\U0000FE0F',\n",
    "    u':woman_lifting_weights_medium-dark_skin_tone:': u'\\U0001F3CB \\U0001F3FE \\U0000200D \\U00002640 \\U0000FE0F',\n",
    "    u':woman_lifting_weights_medium-light_skin_tone:': u'\\U0001F3CB \\U0001F3FC \\U0000200D \\U00002640 \\U0000FE0F',\n",
    "    u':woman_lifting_weights_medium_skin_tone:': u'\\U0001F3CB \\U0001F3FD \\U0000200D \\U00002640 \\U0000FE0F',\n",
    "    u':woman_light_skin_tone:': u'\\U0001F469 \\U0001F3FB',\n",
    "    u':woman_mechanic:': u'\\U0001F469 \\U0000200D \\U0001F527',\n",
    "    u':woman_mechanic_dark_skin_tone:': u'\\U0001F469 \\U0001F3FF \\U0000200D \\U0001F527',\n",
    "    u':woman_mechanic_light_skin_tone:': u'\\U0001F469 \\U0001F3FB \\U0000200D \\U0001F527',\n",
    "    u':woman_mechanic_medium-dark_skin_tone:': u'\\U0001F469 \\U0001F3FE \\U0000200D \\U0001F527',\n",
    "    u':woman_mechanic_medium-light_skin_tone:': u'\\U0001F469 \\U0001F3FC \\U0000200D \\U0001F527',\n",
    "    u':woman_mechanic_medium_skin_tone:': u'\\U0001F469 \\U0001F3FD \\U0000200D \\U0001F527',\n",
    "    u':woman_medium-dark_skin_tone:': u'\\U0001F469 \\U0001F3FE',\n",
    "    u':woman_medium-light_skin_tone:': u'\\U0001F469 \\U0001F3FC',\n",
    "    u':woman_medium_skin_tone:': u'\\U0001F469 \\U0001F3FD',\n",
    "    u':woman_mountain_biking:': u'\\U0001F6B5 \\U0000200D \\U00002640 \\U0000FE0F',\n",
    "    u':woman_mountain_biking_dark_skin_tone:': u'\\U0001F6B5 \\U0001F3FF \\U0000200D \\U00002640 \\U0000FE0F',\n",
    "    u':woman_mountain_biking_light_skin_tone:': u'\\U0001F6B5 \\U0001F3FB \\U0000200D \\U00002640 \\U0000FE0F',\n",
    "    u':woman_mountain_biking_medium-dark_skin_tone:': u'\\U0001F6B5 \\U0001F3FE \\U0000200D \\U00002640 \\U0000FE0F',\n",
    "    u':woman_mountain_biking_medium-light_skin_tone:': u'\\U0001F6B5 \\U0001F3FC \\U0000200D \\U00002640 \\U0000FE0F',\n",
    "    u':woman_mountain_biking_medium_skin_tone:': u'\\U0001F6B5 \\U0001F3FD \\U0000200D \\U00002640 \\U0000FE0F',\n",
    "    u':woman_office_worker:': u'\\U0001F469 \\U0000200D \\U0001F4BC',\n",
    "    u':woman_office_worker_dark_skin_tone:': u'\\U0001F469 \\U0001F3FF \\U0000200D \\U0001F4BC',\n",
    "    u':woman_office_worker_light_skin_tone:': u'\\U0001F469 \\U0001F3FB \\U0000200D \\U0001F4BC',\n",
    "    u':woman_office_worker_medium-dark_skin_tone:': u'\\U0001F469 \\U0001F3FE \\U0000200D \\U0001F4BC',\n",
    "    u':woman_office_worker_medium-light_skin_tone:': u'\\U0001F469 \\U0001F3FC \\U0000200D \\U0001F4BC',\n",
    "    u':woman_office_worker_medium_skin_tone:': u'\\U0001F469 \\U0001F3FD \\U0000200D \\U0001F4BC',\n",
    "    u':woman_pilot:': u'\\U0001F469 \\U0000200D \\U00002708 \\U0000FE0F',\n",
    "    u':woman_pilot_dark_skin_tone:': u'\\U0001F469 \\U0001F3FF \\U0000200D \\U00002708 \\U0000FE0F',\n",
    "    u':woman_pilot_light_skin_tone:': u'\\U0001F469 \\U0001F3FB \\U0000200D \\U00002708 \\U0000FE0F',\n",
    "    u':woman_pilot_medium-dark_skin_tone:': u'\\U0001F469 \\U0001F3FE \\U0000200D \\U00002708 \\U0000FE0F',\n",
    "    u':woman_pilot_medium-light_skin_tone:': u'\\U0001F469 \\U0001F3FC \\U0000200D \\U00002708 \\U0000FE0F',\n",
    "    u':woman_pilot_medium_skin_tone:': u'\\U0001F469 \\U0001F3FD \\U0000200D \\U00002708 \\U0000FE0F',\n",
    "    u':woman_playing_handball:': u'\\U0001F93E \\U0000200D \\U00002640 \\U0000FE0F',\n",
    "    u':woman_playing_handball_dark_skin_tone:': u'\\U0001F93E \\U0001F3FF \\U0000200D \\U00002640 \\U0000FE0F',\n",
    "    u':woman_playing_handball_light_skin_tone:': u'\\U0001F93E \\U0001F3FB \\U0000200D \\U00002640 \\U0000FE0F',\n",
    "    u':woman_playing_handball_medium-dark_skin_tone:': u'\\U0001F93E \\U0001F3FE \\U0000200D \\U00002640 \\U0000FE0F',\n",
    "    u':woman_playing_handball_medium-light_skin_tone:': u'\\U0001F93E \\U0001F3FC \\U0000200D \\U00002640 \\U0000FE0F',\n",
    "    u':woman_playing_handball_medium_skin_tone:': u'\\U0001F93E \\U0001F3FD \\U0000200D \\U00002640 \\U0000FE0F',\n",
    "    u':woman_playing_water_polo:': u'\\U0001F93D \\U0000200D \\U00002640 \\U0000FE0F',\n",
    "    u':woman_playing_water_polo_dark_skin_tone:': u'\\U0001F93D \\U0001F3FF \\U0000200D \\U00002640 \\U0000FE0F',\n",
    "    u':woman_playing_water_polo_light_skin_tone:': u'\\U0001F93D \\U0001F3FB \\U0000200D \\U00002640 \\U0000FE0F',\n",
    "    u':woman_playing_water_polo_medium-dark_skin_tone:': u'\\U0001F93D \\U0001F3FE \\U0000200D \\U00002640 \\U0000FE0F',\n",
    "    u':woman_playing_water_polo_medium-light_skin_tone:': u'\\U0001F93D \\U0001F3FC \\U0000200D \\U00002640 \\U0000FE0F',\n",
    "    u':woman_playing_water_polo_medium_skin_tone:': u'\\U0001F93D \\U0001F3FD \\U0000200D \\U00002640 \\U0000FE0F',\n",
    "    u':woman_police_officer:': u'\\U0001F46E \\U0000200D \\U00002640 \\U0000FE0F',\n",
    "    u':woman_police_officer_dark_skin_tone:': u'\\U0001F46E \\U0001F3FF \\U0000200D \\U00002640 \\U0000FE0F',\n",
    "    u':woman_police_officer_light_skin_tone:': u'\\U0001F46E \\U0001F3FB \\U0000200D \\U00002640 \\U0000FE0F',\n",
    "    u':woman_police_officer_medium-dark_skin_tone:': u'\\U0001F46E \\U0001F3FE \\U0000200D \\U00002640 \\U0000FE0F',\n",
    "    u':woman_police_officer_medium-light_skin_tone:': u'\\U0001F46E \\U0001F3FC \\U0000200D \\U00002640 \\U0000FE0F',\n",
    "    u':woman_police_officer_medium_skin_tone:': u'\\U0001F46E \\U0001F3FD \\U0000200D \\U00002640 \\U0000FE0F',\n",
    "    u':woman_pouting:': u'\\U0001F64E \\U0000200D \\U00002640 \\U0000FE0F',\n",
    "    u':woman_pouting_dark_skin_tone:': u'\\U0001F64E \\U0001F3FF \\U0000200D \\U00002640 \\U0000FE0F',\n",
    "    u':woman_pouting_light_skin_tone:': u'\\U0001F64E \\U0001F3FB \\U0000200D \\U00002640 \\U0000FE0F',\n",
    "    u':woman_pouting_medium-dark_skin_tone:': u'\\U0001F64E \\U0001F3FE \\U0000200D \\U00002640 \\U0000FE0F',\n",
    "    u':woman_pouting_medium-light_skin_tone:': u'\\U0001F64E \\U0001F3FC \\U0000200D \\U00002640 \\U0000FE0F',\n",
    "    u':woman_pouting_medium_skin_tone:': u'\\U0001F64E \\U0001F3FD \\U0000200D \\U00002640 \\U0000FE0F',\n",
    "    u':woman_raising_hand:': u'\\U0001F64B \\U0000200D \\U00002640 \\U0000FE0F',\n",
    "    u':woman_raising_hand_dark_skin_tone:': u'\\U0001F64B \\U0001F3FF \\U0000200D \\U00002640 \\U0000FE0F',\n",
    "    u':woman_raising_hand_light_skin_tone:': u'\\U0001F64B \\U0001F3FB \\U0000200D \\U00002640 \\U0000FE0F',\n",
    "    u':woman_raising_hand_medium-dark_skin_tone:': u'\\U0001F64B \\U0001F3FE \\U0000200D \\U00002640 \\U0000FE0F',\n",
    "    u':woman_raising_hand_medium-light_skin_tone:': u'\\U0001F64B \\U0001F3FC \\U0000200D \\U00002640 \\U0000FE0F',\n",
    "    u':woman_raising_hand_medium_skin_tone:': u'\\U0001F64B \\U0001F3FD \\U0000200D \\U00002640 \\U0000FE0F',\n",
    "    u':woman_rowing_boat:': u'\\U0001F6A3 \\U0000200D \\U00002640 \\U0000FE0F',\n",
    "    u':woman_rowing_boat_dark_skin_tone:': u'\\U0001F6A3 \\U0001F3FF \\U0000200D \\U00002640 \\U0000FE0F',\n",
    "    u':woman_rowing_boat_light_skin_tone:': u'\\U0001F6A3 \\U0001F3FB \\U0000200D \\U00002640 \\U0000FE0F',\n",
    "    u':woman_rowing_boat_medium-dark_skin_tone:': u'\\U0001F6A3 \\U0001F3FE \\U0000200D \\U00002640 \\U0000FE0F',\n",
    "    u':woman_rowing_boat_medium-light_skin_tone:': u'\\U0001F6A3 \\U0001F3FC \\U0000200D \\U00002640 \\U0000FE0F',\n",
    "    u':woman_rowing_boat_medium_skin_tone:': u'\\U0001F6A3 \\U0001F3FD \\U0000200D \\U00002640 \\U0000FE0F',\n",
    "    u':woman_running:': u'\\U0001F3C3 \\U0000200D \\U00002640 \\U0000FE0F',\n",
    "    u':woman_running_dark_skin_tone:': u'\\U0001F3C3 \\U0001F3FF \\U0000200D \\U00002640 \\U0000FE0F',\n",
    "    u':woman_running_light_skin_tone:': u'\\U0001F3C3 \\U0001F3FB \\U0000200D \\U00002640 \\U0000FE0F',\n",
    "    u':woman_running_medium-dark_skin_tone:': u'\\U0001F3C3 \\U0001F3FE \\U0000200D \\U00002640 \\U0000FE0F',\n",
    "    u':woman_running_medium-light_skin_tone:': u'\\U0001F3C3 \\U0001F3FC \\U0000200D \\U00002640 \\U0000FE0F',\n",
    "    u':woman_running_medium_skin_tone:': u'\\U0001F3C3 \\U0001F3FD \\U0000200D \\U00002640 \\U0000FE0F',\n",
    "    u':woman_scientist:': u'\\U0001F469 \\U0000200D \\U0001F52C',\n",
    "    u':woman_scientist_dark_skin_tone:': u'\\U0001F469 \\U0001F3FF \\U0000200D \\U0001F52C',\n",
    "    u':woman_scientist_light_skin_tone:': u'\\U0001F469 \\U0001F3FB \\U0000200D \\U0001F52C',\n",
    "    u':woman_scientist_medium-dark_skin_tone:': u'\\U0001F469 \\U0001F3FE \\U0000200D \\U0001F52C',\n",
    "    u':woman_scientist_medium-light_skin_tone:': u'\\U0001F469 \\U0001F3FC \\U0000200D \\U0001F52C',\n",
    "    u':woman_scientist_medium_skin_tone:': u'\\U0001F469 \\U0001F3FD \\U0000200D \\U0001F52C',\n",
    "    u':woman_shrugging:': u'\\U0001F937 \\U0000200D \\U00002640 \\U0000FE0F',\n",
    "    u':woman_shrugging_dark_skin_tone:': u'\\U0001F937 \\U0001F3FF \\U0000200D \\U00002640 \\U0000FE0F',\n",
    "    u':woman_shrugging_light_skin_tone:': u'\\U0001F937 \\U0001F3FB \\U0000200D \\U00002640 \\U0000FE0F',\n",
    "    u':woman_shrugging_medium-dark_skin_tone:': u'\\U0001F937 \\U0001F3FE \\U0000200D \\U00002640 \\U0000FE0F',\n",
    "    u':woman_shrugging_medium-light_skin_tone:': u'\\U0001F937 \\U0001F3FC \\U0000200D \\U00002640 \\U0000FE0F',\n",
    "    u':woman_shrugging_medium_skin_tone:': u'\\U0001F937 \\U0001F3FD \\U0000200D \\U00002640 \\U0000FE0F',\n",
    "    u':woman_singer:': u'\\U0001F469 \\U0000200D \\U0001F3A4',\n",
    "    u':woman_singer_dark_skin_tone:': u'\\U0001F469 \\U0001F3FF \\U0000200D \\U0001F3A4',\n",
    "    u':woman_singer_light_skin_tone:': u'\\U0001F469 \\U0001F3FB \\U0000200D \\U0001F3A4',\n",
    "    u':woman_singer_medium-dark_skin_tone:': u'\\U0001F469 \\U0001F3FE \\U0000200D \\U0001F3A4',\n",
    "    u':woman_singer_medium-light_skin_tone:': u'\\U0001F469 \\U0001F3FC \\U0000200D \\U0001F3A4',\n",
    "    u':woman_singer_medium_skin_tone:': u'\\U0001F469 \\U0001F3FD \\U0000200D \\U0001F3A4',\n",
    "    u':woman_student:': u'\\U0001F469 \\U0000200D \\U0001F393',\n",
    "    u':woman_student_dark_skin_tone:': u'\\U0001F469 \\U0001F3FF \\U0000200D \\U0001F393',\n",
    "    u':woman_student_light_skin_tone:': u'\\U0001F469 \\U0001F3FB \\U0000200D \\U0001F393',\n",
    "    u':woman_student_medium-dark_skin_tone:': u'\\U0001F469 \\U0001F3FE \\U0000200D \\U0001F393',\n",
    "    u':woman_student_medium-light_skin_tone:': u'\\U0001F469 \\U0001F3FC \\U0000200D \\U0001F393',\n",
    "    u':woman_student_medium_skin_tone:': u'\\U0001F469 \\U0001F3FD \\U0000200D \\U0001F393',\n",
    "    u':woman_surfing:': u'\\U0001F3C4 \\U0000200D \\U00002640 \\U0000FE0F',\n",
    "    u':woman_surfing_dark_skin_tone:': u'\\U0001F3C4 \\U0001F3FF \\U0000200D \\U00002640 \\U0000FE0F',\n",
    "    u':woman_surfing_light_skin_tone:': u'\\U0001F3C4 \\U0001F3FB \\U0000200D \\U00002640 \\U0000FE0F',\n",
    "    u':woman_surfing_medium-dark_skin_tone:': u'\\U0001F3C4 \\U0001F3FE \\U0000200D \\U00002640 \\U0000FE0F',\n",
    "    u':woman_surfing_medium-light_skin_tone:': u'\\U0001F3C4 \\U0001F3FC \\U0000200D \\U00002640 \\U0000FE0F',\n",
    "    u':woman_surfing_medium_skin_tone:': u'\\U0001F3C4 \\U0001F3FD \\U0000200D \\U00002640 \\U0000FE0F',\n",
    "    u':woman_swimming:': u'\\U0001F3CA \\U0000200D \\U00002640 \\U0000FE0F',\n",
    "    u':woman_swimming_dark_skin_tone:': u'\\U0001F3CA \\U0001F3FF \\U0000200D \\U00002640 \\U0000FE0F',\n",
    "    u':woman_swimming_light_skin_tone:': u'\\U0001F3CA \\U0001F3FB \\U0000200D \\U00002640 \\U0000FE0F',\n",
    "    u':woman_swimming_medium-dark_skin_tone:': u'\\U0001F3CA \\U0001F3FE \\U0000200D \\U00002640 \\U0000FE0F',\n",
    "    u':woman_swimming_medium-light_skin_tone:': u'\\U0001F3CA \\U0001F3FC \\U0000200D \\U00002640 \\U0000FE0F',\n",
    "    u':woman_swimming_medium_skin_tone:': u'\\U0001F3CA \\U0001F3FD \\U0000200D \\U00002640 \\U0000FE0F',\n",
    "    u':woman_teacher:': u'\\U0001F469 \\U0000200D \\U0001F3EB',\n",
    "    u':woman_teacher_dark_skin_tone:': u'\\U0001F469 \\U0001F3FF \\U0000200D \\U0001F3EB',\n",
    "    u':woman_teacher_light_skin_tone:': u'\\U0001F469 \\U0001F3FB \\U0000200D \\U0001F3EB',\n",
    "    u':woman_teacher_medium-dark_skin_tone:': u'\\U0001F469 \\U0001F3FE \\U0000200D \\U0001F3EB',\n",
    "    u':woman_teacher_medium-light_skin_tone:': u'\\U0001F469 \\U0001F3FC \\U0000200D \\U0001F3EB',\n",
    "    u':woman_teacher_medium_skin_tone:': u'\\U0001F469 \\U0001F3FD \\U0000200D \\U0001F3EB',\n",
    "    u':woman_technologist:': u'\\U0001F469 \\U0000200D \\U0001F4BB',\n",
    "    u':woman_technologist_dark_skin_tone:': u'\\U0001F469 \\U0001F3FF \\U0000200D \\U0001F4BB',\n",
    "    u':woman_technologist_light_skin_tone:': u'\\U0001F469 \\U0001F3FB \\U0000200D \\U0001F4BB',\n",
    "    u':woman_technologist_medium-dark_skin_tone:': u'\\U0001F469 \\U0001F3FE \\U0000200D \\U0001F4BB',\n",
    "    u':woman_technologist_medium-light_skin_tone:': u'\\U0001F469 \\U0001F3FC \\U0000200D \\U0001F4BB',\n",
    "    u':woman_technologist_medium_skin_tone:': u'\\U0001F469 \\U0001F3FD \\U0000200D \\U0001F4BB',\n",
    "    u':woman_tipping_hand:': u'\\U0001F481 \\U0000200D \\U00002640 \\U0000FE0F',\n",
    "    u':woman_tipping_hand_dark_skin_tone:': u'\\U0001F481 \\U0001F3FF \\U0000200D \\U00002640 \\U0000FE0F',\n",
    "    u':woman_tipping_hand_light_skin_tone:': u'\\U0001F481 \\U0001F3FB \\U0000200D \\U00002640 \\U0000FE0F',\n",
    "    u':woman_tipping_hand_medium-dark_skin_tone:': u'\\U0001F481 \\U0001F3FE \\U0000200D \\U00002640 \\U0000FE0F',\n",
    "    u':woman_tipping_hand_medium-light_skin_tone:': u'\\U0001F481 \\U0001F3FC \\U0000200D \\U00002640 \\U0000FE0F',\n",
    "    u':woman_tipping_hand_medium_skin_tone:': u'\\U0001F481 \\U0001F3FD \\U0000200D \\U00002640 \\U0000FE0F',\n",
    "    u':woman_walking:': u'\\U0001F6B6 \\U0000200D \\U00002640 \\U0000FE0F',\n",
    "    u':woman_walking_dark_skin_tone:': u'\\U0001F6B6 \\U0001F3FF \\U0000200D \\U00002640 \\U0000FE0F',\n",
    "    u':woman_walking_light_skin_tone:': u'\\U0001F6B6 \\U0001F3FB \\U0000200D \\U00002640 \\U0000FE0F',\n",
    "    u':woman_walking_medium-dark_skin_tone:': u'\\U0001F6B6 \\U0001F3FE \\U0000200D \\U00002640 \\U0000FE0F',\n",
    "    u':woman_walking_medium-light_skin_tone:': u'\\U0001F6B6 \\U0001F3FC \\U0000200D \\U00002640 \\U0000FE0F',\n",
    "    u':woman_walking_medium_skin_tone:': u'\\U0001F6B6 \\U0001F3FD \\U0000200D \\U00002640 \\U0000FE0F',\n",
    "    u':woman_wearing_turban:': u'\\U0001F473 \\U0000200D \\U00002640 \\U0000FE0F',\n",
    "    u':woman_wearing_turban_dark_skin_tone:': u'\\U0001F473 \\U0001F3FF \\U0000200D \\U00002640 \\U0000FE0F',\n",
    "    u':woman_wearing_turban_light_skin_tone:': u'\\U0001F473 \\U0001F3FB \\U0000200D \\U00002640 \\U0000FE0F',\n",
    "    u':woman_wearing_turban_medium-dark_skin_tone:': u'\\U0001F473 \\U0001F3FE \\U0000200D \\U00002640 \\U0000FE0F',\n",
    "    u':woman_wearing_turban_medium-light_skin_tone:': u'\\U0001F473 \\U0001F3FC \\U0000200D \\U00002640 \\U0000FE0F',\n",
    "    u':woman_wearing_turban_medium_skin_tone:': u'\\U0001F473 \\U0001F3FD \\U0000200D \\U00002640 \\U0000FE0F',\n",
    "    u':woman’s_boot:': u'\\U0001F462',\n",
    "    u':woman’s_clothes:': u'\\U0001F45A',\n",
    "    u':woman’s_hat:': u'\\U0001F452',\n",
    "    u':woman’s_sandal:': u'\\U0001F461',\n",
    "    u':women_with_bunny_ears_partying:': u'\\U0001F46F \\U0000200D \\U00002640 \\U0000FE0F',\n",
    "    u':women_wrestling:': u'\\U0001F93C \\U0000200D \\U00002640 \\U0000FE0F',\n",
    "    u':women’s_room:': u'\\U0001F6BA',\n",
    "    u':world_map:': u'\\U0001F5FA',\n",
    "    u':worried_face:': u'\\U0001F61F',\n",
    "    u':wrapped_gift:': u'\\U0001F381',\n",
    "    u':wrench:': u'\\U0001F527',\n",
    "    u':writing_hand:': u'\\U0000270D',\n",
    "    u':writing_hand_dark_skin_tone:': u'\\U0000270D \\U0001F3FF',\n",
    "    u':writing_hand_light_skin_tone:': u'\\U0000270D \\U0001F3FB',\n",
    "    u':writing_hand_medium-dark_skin_tone:': u'\\U0000270D \\U0001F3FE',\n",
    "    u':writing_hand_medium-light_skin_tone:': u'\\U0000270D \\U0001F3FC',\n",
    "    u':writing_hand_medium_skin_tone:': u'\\U0000270D \\U0001F3FD',\n",
    "    u':yellow_heart:': u'\\U0001F49B',\n",
    "    u':yen_banknote:': u'\\U0001F4B4',\n",
    "    u':yin_yang:': u'\\U0000262F',\n",
    "    u':zipper-mouth_face:': u'\\U0001F910',\n",
    "    u':zzz:': u'\\U0001F4A4',\n",
    "    u':Åland_Islands:': u'\\U0001F1E6 \\U0001F1FD',\n",
    "}\n",
    "\n",
    "UNICODE_EMO = {v: k for k, v in EMO_UNICODE.items()}"
   ]
  },
  {
   "cell_type": "markdown",
   "metadata": {
    "id": "akn27BcNOKdu"
   },
   "source": [
    "###Convertir los emojis"
   ]
  },
  {
   "cell_type": "code",
   "execution_count": null,
   "metadata": {
    "colab": {
     "base_uri": "https://localhost:8080/",
     "height": 36
    },
    "id": "9UGWIimLNdYc",
    "outputId": "22f17172-e7de-4669-ecc6-69b4143eea92"
   },
   "outputs": [
    {
     "data": {
      "application/vnd.google.colaboratory.intrinsic+json": {
       "type": "string"
      },
      "text/plain": [
       "'very good '"
      ]
     },
     "execution_count": 12,
     "metadata": {},
     "output_type": "execute_result"
    }
   ],
   "source": [
    "def remove_emoji(string):\n",
    "    emoji_pattern = re.compile(\"[\"\n",
    "                           u\"\\U0001F600-\\U0001F64F\"  # emoticons\n",
    "                           u\"\\U0001F300-\\U0001F5FF\"  # symbols & pictographs\n",
    "                           u\"\\U0001F680-\\U0001F6FF\"  # transport & map symbols\n",
    "                           u\"\\U0001F1E0-\\U0001F1FF\"  # flags (iOS)\n",
    "                           u\"\\U00002702-\\U000027B0\"\n",
    "                           u\"\\U000024C2-\\U0001F251\"\n",
    "                           \"]+\", flags=re.UNICODE)\n",
    "    \n",
    "    return emoji_pattern.sub(r'', string)\n",
    "\n",
    "remove_emoji(\"very good ⭐⭐⭐⭐⭐\")"
   ]
  },
  {
   "cell_type": "code",
   "execution_count": null,
   "metadata": {
    "id": "Tnq0qrJpPtiu"
   },
   "outputs": [],
   "source": [
    "data.verified_reviews = data.verified_reviews.apply(remove_emoji)"
   ]
  },
  {
   "cell_type": "code",
   "execution_count": null,
   "metadata": {
    "id": "y3-PJ5TKnMUA"
   },
   "outputs": [],
   "source": [
    "data['verified_reviews'].replace(' ', np.NaN, inplace=True)\n",
    "data['verified_reviews'].replace('', np.NaN, inplace=True)"
   ]
  },
  {
   "cell_type": "code",
   "execution_count": null,
   "metadata": {
    "colab": {
     "base_uri": "https://localhost:8080/"
    },
    "id": "KNaM2JTdnVTR",
    "outputId": "b727745e-0289-48f1-8696-9cdff8f649a2"
   },
   "outputs": [
    {
     "data": {
      "text/plain": [
       "verified_reviews    84\n",
       "feedback             0\n",
       "dtype: int64"
      ]
     },
     "execution_count": 15,
     "metadata": {},
     "output_type": "execute_result"
    }
   ],
   "source": [
    "data.isnull().sum()"
   ]
  },
  {
   "cell_type": "code",
   "execution_count": null,
   "metadata": {
    "id": "r7UqyewonMMv"
   },
   "outputs": [],
   "source": [
    "data = data.dropna()"
   ]
  },
  {
   "cell_type": "code",
   "execution_count": null,
   "metadata": {
    "colab": {
     "base_uri": "https://localhost:8080/"
    },
    "id": "0XHCWK62nVwr",
    "outputId": "34aa1bfc-1db2-45f9-bb52-9e9ed6c8286b"
   },
   "outputs": [
    {
     "data": {
      "text/plain": [
       "verified_reviews    0\n",
       "feedback            0\n",
       "dtype: int64"
      ]
     },
     "execution_count": 17,
     "metadata": {},
     "output_type": "execute_result"
    }
   ],
   "source": [
    "data.isnull().sum()"
   ]
  },
  {
   "cell_type": "code",
   "execution_count": null,
   "metadata": {
    "colab": {
     "base_uri": "https://localhost:8080/"
    },
    "id": "qRExP-Ospv2r",
    "outputId": "86f927c4-d6ad-4827-ff7e-cb7633c3f3d8"
   },
   "outputs": [
    {
     "data": {
      "text/plain": [
       "(3066, 2)"
      ]
     },
     "execution_count": 18,
     "metadata": {},
     "output_type": "execute_result"
    }
   ],
   "source": [
    "data.shape"
   ]
  },
  {
   "cell_type": "code",
   "execution_count": null,
   "metadata": {
    "id": "xG7ODTEKp0Cn"
   },
   "outputs": [],
   "source": [
    "data = data.drop_duplicates(subset=['verified_reviews'])"
   ]
  },
  {
   "cell_type": "code",
   "execution_count": null,
   "metadata": {
    "colab": {
     "base_uri": "https://localhost:8080/"
    },
    "id": "BF5Kuv5OqAZF",
    "outputId": "37b3863c-1a46-4bf9-a703-386079246ae3"
   },
   "outputs": [
    {
     "data": {
      "text/plain": [
       "(2296, 2)"
      ]
     },
     "execution_count": 20,
     "metadata": {},
     "output_type": "execute_result"
    }
   ],
   "source": [
    "data.shape"
   ]
  },
  {
   "cell_type": "markdown",
   "metadata": {
    "id": "-Yzr-DDInZ46"
   },
   "source": [
    "###Fin del preprocesamiento"
   ]
  },
  {
   "cell_type": "code",
   "execution_count": null,
   "metadata": {
    "id": "2NHVht0tnbwU"
   },
   "outputs": [],
   "source": [
    "X = data\n",
    "y = data['feedback']"
   ]
  },
  {
   "cell_type": "code",
   "execution_count": null,
   "metadata": {
    "colab": {
     "base_uri": "https://localhost:8080/"
    },
    "id": "kzIEcmE0T9_Z",
    "outputId": "9f9b2f09-8bbe-410c-a187-57d419e356f4"
   },
   "outputs": [
    {
     "name": "stdout",
     "output_type": "stream",
     "text": [
      "[nltk_data] Downloading package wordnet to /root/nltk_data...\n",
      "[nltk_data]   Unzipping corpora/wordnet.zip.\n",
      "[nltk_data] Downloading package stopwords to /root/nltk_data...\n",
      "[nltk_data]   Unzipping corpora/stopwords.zip.\n"
     ]
    }
   ],
   "source": [
    "#Se transforman los datos:\n",
    "#Tokenizar: Separa la frase en tokens\n",
    "#Lematización: Estandariza las palabras\n",
    "#Stop-words: Las palabras que no tienen relevancia\n",
    "#Se limpia los caracteres\n",
    "\n",
    "import nltk \n",
    "nltk.download('wordnet') # WordNet® is a large lexical database of English. \n",
    "nltk.download('stopwords') \n",
    "from nltk.corpus import stopwords\n",
    "\n",
    "from sklearn.feature_extraction.text import TfidfVectorizer, CountVectorizer\n",
    "from nltk.stem.snowball import SnowballStemmer # para transformar palabrasa a su raiz\n",
    "from nltk.stem import WordNetLemmatizer # \n",
    "\n",
    "tokenizer = TfidfVectorizer().build_tokenizer() #Return a function that splits a string into a sequence of tokens considering unicode characters\n",
    "stemmer = SnowballStemmer(\"english\") \n",
    "lemmatizer = WordNetLemmatizer()\n",
    "\n",
    "##stop-words: el vectorizador ya las remueve pero para mostrar las palabras más frecuente tiene sentido activarlo\n",
    "remove_stops_here = False\n",
    "\n",
    "def my_pre_processer(text, debug = False):\n",
    "    results = []\n",
    "    if (debug):\n",
    "        print(\"Tokenizer result: \", tokenizer(text))\n",
    "    for token in tokenizer(text):\n",
    "        clean_token = token.lower().strip('-').strip('_')\n",
    "        if remove_stops_here and (clean_token in stopwords.words('english')):\n",
    "          continue\n",
    "        #token_pro = stemmer.stem(clean_token) #podemos probar stemming en vez de lematizacion\n",
    "        token_pro = lemmatizer.lemmatize(clean_token) \n",
    "        if len(token_pro) > 2 and not token_pro[0].isdigit(): #elimina palabra largo menor a 2\n",
    "            results.append(token_pro)\n",
    "    return results"
   ]
  },
  {
   "cell_type": "code",
   "execution_count": null,
   "metadata": {
    "id": "exBtKwW1UXJn"
   },
   "outputs": [],
   "source": [
    "data['prep_verified_reviews'] = data['verified_reviews'].apply(my_pre_processer)"
   ]
  },
  {
   "cell_type": "code",
   "execution_count": null,
   "metadata": {
    "colab": {
     "base_uri": "https://localhost:8080/",
     "height": 424
    },
    "id": "5-Tr2wf0V9Um",
    "outputId": "c5ef97c9-1831-4e39-90ab-f2c37eec5827"
   },
   "outputs": [
    {
     "data": {
      "text/html": [
       "<div>\n",
       "<style scoped>\n",
       "    .dataframe tbody tr th:only-of-type {\n",
       "        vertical-align: middle;\n",
       "    }\n",
       "\n",
       "    .dataframe tbody tr th {\n",
       "        vertical-align: top;\n",
       "    }\n",
       "\n",
       "    .dataframe thead th {\n",
       "        text-align: right;\n",
       "    }\n",
       "</style>\n",
       "<table border=\"1\" class=\"dataframe\">\n",
       "  <thead>\n",
       "    <tr style=\"text-align: right;\">\n",
       "      <th></th>\n",
       "      <th>verified_reviews</th>\n",
       "      <th>feedback</th>\n",
       "      <th>prep_verified_reviews</th>\n",
       "    </tr>\n",
       "  </thead>\n",
       "  <tbody>\n",
       "    <tr>\n",
       "      <th>0</th>\n",
       "      <td>Love my Echo!</td>\n",
       "      <td>1</td>\n",
       "      <td>[love, echo]</td>\n",
       "    </tr>\n",
       "    <tr>\n",
       "      <th>1</th>\n",
       "      <td>Loved it!</td>\n",
       "      <td>1</td>\n",
       "      <td>[loved]</td>\n",
       "    </tr>\n",
       "    <tr>\n",
       "      <th>2</th>\n",
       "      <td>\"Sometimes while playing a game, you can answe...</td>\n",
       "      <td>1</td>\n",
       "      <td>[sometimes, while, playing, game, you, can, an...</td>\n",
       "    </tr>\n",
       "    <tr>\n",
       "      <th>3</th>\n",
       "      <td>\"I have had a lot of fun with this thing. My 4...</td>\n",
       "      <td>1</td>\n",
       "      <td>[have, had, lot, fun, with, this, thing, old, ...</td>\n",
       "    </tr>\n",
       "    <tr>\n",
       "      <th>4</th>\n",
       "      <td>Music</td>\n",
       "      <td>1</td>\n",
       "      <td>[music]</td>\n",
       "    </tr>\n",
       "    <tr>\n",
       "      <th>...</th>\n",
       "      <td>...</td>\n",
       "      <td>...</td>\n",
       "      <td>...</td>\n",
       "    </tr>\n",
       "    <tr>\n",
       "      <th>2795</th>\n",
       "      <td>\"Listening to music, searching locations, chec...</td>\n",
       "      <td>1</td>\n",
       "      <td>[listening, music, searching, location, checki...</td>\n",
       "    </tr>\n",
       "    <tr>\n",
       "      <th>2796</th>\n",
       "      <td>\"I do love these things, i have them running m...</td>\n",
       "      <td>1</td>\n",
       "      <td>[love, these, thing, have, them, running, enti...</td>\n",
       "    </tr>\n",
       "    <tr>\n",
       "      <th>2797</th>\n",
       "      <td>\"Only complaint I have is that the sound quali...</td>\n",
       "      <td>1</td>\n",
       "      <td>[only, complaint, have, that, the, sound, qual...</td>\n",
       "    </tr>\n",
       "    <tr>\n",
       "      <th>2799</th>\n",
       "      <td>Nice little unit  no issues</td>\n",
       "      <td>1</td>\n",
       "      <td>[nice, little, unit, issue]</td>\n",
       "    </tr>\n",
       "    <tr>\n",
       "      <th>2800</th>\n",
       "      <td>\"The echo dot was easy to set up and use. It h...</td>\n",
       "      <td>1</td>\n",
       "      <td>[the, echo, dot, easy, set, and, use, help, pr...</td>\n",
       "    </tr>\n",
       "  </tbody>\n",
       "</table>\n",
       "<p>2296 rows × 3 columns</p>\n",
       "</div>"
      ],
      "text/plain": [
       "                                       verified_reviews  ...                              prep_verified_reviews\n",
       "0                                         Love my Echo!  ...                                       [love, echo]\n",
       "1                                             Loved it!  ...                                            [loved]\n",
       "2     \"Sometimes while playing a game, you can answe...  ...  [sometimes, while, playing, game, you, can, an...\n",
       "3     \"I have had a lot of fun with this thing. My 4...  ...  [have, had, lot, fun, with, this, thing, old, ...\n",
       "4                                                 Music  ...                                            [music]\n",
       "...                                                 ...  ...                                                ...\n",
       "2795  \"Listening to music, searching locations, chec...  ...  [listening, music, searching, location, checki...\n",
       "2796  \"I do love these things, i have them running m...  ...  [love, these, thing, have, them, running, enti...\n",
       "2797  \"Only complaint I have is that the sound quali...  ...  [only, complaint, have, that, the, sound, qual...\n",
       "2799                        Nice little unit  no issues  ...                        [nice, little, unit, issue]\n",
       "2800  \"The echo dot was easy to set up and use. It h...  ...  [the, echo, dot, easy, set, and, use, help, pr...\n",
       "\n",
       "[2296 rows x 3 columns]"
      ]
     },
     "execution_count": 24,
     "metadata": {},
     "output_type": "execute_result"
    }
   ],
   "source": [
    "data"
   ]
  },
  {
   "cell_type": "code",
   "execution_count": null,
   "metadata": {
    "id": "atwD4mqCYWuX"
   },
   "outputs": [],
   "source": [
    "from sklearn.model_selection import train_test_split\n",
    "X_train, X_test, y_train, y_test = train_test_split(X, y, test_size = 0.3, random_state = 0)"
   ]
  },
  {
   "cell_type": "code",
   "execution_count": null,
   "metadata": {
    "colab": {
     "base_uri": "https://localhost:8080/"
    },
    "id": "A4FOMozCYZ8c",
    "outputId": "ad7f70e4-71fb-40e0-e81f-e62c8f174588"
   },
   "outputs": [
    {
     "data": {
      "text/plain": [
       "((1607, 3), (689, 3))"
      ]
     },
     "execution_count": 26,
     "metadata": {},
     "output_type": "execute_result"
    }
   ],
   "source": [
    "X_train.shape, X_test.shape"
   ]
  },
  {
   "cell_type": "code",
   "execution_count": null,
   "metadata": {
    "colab": {
     "base_uri": "https://localhost:8080/",
     "height": 662
    },
    "id": "tyy_-EW-VUMD",
    "outputId": "7e86f53d-3e62-4f32-cf70-a3eb021b9bdb"
   },
   "outputs": [
    {
     "data": {
      "image/png": "[encoded data removed]",
      "text/plain": [
       "<Figure size 1296x720 with 2 Axes>"
      ]
     },
     "metadata": {
      "needs_background": "light"
     },
     "output_type": "display_data"
    }
   ],
   "source": [
    "all_tokens_pos = [token for sublist in X_train[X_train.feedback==1].prep_verified_reviews for token in sublist]\n",
    "all_tokens_neg = [token for sublist in X_train[X_train.feedback==0].prep_verified_reviews for token in sublist]\n",
    "\n",
    "from collections import Counter\n",
    "freqs_pos = Counter(all_tokens_pos)\n",
    "freqs_neg = Counter(all_tokens_neg)\n",
    "\n",
    "sorted_words_pos  =  {k: v for k, v in sorted(freqs_pos.items(), key=lambda item: item[1], reverse=True)}\n",
    "sorted_words_neg =  {k: v for k, v in sorted(freqs_neg.items(), key=lambda item: item[1], reverse=True)}\n",
    "\n",
    "top = 100\n",
    "y_pos = [float(y) for y in sorted_words_pos.values()]\n",
    "x_pos = [x for x in sorted_words_pos.keys()]\n",
    "y_neg = [float(y) for y in sorted_words_neg.values()]\n",
    "x_neg = [x for x in sorted_words_neg.keys()]\n",
    "\n",
    "\n",
    "fig, ax = plt.subplots(figsize=(18,10),nrows=2)\n",
    "p1 = sns.barplot(x=x_pos[:top],y=y_pos[:top],palette=\"Blues_d\",ax=ax[0])\n",
    "p2 = sns.barplot(x=x_neg[:top],y=y_neg[:top],palette=\"Blues_d\",ax=ax[1])\n",
    "ax[0].set_title('Frecuencia Palabras en Textos Positivos')\n",
    "ax[1].set_title('Frecuencia Palabras en Textos Negativos')\n",
    "plt.subplots_adjust(hspace=1.5)\n",
    "plt.setp(p1.get_xticklabels(), rotation=90)\n",
    "plt.setp(p2.get_xticklabels(), rotation=90)\n",
    "plt.show()\n"
   ]
  },
  {
   "cell_type": "code",
   "execution_count": null,
   "metadata": {
    "colab": {
     "base_uri": "https://localhost:8080/"
    },
    "id": "7AEKEx45Oqu8",
    "outputId": "b6556437-b768-4c0f-ee61-e4dfed8f97de"
   },
   "outputs": [
    {
     "name": "stderr",
     "output_type": "stream",
     "text": [
      "/usr/local/lib/python3.7/dist-packages/sklearn/feature_extraction/text.py:507: UserWarning: The parameter 'token_pattern' will not be used since 'tokenizer' is not None'\n",
      "  warnings.warn(\"The parameter 'token_pattern' will not be used\"\n"
     ]
    },
    {
     "name": "stdout",
     "output_type": "stream",
     "text": [
      "\n",
      "X,y Train Shapes: (1607, 416) (1607,)\n",
      "X,y Val Shapes: (344, 416) (344,)\n",
      "X,y Test Shapes: (345, 416) (345,)\n"
     ]
    }
   ],
   "source": [
    "#Se vectorizan los tokens\n",
    "\n",
    "from sklearn.feature_extraction.text import CountVectorizer\n",
    "# Bag of words, contar la cantidad de veces que aparece la palabra de un diccionario en el texto que intentamos clasificar \n",
    "# El diccionario, o lo descargamos nosotros o lo creamos concatenando nuestras palabras. Esto ultimo se hace aca.\n",
    "\n",
    "# combinaciones de palabras mas frecuentes. build a vocabulary that only consider the top max_features ordered by term frequency across the corpus.\n",
    "max_features = 10000 \n",
    "\n",
    "#cantidad máx o min de frecuencia\n",
    "max_df = 0.8\n",
    "min_df = 10\n",
    "\n",
    "### NUMBER OF N GRAMS TO CONSIDER\n",
    "# Contar ya no las veces que ocurren las palabras, sino contar las \n",
    "# veces que aparecer conjuntos de palabras. Que sea 1 es que solo 1 palabra. Si es > 1 se hace lento el procesamiento. \n",
    "ngram_max = 4\n",
    "\n",
    "################ vectoriza el texto  ####################################################\n",
    "\n",
    "# toda esta pipeline se hace con esta libreria. CoutVectorizer vectoriza el texto\n",
    "vectorizer = CountVectorizer(stop_words='english', tokenizer=my_pre_processer,min_df=min_df, max_df=max_df, max_features=max_features,\n",
    "                              binary=True, ngram_range=(1, ngram_max))\n",
    "\n",
    "\n",
    "vectorizer.fit(X_train['verified_reviews']) # fitear el vectorizer solo con data_train  \n",
    "\n",
    "binary_train = vectorizer.transform(X_train['verified_reviews']) # aplicar la transformacion a data_train para obtener binary_train\n",
    "\n",
    "########################################################################################\n",
    "\n",
    "#Aprovechamos de crear datos para validacion. Para ello dividimos data_test en 2 subconjuntos: uno para validacion y otro para test.  \n",
    "\n",
    "X_val, X_test, y_val, y_test = train_test_split(X_test, y_test, test_size=0.5, random_state=42) # defimos un validation set\n",
    "\n",
    "# aplicamos el vectorizer \"fiteado\" a los nuevos subconjuntos\n",
    "binary_val = vectorizer.transform(X_val['verified_reviews']) # datos de validacion\n",
    "binary_test = vectorizer.transform(X_test['verified_reviews']) # datos de test \n",
    "\n",
    "print(\"\\nX,y Train Shapes:\", binary_train.shape, y_train.shape)\n",
    "print(\"X,y Val Shapes:\", binary_val.shape, y_val.shape)\n",
    "print(\"X,y Test Shapes:\", binary_test.shape, y_test.shape)"
   ]
  },
  {
   "cell_type": "code",
   "execution_count": null,
   "metadata": {
    "colab": {
     "base_uri": "https://localhost:8080/"
    },
    "id": "4LBJizpGOur0",
    "outputId": "98db823e-2668-422b-d3b7-3e70dbf8cce7"
   },
   "outputs": [
    {
     "name": "stdout",
     "output_type": "stream",
     "text": [
      "68\n"
     ]
    }
   ],
   "source": [
    "cont = 0\n",
    "for feature in vectorizer.get_feature_names():\n",
    "    if ( len(feature.split(' ')) > 1 ):\n",
    "         cont+= 1\n",
    "\n",
    "print(cont)"
   ]
  },
  {
   "cell_type": "markdown",
   "metadata": {
    "id": "7oWbRjmlSWub"
   },
   "source": [
    "###NB (representación binaria)"
   ]
  },
  {
   "cell_type": "code",
   "execution_count": null,
   "metadata": {
    "id": "mO0AcrS9Owzn"
   },
   "outputs": [],
   "source": [
    "from sklearn.naive_bayes import BernoulliNB\n",
    "\n",
    "from sklearn.model_selection import train_test_split\n",
    "from sklearn.metrics import roc_curve\n",
    "from sklearn.metrics import plot_confusion_matrix\n",
    "from sklearn.metrics import precision_recall_curve, auc, average_precision_score\n",
    "\n",
    "\n",
    "def NBC(X_train, y_train, X_val, y_val, X_test, y_test):\n",
    "\n",
    "    clf = BernoulliNB(alpha=1) # suavisamiento laplasiano, lo de los priors. (diapo 25 tema 3). \"Que algo no ha pasado no quiere decir que no vaya a ocurrrir\" \n",
    "    clf.fit(X_train, y_train) # ajustar con datos de entrenamiento \n",
    "\n",
    "    s_train = clf.score(X_train, y_train)\n",
    "\n",
    "    print(\"Score Train: \", s_train)\n",
    "\n",
    "    scores_val = clf.predict_proba(X_val)[:,1]\n",
    "    labels = clf.classes_\n",
    "    pos_class = labels[1]\n",
    "\n",
    "    fpr_, tpr_, thresholds_ = roc_curve(y_val, scores_val, pos_label=pos_class) \n",
    "    precision_, recall_, thrs_ = precision_recall_curve(y_val, scores_val, pos_label=pos_class)\n",
    "\n",
    "\n",
    "    disp = plot_confusion_matrix(clf, X_test, y_test, display_labels=labels, cmap=plt.cm.Blues,normalize='all')\n",
    "    disp.ax_.set_title(\"confusion BNB Test\")\n",
    "\n",
    "    print(disp.confusion_matrix)\n",
    "\n",
    "\n",
    "    # Curva ROC: mientras mas area mejor. Deberia estar pegada al escalon de 0 a 1 (eje y) al inicio\n",
    "    # un clasificador trivial obtiene la diagonal, por eso se grafica con al curva ROC. Cualquier cosa sobre la linea es mejor que aleatorio. \n",
    "    # Si la tasa de False Positivo es 60%, la tasa de Verdaderos negativos seria de 40%\n",
    "\n",
    "    # Curva PR: mientras mas area mejor, deberia estar pegada al escalon de 1 a 0 (eje y) al final"
   ]
  },
  {
   "cell_type": "code",
   "execution_count": null,
   "metadata": {
    "colab": {
     "base_uri": "https://localhost:8080/",
     "height": 350
    },
    "id": "61Bz_FDrOyUZ",
    "outputId": "5dea013d-3b7c-464d-903b-d4ad8e95b798"
   },
   "outputs": [
    {
     "name": "stdout",
     "output_type": "stream",
     "text": [
      "Score Train:  0.8948350964530181\n",
      "[[0.05217391 0.05217391]\n",
      " [0.05797101 0.83768116]]\n"
     ]
    },
    {
     "data": {
      "image/png": "[encoded data removed]",
      "text/plain": [
       "<Figure size 432x288 with 2 Axes>"
      ]
     },
     "metadata": {
      "needs_background": "light"
     },
     "output_type": "display_data"
    }
   ],
   "source": [
    "NBC(binary_train, y_train, binary_val, y_val, binary_test, y_test)"
   ]
  },
  {
   "cell_type": "markdown",
   "metadata": {
    "id": "ixQNOPrLf_j_"
   },
   "source": [
    "### Representación TF (Representación discreta)"
   ]
  },
  {
   "cell_type": "code",
   "execution_count": null,
   "metadata": {
    "colab": {
     "base_uri": "https://localhost:8080/"
    },
    "id": "SI_rLAlbepzg",
    "outputId": "a9eb57d7-7059-4293-8c4c-4b6723150a6d"
   },
   "outputs": [
    {
     "name": "stdout",
     "output_type": "stream",
     "text": [
      "(1607,) (345,)\n"
     ]
    }
   ],
   "source": [
    "# antes de todo almacenamos las etiquetas (pos o neg) correspondiente a cada ejemplo de entrenamiento\n",
    "y_train = X_train['feedback']\n",
    "\n",
    "# y almacenamos las etiquetas correspondientes al conjunto de testing\n",
    "y_test = X_test['feedback']\n",
    "\n",
    "print(y_train.shape, y_test.shape)"
   ]
  },
  {
   "cell_type": "code",
   "execution_count": null,
   "metadata": {
    "colab": {
     "base_uri": "https://localhost:8080/"
    },
    "id": "eTRGP9nufVV_",
    "outputId": "86689cce-a3ea-46d8-9333-10a8d9440d3a"
   },
   "outputs": [
    {
     "name": "stderr",
     "output_type": "stream",
     "text": [
      "/usr/local/lib/python3.7/dist-packages/sklearn/feature_extraction/text.py:507: UserWarning: The parameter 'token_pattern' will not be used since 'tokenizer' is not None'\n",
      "  warnings.warn(\"The parameter 'token_pattern' will not be used\"\n"
     ]
    },
    {
     "name": "stdout",
     "output_type": "stream",
     "text": [
      "\n",
      "X,y Train Shapes: (1607, 2764) (1607,)\n",
      "X,y Val Shapes: (172, 2764) (172,)\n",
      "X,y Test Shapes: (173, 2764) (173,)\n"
     ]
    }
   ],
   "source": [
    "from sklearn.feature_extraction.text import TfidfVectorizer \n",
    "\n",
    "ngram_max =1\n",
    "max_features = 10000 # limitar el numero de caracteristicas a utilizar, las 10 mil palabras o combinaciones de palabras mas frecuentes\n",
    "max_df=0.8\n",
    "min_df=1\n",
    "\n",
    "vectorizer = CountVectorizer(stop_words='english',tokenizer=my_pre_processer,min_df=min_df, max_df=max_df, max_features=max_features,\n",
    "                              binary=False, ngram_range=(1, ngram_max)) # ahora, Binary es False \n",
    "\n",
    "vectorizer.fit(X_train['verified_reviews']) # fitear el vectorizer solo con data_train  \n",
    "\n",
    "discrete_train = vectorizer.transform(X_train['verified_reviews']) # aplicar la transformacion a data_train para obtener discrete_train\n",
    "\n",
    "########################################################################################\n",
    "\n",
    "#Aprovechamos de crear datos para validacion. Para ello dividimos data_test en 2 subconjuntos: uno para validacion y otro para test.  \n",
    "\n",
    "x_val, x_test, y_val, y_test = train_test_split(X_test, y_test, test_size=0.5, random_state=42) # defimos un validation set\n",
    "\n",
    "# aplicamos el vectorizer \"fiteado\" a los nuevos subconjuntos\n",
    "discrete_val = vectorizer.transform(x_val['verified_reviews']) # datos de validacion\n",
    "discrete_test = vectorizer.transform(x_test['verified_reviews']) # datos de test \n",
    "\n",
    "print(\"\\nX,y Train Shapes:\", discrete_train.shape, y_train.shape)\n",
    "print(\"X,y Val Shapes:\", discrete_val.shape, y_val.shape)\n",
    "print(\"X,y Test Shapes:\", discrete_test.shape, y_test.shape)"
   ]
  },
  {
   "cell_type": "code",
   "execution_count": null,
   "metadata": {
    "colab": {
     "base_uri": "https://localhost:8080/"
    },
    "id": "ZjR0wastfpnI",
    "outputId": "ef5e55ca-0857-4662-adf0-766da5fd94cd"
   },
   "outputs": [
    {
     "name": "stdout",
     "output_type": "stream",
     "text": [
      "10\n",
      "1\n"
     ]
    }
   ],
   "source": [
    "# veamos algunos valores de la matriz\n",
    "print(np.max(discrete_train)) # el maximo \n",
    "print(np.min(discrete_train[np.nonzero(discrete_train)])) # el minimo"
   ]
  },
  {
   "cell_type": "code",
   "execution_count": null,
   "metadata": {
    "colab": {
     "base_uri": "https://localhost:8080/",
     "height": 350
    },
    "id": "8SMsh3bQfvY9",
    "outputId": "3390bbdb-08ac-424d-db3f-197043bdaee4"
   },
   "outputs": [
    {
     "name": "stdout",
     "output_type": "stream",
     "text": [
      "Score Train:  0.9085252022401992\n",
      "[[0.01734104 0.09248555]\n",
      " [0.02312139 0.86705202]]\n"
     ]
    },
    {
     "data": {
      "image/png": "[encoded data removed]",
      "text/plain": [
       "<Figure size 432x288 with 2 Axes>"
      ]
     },
     "metadata": {
      "needs_background": "light"
     },
     "output_type": "display_data"
    }
   ],
   "source": [
    "NBC(discrete_train, y_train, discrete_val, y_val, discrete_test, y_test)"
   ]
  },
  {
   "cell_type": "markdown",
   "metadata": {
    "id": "1gPuGi-JgDG1"
   },
   "source": [
    "### Representación TF-IDF (inverse document frequency) (representación continua)"
   ]
  },
  {
   "cell_type": "code",
   "execution_count": null,
   "metadata": {
    "colab": {
     "base_uri": "https://localhost:8080/"
    },
    "id": "p63nbjY0gClo",
    "outputId": "30c52901-3df2-4cc7-e23f-fb86990a67a6"
   },
   "outputs": [
    {
     "name": "stdout",
     "output_type": "stream",
     "text": [
      "(1607,) (345,)\n"
     ]
    }
   ],
   "source": [
    "# antes de todo almacenamos las etiquetas (pos o neg) correspondiente a cada ejemplo de entrenamiento\n",
    "y_train = X_train['feedback']\n",
    "\n",
    "# y almacenamos las etiquetas correspondientes al conjunto de testing\n",
    "y_test = X_test['feedback']\n",
    "\n",
    "print(y_train.shape, y_test.shape)"
   ]
  },
  {
   "cell_type": "code",
   "execution_count": null,
   "metadata": {
    "colab": {
     "base_uri": "https://localhost:8080/"
    },
    "id": "8jY7hoEHgNAK",
    "outputId": "314c4358-8e6c-4a2b-9789-43322105fe4a"
   },
   "outputs": [
    {
     "name": "stderr",
     "output_type": "stream",
     "text": [
      "/usr/local/lib/python3.7/dist-packages/sklearn/feature_extraction/text.py:507: UserWarning: The parameter 'token_pattern' will not be used since 'tokenizer' is not None'\n",
      "  warnings.warn(\"The parameter 'token_pattern' will not be used\"\n"
     ]
    },
    {
     "name": "stdout",
     "output_type": "stream",
     "text": [
      "\n",
      "X,y Train Shapes: (1607, 2764) (1607,)\n",
      "X,y Val Shapes: (172, 2764) (172,)\n",
      "X,y Test Shapes: (173, 2764) (173,)\n"
     ]
    }
   ],
   "source": [
    "## lo que tenemos es que no solo contamos el numero de veces que aparece cada palabra, sino que vamos a corregir ese contador \n",
    "#  por lo que se llama \"frecuencia inversa del documento\" => si una palabra aparece en muchos textos, es muy probable que no sea una palabra \n",
    "#  que contiene informacion sobre la clase o sobre las caracteristicas de un texto especifico, \"casi un stop word\".\n",
    "# Se pesa de manera inversa al su aparicion en el corpus. Los atributos ahora son números reales.\n",
    "\n",
    "ngram_max = 1\n",
    "max_features = 10000 # 10mil numeros reales\n",
    "max_df=0.8\n",
    "min_df=1\n",
    "\n",
    "vectorizer = TfidfVectorizer(stop_words='english',tokenizer=my_pre_processer,min_df=min_df, max_df=max_df, max_features=max_features,\n",
    "                              binary=False, use_idf=True, smooth_idf=True, norm=None, ngram_range=(1, ngram_max))\n",
    "\n",
    "vectorizer.fit(X_train['verified_reviews'])\n",
    "\n",
    "vector_train = vectorizer.transform(X_train['verified_reviews'])\n",
    "\n",
    "########################################################################################\n",
    "\n",
    "#Aprovechamos de crear datos para validacion. Para ello dividimos data_test en 2 subconjuntos: uno para validacion y otro para test.  \n",
    "\n",
    "x_val, x_test, y_val, y_test = train_test_split(X_test, y_test, test_size=0.5, random_state=42) # defimos un validation set\n",
    "\n",
    "# aplicamos el vectorizer \"fiteado\" a los nuevos subconjuntos\n",
    "vector_val = vectorizer.transform(x_val['verified_reviews']) # datos de validacion\n",
    "vector_test = vectorizer.transform(x_test['verified_reviews']) # datos de test \n",
    "\n",
    "print(\"\\nX,y Train Shapes:\", vector_train.shape, y_train.shape)\n",
    "print(\"X,y Val Shapes:\", vector_val.shape, y_val.shape)\n",
    "print(\"X,y Test Shapes:\", vector_test.shape, y_test.shape)"
   ]
  },
  {
   "cell_type": "code",
   "execution_count": null,
   "metadata": {
    "colab": {
     "base_uri": "https://localhost:8080/"
    },
    "id": "3nHSD4IjgfNg",
    "outputId": "63e87901-caec-4636-85f7-161774704bc9"
   },
   "outputs": [
    {
     "name": "stdout",
     "output_type": "stream",
     "text": [
      "43.19304760154521\n",
      "2.286921887306687\n"
     ]
    }
   ],
   "source": [
    "# veamos algunos valores de la matriz\n",
    "print(np.max(vector_train)) # el maximo \n",
    "print(np.min(vector_train[np.nonzero(vector_train)])) # el minimo"
   ]
  },
  {
   "cell_type": "code",
   "execution_count": null,
   "metadata": {
    "colab": {
     "base_uri": "https://localhost:8080/",
     "height": 350
    },
    "id": "2xAqY0kaghaM",
    "outputId": "a18ca3f4-7c12-4564-e178-813bc26d63aa"
   },
   "outputs": [
    {
     "name": "stdout",
     "output_type": "stream",
     "text": [
      "Score Train:  0.9085252022401992\n",
      "[[0.01734104 0.09248555]\n",
      " [0.02312139 0.86705202]]\n"
     ]
    },
    {
     "data": {
      "image/png": "[encoded data removed]",
      "text/plain": [
       "<Figure size 432x288 with 2 Axes>"
      ]
     },
     "metadata": {
      "needs_background": "light"
     },
     "output_type": "display_data"
    }
   ],
   "source": [
    "NBC(vector_train, y_train, vector_val, y_val, vector_test, y_test)"
   ]
  },
  {
   "cell_type": "markdown",
   "metadata": {
    "id": "wPpjLywtgynN"
   },
   "source": [
    "### Bayes ingenuo multinomial: Bag of words -> Secuencia de palabras"
   ]
  },
  {
   "cell_type": "code",
   "execution_count": null,
   "metadata": {
    "colab": {
     "base_uri": "https://localhost:8080/"
    },
    "id": "gJVdI1Hlg2vL",
    "outputId": "b29bd685-05b9-4573-ebee-b82a5ded586e"
   },
   "outputs": [
    {
     "name": "stdout",
     "output_type": "stream",
     "text": [
      "(1607,) (345,)\n"
     ]
    }
   ],
   "source": [
    "# antes de todo almacenamos las etiquetas (pos o neg) correspondiente a cada ejemplo de entrenamiento\n",
    "y_train = X_train['feedback']\n",
    "\n",
    "# y almacenamos las etiquetas correspondientes al conjunto de testing\n",
    "y_test = X_test['feedback']\n",
    "\n",
    "print(y_train.shape, y_test.shape)"
   ]
  },
  {
   "cell_type": "code",
   "execution_count": null,
   "metadata": {
    "colab": {
     "base_uri": "https://localhost:8080/"
    },
    "id": "RH4Ta8VihB8D",
    "outputId": "16aa6119-8636-4a56-9ed3-374252bf877d"
   },
   "outputs": [
    {
     "name": "stderr",
     "output_type": "stream",
     "text": [
      "/usr/local/lib/python3.7/dist-packages/sklearn/feature_extraction/text.py:507: UserWarning: The parameter 'token_pattern' will not be used since 'tokenizer' is not None'\n",
      "  warnings.warn(\"The parameter 'token_pattern' will not be used\"\n"
     ]
    },
    {
     "name": "stdout",
     "output_type": "stream",
     "text": [
      "\n",
      "X,y Train Shapes: (1607, 2764) (1607,)\n",
      "X,y Val Shapes: (172, 2764) (172,)\n",
      "X,y Test Shapes: (173, 2764) (173,)\n"
     ]
    }
   ],
   "source": [
    "ngram_max =1\n",
    "max_features = 10000 # limitar el numero de caracteristicas a utilizar, las 10 mil palabras o combinaciones de palabras mas frecuentes\n",
    "max_df=0.8\n",
    "min_df=1\n",
    "\n",
    "vectorizer = CountVectorizer(stop_words='english',tokenizer=my_pre_processer,min_df=min_df, max_df=max_df, max_features=max_features,\n",
    "                              binary=False, ngram_range=(1, ngram_max)) # ahora, Binary es False \n",
    "\n",
    "vectorizer.fit(X_train['verified_reviews']) # fitear el vectorizer solo con data_train  \n",
    "\n",
    "discrete_train = vectorizer.transform(X_train['verified_reviews']) # aplicar la transformacion a data_train para obtener discrete_train\n",
    "\n",
    "########################################################################################\n",
    "\n",
    "#Aprovechamos de crear datos para validacion. Para ello dividimos data_test en 2 subconjuntos: uno para validacion y otro para test.  \n",
    "\n",
    "x_val, x_test, y_val, y_test = train_test_split(X_test, y_test, test_size=0.5, random_state=42) # defimos un validation set\n",
    "\n",
    "# aplicamos el vectorizer \"fiteado\" a los nuevos subconjuntos\n",
    "discrete_val = vectorizer.transform(x_val['verified_reviews']) # datos de validacion\n",
    "discrete_test = vectorizer.transform(x_test['verified_reviews']) # datos de test \n",
    "\n",
    "print(\"\\nX,y Train Shapes:\", discrete_train.shape, y_train.shape)\n",
    "print(\"X,y Val Shapes:\", discrete_val.shape, y_val.shape)\n",
    "print(\"X,y Test Shapes:\", discrete_test.shape, y_test.shape)"
   ]
  },
  {
   "cell_type": "code",
   "execution_count": null,
   "metadata": {
    "colab": {
     "base_uri": "https://localhost:8080/",
     "height": 350
    },
    "id": "ysSvprvohQtL",
    "outputId": "c55acdbe-4393-4eab-c465-ce7b9d97311a"
   },
   "outputs": [
    {
     "name": "stdout",
     "output_type": "stream",
     "text": [
      "Score Train:  0.9570628500311139\n",
      "[[0.01734104 0.09248555]\n",
      " [0.00578035 0.88439306]]\n"
     ]
    },
    {
     "data": {
      "image/png": "[encoded data removed]",
      "text/plain": [
       "<Figure size 432x288 with 2 Axes>"
      ]
     },
     "metadata": {
      "needs_background": "light"
     },
     "output_type": "display_data"
    }
   ],
   "source": [
    "'''\n",
    "Bayes multinomial trata el texto como secuencia de palabras en vez de bag of words. \n",
    "No cuentan las palabras que no estan en el texto. Solo aquellas que si estan. \n",
    "'''\n",
    "from sklearn.naive_bayes import MultinomialNB\n",
    "\n",
    "clf = MultinomialNB(alpha=1)\n",
    "clf.fit(discrete_train, y_train)\n",
    "\n",
    "\n",
    "s_train = clf.score(discrete_train, y_train)\n",
    "\n",
    "print(\"Score Train: \", s_train)\n",
    "\n",
    "scores_val = clf.predict_proba(discrete_val)[:,1]\n",
    "labels = clf.classes_\n",
    "pos_class = labels[1]\n",
    "\n",
    "fpr_, tpr_, thresholds_ = roc_curve(y_val, scores_val, pos_label=pos_class) \n",
    "precision_, recall_, thrs_ = precision_recall_curve(y_val, scores_val, pos_label=pos_class)\n",
    "\n",
    "auc_ = auc(fpr_, tpr_) # area bajo la curva ROC\n",
    "aupr_ = average_precision_score(y_val, scores_val, pos_label=pos_class)  # area bajo la curva PR\n",
    "\n",
    "disp = plot_confusion_matrix(clf, discrete_test, y_test, display_labels=labels, cmap=plt.cm.Blues,normalize='all')\n",
    "disp.ax_.set_title(\"confusion BNB Test\")\n",
    "\n",
    "print(disp.confusion_matrix)"
   ]
  },
  {
   "cell_type": "markdown",
   "metadata": {
    "id": "7Au5wnqQdC_7"
   },
   "source": [
    "##Dataset 2 Mail Spam"
   ]
  },
  {
   "cell_type": "code",
   "execution_count": null,
   "metadata": {
    "id": "HSGHf4yvdTAV"
   },
   "outputs": [],
   "source": [
    "#import numpy as np\n",
    "#import pandas as pd\n",
    "#import matplotlib.pyplot as plt\n",
    "#import seaborn as sns\n",
    "#import re\n",
    "#from bs4 import BeautifulSoup\n",
    "#import string\n",
    "#import nltk\n",
    "#from nltk.corpus import stopwords\n",
    "#nltk.download('stopwords')\n",
    "#nltk.download('punkt')\n",
    "#nltk.download('wordnet')"
   ]
  },
  {
   "cell_type": "code",
   "execution_count": null,
   "metadata": {
    "id": "GRspEd6HdUdf"
   },
   "outputs": [],
   "source": [
    "dataTest = pd.read_csv('SMS_test.csv',encoding = \"ISO-8859-1\")\n",
    "dataTrain = pd.read_csv('SMS_train.csv',encoding = \"ISO-8859-1\")"
   ]
  },
  {
   "cell_type": "code",
   "execution_count": null,
   "metadata": {
    "colab": {
     "base_uri": "https://localhost:8080/",
     "height": 206
    },
    "id": "wBGwJyjWdl4e",
    "outputId": "1552a86f-677e-470a-b8cb-656e1ae50a16"
   },
   "outputs": [
    {
     "data": {
      "text/html": [
       "<div>\n",
       "<style scoped>\n",
       "    .dataframe tbody tr th:only-of-type {\n",
       "        vertical-align: middle;\n",
       "    }\n",
       "\n",
       "    .dataframe tbody tr th {\n",
       "        vertical-align: top;\n",
       "    }\n",
       "\n",
       "    .dataframe thead th {\n",
       "        text-align: right;\n",
       "    }\n",
       "</style>\n",
       "<table border=\"1\" class=\"dataframe\">\n",
       "  <thead>\n",
       "    <tr style=\"text-align: right;\">\n",
       "      <th></th>\n",
       "      <th>S. No.</th>\n",
       "      <th>Message_body</th>\n",
       "      <th>Label</th>\n",
       "    </tr>\n",
       "  </thead>\n",
       "  <tbody>\n",
       "    <tr>\n",
       "      <th>0</th>\n",
       "      <td>1</td>\n",
       "      <td>UpgrdCentre Orange customer, you may now claim...</td>\n",
       "      <td>Spam</td>\n",
       "    </tr>\n",
       "    <tr>\n",
       "      <th>1</th>\n",
       "      <td>2</td>\n",
       "      <td>Loan for any purpose £500 - £75,000. Homeowner...</td>\n",
       "      <td>Spam</td>\n",
       "    </tr>\n",
       "    <tr>\n",
       "      <th>2</th>\n",
       "      <td>3</td>\n",
       "      <td>Congrats! Nokia 3650 video camera phone is you...</td>\n",
       "      <td>Spam</td>\n",
       "    </tr>\n",
       "    <tr>\n",
       "      <th>3</th>\n",
       "      <td>4</td>\n",
       "      <td>URGENT! Your Mobile number has been awarded wi...</td>\n",
       "      <td>Spam</td>\n",
       "    </tr>\n",
       "    <tr>\n",
       "      <th>4</th>\n",
       "      <td>5</td>\n",
       "      <td>Someone has contacted our dating service and e...</td>\n",
       "      <td>Spam</td>\n",
       "    </tr>\n",
       "  </tbody>\n",
       "</table>\n",
       "</div>"
      ],
      "text/plain": [
       "   S. No.                                       Message_body Label\n",
       "0       1  UpgrdCentre Orange customer, you may now claim...  Spam\n",
       "1       2  Loan for any purpose £500 - £75,000. Homeowner...  Spam\n",
       "2       3  Congrats! Nokia 3650 video camera phone is you...  Spam\n",
       "3       4  URGENT! Your Mobile number has been awarded wi...  Spam\n",
       "4       5  Someone has contacted our dating service and e...  Spam"
      ]
     },
     "execution_count": 45,
     "metadata": {},
     "output_type": "execute_result"
    }
   ],
   "source": [
    "dataTest.head()"
   ]
  },
  {
   "cell_type": "code",
   "execution_count": null,
   "metadata": {
    "colab": {
     "base_uri": "https://localhost:8080/",
     "height": 206
    },
    "id": "-TIiw7hOdoFh",
    "outputId": "046537eb-ab41-4fc2-ba6b-5ec071b00a39"
   },
   "outputs": [
    {
     "data": {
      "text/html": [
       "<div>\n",
       "<style scoped>\n",
       "    .dataframe tbody tr th:only-of-type {\n",
       "        vertical-align: middle;\n",
       "    }\n",
       "\n",
       "    .dataframe tbody tr th {\n",
       "        vertical-align: top;\n",
       "    }\n",
       "\n",
       "    .dataframe thead th {\n",
       "        text-align: right;\n",
       "    }\n",
       "</style>\n",
       "<table border=\"1\" class=\"dataframe\">\n",
       "  <thead>\n",
       "    <tr style=\"text-align: right;\">\n",
       "      <th></th>\n",
       "      <th>S. No.</th>\n",
       "      <th>Message_body</th>\n",
       "      <th>Label</th>\n",
       "    </tr>\n",
       "  </thead>\n",
       "  <tbody>\n",
       "    <tr>\n",
       "      <th>0</th>\n",
       "      <td>1</td>\n",
       "      <td>Rofl. Its true to its name</td>\n",
       "      <td>Non-Spam</td>\n",
       "    </tr>\n",
       "    <tr>\n",
       "      <th>1</th>\n",
       "      <td>2</td>\n",
       "      <td>The guy did some bitching but I acted like i'd...</td>\n",
       "      <td>Non-Spam</td>\n",
       "    </tr>\n",
       "    <tr>\n",
       "      <th>2</th>\n",
       "      <td>3</td>\n",
       "      <td>Pity, * was in mood for that. So...any other s...</td>\n",
       "      <td>Non-Spam</td>\n",
       "    </tr>\n",
       "    <tr>\n",
       "      <th>3</th>\n",
       "      <td>4</td>\n",
       "      <td>Will ü b going to esplanade fr home?</td>\n",
       "      <td>Non-Spam</td>\n",
       "    </tr>\n",
       "    <tr>\n",
       "      <th>4</th>\n",
       "      <td>5</td>\n",
       "      <td>This is the 2nd time we have tried 2 contact u...</td>\n",
       "      <td>Spam</td>\n",
       "    </tr>\n",
       "  </tbody>\n",
       "</table>\n",
       "</div>"
      ],
      "text/plain": [
       "   S. No.                                       Message_body     Label\n",
       "0       1                         Rofl. Its true to its name  Non-Spam\n",
       "1       2  The guy did some bitching but I acted like i'd...  Non-Spam\n",
       "2       3  Pity, * was in mood for that. So...any other s...  Non-Spam\n",
       "3       4               Will ü b going to esplanade fr home?  Non-Spam\n",
       "4       5  This is the 2nd time we have tried 2 contact u...      Spam"
      ]
     },
     "execution_count": 46,
     "metadata": {},
     "output_type": "execute_result"
    }
   ],
   "source": [
    "dataTrain.head()"
   ]
  },
  {
   "cell_type": "code",
   "execution_count": null,
   "metadata": {
    "id": "ytzkAMbGe38M"
   },
   "outputs": [],
   "source": [
    "dataTrain = dataTrain.drop(['S. No.'],axis=1)\n",
    "dataTest = dataTest.drop(['S. No.'],axis=1)\t"
   ]
  },
  {
   "cell_type": "code",
   "execution_count": null,
   "metadata": {
    "colab": {
     "base_uri": "https://localhost:8080/",
     "height": 206
    },
    "id": "TOgWbKtrfGy-",
    "outputId": "f0c26d5e-30c9-4fa6-941d-10f9e4e547bd"
   },
   "outputs": [
    {
     "data": {
      "text/html": [
       "<div>\n",
       "<style scoped>\n",
       "    .dataframe tbody tr th:only-of-type {\n",
       "        vertical-align: middle;\n",
       "    }\n",
       "\n",
       "    .dataframe tbody tr th {\n",
       "        vertical-align: top;\n",
       "    }\n",
       "\n",
       "    .dataframe thead th {\n",
       "        text-align: right;\n",
       "    }\n",
       "</style>\n",
       "<table border=\"1\" class=\"dataframe\">\n",
       "  <thead>\n",
       "    <tr style=\"text-align: right;\">\n",
       "      <th></th>\n",
       "      <th>Message_body</th>\n",
       "      <th>Label</th>\n",
       "    </tr>\n",
       "  </thead>\n",
       "  <tbody>\n",
       "    <tr>\n",
       "      <th>0</th>\n",
       "      <td>Rofl. Its true to its name</td>\n",
       "      <td>Non-Spam</td>\n",
       "    </tr>\n",
       "    <tr>\n",
       "      <th>1</th>\n",
       "      <td>The guy did some bitching but I acted like i'd...</td>\n",
       "      <td>Non-Spam</td>\n",
       "    </tr>\n",
       "    <tr>\n",
       "      <th>2</th>\n",
       "      <td>Pity, * was in mood for that. So...any other s...</td>\n",
       "      <td>Non-Spam</td>\n",
       "    </tr>\n",
       "    <tr>\n",
       "      <th>3</th>\n",
       "      <td>Will ü b going to esplanade fr home?</td>\n",
       "      <td>Non-Spam</td>\n",
       "    </tr>\n",
       "    <tr>\n",
       "      <th>4</th>\n",
       "      <td>This is the 2nd time we have tried 2 contact u...</td>\n",
       "      <td>Spam</td>\n",
       "    </tr>\n",
       "  </tbody>\n",
       "</table>\n",
       "</div>"
      ],
      "text/plain": [
       "                                        Message_body     Label\n",
       "0                         Rofl. Its true to its name  Non-Spam\n",
       "1  The guy did some bitching but I acted like i'd...  Non-Spam\n",
       "2  Pity, * was in mood for that. So...any other s...  Non-Spam\n",
       "3               Will ü b going to esplanade fr home?  Non-Spam\n",
       "4  This is the 2nd time we have tried 2 contact u...      Spam"
      ]
     },
     "execution_count": 48,
     "metadata": {},
     "output_type": "execute_result"
    }
   ],
   "source": [
    "dataTrain.head()"
   ]
  },
  {
   "cell_type": "code",
   "execution_count": null,
   "metadata": {
    "colab": {
     "base_uri": "https://localhost:8080/",
     "height": 206
    },
    "id": "Q3vMutG4fH6x",
    "outputId": "585946e5-5198-4e17-cfe8-79f5a8c2fc97"
   },
   "outputs": [
    {
     "data": {
      "text/html": [
       "<div>\n",
       "<style scoped>\n",
       "    .dataframe tbody tr th:only-of-type {\n",
       "        vertical-align: middle;\n",
       "    }\n",
       "\n",
       "    .dataframe tbody tr th {\n",
       "        vertical-align: top;\n",
       "    }\n",
       "\n",
       "    .dataframe thead th {\n",
       "        text-align: right;\n",
       "    }\n",
       "</style>\n",
       "<table border=\"1\" class=\"dataframe\">\n",
       "  <thead>\n",
       "    <tr style=\"text-align: right;\">\n",
       "      <th></th>\n",
       "      <th>Message_body</th>\n",
       "      <th>Label</th>\n",
       "    </tr>\n",
       "  </thead>\n",
       "  <tbody>\n",
       "    <tr>\n",
       "      <th>0</th>\n",
       "      <td>UpgrdCentre Orange customer, you may now claim...</td>\n",
       "      <td>Spam</td>\n",
       "    </tr>\n",
       "    <tr>\n",
       "      <th>1</th>\n",
       "      <td>Loan for any purpose £500 - £75,000. Homeowner...</td>\n",
       "      <td>Spam</td>\n",
       "    </tr>\n",
       "    <tr>\n",
       "      <th>2</th>\n",
       "      <td>Congrats! Nokia 3650 video camera phone is you...</td>\n",
       "      <td>Spam</td>\n",
       "    </tr>\n",
       "    <tr>\n",
       "      <th>3</th>\n",
       "      <td>URGENT! Your Mobile number has been awarded wi...</td>\n",
       "      <td>Spam</td>\n",
       "    </tr>\n",
       "    <tr>\n",
       "      <th>4</th>\n",
       "      <td>Someone has contacted our dating service and e...</td>\n",
       "      <td>Spam</td>\n",
       "    </tr>\n",
       "  </tbody>\n",
       "</table>\n",
       "</div>"
      ],
      "text/plain": [
       "                                        Message_body Label\n",
       "0  UpgrdCentre Orange customer, you may now claim...  Spam\n",
       "1  Loan for any purpose £500 - £75,000. Homeowner...  Spam\n",
       "2  Congrats! Nokia 3650 video camera phone is you...  Spam\n",
       "3  URGENT! Your Mobile number has been awarded wi...  Spam\n",
       "4  Someone has contacted our dating service and e...  Spam"
      ]
     },
     "execution_count": 49,
     "metadata": {},
     "output_type": "execute_result"
    }
   ],
   "source": [
    "dataTest.head()"
   ]
  },
  {
   "cell_type": "code",
   "execution_count": null,
   "metadata": {
    "colab": {
     "base_uri": "https://localhost:8080/"
    },
    "id": "5Hny1LNUfPMk",
    "outputId": "a07f556a-2cde-4d58-ade9-bbe263a6480d"
   },
   "outputs": [
    {
     "data": {
      "text/plain": [
       "Message_body    0\n",
       "Label           0\n",
       "dtype: int64"
      ]
     },
     "execution_count": 50,
     "metadata": {},
     "output_type": "execute_result"
    }
   ],
   "source": [
    "dataTrain.isnull().sum()"
   ]
  },
  {
   "cell_type": "code",
   "execution_count": null,
   "metadata": {
    "colab": {
     "base_uri": "https://localhost:8080/",
     "height": 49
    },
    "id": "U-GfaCL-fTV3",
    "outputId": "953d5333-d6fd-4e52-9d00-0b97a2d91eb9"
   },
   "outputs": [
    {
     "data": {
      "text/html": [
       "<div>\n",
       "<style scoped>\n",
       "    .dataframe tbody tr th:only-of-type {\n",
       "        vertical-align: middle;\n",
       "    }\n",
       "\n",
       "    .dataframe tbody tr th {\n",
       "        vertical-align: top;\n",
       "    }\n",
       "\n",
       "    .dataframe thead th {\n",
       "        text-align: right;\n",
       "    }\n",
       "</style>\n",
       "<table border=\"1\" class=\"dataframe\">\n",
       "  <thead>\n",
       "    <tr style=\"text-align: right;\">\n",
       "      <th></th>\n",
       "      <th>Message_body</th>\n",
       "      <th>Label</th>\n",
       "    </tr>\n",
       "  </thead>\n",
       "  <tbody>\n",
       "  </tbody>\n",
       "</table>\n",
       "</div>"
      ],
      "text/plain": [
       "Empty DataFrame\n",
       "Columns: [Message_body, Label]\n",
       "Index: []"
      ]
     },
     "execution_count": 51,
     "metadata": {},
     "output_type": "execute_result"
    }
   ],
   "source": [
    "dataTrain[dataTrain.Message_body == \" \"]"
   ]
  },
  {
   "cell_type": "code",
   "execution_count": null,
   "metadata": {
    "colab": {
     "base_uri": "https://localhost:8080/"
    },
    "id": "WJTpbVePgGy0",
    "outputId": "1047a6dc-3463-4695-ccbb-a2b0d7e63407"
   },
   "outputs": [
    {
     "data": {
      "text/plain": [
       "(957, 2)"
      ]
     },
     "execution_count": 52,
     "metadata": {},
     "output_type": "execute_result"
    }
   ],
   "source": [
    "dataTrain.shape"
   ]
  },
  {
   "cell_type": "code",
   "execution_count": null,
   "metadata": {
    "id": "ZAPsgb80f_Z5"
   },
   "outputs": [],
   "source": [
    "dataTrain = dataTrain.drop_duplicates(subset=['Message_body'])"
   ]
  },
  {
   "cell_type": "code",
   "execution_count": null,
   "metadata": {
    "colab": {
     "base_uri": "https://localhost:8080/"
    },
    "id": "RojRsmOZgKgW",
    "outputId": "bc48101b-85ba-4452-b67d-873cd58bbd9e"
   },
   "outputs": [
    {
     "data": {
      "text/plain": [
       "(945, 2)"
      ]
     },
     "execution_count": 54,
     "metadata": {},
     "output_type": "execute_result"
    }
   ],
   "source": [
    "dataTrain.shape"
   ]
  },
  {
   "cell_type": "code",
   "execution_count": null,
   "metadata": {
    "id": "7fQ59_DKN-53"
   },
   "outputs": [],
   "source": [
    "dataTrain[\"Label\"].replace(\"Non-Spam\", 1, inplace=True)\n",
    "dataTrain[\"Label\"].replace(\"Spam\", 0, inplace=True)\n",
    "dataTest[\"Label\"].replace(\"Non-Spam\", 1, inplace=True)\n",
    "dataTest[\"Label\"].replace(\"Spam\", 0, inplace=True)"
   ]
  },
  {
   "cell_type": "code",
   "execution_count": null,
   "metadata": {
    "colab": {
     "base_uri": "https://localhost:8080/"
    },
    "id": "mFkiDUiLgn8-",
    "outputId": "30f3f19f-5309-4759-993a-3f2f055451d4"
   },
   "outputs": [
    {
     "name": "stdout",
     "output_type": "stream",
     "text": [
      "[nltk_data] Downloading package wordnet to /root/nltk_data...\n",
      "[nltk_data]   Package wordnet is already up-to-date!\n",
      "[nltk_data] Downloading package stopwords to /root/nltk_data...\n",
      "[nltk_data]   Package stopwords is already up-to-date!\n"
     ]
    }
   ],
   "source": [
    "import nltk \n",
    "nltk.download('wordnet') # WordNet® is a large lexical database of English. \n",
    "nltk.download('stopwords') \n",
    "from nltk.corpus import stopwords\n",
    "\n",
    "from sklearn.feature_extraction.text import TfidfVectorizer, CountVectorizer\n",
    "from nltk.stem.snowball import SnowballStemmer # para transformar palabrasa a su raiz\n",
    "from nltk.stem import WordNetLemmatizer # \n",
    "\n",
    "tokenizer = TfidfVectorizer().build_tokenizer() #Return a function that splits a string into a sequence of tokens considering unicode characters\n",
    "stemmer = SnowballStemmer(\"english\") \n",
    "lemmatizer = WordNetLemmatizer()\n",
    "\n",
    "##stop-words: el vectorizador ya las remueve pero para mostrar las palabras más frecuente tiene sentido activarlo\n",
    "remove_stops_here = False\n",
    "\n",
    "def my_pre_processer(text, debug = False):\n",
    "    results = []\n",
    "    if (debug):\n",
    "        print(\"Tokenizer result: \", tokenizer(text))\n",
    "    for token in tokenizer(text):\n",
    "        clean_token = token.lower().strip('-').strip('_')\n",
    "        if remove_stops_here and (clean_token in stopwords.words('english')):\n",
    "          continue\n",
    "        #token_pro = stemmer.stem(clean_token) #podemos probar stemming en vez de lematizacion\n",
    "        token_pro = lemmatizer.lemmatize(clean_token) \n",
    "        if len(token_pro) > 2 and not token_pro[0].isdigit(): #elimina palabra largo menor a 2\n",
    "            results.append(token_pro)\n",
    "    return results"
   ]
  },
  {
   "cell_type": "code",
   "execution_count": null,
   "metadata": {
    "id": "3OnxzyDBgukv"
   },
   "outputs": [],
   "source": [
    "dataTrain['prep_Message_body'] = dataTrain['Message_body'].apply(my_pre_processer)"
   ]
  },
  {
   "cell_type": "code",
   "execution_count": null,
   "metadata": {
    "colab": {
     "base_uri": "https://localhost:8080/",
     "height": 206
    },
    "id": "0YOptGR5g4Nj",
    "outputId": "f6b68e29-f93d-4da4-c771-84a25ebb5b58"
   },
   "outputs": [
    {
     "data": {
      "text/html": [
       "<div>\n",
       "<style scoped>\n",
       "    .dataframe tbody tr th:only-of-type {\n",
       "        vertical-align: middle;\n",
       "    }\n",
       "\n",
       "    .dataframe tbody tr th {\n",
       "        vertical-align: top;\n",
       "    }\n",
       "\n",
       "    .dataframe thead th {\n",
       "        text-align: right;\n",
       "    }\n",
       "</style>\n",
       "<table border=\"1\" class=\"dataframe\">\n",
       "  <thead>\n",
       "    <tr style=\"text-align: right;\">\n",
       "      <th></th>\n",
       "      <th>Message_body</th>\n",
       "      <th>Label</th>\n",
       "      <th>prep_Message_body</th>\n",
       "    </tr>\n",
       "  </thead>\n",
       "  <tbody>\n",
       "    <tr>\n",
       "      <th>0</th>\n",
       "      <td>Rofl. Its true to its name</td>\n",
       "      <td>1</td>\n",
       "      <td>[rofl, true, name]</td>\n",
       "    </tr>\n",
       "    <tr>\n",
       "      <th>1</th>\n",
       "      <td>The guy did some bitching but I acted like i'd...</td>\n",
       "      <td>1</td>\n",
       "      <td>[the, guy, did, some, bitching, but, acted, li...</td>\n",
       "    </tr>\n",
       "    <tr>\n",
       "      <th>2</th>\n",
       "      <td>Pity, * was in mood for that. So...any other s...</td>\n",
       "      <td>1</td>\n",
       "      <td>[pity, mood, for, that, any, other, suggestion]</td>\n",
       "    </tr>\n",
       "    <tr>\n",
       "      <th>3</th>\n",
       "      <td>Will ü b going to esplanade fr home?</td>\n",
       "      <td>1</td>\n",
       "      <td>[will, going, esplanade, home]</td>\n",
       "    </tr>\n",
       "    <tr>\n",
       "      <th>4</th>\n",
       "      <td>This is the 2nd time we have tried 2 contact u...</td>\n",
       "      <td>0</td>\n",
       "      <td>[this, the, time, have, tried, contact, have, ...</td>\n",
       "    </tr>\n",
       "  </tbody>\n",
       "</table>\n",
       "</div>"
      ],
      "text/plain": [
       "                                        Message_body  ...                                  prep_Message_body\n",
       "0                         Rofl. Its true to its name  ...                                 [rofl, true, name]\n",
       "1  The guy did some bitching but I acted like i'd...  ...  [the, guy, did, some, bitching, but, acted, li...\n",
       "2  Pity, * was in mood for that. So...any other s...  ...    [pity, mood, for, that, any, other, suggestion]\n",
       "3               Will ü b going to esplanade fr home?  ...                     [will, going, esplanade, home]\n",
       "4  This is the 2nd time we have tried 2 contact u...  ...  [this, the, time, have, tried, contact, have, ...\n",
       "\n",
       "[5 rows x 3 columns]"
      ]
     },
     "execution_count": 58,
     "metadata": {},
     "output_type": "execute_result"
    }
   ],
   "source": [
    "dataTrain.head()"
   ]
  },
  {
   "cell_type": "code",
   "execution_count": null,
   "metadata": {
    "colab": {
     "base_uri": "https://localhost:8080/",
     "height": 656
    },
    "id": "wpq6IQb3hAtJ",
    "outputId": "cfcaf570-b5b1-405d-a8c3-1970179859f4"
   },
   "outputs": [
    {
     "data": {
      "image/png": "[encoded data removed]",
      "text/plain": [
       "<Figure size 1296x720 with 2 Axes>"
      ]
     },
     "metadata": {
      "needs_background": "light"
     },
     "output_type": "display_data"
    }
   ],
   "source": [
    "all_tokens_no_spam = [token for sublist in dataTrain[dataTrain.Label==1].prep_Message_body for token in sublist]\n",
    "all_tokens_spam = [token for sublist in dataTrain[dataTrain.Label==0].prep_Message_body for token in sublist]\n",
    "\n",
    "from collections import Counter\n",
    "freqs_no_spam = Counter(all_tokens_no_spam)\n",
    "freqs_spam = Counter(all_tokens_spam)\n",
    "\n",
    "sorted_words_no_spam  =  {k: v for k, v in sorted(freqs_no_spam.items(), key=lambda item: item[1], reverse=True)}\n",
    "sorted_words_spam =  {k: v for k, v in sorted(freqs_spam.items(), key=lambda item: item[1], reverse=True)}\n",
    "\n",
    "top = 100\n",
    "y_no_spam = [float(y) for y in sorted_words_no_spam.values()]\n",
    "x_no_spam = [x for x in sorted_words_no_spam.keys()]\n",
    "y_spam = [float(y) for y in sorted_words_spam.values()]\n",
    "x_spam = [x for x in sorted_words_spam.keys()]\n",
    "\n",
    "\n",
    "fig, ax = plt.subplots(figsize=(18,10),nrows=2)\n",
    "p1 = sns.barplot(x=x_no_spam[:top],y=y_no_spam[:top],palette=\"Blues_d\",ax=ax[0])\n",
    "p2 = sns.barplot(x=x_spam[:top],y=y_spam[:top],palette=\"Blues_d\",ax=ax[1])\n",
    "ax[0].set_title('Frecuencia Palabras en Textos no spam')\n",
    "ax[1].set_title('Frecuencia Palabras en Textos spam')\n",
    "plt.subplots_adjust(hspace=1.5)\n",
    "plt.setp(p1.get_xticklabels(), rotation=90)\n",
    "plt.setp(p2.get_xticklabels(), rotation=90)\n",
    "plt.show()\n"
   ]
  },
  {
   "cell_type": "code",
   "execution_count": null,
   "metadata": {
    "id": "ds3zrjg0UPvs"
   },
   "outputs": [],
   "source": [
    "from sklearn.model_selection import train_test_split"
   ]
  },
  {
   "cell_type": "code",
   "execution_count": null,
   "metadata": {
    "colab": {
     "base_uri": "https://localhost:8080/"
    },
    "id": "Jh2VlqZ4Rlus",
    "outputId": "316dd7ff-5692-44ae-9217-54b1cf6cb2f9"
   },
   "outputs": [
    {
     "name": "stdout",
     "output_type": "stream",
     "text": [
      "(945,) (125,)\n"
     ]
    }
   ],
   "source": [
    "# antes de todo almacenamos las etiquetas (pos o neg) correspondiente a cada ejemplo de entrenamiento\n",
    "y_train = dataTrain['Label']\n",
    "\n",
    "# y almacenamos las etiquetas correspondientes al conjunto de testing\n",
    "y_test = dataTest['Label']\n",
    "\n",
    "print(y_train.shape, y_test.shape)"
   ]
  },
  {
   "cell_type": "code",
   "execution_count": null,
   "metadata": {
    "colab": {
     "base_uri": "https://localhost:8080/"
    },
    "id": "_J_iCqJDRrxr",
    "outputId": "6cba2dbd-a7cc-4ca1-ee57-27de8333ba40"
   },
   "outputs": [
    {
     "name": "stderr",
     "output_type": "stream",
     "text": [
      "/usr/local/lib/python3.7/dist-packages/sklearn/feature_extraction/text.py:507: UserWarning: The parameter 'token_pattern' will not be used since 'tokenizer' is not None'\n",
      "  warnings.warn(\"The parameter 'token_pattern' will not be used\"\n"
     ]
    },
    {
     "name": "stdout",
     "output_type": "stream",
     "text": [
      "\n",
      "X,y Train Shapes: (945, 107) (945,)\n",
      "X,y Val Shapes: (62, 107) (62,)\n",
      "X,y Test Shapes: (63, 107) (63,)\n"
     ]
    }
   ],
   "source": [
    "from sklearn.feature_extraction.text import CountVectorizer\n",
    "# Bag of words, contar la cantidad de veces que aparece la palabra de un diccionario en el texto que intentamos clasificar \n",
    "# El diccionario, o lo descargamos nosotros o lo creamos concatenando nuestras palabras. Esto ultimo se hace aca.\n",
    "\n",
    "# combinaciones de palabras mas frecuentes. build a vocabulary that only consider the top max_features ordered by term frequency across the corpus.\n",
    "max_features = 10000 \n",
    "\n",
    "max_df = 0.8\n",
    "min_df = 10\n",
    "\n",
    "### NUMBER OF N GRAMS TO CONSIDER\n",
    "# Contar ya no las veces que ocurren las palabras, sino contar las \n",
    "# veces que aparecer conjuntos de palabras. Que sea 1 es que solo 1 palabra. Si es > 1 se hace lento el procesamiento. \n",
    "ngram_max = 4\n",
    "\n",
    "################ vectoriza el texto  ####################################################\n",
    "\n",
    "# toda esta pipeline se hace con esta libreria. CoutVectorizer vectoriza el texto\n",
    "vectorizer = CountVectorizer(stop_words='english', tokenizer=my_pre_processer,min_df=min_df, max_df=max_df, max_features=max_features,\n",
    "                              binary=True, ngram_range=(1, ngram_max))\n",
    "\n",
    "\n",
    "vectorizer.fit(dataTrain['Message_body']) # fitear el vectorizer solo con data_train  \n",
    "\n",
    "binary_train = vectorizer.transform(dataTrain['Message_body']) # aplicar la transformacion a data_train para obtener binary_train\n",
    "\n",
    "########################################################################################\n",
    "\n",
    "#Aprovechamos de crear datos para validacion. Para ello dividimos data_test en 2 subconjuntos: uno para validacion y otro para test.  \n",
    "\n",
    "x_val, x_test, y_val, y_test = train_test_split(dataTest, y_test, test_size=0.5, random_state=42) # defimos un validation set\n",
    "\n",
    "# aplicamos el vectorizer \"fiteado\" a los nuevos subconjuntos\n",
    "binary_val = vectorizer.transform(x_val['Message_body']) # datos de validacion\n",
    "binary_test = vectorizer.transform(x_test['Message_body']) # datos de test \n",
    "\n",
    "print(\"\\nX,y Train Shapes:\", binary_train.shape, y_train.shape)\n",
    "print(\"X,y Val Shapes:\", binary_val.shape, y_val.shape)\n",
    "print(\"X,y Test Shapes:\", binary_test.shape, y_test.shape)"
   ]
  },
  {
   "cell_type": "code",
   "execution_count": null,
   "metadata": {
    "id": "UOOoKv3TUnUO"
   },
   "outputs": [],
   "source": [
    "from sklearn.naive_bayes import BernoulliNB\n",
    "\n",
    "from sklearn.model_selection import train_test_split\n",
    "from sklearn.metrics import roc_curve\n",
    "from sklearn.metrics import plot_confusion_matrix\n",
    "from sklearn.metrics import precision_recall_curve, auc, average_precision_score\n",
    "\n",
    "\n",
    "def NBC(x_train, y_train, x_val, y_val, x_test, y_test):\n",
    "\n",
    "    clf = BernoulliNB(alpha=1) # suavisamiento laplasiano, lo de los priors. (diapo 25 tema 3). \"Que algo no ha pasado no quiere decir que no vaya a ocurrrir\" \n",
    "    clf.fit(x_train, y_train) # ajustar con datos de entrenamiento \n",
    "\n",
    "    s_train = clf.score(x_train, y_train)\n",
    "\n",
    "    print(\"Score Train: \", s_train)\n",
    "\n",
    "    scores_val = clf.predict_proba(x_val)[:,1]\n",
    "    labels = clf.classes_\n",
    "    pos_class = labels[1]\n",
    "\n",
    "    fpr_, tpr_, thresholds_ = roc_curve(y_val, scores_val, pos_label=pos_class) \n",
    "    precision_, recall_, thrs_ = precision_recall_curve(y_val, scores_val, pos_label=pos_class)\n",
    "\n",
    "    auc_ = auc(fpr_, tpr_) # area bajo la curva ROC\n",
    "    aupr_ = average_precision_score(y_val, scores_val, pos_label=pos_class)  # area bajo la curva PR\n",
    "\n",
    "    print(\"\\n\")\n",
    "    disp = plot_confusion_matrix(clf, x_test, y_test, display_labels=labels, cmap=plt.cm.Blues,normalize='all')\n",
    "    disp.ax_.set_title(\"confusion BNB Test\")\n",
    "\n",
    "    print(disp.confusion_matrix)\n",
    "\n",
    "\n",
    "    # Curva ROC: mientras mas area mejor. Deberia estar pegada al escalon de 0 a 1 (eje y) al inicio\n",
    "    # un clasificador trivial obtiene la diagonal, por eso se grafica con al curva ROC. Cualquier cosa sobre la linea es mejor que aleatorio. \n",
    "    # Si la tasa de False Positivo es 60%, la tasa de Verdaderos negativos seria de 40%\n",
    "\n",
    "    # Curva PR: mientras mas area mejor, deberia estar pegada al escalon de 1 a 0 (eje y) al final\n"
   ]
  },
  {
   "cell_type": "code",
   "execution_count": null,
   "metadata": {
    "colab": {
     "base_uri": "https://localhost:8080/",
     "height": 387
    },
    "id": "m66Kf72nUfa9",
    "outputId": "5f38e618-6f62-4e27-f902-8c75bf8771aa"
   },
   "outputs": [
    {
     "name": "stdout",
     "output_type": "stream",
     "text": [
      "Score Train:  0.9671957671957672\n",
      "\n",
      "\n",
      "[[0.42857143 0.19047619]\n",
      " [0.         0.38095238]]\n"
     ]
    },
    {
     "data": {
      "image/png": "[encoded data removed]",
      "text/plain": [
       "<Figure size 432x288 with 2 Axes>"
      ]
     },
     "metadata": {
      "needs_background": "light"
     },
     "output_type": "display_data"
    }
   ],
   "source": [
    "NBC(binary_train, y_train, binary_val, y_val, binary_test, y_test)"
   ]
  },
  {
   "cell_type": "markdown",
   "metadata": {
    "id": "2dtQ7ndS6HLM"
   },
   "source": [
    "##Dataset 3 (synthetic) Comentarios de odio"
   ]
  },
  {
   "cell_type": "code",
   "execution_count": null,
   "metadata": {
    "id": "ts5U-UrC6-aY"
   },
   "outputs": [],
   "source": [
    "data = pd.read_csv('DynamicallyGeneratedHateDataset.csv', index_col=0)"
   ]
  },
  {
   "cell_type": "code",
   "execution_count": null,
   "metadata": {
    "id": "I3cnoHuwEr6Y"
   },
   "outputs": [],
   "source": [
    "data = data.drop(['type','db.model_preds','model_wrong','status','round','annotator'],axis=1)"
   ]
  },
  {
   "cell_type": "code",
   "execution_count": null,
   "metadata": {
    "colab": {
     "base_uri": "https://localhost:8080/",
     "height": 206
    },
    "id": "ADTF3FRA9s0l",
    "outputId": "aaf78e98-ae0d-425f-c7c9-ef6ce2ca799a"
   },
   "outputs": [
    {
     "data": {
      "text/html": [
       "<div>\n",
       "<style scoped>\n",
       "    .dataframe tbody tr th:only-of-type {\n",
       "        vertical-align: middle;\n",
       "    }\n",
       "\n",
       "    .dataframe tbody tr th {\n",
       "        vertical-align: top;\n",
       "    }\n",
       "\n",
       "    .dataframe thead th {\n",
       "        text-align: right;\n",
       "    }\n",
       "</style>\n",
       "<table border=\"1\" class=\"dataframe\">\n",
       "  <thead>\n",
       "    <tr style=\"text-align: right;\">\n",
       "      <th></th>\n",
       "      <th>id</th>\n",
       "      <th>text</th>\n",
       "      <th>label</th>\n",
       "      <th>split</th>\n",
       "    </tr>\n",
       "  </thead>\n",
       "  <tbody>\n",
       "    <tr>\n",
       "      <th>1</th>\n",
       "      <td>10000</td>\n",
       "      <td>It should be legal for a husband to rape his wife</td>\n",
       "      <td>hate</td>\n",
       "      <td>train</td>\n",
       "    </tr>\n",
       "    <tr>\n",
       "      <th>2</th>\n",
       "      <td>10001</td>\n",
       "      <td>dalits are lowlife scum</td>\n",
       "      <td>hate</td>\n",
       "      <td>test</td>\n",
       "    </tr>\n",
       "    <tr>\n",
       "      <th>3</th>\n",
       "      <td>10002</td>\n",
       "      <td>dalits are lowlives</td>\n",
       "      <td>hate</td>\n",
       "      <td>train</td>\n",
       "    </tr>\n",
       "    <tr>\n",
       "      <th>4</th>\n",
       "      <td>10003</td>\n",
       "      <td>It was a better world when women dare not ques...</td>\n",
       "      <td>hate</td>\n",
       "      <td>test</td>\n",
       "    </tr>\n",
       "    <tr>\n",
       "      <th>5</th>\n",
       "      <td>10004</td>\n",
       "      <td>I don't work this hard so that those immigrant...</td>\n",
       "      <td>hate</td>\n",
       "      <td>train</td>\n",
       "    </tr>\n",
       "  </tbody>\n",
       "</table>\n",
       "</div>"
      ],
      "text/plain": [
       "      id                                               text label  split\n",
       "1  10000  It should be legal for a husband to rape his wife  hate  train\n",
       "2  10001                            dalits are lowlife scum  hate   test\n",
       "3  10002                                dalits are lowlives  hate  train\n",
       "4  10003  It was a better world when women dare not ques...  hate   test\n",
       "5  10004  I don't work this hard so that those immigrant...  hate  train"
      ]
     },
     "execution_count": 68,
     "metadata": {},
     "output_type": "execute_result"
    }
   ],
   "source": [
    "data.head()"
   ]
  },
  {
   "cell_type": "code",
   "execution_count": null,
   "metadata": {
    "id": "4U4qdP7AHDF8"
   },
   "outputs": [],
   "source": [
    "data[\"label\"].replace(\"hate\", 1, inplace=True)\n",
    "data[\"label\"].replace(\"nothate\", 0, inplace=True)"
   ]
  },
  {
   "cell_type": "code",
   "execution_count": null,
   "metadata": {
    "colab": {
     "base_uri": "https://localhost:8080/"
    },
    "id": "9Avmq3pEHz4J",
    "outputId": "76b57015-0d10-48b6-c2ad-e9b7d855b6de"
   },
   "outputs": [
    {
     "data": {
      "text/plain": [
       "id       0\n",
       "text     0\n",
       "label    0\n",
       "split    0\n",
       "dtype: int64"
      ]
     },
     "execution_count": 70,
     "metadata": {},
     "output_type": "execute_result"
    }
   ],
   "source": [
    "data.isnull().sum()"
   ]
  },
  {
   "cell_type": "code",
   "execution_count": null,
   "metadata": {
    "colab": {
     "base_uri": "https://localhost:8080/"
    },
    "id": "mMr5u9qwH9_T",
    "outputId": "c7f248ab-6775-4303-b358-27b3af740cc3"
   },
   "outputs": [
    {
     "data": {
      "text/plain": [
       "(40623, 4)"
      ]
     },
     "execution_count": 71,
     "metadata": {},
     "output_type": "execute_result"
    }
   ],
   "source": [
    "data.shape"
   ]
  },
  {
   "cell_type": "code",
   "execution_count": null,
   "metadata": {
    "id": "HmYwzY2aH3eY"
   },
   "outputs": [],
   "source": [
    "data = data.drop_duplicates(subset=['text'])"
   ]
  },
  {
   "cell_type": "code",
   "execution_count": null,
   "metadata": {
    "colab": {
     "base_uri": "https://localhost:8080/"
    },
    "id": "qZUVdvWOIAR5",
    "outputId": "2abab767-c864-4c22-b23b-0c0d1dff011c"
   },
   "outputs": [
    {
     "data": {
      "text/plain": [
       "(40463, 4)"
      ]
     },
     "execution_count": 73,
     "metadata": {},
     "output_type": "execute_result"
    }
   ],
   "source": [
    "data.shape"
   ]
  },
  {
   "cell_type": "code",
   "execution_count": null,
   "metadata": {
    "id": "H2o2Rl4NFh52"
   },
   "outputs": [],
   "source": [
    "data_train = data[data[\"split\"] == \"train\"][[\"text\", \"label\"]]\n",
    "data_test = data[data[\"split\"] == \"test\"][[\"text\", \"label\"]]\n",
    "data_val = data[data[\"split\"] == \"dev\"][[\"text\", \"label\"]]"
   ]
  },
  {
   "cell_type": "code",
   "execution_count": null,
   "metadata": {
    "colab": {
     "base_uri": "https://localhost:8080/",
     "height": 206
    },
    "id": "0CTbyfNTGK0Q",
    "outputId": "3ef248c6-c0b0-4e04-ece8-72f50d7fa1d9"
   },
   "outputs": [
    {
     "data": {
      "text/html": [
       "<div>\n",
       "<style scoped>\n",
       "    .dataframe tbody tr th:only-of-type {\n",
       "        vertical-align: middle;\n",
       "    }\n",
       "\n",
       "    .dataframe tbody tr th {\n",
       "        vertical-align: top;\n",
       "    }\n",
       "\n",
       "    .dataframe thead th {\n",
       "        text-align: right;\n",
       "    }\n",
       "</style>\n",
       "<table border=\"1\" class=\"dataframe\">\n",
       "  <thead>\n",
       "    <tr style=\"text-align: right;\">\n",
       "      <th></th>\n",
       "      <th>text</th>\n",
       "      <th>label</th>\n",
       "    </tr>\n",
       "  </thead>\n",
       "  <tbody>\n",
       "    <tr>\n",
       "      <th>1</th>\n",
       "      <td>It should be legal for a husband to rape his wife</td>\n",
       "      <td>1</td>\n",
       "    </tr>\n",
       "    <tr>\n",
       "      <th>3</th>\n",
       "      <td>dalits are lowlives</td>\n",
       "      <td>1</td>\n",
       "    </tr>\n",
       "    <tr>\n",
       "      <th>5</th>\n",
       "      <td>I don't work this hard so that those immigrant...</td>\n",
       "      <td>1</td>\n",
       "    </tr>\n",
       "    <tr>\n",
       "      <th>6</th>\n",
       "      <td>I don't work this hard so that those migrants ...</td>\n",
       "      <td>1</td>\n",
       "    </tr>\n",
       "    <tr>\n",
       "      <th>7</th>\n",
       "      <td>I don't work this hard so that those foreigner...</td>\n",
       "      <td>1</td>\n",
       "    </tr>\n",
       "  </tbody>\n",
       "</table>\n",
       "</div>"
      ],
      "text/plain": [
       "                                                text  label\n",
       "1  It should be legal for a husband to rape his wife      1\n",
       "3                                dalits are lowlives      1\n",
       "5  I don't work this hard so that those immigrant...      1\n",
       "6  I don't work this hard so that those migrants ...      1\n",
       "7  I don't work this hard so that those foreigner...      1"
      ]
     },
     "execution_count": 75,
     "metadata": {},
     "output_type": "execute_result"
    }
   ],
   "source": [
    "data_train.head()"
   ]
  },
  {
   "cell_type": "code",
   "execution_count": null,
   "metadata": {
    "colab": {
     "base_uri": "https://localhost:8080/",
     "height": 206
    },
    "id": "XBP4UBToGNiG",
    "outputId": "858a692e-a151-4c73-dbda-b735b7110aab"
   },
   "outputs": [
    {
     "data": {
      "text/html": [
       "<div>\n",
       "<style scoped>\n",
       "    .dataframe tbody tr th:only-of-type {\n",
       "        vertical-align: middle;\n",
       "    }\n",
       "\n",
       "    .dataframe tbody tr th {\n",
       "        vertical-align: top;\n",
       "    }\n",
       "\n",
       "    .dataframe thead th {\n",
       "        text-align: right;\n",
       "    }\n",
       "</style>\n",
       "<table border=\"1\" class=\"dataframe\">\n",
       "  <thead>\n",
       "    <tr style=\"text-align: right;\">\n",
       "      <th></th>\n",
       "      <th>text</th>\n",
       "      <th>label</th>\n",
       "    </tr>\n",
       "  </thead>\n",
       "  <tbody>\n",
       "    <tr>\n",
       "      <th>2</th>\n",
       "      <td>dalits are lowlife scum</td>\n",
       "      <td>1</td>\n",
       "    </tr>\n",
       "    <tr>\n",
       "      <th>4</th>\n",
       "      <td>It was a better world when women dare not ques...</td>\n",
       "      <td>1</td>\n",
       "    </tr>\n",
       "    <tr>\n",
       "      <th>9</th>\n",
       "      <td>I don't work this hard so that those chavs can...</td>\n",
       "      <td>1</td>\n",
       "    </tr>\n",
       "    <tr>\n",
       "      <th>42</th>\n",
       "      <td>blonde ladies are fuc''ing smart</td>\n",
       "      <td>0</td>\n",
       "    </tr>\n",
       "    <tr>\n",
       "      <th>48</th>\n",
       "      <td>Terrorists are always fucking Muslim but never...</td>\n",
       "      <td>0</td>\n",
       "    </tr>\n",
       "  </tbody>\n",
       "</table>\n",
       "</div>"
      ],
      "text/plain": [
       "                                                 text  label\n",
       "2                             dalits are lowlife scum      1\n",
       "4   It was a better world when women dare not ques...      1\n",
       "9   I don't work this hard so that those chavs can...      1\n",
       "42                   blonde ladies are fuc''ing smart      0\n",
       "48  Terrorists are always fucking Muslim but never...      0"
      ]
     },
     "execution_count": 76,
     "metadata": {},
     "output_type": "execute_result"
    }
   ],
   "source": [
    "data_test.head()"
   ]
  },
  {
   "cell_type": "code",
   "execution_count": null,
   "metadata": {
    "colab": {
     "base_uri": "https://localhost:8080/",
     "height": 206
    },
    "id": "s-Kb7LezGN18",
    "outputId": "b139da8e-6b6b-4ace-e537-e71dd3aa791d"
   },
   "outputs": [
    {
     "data": {
      "text/html": [
       "<div>\n",
       "<style scoped>\n",
       "    .dataframe tbody tr th:only-of-type {\n",
       "        vertical-align: middle;\n",
       "    }\n",
       "\n",
       "    .dataframe tbody tr th {\n",
       "        vertical-align: top;\n",
       "    }\n",
       "\n",
       "    .dataframe thead th {\n",
       "        text-align: right;\n",
       "    }\n",
       "</style>\n",
       "<table border=\"1\" class=\"dataframe\">\n",
       "  <thead>\n",
       "    <tr style=\"text-align: right;\">\n",
       "      <th></th>\n",
       "      <th>text</th>\n",
       "      <th>label</th>\n",
       "    </tr>\n",
       "  </thead>\n",
       "  <tbody>\n",
       "    <tr>\n",
       "      <th>14</th>\n",
       "      <td>women are a burden to our society</td>\n",
       "      <td>1</td>\n",
       "    </tr>\n",
       "    <tr>\n",
       "      <th>23</th>\n",
       "      <td>Why is it that African people smell weird? Do ...</td>\n",
       "      <td>1</td>\n",
       "    </tr>\n",
       "    <tr>\n",
       "      <th>36</th>\n",
       "      <td>short women are fucking cute</td>\n",
       "      <td>0</td>\n",
       "    </tr>\n",
       "    <tr>\n",
       "      <th>57</th>\n",
       "      <td>Indian people smell like fucking spices</td>\n",
       "      <td>0</td>\n",
       "    </tr>\n",
       "    <tr>\n",
       "      <th>63</th>\n",
       "      <td>Be quiet, you silly little girl</td>\n",
       "      <td>1</td>\n",
       "    </tr>\n",
       "  </tbody>\n",
       "</table>\n",
       "</div>"
      ],
      "text/plain": [
       "                                                 text  label\n",
       "14                  women are a burden to our society      1\n",
       "23  Why is it that African people smell weird? Do ...      1\n",
       "36                       short women are fucking cute      0\n",
       "57            Indian people smell like fucking spices      0\n",
       "63                    Be quiet, you silly little girl      1"
      ]
     },
     "execution_count": 77,
     "metadata": {},
     "output_type": "execute_result"
    }
   ],
   "source": [
    "data_val.head()"
   ]
  },
  {
   "cell_type": "code",
   "execution_count": null,
   "metadata": {
    "colab": {
     "base_uri": "https://localhost:8080/"
    },
    "id": "q3MY73IfHeaM",
    "outputId": "9e5abe21-a413-4c13-8fa0-c9aa1aa904b1"
   },
   "outputs": [
    {
     "name": "stdout",
     "output_type": "stream",
     "text": [
      "[nltk_data] Downloading package wordnet to /root/nltk_data...\n",
      "[nltk_data]   Package wordnet is already up-to-date!\n",
      "[nltk_data] Downloading package stopwords to /root/nltk_data...\n",
      "[nltk_data]   Package stopwords is already up-to-date!\n"
     ]
    }
   ],
   "source": [
    "import nltk \n",
    "nltk.download('wordnet') # WordNet® is a large lexical database of English. \n",
    "nltk.download('stopwords') \n",
    "from nltk.corpus import stopwords\n",
    "\n",
    "from sklearn.feature_extraction.text import TfidfVectorizer, CountVectorizer\n",
    "from nltk.stem.snowball import SnowballStemmer # para transformar palabrasa a su raiz\n",
    "from nltk.stem import WordNetLemmatizer # \n",
    "\n",
    "tokenizer = TfidfVectorizer().build_tokenizer() #Return a function that splits a string into a sequence of tokens considering unicode characters\n",
    "stemmer = SnowballStemmer(\"english\") \n",
    "lemmatizer = WordNetLemmatizer()\n",
    "\n",
    "##stop-words: el vectorizador ya las remueve pero para mostrar las palabras más frecuente tiene sentido activarlo\n",
    "remove_stops_here = False\n",
    "\n",
    "def my_pre_processer(text, debug = False):\n",
    "    results = []\n",
    "    if (debug):\n",
    "        print(\"Tokenizer result: \", tokenizer(text))\n",
    "    for token in tokenizer(text):\n",
    "        clean_token = token.lower().strip('-').strip('_')\n",
    "        if remove_stops_here and (clean_token in stopwords.words('english')):\n",
    "          continue\n",
    "        #token_pro = stemmer.stem(clean_token) #podemos probar stemming en vez de lematizacion\n",
    "        token_pro = lemmatizer.lemmatize(clean_token) \n",
    "        if len(token_pro) > 2 and not token_pro[0].isdigit(): #elimina palabra largo menor a 2\n",
    "            results.append(token_pro)\n",
    "    return results"
   ]
  },
  {
   "cell_type": "code",
   "execution_count": null,
   "metadata": {
    "id": "PCfzxkvaIYxY"
   },
   "outputs": [],
   "source": [
    "data_train['prep_text'] = data_train['text'].apply(my_pre_processer)"
   ]
  },
  {
   "cell_type": "code",
   "execution_count": null,
   "metadata": {
    "colab": {
     "base_uri": "https://localhost:8080/",
     "height": 834
    },
    "id": "oykeFHaZIitG",
    "outputId": "746661b5-1ede-406e-b54c-30810a60ea12"
   },
   "outputs": [
    {
     "data": {
      "text/html": [
       "<div>\n",
       "<style scoped>\n",
       "    .dataframe tbody tr th:only-of-type {\n",
       "        vertical-align: middle;\n",
       "    }\n",
       "\n",
       "    .dataframe tbody tr th {\n",
       "        vertical-align: top;\n",
       "    }\n",
       "\n",
       "    .dataframe thead th {\n",
       "        text-align: right;\n",
       "    }\n",
       "</style>\n",
       "<table border=\"1\" class=\"dataframe\">\n",
       "  <thead>\n",
       "    <tr style=\"text-align: right;\">\n",
       "      <th></th>\n",
       "      <th>text</th>\n",
       "      <th>label</th>\n",
       "      <th>prep_text</th>\n",
       "    </tr>\n",
       "  </thead>\n",
       "  <tbody>\n",
       "    <tr>\n",
       "      <th>1</th>\n",
       "      <td>It should be legal for a husband to rape his wife</td>\n",
       "      <td>1</td>\n",
       "      <td>[should, legal, for, husband, rape, his, wife]</td>\n",
       "    </tr>\n",
       "    <tr>\n",
       "      <th>3</th>\n",
       "      <td>dalits are lowlives</td>\n",
       "      <td>1</td>\n",
       "      <td>[dalits, are, lowlives]</td>\n",
       "    </tr>\n",
       "    <tr>\n",
       "      <th>5</th>\n",
       "      <td>I don't work this hard so that those immigrant...</td>\n",
       "      <td>1</td>\n",
       "      <td>[don, work, this, hard, that, those, immigrant...</td>\n",
       "    </tr>\n",
       "    <tr>\n",
       "      <th>6</th>\n",
       "      <td>I don't work this hard so that those migrants ...</td>\n",
       "      <td>1</td>\n",
       "      <td>[don, work, this, hard, that, those, migrant, ...</td>\n",
       "    </tr>\n",
       "    <tr>\n",
       "      <th>7</th>\n",
       "      <td>I don't work this hard so that those foreigner...</td>\n",
       "      <td>1</td>\n",
       "      <td>[don, work, this, hard, that, those, foreigner...</td>\n",
       "    </tr>\n",
       "    <tr>\n",
       "      <th>8</th>\n",
       "      <td>I don't work this hard so that those Hispanics...</td>\n",
       "      <td>1</td>\n",
       "      <td>[don, work, this, hard, that, those, hispanic,...</td>\n",
       "    </tr>\n",
       "    <tr>\n",
       "      <th>10</th>\n",
       "      <td>I don't work this hard so that all those pakis...</td>\n",
       "      <td>1</td>\n",
       "      <td>[don, work, this, hard, that, all, those, paki...</td>\n",
       "    </tr>\n",
       "    <tr>\n",
       "      <th>11</th>\n",
       "      <td>I don't work this hard so that all those musli...</td>\n",
       "      <td>1</td>\n",
       "      <td>[don, work, this, hard, that, all, those, musl...</td>\n",
       "    </tr>\n",
       "    <tr>\n",
       "      <th>12</th>\n",
       "      <td>foreigners are a burden to our society</td>\n",
       "      <td>1</td>\n",
       "      <td>[foreigner, are, burden, our, society]</td>\n",
       "    </tr>\n",
       "    <tr>\n",
       "      <th>13</th>\n",
       "      <td>immigrants are a burden to our society</td>\n",
       "      <td>1</td>\n",
       "      <td>[immigrant, are, burden, our, society]</td>\n",
       "    </tr>\n",
       "    <tr>\n",
       "      <th>15</th>\n",
       "      <td>gay people are a burden to our society</td>\n",
       "      <td>1</td>\n",
       "      <td>[gay, people, are, burden, our, society]</td>\n",
       "    </tr>\n",
       "    <tr>\n",
       "      <th>16</th>\n",
       "      <td>gay people are a burden on our society</td>\n",
       "      <td>1</td>\n",
       "      <td>[gay, people, are, burden, our, society]</td>\n",
       "    </tr>\n",
       "    <tr>\n",
       "      <th>17</th>\n",
       "      <td>Why is it that foreigners smell weird? Do they...</td>\n",
       "      <td>1</td>\n",
       "      <td>[why, that, foreigner, smell, weird, they, not...</td>\n",
       "    </tr>\n",
       "    <tr>\n",
       "      <th>18</th>\n",
       "      <td>Why is it that french people smell weird? Do t...</td>\n",
       "      <td>1</td>\n",
       "      <td>[why, that, french, people, smell, weird, they...</td>\n",
       "    </tr>\n",
       "    <tr>\n",
       "      <th>19</th>\n",
       "      <td>Why is it that white people smell weird? Do th...</td>\n",
       "      <td>1</td>\n",
       "      <td>[why, that, white, people, smell, weird, they,...</td>\n",
       "    </tr>\n",
       "    <tr>\n",
       "      <th>20</th>\n",
       "      <td>Why is it that asian people smell weird? Do th...</td>\n",
       "      <td>1</td>\n",
       "      <td>[why, that, asian, people, smell, weird, they,...</td>\n",
       "    </tr>\n",
       "    <tr>\n",
       "      <th>21</th>\n",
       "      <td>Why is it that black people smell weird? Do th...</td>\n",
       "      <td>1</td>\n",
       "      <td>[why, that, black, people, smell, weird, they,...</td>\n",
       "    </tr>\n",
       "    <tr>\n",
       "      <th>22</th>\n",
       "      <td>Why is it that Africans smell weird? Do they n...</td>\n",
       "      <td>1</td>\n",
       "      <td>[why, that, african, smell, weird, they, not, ...</td>\n",
       "    </tr>\n",
       "    <tr>\n",
       "      <th>24</th>\n",
       "      <td>Why is it that whites smell weird? Do they not...</td>\n",
       "      <td>1</td>\n",
       "      <td>[why, that, white, smell, weird, they, not, wash]</td>\n",
       "    </tr>\n",
       "    <tr>\n",
       "      <th>25</th>\n",
       "      <td>Why is it that dikes smell weird? Do they not ...</td>\n",
       "      <td>1</td>\n",
       "      <td>[why, that, dike, smell, weird, they, not, wash]</td>\n",
       "    </tr>\n",
       "    <tr>\n",
       "      <th>26</th>\n",
       "      <td>Why is it that welsh people smell weird? Do th...</td>\n",
       "      <td>1</td>\n",
       "      <td>[why, that, welsh, people, smell, weird, they,...</td>\n",
       "    </tr>\n",
       "    <tr>\n",
       "      <th>27</th>\n",
       "      <td>I dont hate hindus</td>\n",
       "      <td>0</td>\n",
       "      <td>[dont, hate, hindu]</td>\n",
       "    </tr>\n",
       "    <tr>\n",
       "      <th>28</th>\n",
       "      <td>I dont hate Muslims</td>\n",
       "      <td>0</td>\n",
       "      <td>[dont, hate, muslim]</td>\n",
       "    </tr>\n",
       "    <tr>\n",
       "      <th>29</th>\n",
       "      <td>I dont hatefucking Islam</td>\n",
       "      <td>0</td>\n",
       "      <td>[dont, hatefucking, islam]</td>\n",
       "    </tr>\n",
       "    <tr>\n",
       "      <th>30</th>\n",
       "      <td>I dont hate fucking Muslims</td>\n",
       "      <td>0</td>\n",
       "      <td>[dont, hate, fucking, muslim]</td>\n",
       "    </tr>\n",
       "  </tbody>\n",
       "</table>\n",
       "</div>"
      ],
      "text/plain": [
       "                                                 text  ...                                          prep_text\n",
       "1   It should be legal for a husband to rape his wife  ...     [should, legal, for, husband, rape, his, wife]\n",
       "3                                 dalits are lowlives  ...                            [dalits, are, lowlives]\n",
       "5   I don't work this hard so that those immigrant...  ...  [don, work, this, hard, that, those, immigrant...\n",
       "6   I don't work this hard so that those migrants ...  ...  [don, work, this, hard, that, those, migrant, ...\n",
       "7   I don't work this hard so that those foreigner...  ...  [don, work, this, hard, that, those, foreigner...\n",
       "8   I don't work this hard so that those Hispanics...  ...  [don, work, this, hard, that, those, hispanic,...\n",
       "10  I don't work this hard so that all those pakis...  ...  [don, work, this, hard, that, all, those, paki...\n",
       "11  I don't work this hard so that all those musli...  ...  [don, work, this, hard, that, all, those, musl...\n",
       "12             foreigners are a burden to our society  ...             [foreigner, are, burden, our, society]\n",
       "13             immigrants are a burden to our society  ...             [immigrant, are, burden, our, society]\n",
       "15             gay people are a burden to our society  ...           [gay, people, are, burden, our, society]\n",
       "16             gay people are a burden on our society  ...           [gay, people, are, burden, our, society]\n",
       "17  Why is it that foreigners smell weird? Do they...  ...  [why, that, foreigner, smell, weird, they, not...\n",
       "18  Why is it that french people smell weird? Do t...  ...  [why, that, french, people, smell, weird, they...\n",
       "19  Why is it that white people smell weird? Do th...  ...  [why, that, white, people, smell, weird, they,...\n",
       "20  Why is it that asian people smell weird? Do th...  ...  [why, that, asian, people, smell, weird, they,...\n",
       "21  Why is it that black people smell weird? Do th...  ...  [why, that, black, people, smell, weird, they,...\n",
       "22  Why is it that Africans smell weird? Do they n...  ...  [why, that, african, smell, weird, they, not, ...\n",
       "24  Why is it that whites smell weird? Do they not...  ...  [why, that, white, smell, weird, they, not, wash]\n",
       "25  Why is it that dikes smell weird? Do they not ...  ...   [why, that, dike, smell, weird, they, not, wash]\n",
       "26  Why is it that welsh people smell weird? Do th...  ...  [why, that, welsh, people, smell, weird, they,...\n",
       "27                                 I dont hate hindus  ...                                [dont, hate, hindu]\n",
       "28                                I dont hate Muslims  ...                               [dont, hate, muslim]\n",
       "29                           I dont hatefucking Islam  ...                         [dont, hatefucking, islam]\n",
       "30                        I dont hate fucking Muslims  ...                      [dont, hate, fucking, muslim]\n",
       "\n",
       "[25 rows x 3 columns]"
      ]
     },
     "execution_count": 80,
     "metadata": {},
     "output_type": "execute_result"
    }
   ],
   "source": [
    "data_train.head(25)"
   ]
  },
  {
   "cell_type": "code",
   "execution_count": null,
   "metadata": {
    "colab": {
     "base_uri": "https://localhost:8080/",
     "height": 644
    },
    "id": "Qb-FxnpwIotI",
    "outputId": "3aff1560-2e1e-4e65-994a-6be7aebf113e"
   },
   "outputs": [
    {
     "data": {
      "image/png": "[encoded data removed]",
      "text/plain": [
       "<Figure size 1296x720 with 2 Axes>"
      ]
     },
     "metadata": {
      "needs_background": "light"
     },
     "output_type": "display_data"
    }
   ],
   "source": [
    "all_tokens_hate = [token for sublist in data_train[data_train.label==1].prep_text for token in sublist]\n",
    "all_tokens_nothate = [token for sublist in data_train[data_train.label==0].prep_text for token in sublist]\n",
    "\n",
    "from collections import Counter\n",
    "freqs_hate = Counter(all_tokens_hate)\n",
    "freqs_nothate = Counter(all_tokens_nothate)\n",
    "\n",
    "sorted_words_hate  =  {k: v for k, v in sorted(freqs_hate.items(), key=lambda item: item[1], reverse=True)}\n",
    "sorted_words_nothate =  {k: v for k, v in sorted(freqs_nothate.items(), key=lambda item: item[1], reverse=True)}\n",
    "\n",
    "top = 100\n",
    "y_hate = [float(y) for y in sorted_words_hate.values()]\n",
    "x_hate = [x for x in sorted_words_hate.keys()]\n",
    "y_nothate = [float(y) for y in sorted_words_nothate.values()]\n",
    "x_nothate = [x for x in sorted_words_nothate.keys()]\n",
    "\n",
    "\n",
    "fig, ax = plt.subplots(figsize=(18,10),nrows=2)\n",
    "p1 = sns.barplot(x=x_hate[:top],y=y_hate[:top],palette=\"Blues_d\",ax=ax[0])\n",
    "p2 = sns.barplot(x=x_nothate[:top],y=y_nothate[:top],palette=\"Blues_d\",ax=ax[1])\n",
    "ax[0].set_title('Frecuencia Palabras en Textos hate')\n",
    "ax[1].set_title('Frecuencia Palabras en Textos nothate')\n",
    "plt.subplots_adjust(hspace=1.5)\n",
    "plt.setp(p1.get_xticklabels(), rotation=90)\n",
    "plt.setp(p2.get_xticklabels(), rotation=90)\n",
    "plt.show()\n"
   ]
  },
  {
   "cell_type": "code",
   "execution_count": null,
   "metadata": {
    "id": "1x7-yEfSJrE2"
   },
   "outputs": [],
   "source": [
    "from sklearn.model_selection import train_test_split"
   ]
  },
  {
   "cell_type": "markdown",
   "metadata": {
    "id": "oNgTOhQrM4QC"
   },
   "source": [
    "###Naive Bayes"
   ]
  },
  {
   "cell_type": "code",
   "execution_count": null,
   "metadata": {
    "colab": {
     "base_uri": "https://localhost:8080/"
    },
    "id": "uoVN44TCJsz5",
    "outputId": "942eb56f-3f36-47c2-abc1-2762a6039285"
   },
   "outputs": [
    {
     "name": "stdout",
     "output_type": "stream",
     "text": [
      "(32367,) (4048,) (4048,)\n"
     ]
    }
   ],
   "source": [
    "# antes de todo almacenamos las etiquetas (pos o neg) correspondiente a cada ejemplo de entrenamiento\n",
    "y_train = data_train['label']\n",
    "\n",
    "# y almacenamos las etiquetas correspondientes al conjunto de testing\n",
    "y_test = data_test['label']\n",
    "\n",
    "y_val = data_val['label']\n",
    "\n",
    "print(y_train.shape, y_test.shape, y_val.shape)"
   ]
  },
  {
   "cell_type": "code",
   "execution_count": null,
   "metadata": {
    "colab": {
     "base_uri": "https://localhost:8080/"
    },
    "id": "q0uvhDZQKHsC",
    "outputId": "a304a301-bb7a-4209-ca10-14c9e301cad7"
   },
   "outputs": [
    {
     "name": "stderr",
     "output_type": "stream",
     "text": [
      "/usr/local/lib/python3.7/dist-packages/sklearn/feature_extraction/text.py:507: UserWarning: The parameter 'token_pattern' will not be used since 'tokenizer' is not None'\n",
      "  warnings.warn(\"The parameter 'token_pattern' will not be used\"\n"
     ]
    },
    {
     "name": "stdout",
     "output_type": "stream",
     "text": [
      "\n",
      "X,y Train Shapes: (32367, 6164) (32367,)\n",
      "X,y Val Shapes: (4048, 6164) (4048,)\n",
      "X,y Test Shapes: (4048, 6164) (4048,)\n"
     ]
    }
   ],
   "source": [
    "from sklearn.feature_extraction.text import CountVectorizer\n",
    "# Bag of words, contar la cantidad de veces que aparece la palabra de un diccionario en el texto que intentamos clasificar \n",
    "# El diccionario, o lo descargamos nosotros o lo creamos concatenando nuestras palabras. Esto ultimo se hace aca.\n",
    "\n",
    "# combinaciones de palabras mas frecuentes. build a vocabulary that only consider the top max_features ordered by term frequency across the corpus.\n",
    "max_features = 10000 \n",
    "\n",
    "max_df = 0.8\n",
    "min_df = 10\n",
    "\n",
    "### NUMBER OF N GRAMS TO CONSIDER\n",
    "# Contar ya no las veces que ocurren las palabras, sino contar las \n",
    "# veces que aparecer conjuntos de palabras. Que sea 1 es que solo 1 palabra. Si es > 1 se hace lento el procesamiento. \n",
    "ngram_max = 4\n",
    "\n",
    "################ vectoriza el texto  ####################################################\n",
    "\n",
    "# toda esta pipeline se hace con esta libreria. CoutVectorizer vectoriza el texto\n",
    "vectorizer = CountVectorizer(stop_words='english', tokenizer=my_pre_processer,min_df=min_df, max_df=max_df, max_features=max_features,\n",
    "                              binary=True, ngram_range=(1, ngram_max))\n",
    "\n",
    "\n",
    "vectorizer.fit(data_train['text']) # fitear el vectorizer solo con data_train  \n",
    "\n",
    "binary_train = vectorizer.transform(data_train['text']) # aplicar la transformacion a data_train para obtener binary_train\n",
    "\n",
    "########################################################################################\n",
    "\n",
    "#Aprovechamos de crear datos para validacion. Para ello dividimos data_test en 2 subconjuntos: uno para validacion y otro para test.  \n",
    "\n",
    "#x_val, x_test, y_val, y_test = train_test_split(dataTest, y_test, test_size=0.5, random_state=42) # defimos un validation set\n",
    "x_val = data_val\n",
    "x_test = data_test\n",
    "\n",
    "# aplicamos el vectorizer \"fiteado\" a los nuevos subconjuntos\n",
    "binary_val = vectorizer.transform(x_val['text']) # datos de validacion\n",
    "binary_test = vectorizer.transform(x_test['text']) # datos de test \n",
    "\n",
    "print(\"\\nX,y Train Shapes:\", binary_train.shape, y_train.shape)\n",
    "print(\"X,y Val Shapes:\", binary_val.shape, y_val.shape)\n",
    "print(\"X,y Test Shapes:\", binary_test.shape, y_test.shape)"
   ]
  },
  {
   "cell_type": "code",
   "execution_count": null,
   "metadata": {
    "id": "Wi8rpNlCLZAk"
   },
   "outputs": [],
   "source": [
    "from sklearn.naive_bayes import BernoulliNB\n",
    "\n",
    "from sklearn.model_selection import train_test_split\n",
    "from sklearn.metrics import roc_curve\n",
    "from sklearn.metrics import plot_confusion_matrix\n",
    "from sklearn.metrics import precision_recall_curve, auc, average_precision_score\n",
    "\n",
    "\n",
    "def NBC(x_train, y_train, x_val, y_val, x_test, y_test):\n",
    "\n",
    "    clf = BernoulliNB(alpha=1) # suavisamiento laplasiano, lo de los priors. (diapo 25 tema 3). \"Que algo no ha pasado no quiere decir que no vaya a ocurrrir\" \n",
    "    clf.fit(x_train, y_train) # ajustar con datos de entrenamiento \n",
    "\n",
    "    s_train = clf.score(x_train, y_train)\n",
    "\n",
    "    print(\"Score Train: \", s_train)\n",
    "\n",
    "    scores_val = clf.predict_proba(x_val)[:,1]\n",
    "    labels = clf.classes_\n",
    "    pos_class = labels[1]\n",
    "\n",
    "    fpr_, tpr_, thresholds_ = roc_curve(y_val, scores_val, pos_label=pos_class) \n",
    "    precision_, recall_, thrs_ = precision_recall_curve(y_val, scores_val, pos_label=pos_class)\n",
    "\n",
    "    auc_ = auc(fpr_, tpr_) # area bajo la curva ROC\n",
    "    aupr_ = average_precision_score(y_val, scores_val, pos_label=pos_class)  # area bajo la curva PR\n",
    "\n",
    "    print(\"\\n\")\n",
    "    disp = plot_confusion_matrix(clf, x_test, y_test, display_labels=labels, cmap=plt.cm.Blues,normalize='all')\n",
    "    disp.ax_.set_title(\"confusion BNB Test\")\n",
    "\n",
    "    print(disp.confusion_matrix)\n",
    "\n",
    "\n",
    "    # Curva ROC: mientras mas area mejor. Deberia estar pegada al escalon de 0 a 1 (eje y) al inicio\n",
    "    # un clasificador trivial obtiene la diagonal, por eso se grafica con al curva ROC. Cualquier cosa sobre la linea es mejor que aleatorio. \n",
    "    # Si la tasa de False Positivo es 60%, la tasa de Verdaderos negativos seria de 40%\n",
    "\n",
    "    # Curva PR: mientras mas area mejor, deberia estar pegada al escalon de 1 a 0 (eje y) al final\n"
   ]
  },
  {
   "cell_type": "code",
   "execution_count": null,
   "metadata": {
    "colab": {
     "base_uri": "https://localhost:8080/",
     "height": 387
    },
    "id": "_aivgZtRLcFJ",
    "outputId": "63be5dc0-9ba3-4178-97e3-d40bee2e01ee"
   },
   "outputs": [
    {
     "name": "stdout",
     "output_type": "stream",
     "text": [
      "Score Train:  0.7208885593351253\n",
      "\n",
      "\n",
      "[[0.30039526 0.15736166]\n",
      " [0.19836957 0.34387352]]\n"
     ]
    },
    {
     "data": {
      "image/png": "[encoded data removed]",
      "text/plain": [
       "<Figure size 432x288 with 2 Axes>"
      ]
     },
     "metadata": {
      "needs_background": "light"
     },
     "output_type": "display_data"
    }
   ],
   "source": [
    "NBC(binary_train, y_train, binary_val, y_val, binary_test, y_test)"
   ]
  },
  {
   "cell_type": "markdown",
   "metadata": {
    "id": "3QApmCU6LoDV"
   },
   "source": [
    "###Bayes ingenuo multinomial"
   ]
  },
  {
   "cell_type": "code",
   "execution_count": null,
   "metadata": {
    "colab": {
     "base_uri": "https://localhost:8080/"
    },
    "id": "fxrxlTxnLq85",
    "outputId": "ed898f8f-2864-4c56-da8f-2bfe88391a9e"
   },
   "outputs": [
    {
     "name": "stdout",
     "output_type": "stream",
     "text": [
      "(32367,) (4048,) (4048,)\n"
     ]
    }
   ],
   "source": [
    "# antes de todo almacenamos las etiquetas (pos o neg) correspondiente a cada ejemplo de entrenamiento\n",
    "y_train = data_train['label']\n",
    "\n",
    "# y almacenamos las etiquetas correspondientes al conjunto de testing\n",
    "y_test = data_test['label']\n",
    "\n",
    "y_val = data_val['label']\n",
    "\n",
    "print(y_train.shape, y_test.shape, y_val.shape)"
   ]
  },
  {
   "cell_type": "code",
   "execution_count": null,
   "metadata": {
    "colab": {
     "base_uri": "https://localhost:8080/"
    },
    "id": "MWLG5p8ILspz",
    "outputId": "7c104367-46fd-468c-8df0-d8395f5e37be"
   },
   "outputs": [
    {
     "name": "stderr",
     "output_type": "stream",
     "text": [
      "/usr/local/lib/python3.7/dist-packages/sklearn/feature_extraction/text.py:507: UserWarning: The parameter 'token_pattern' will not be used since 'tokenizer' is not None'\n",
      "  warnings.warn(\"The parameter 'token_pattern' will not be used\"\n"
     ]
    },
    {
     "name": "stdout",
     "output_type": "stream",
     "text": [
      "\n",
      "X,y Train Shapes: (32367, 10000) (32367,)\n",
      "X,y Val Shapes: (4048, 10000) (4048,)\n",
      "X,y Test Shapes: (4048, 10000) (4048,)\n"
     ]
    }
   ],
   "source": [
    "ngram_max =1\n",
    "max_features = 10000 # limitar el numero de caracteristicas a utilizar, las 10 mil palabras o combinaciones de palabras mas frecuentes\n",
    "max_df=0.8\n",
    "min_df=1\n",
    "\n",
    "vectorizer = CountVectorizer(stop_words='english',tokenizer=my_pre_processer,min_df=min_df, max_df=max_df, max_features=max_features,\n",
    "                              binary=False, ngram_range=(1, ngram_max)) # ahora, Binary es False \n",
    "\n",
    "vectorizer.fit(data_train['text']) # fitear el vectorizer solo con data_train  \n",
    "\n",
    "discrete_train = vectorizer.transform(data_train['text']) # aplicar la transformacion a data_train para obtener discrete_train\n",
    "\n",
    "########################################################################################\n",
    "\n",
    "#Aprovechamos de crear datos para validacion. Para ello dividimos data_test en 2 subconjuntos: uno para validacion y otro para test.  \n",
    "\n",
    "#x_val, x_test, y_val, y_test = train_test_split(X_test, y_test, test_size=0.5, random_state=42) # defimos un validation set\n",
    "x_val = data_val\n",
    "x_test = data_test\n",
    "\n",
    "# aplicamos el vectorizer \"fiteado\" a los nuevos subconjuntos\n",
    "discrete_val = vectorizer.transform(x_val['text']) # datos de validacion\n",
    "discrete_test = vectorizer.transform(x_test['text']) # datos de test \n",
    "\n",
    "print(\"\\nX,y Train Shapes:\", discrete_train.shape, y_train.shape)\n",
    "print(\"X,y Val Shapes:\", discrete_val.shape, y_val.shape)\n",
    "print(\"X,y Test Shapes:\", discrete_test.shape, y_test.shape)"
   ]
  },
  {
   "cell_type": "code",
   "execution_count": null,
   "metadata": {
    "colab": {
     "base_uri": "https://localhost:8080/",
     "height": 350
    },
    "id": "lDH8Up0zMO2U",
    "outputId": "9b3cbcb5-03be-4fc9-9203-994d16891928"
   },
   "outputs": [
    {
     "name": "stdout",
     "output_type": "stream",
     "text": [
      "Score Train:  0.7581178360675997\n",
      "[[0.22875494 0.22900198]\n",
      " [0.14451581 0.39772727]]\n"
     ]
    },
    {
     "data": {
      "image/png": "[encoded data removed]",
      "text/plain": [
       "<Figure size 432x288 with 2 Axes>"
      ]
     },
     "metadata": {
      "needs_background": "light"
     },
     "output_type": "display_data"
    }
   ],
   "source": [
    "'''\n",
    "Bayes multinomial trata el texto como secuencia de palabras en vez de bag of words. \n",
    "No cuentan las palabras que no estan en el texto. Solo aquellas que si estan. \n",
    "'''\n",
    "from sklearn.naive_bayes import MultinomialNB\n",
    "\n",
    "clf = MultinomialNB(alpha=1)\n",
    "clf.fit(discrete_train, y_train)\n",
    "\n",
    "\n",
    "s_train = clf.score(discrete_train, y_train)\n",
    "\n",
    "print(\"Score Train: \", s_train)\n",
    "\n",
    "scores_val = clf.predict_proba(discrete_val)[:,1]\n",
    "labels = clf.classes_\n",
    "pos_class = labels[1]\n",
    "\n",
    "fpr_, tpr_, thresholds_ = roc_curve(y_val, scores_val, pos_label=pos_class) \n",
    "precision_, recall_, thrs_ = precision_recall_curve(y_val, scores_val, pos_label=pos_class)\n",
    "\n",
    "auc_ = auc(fpr_, tpr_) # area bajo la curva ROC\n",
    "aupr_ = average_precision_score(y_val, scores_val, pos_label=pos_class)  # area bajo la curva PR\n",
    "\n",
    "disp = plot_confusion_matrix(clf, discrete_test, y_test, display_labels=labels, cmap=plt.cm.Blues,normalize='all')\n",
    "disp.ax_.set_title(\"confusion BNB Test\")\n",
    "\n",
    "print(disp.confusion_matrix)"
   ]
  },
  {
   "cell_type": "markdown",
   "metadata": {
    "id": "ZP0SvqCWF9PV"
   },
   "source": [
    "# AWE"
   ]
  },
  {
   "cell_type": "markdown",
   "metadata": {
    "id": "NCty45IIHBqd"
   },
   "source": [
    "##Dataset 1: Alexa"
   ]
  },
  {
   "cell_type": "code",
   "execution_count": null,
   "metadata": {
    "colab": {
     "base_uri": "https://localhost:8080/"
    },
    "id": "c5wDOQRHF_Bz",
    "outputId": "727d444e-4115-4ac0-8f04-009ff9f9e872"
   },
   "outputs": [
    {
     "name": "stdout",
     "output_type": "stream",
     "text": [
      "[nltk_data] Downloading package punkt to /root/nltk_data...\n",
      "[nltk_data]   Unzipping tokenizers/punkt.zip.\n"
     ]
    }
   ],
   "source": [
    "import pandas as pd\n",
    "import numpy as np\n",
    "import re\n",
    "import collections\n",
    "import matplotlib.pyplot as plt\n",
    "from sklearn.model_selection import train_test_split\n",
    "from nltk.corpus import stopwords\n",
    "from keras.preprocessing.text import Tokenizer\n",
    "from keras.preprocessing.sequence import pad_sequences\n",
    "from keras.utils.np_utils import to_categorical\n",
    "from sklearn.preprocessing import LabelEncoder\n",
    "from keras import models\n",
    "from keras import layers\n",
    "from sklearn.model_selection import train_test_split\n",
    "import seaborn as sns\n",
    "from bs4 import BeautifulSoup\n",
    "import nltk\n",
    "nltk.download('punkt')\n",
    "from nltk.stem import PorterStemmer\n",
    "from nltk.tokenize import sent_tokenize, word_tokenize\n",
    "import re\n",
    "import string\n",
    "import keras.layers as layers\n",
    "from tensorflow.keras.preprocessing.text import Tokenizer\n",
    "from keras.models import Sequential\n",
    "import keras"
   ]
  },
  {
   "cell_type": "code",
   "execution_count": null,
   "metadata": {
    "id": "ndUx2V3OGBRa"
   },
   "outputs": [],
   "source": [
    "#generar un diccionario con el txt glob\n",
    "# load embedding as a dict\n",
    "def load_embedding_glove(filename):\n",
    "    # load embedding into memory, no need to skip first line\n",
    "    file = open(filename,'r', encoding='utf-8')\n",
    "    lines = file.readlines()\n",
    "    file.close()\n",
    "    # create a map of words to vectors\n",
    "    embedding = dict()\n",
    "    for line in lines:\n",
    "        parts = line.split()\n",
    "        # key is string word, value is numpy array for vector\n",
    "        embedding[parts[0]] = np.asarray(parts[1:], dtype='float32')\n",
    "    return embedding\n",
    "\n",
    "# create a weight matrix for the Embedding layer from a loaded embedding\n",
    "def get_weight_matrix_glove(embedding, vocab):\n",
    "    # total vocabulary size plus 0 for unknown words\n",
    "    vocab_size = len(vocab) + 1\n",
    "    # define weight matrix dimensions with all 0\n",
    "    weight_matrix = np.zeros((vocab_size, 100))\n",
    "    # step vocab, store vectors using the Tokenizer's integer mapping\n",
    "    for word, i in vocab.items():\n",
    "        vector = embedding.get(word)\n",
    "        if vector is not None:\n",
    "            weight_matrix[i] = vector\n",
    "    return weight_matrix"
   ]
  },
  {
   "cell_type": "code",
   "execution_count": null,
   "metadata": {
    "id": "Od_Phc48GCyh"
   },
   "outputs": [],
   "source": [
    "def plot_history(history):\n",
    "    accuracy = history.history['accuracy']\n",
    "    val_accuracy = history.history['val_accuracy']\n",
    "    loss = history.history['loss']\n",
    "    val_loss = history.history['val_loss']\n",
    "    \n",
    "    epochs = range(1,len(accuracy) + 1)\n",
    "    \n",
    "    # Plot accuracy  \n",
    "    plt.figure(1)\n",
    "    plt.plot(epochs, accuracy, 'b', label='Training accuracy')\n",
    "    plt.plot(epochs, val_accuracy, 'g', label='Validation accuracy')\n",
    "    plt.title('Training and validation accuracy')\n",
    "    plt.xlabel('Epochs')\n",
    "    plt.ylabel('Accuracy')\n",
    "    plt.legend()\n",
    "    \n",
    "    # Plot loss\n",
    "    plt.figure(2)\n",
    "    plt.plot(epochs, loss, 'b', label='Training loss')\n",
    "    plt.plot(epochs, val_loss, 'g', label='Validation loss')\n",
    "    plt.title('Training and validation loss')\n",
    "    plt.xlabel('Epochs')\n",
    "    plt.ylabel('Loss')\n",
    "    plt.legend()\n",
    "    plt.show()\n",
    "    \n",
    "def transform_text(s):\n",
    "    sw = stopwords.words('english')\n",
    "    #Eliminar html\n",
    "    html = re.compile(r'<.*?>')\n",
    "    s = html.sub(r'',s)\n",
    "    \n",
    "    #Eliminar numeros\n",
    "    s = re.sub(r'\\d+', '', s)\n",
    "    \n",
    "    #Eliminar puntuacion\n",
    "    #Eliminar stopwords\n",
    "    tokens = nltk.word_tokenize(s)\n",
    "    \n",
    "    new_string = []\n",
    "    for w in tokens:\n",
    "        #Eliminar palabras de largo menor o igual a 2 y stopwords\n",
    "        if len(w) > 2 and w not in sw:\n",
    "            new_string.append(w)\n",
    " \n",
    "    s = ' '.join(new_string)\n",
    "    s = s.strip()\n",
    "\n",
    "    exclude = set(string.punctuation)\n",
    "    s = ''.join(ch for ch in s if ch not in exclude)\n",
    "    \n",
    "    return s.strip()\n",
    "\n",
    "def lemmatizer_text(s):\n",
    "    lemmatizer = nltk.stem.WordNetLemmatizer()\n",
    "    tokens = nltk.word_tokenize(s)\n",
    "    \n",
    "    new_string = []\n",
    "    for w in tokens:\n",
    "        lem = lemmatizer.lemmatize(w, pos=\"v\")\n",
    "        # exclude if lenght of lemma is smaller than 2\n",
    "        if len(lem) > 2:\n",
    "            new_string.append(lem)\n",
    "    \n",
    "    s = ' '.join(new_string)\n",
    "    return s.strip()"
   ]
  },
  {
   "cell_type": "code",
   "execution_count": null,
   "metadata": {
    "id": "XL23W684GEXk"
   },
   "outputs": [],
   "source": [
    "data = pd.read_csv('amazon_alexa.tsv', delimiter = '\\t', quoting = 3)"
   ]
  },
  {
   "cell_type": "code",
   "execution_count": null,
   "metadata": {
    "colab": {
     "base_uri": "https://localhost:8080/",
     "height": 206
    },
    "id": "4SVuXYhAGF3U",
    "outputId": "fa9b070e-5e53-4962-eb77-9c46ee6b548d"
   },
   "outputs": [
    {
     "data": {
      "text/html": [
       "<div>\n",
       "<style scoped>\n",
       "    .dataframe tbody tr th:only-of-type {\n",
       "        vertical-align: middle;\n",
       "    }\n",
       "\n",
       "    .dataframe tbody tr th {\n",
       "        vertical-align: top;\n",
       "    }\n",
       "\n",
       "    .dataframe thead th {\n",
       "        text-align: right;\n",
       "    }\n",
       "</style>\n",
       "<table border=\"1\" class=\"dataframe\">\n",
       "  <thead>\n",
       "    <tr style=\"text-align: right;\">\n",
       "      <th></th>\n",
       "      <th>rating</th>\n",
       "      <th>date</th>\n",
       "      <th>variation</th>\n",
       "      <th>verified_reviews</th>\n",
       "      <th>feedback</th>\n",
       "    </tr>\n",
       "  </thead>\n",
       "  <tbody>\n",
       "    <tr>\n",
       "      <th>0</th>\n",
       "      <td>5</td>\n",
       "      <td>31-Jul-18</td>\n",
       "      <td>Charcoal Fabric</td>\n",
       "      <td>Love my Echo!</td>\n",
       "      <td>1</td>\n",
       "    </tr>\n",
       "    <tr>\n",
       "      <th>1</th>\n",
       "      <td>5</td>\n",
       "      <td>31-Jul-18</td>\n",
       "      <td>Charcoal Fabric</td>\n",
       "      <td>Loved it!</td>\n",
       "      <td>1</td>\n",
       "    </tr>\n",
       "    <tr>\n",
       "      <th>2</th>\n",
       "      <td>4</td>\n",
       "      <td>31-Jul-18</td>\n",
       "      <td>Walnut Finish</td>\n",
       "      <td>\"Sometimes while playing a game, you can answe...</td>\n",
       "      <td>1</td>\n",
       "    </tr>\n",
       "    <tr>\n",
       "      <th>3</th>\n",
       "      <td>5</td>\n",
       "      <td>31-Jul-18</td>\n",
       "      <td>Charcoal Fabric</td>\n",
       "      <td>\"I have had a lot of fun with this thing. My 4...</td>\n",
       "      <td>1</td>\n",
       "    </tr>\n",
       "    <tr>\n",
       "      <th>4</th>\n",
       "      <td>5</td>\n",
       "      <td>31-Jul-18</td>\n",
       "      <td>Charcoal Fabric</td>\n",
       "      <td>Music</td>\n",
       "      <td>1</td>\n",
       "    </tr>\n",
       "  </tbody>\n",
       "</table>\n",
       "</div>"
      ],
      "text/plain": [
       "   rating  ... feedback\n",
       "0       5  ...        1\n",
       "1       5  ...        1\n",
       "2       4  ...        1\n",
       "3       5  ...        1\n",
       "4       5  ...        1\n",
       "\n",
       "[5 rows x 5 columns]"
      ]
     },
     "execution_count": 95,
     "metadata": {},
     "output_type": "execute_result"
    }
   ],
   "source": [
    "data.head()"
   ]
  },
  {
   "cell_type": "code",
   "execution_count": null,
   "metadata": {
    "colab": {
     "base_uri": "https://localhost:8080/",
     "height": 807
    },
    "id": "BRooxU6HGHY0",
    "outputId": "22859808-7c84-4866-df15-610fcff7b1c3"
   },
   "outputs": [
    {
     "name": "stderr",
     "output_type": "stream",
     "text": [
      "/usr/local/lib/python3.7/dist-packages/seaborn/_decorators.py:43: FutureWarning: Pass the following variable as a keyword arg: x. From version 0.12, the only valid positional argument will be `data`, and passing other arguments without an explicit keyword will result in an error or misinterpretation.\n",
      "  FutureWarning\n",
      "/usr/local/lib/python3.7/dist-packages/seaborn/_decorators.py:43: FutureWarning: Pass the following variable as a keyword arg: x. From version 0.12, the only valid positional argument will be `data`, and passing other arguments without an explicit keyword will result in an error or misinterpretation.\n",
      "  FutureWarning\n"
     ]
    },
    {
     "data": {
      "image/png": "[encoded data removed]",
      "text/plain": [
       "<Figure size 720x864 with 4 Axes>"
      ]
     },
     "metadata": {
      "needs_background": "light"
     },
     "output_type": "display_data"
    }
   ],
   "source": [
    "#Revisar cariables categoricas\n",
    "cat_col = ['rating','feedback']\n",
    "\n",
    "plt.figure(figsize=(10, 12))\n",
    "count = 1\n",
    "for cols in cat_col:\n",
    "    plt.subplot(2, 2, count)\n",
    "    data[cols].value_counts().plot.pie(shadow=True,autopct='%1.1f%%')\n",
    "    count +=1\n",
    "    plt.subplot(2, 2, count)\n",
    "    sns.countplot(cols, data=data)\n",
    "    count+=1"
   ]
  },
  {
   "cell_type": "markdown",
   "metadata": {
    "id": "RKc9mEqPGLmW"
   },
   "source": [
    "### Limpieza y transformación"
   ]
  },
  {
   "cell_type": "code",
   "execution_count": null,
   "metadata": {
    "colab": {
     "base_uri": "https://localhost:8080/"
    },
    "id": "5iH-jB3jGMFh",
    "outputId": "657e3ad8-b076-450d-9de0-b469d0943e8a"
   },
   "outputs": [
    {
     "name": "stderr",
     "output_type": "stream",
     "text": [
      "/usr/local/lib/python3.7/dist-packages/bs4/__init__.py:336: UserWarning: \"https://www.amazon.com/dp/b073sqyxtw/ref=cm_cr_ryp_prd_ttl_sol_18\" looks like a URL. Beautiful Soup is not an HTTP client. You should probably use an HTTP client like requests to get the document behind the URL, and feed that document to Beautiful Soup.\n",
      "  ' that document to Beautiful Soup.' % decoded_markup\n"
     ]
    }
   ],
   "source": [
    "# Lowercase\n",
    "data[\"review_lower\"] = data[\"verified_reviews\"].str.lower()\n",
    "\n",
    "# Eliminacion de tags html\n",
    "data['review_lower'] = data['review_lower'].apply(lambda x: BeautifulSoup(x, 'html.parser').get_text().strip())\n",
    "\n",
    "# Eliminacion de stopwords y caracteres no alfanumericos\n",
    "data['review_sw'] = data['review_lower'].apply(transform_text)\n",
    "\n",
    "# Lematización\n",
    "data['review_lm'] = data['review_sw'].apply(lemmatizer_text)"
   ]
  },
  {
   "cell_type": "code",
   "execution_count": null,
   "metadata": {
    "colab": {
     "base_uri": "https://localhost:8080/",
     "height": 206
    },
    "id": "ta3jVlUoGPm-",
    "outputId": "5d5e8de4-306c-43c1-d2f9-6cc57fd95ac0"
   },
   "outputs": [
    {
     "data": {
      "text/html": [
       "<div>\n",
       "<style scoped>\n",
       "    .dataframe tbody tr th:only-of-type {\n",
       "        vertical-align: middle;\n",
       "    }\n",
       "\n",
       "    .dataframe tbody tr th {\n",
       "        vertical-align: top;\n",
       "    }\n",
       "\n",
       "    .dataframe thead th {\n",
       "        text-align: right;\n",
       "    }\n",
       "</style>\n",
       "<table border=\"1\" class=\"dataframe\">\n",
       "  <thead>\n",
       "    <tr style=\"text-align: right;\">\n",
       "      <th></th>\n",
       "      <th>verified_reviews</th>\n",
       "      <th>review_lower</th>\n",
       "      <th>review_sw</th>\n",
       "      <th>review_lm</th>\n",
       "    </tr>\n",
       "  </thead>\n",
       "  <tbody>\n",
       "    <tr>\n",
       "      <th>0</th>\n",
       "      <td>Love my Echo!</td>\n",
       "      <td>love my echo!</td>\n",
       "      <td>love echo</td>\n",
       "      <td>love echo</td>\n",
       "    </tr>\n",
       "    <tr>\n",
       "      <th>1</th>\n",
       "      <td>Loved it!</td>\n",
       "      <td>loved it!</td>\n",
       "      <td>loved</td>\n",
       "      <td>love</td>\n",
       "    </tr>\n",
       "    <tr>\n",
       "      <th>2</th>\n",
       "      <td>\"Sometimes while playing a game, you can answe...</td>\n",
       "      <td>\"sometimes while playing a game, you can answe...</td>\n",
       "      <td>sometimes playing game answer question correct...</td>\n",
       "      <td>sometimes play game answer question correctly ...</td>\n",
       "    </tr>\n",
       "    <tr>\n",
       "      <th>3</th>\n",
       "      <td>\"I have had a lot of fun with this thing. My 4...</td>\n",
       "      <td>\"i have had a lot of fun with this thing. my 4...</td>\n",
       "      <td>lot fun thing old learns dinosaurs control lig...</td>\n",
       "      <td>lot fun thing old learn dinosaurs control ligh...</td>\n",
       "    </tr>\n",
       "    <tr>\n",
       "      <th>4</th>\n",
       "      <td>Music</td>\n",
       "      <td>music</td>\n",
       "      <td>music</td>\n",
       "      <td>music</td>\n",
       "    </tr>\n",
       "  </tbody>\n",
       "</table>\n",
       "</div>"
      ],
      "text/plain": [
       "                                    verified_reviews  ...                                          review_lm\n",
       "0                                      Love my Echo!  ...                                          love echo\n",
       "1                                          Loved it!  ...                                               love\n",
       "2  \"Sometimes while playing a game, you can answe...  ...  sometimes play game answer question correctly ...\n",
       "3  \"I have had a lot of fun with this thing. My 4...  ...  lot fun thing old learn dinosaurs control ligh...\n",
       "4                                              Music  ...                                              music\n",
       "\n",
       "[5 rows x 4 columns]"
      ]
     },
     "execution_count": 98,
     "metadata": {},
     "output_type": "execute_result"
    }
   ],
   "source": [
    "data[['verified_reviews','review_lower', 'review_sw', 'review_lm']].head(5)"
   ]
  },
  {
   "cell_type": "code",
   "execution_count": null,
   "metadata": {
    "id": "ZefVAg3EGRHg"
   },
   "outputs": [],
   "source": [
    "pos_data = data[data[\"feedback\"]==1][['review_lm', 'feedback']]\n",
    "neg_data = data[data['feedback']== 0][['review_lm', 'feedback']]\n",
    "\n",
    "pos_data_arr = pos_data.to_numpy()\n",
    "neg_data_arr = neg_data.to_numpy()\n",
    "\n",
    "X_pos = pos_data_arr[:, 0]\n",
    "y_pos = pos_data_arr[:, 1]\n",
    "X_neg = neg_data_arr[:, 0]\n",
    "y_neg = neg_data_arr[:, 1]"
   ]
  },
  {
   "cell_type": "code",
   "execution_count": null,
   "metadata": {
    "id": "0qqIypLfGSu8"
   },
   "outputs": [],
   "source": [
    "X_train_pos, X_test_pos, y_train_pos, y_test_pos = train_test_split(X_pos, y_pos, train_size=0.7, random_state=432)\n",
    "X_train_neg, X_test_neg, y_train_neg, y_test_neg = train_test_split(X_neg, y_neg, train_size=0.7, random_state=432)"
   ]
  },
  {
   "cell_type": "code",
   "execution_count": null,
   "metadata": {
    "id": "5gFJvcqgGVCK"
   },
   "outputs": [],
   "source": [
    "X_train = np.concatenate((X_train_pos, X_train_neg))\n",
    "X_test = np.concatenate((X_test_pos, X_test_neg))\n",
    "\n",
    "y_train = np.concatenate((y_train_pos, y_train_neg))\n",
    "y_test = np.concatenate((y_test_pos, y_test_neg))"
   ]
  },
  {
   "cell_type": "code",
   "execution_count": null,
   "metadata": {
    "id": "Clx4Wpy4GWcy"
   },
   "outputs": [],
   "source": [
    "raw_embedding = load_embedding_glove('glove.6B.100d.txt')"
   ]
  },
  {
   "cell_type": "code",
   "execution_count": null,
   "metadata": {
    "id": "W9l6Rci5GX-w"
   },
   "outputs": [],
   "source": [
    "tokenizer = Tokenizer()\n",
    "\n",
    "#Ajustamos el tokenizador sobre el train\n",
    "tokenizer.fit_on_texts(X_train)\n",
    "\n",
    "# Definimos el tamaño del vocabulario\n",
    "vocab_size = len(tokenizer.word_index) + 1"
   ]
  },
  {
   "cell_type": "code",
   "execution_count": null,
   "metadata": {
    "id": "ccsOeZ7iGZbl"
   },
   "outputs": [],
   "source": [
    "#Codificamos\n",
    "encoded_docs = tokenizer.texts_to_sequences(X_train)\n",
    "#Pad sequences\n",
    "max_length = max([len(s.split()) for s in X_train])\n",
    "Xtrain = pad_sequences(encoded_docs, maxlen=max_length, padding='post')\n",
    "\n",
    "# fit the tokenizer on the test documents\n",
    "# sequence encode\n",
    "encoded_docs2 = tokenizer.texts_to_sequences(X_test)\n",
    "# pad sequences\n",
    "Xtest = pad_sequences(encoded_docs2, maxlen=max_length, padding='post')"
   ]
  },
  {
   "cell_type": "code",
   "execution_count": null,
   "metadata": {
    "id": "wzWzmFTJGasu"
   },
   "outputs": [],
   "source": [
    "embedding_vectors = get_weight_matrix_glove(raw_embedding, tokenizer.word_index)"
   ]
  },
  {
   "cell_type": "code",
   "execution_count": null,
   "metadata": {
    "id": "wVaJ1e0RGb-9"
   },
   "outputs": [],
   "source": [
    "y_train = np.asarray(y_train).astype('float32')\n",
    "y_test = np.asarray(y_test).astype('float32')"
   ]
  },
  {
   "cell_type": "code",
   "execution_count": null,
   "metadata": {
    "colab": {
     "base_uri": "https://localhost:8080/"
    },
    "id": "oyaWIg1xGdU7",
    "outputId": "264fc303-5563-4234-ac15-a20cd4b37465"
   },
   "outputs": [
    {
     "name": "stdout",
     "output_type": "stream",
     "text": [
      "Model: \"sequential\"\n",
      "_________________________________________________________________\n",
      "Layer (type)                 Output Shape              Param #   \n",
      "=================================================================\n",
      "embedding (Embedding)        (None, 254, 100)          282500    \n",
      "_________________________________________________________________\n",
      "lambda (Lambda)              (None, 100)               0         \n",
      "_________________________________________________________________\n",
      "dense (Dense)                (None, 2)                 202       \n",
      "=================================================================\n",
      "Total params: 282,702\n",
      "Trainable params: 282,702\n",
      "Non-trainable params: 0\n",
      "_________________________________________________________________\n",
      "None\n"
     ]
    }
   ],
   "source": [
    "model = Sequential()\n",
    "\n",
    "model.add(layers.embeddings.Embedding(vocab_size, 100, weights=[embedding_vectors], input_length=max_length, trainable=True))\n",
    "model.add(layers.Lambda(lambda x: keras.backend.mean(x, axis=1)))\n",
    "model.add(layers.Dense(2, activation='relu'))\n",
    "\n",
    "print(model.summary())"
   ]
  },
  {
   "cell_type": "code",
   "execution_count": null,
   "metadata": {
    "id": "znG8ZbqzGf8i"
   },
   "outputs": [],
   "source": [
    "model.compile(loss='binary_crossentropy', optimizer='adam', metrics=['accuracy'])"
   ]
  },
  {
   "cell_type": "code",
   "execution_count": null,
   "metadata": {
    "colab": {
     "base_uri": "https://localhost:8080/"
    },
    "id": "dNWUKq_xGhM9",
    "outputId": "bfe02117-b206-4b1b-8142-d474a60c9e5b"
   },
   "outputs": [
    {
     "name": "stdout",
     "output_type": "stream",
     "text": [
      "Epoch 1/20\n",
      "69/69 [==============================] - 4s 9ms/step - loss: 1.9602 - accuracy: 0.2777 - val_loss: 1.2242 - val_accuracy: 0.0825\n",
      "Epoch 2/20\n",
      "69/69 [==============================] - 0s 6ms/step - loss: 0.9430 - accuracy: 0.0812 - val_loss: 0.7100 - val_accuracy: 0.0825\n",
      "Epoch 3/20\n",
      "69/69 [==============================] - 0s 7ms/step - loss: 0.5490 - accuracy: 0.0812 - val_loss: 0.4802 - val_accuracy: 0.0825\n",
      "Epoch 4/20\n",
      "69/69 [==============================] - 0s 7ms/step - loss: 0.4074 - accuracy: 0.0812 - val_loss: 0.3628 - val_accuracy: 0.0825\n",
      "Epoch 5/20\n",
      "69/69 [==============================] - 1s 8ms/step - loss: 0.2905 - accuracy: 0.0830 - val_loss: 0.3154 - val_accuracy: 0.1078\n",
      "Epoch 6/20\n",
      "69/69 [==============================] - 0s 6ms/step - loss: 0.2557 - accuracy: 0.4682 - val_loss: 0.2898 - val_accuracy: 0.6903\n",
      "Epoch 7/20\n",
      "69/69 [==============================] - 0s 7ms/step - loss: 0.2423 - accuracy: 0.6225 - val_loss: 0.2851 - val_accuracy: 0.6829\n",
      "Epoch 8/20\n",
      "69/69 [==============================] - 0s 7ms/step - loss: 0.2288 - accuracy: 0.6788 - val_loss: 0.2660 - val_accuracy: 0.6934\n",
      "Epoch 9/20\n",
      "69/69 [==============================] - 0s 6ms/step - loss: 0.2202 - accuracy: 0.5880 - val_loss: 0.2673 - val_accuracy: 0.6163\n",
      "Epoch 10/20\n",
      "69/69 [==============================] - 0s 6ms/step - loss: 0.2136 - accuracy: 0.6112 - val_loss: 0.2657 - val_accuracy: 0.5941\n",
      "Epoch 11/20\n",
      "69/69 [==============================] - 0s 6ms/step - loss: 0.2078 - accuracy: 0.5862 - val_loss: 0.2536 - val_accuracy: 0.6543\n",
      "Epoch 12/20\n",
      "69/69 [==============================] - 0s 7ms/step - loss: 0.2016 - accuracy: 0.5163 - val_loss: 0.3235 - val_accuracy: 0.4218\n",
      "Epoch 13/20\n",
      "69/69 [==============================] - 0s 7ms/step - loss: 0.1979 - accuracy: 0.5730 - val_loss: 0.2497 - val_accuracy: 0.6564\n",
      "Epoch 14/20\n",
      "69/69 [==============================] - 0s 7ms/step - loss: 0.1926 - accuracy: 0.5626 - val_loss: 0.2838 - val_accuracy: 0.3911\n",
      "Epoch 15/20\n",
      "69/69 [==============================] - 0s 6ms/step - loss: 0.1879 - accuracy: 0.5154 - val_loss: 0.2500 - val_accuracy: 0.5571\n",
      "Epoch 16/20\n",
      "69/69 [==============================] - 0s 7ms/step - loss: 0.1834 - accuracy: 0.5082 - val_loss: 0.2474 - val_accuracy: 0.6290\n",
      "Epoch 17/20\n",
      "69/69 [==============================] - 0s 6ms/step - loss: 0.1803 - accuracy: 0.5132 - val_loss: 0.2572 - val_accuracy: 0.5211\n",
      "Epoch 18/20\n",
      "69/69 [==============================] - 0s 7ms/step - loss: 0.1755 - accuracy: 0.5163 - val_loss: 0.2348 - val_accuracy: 0.6364\n",
      "Epoch 19/20\n",
      "69/69 [==============================] - 0s 7ms/step - loss: 0.1726 - accuracy: 0.4592 - val_loss: 0.2822 - val_accuracy: 0.4672\n",
      "Epoch 20/20\n",
      "69/69 [==============================] - 0s 7ms/step - loss: 0.1678 - accuracy: 0.4406 - val_loss: 0.2514 - val_accuracy: 0.5074\n"
     ]
    }
   ],
   "source": [
    "history = model.fit(\n",
    "    Xtrain, y_train,\n",
    "    epochs=20,\n",
    "    validation_data=(Xtest, y_test),\n",
    "    verbose=1\n",
    ")"
   ]
  },
  {
   "cell_type": "code",
   "execution_count": null,
   "metadata": {
    "colab": {
     "base_uri": "https://localhost:8080/",
     "height": 573
    },
    "id": "eJJwI0ypGirJ",
    "outputId": "65af4213-a1d6-4901-a2b1-9afc559227a4"
   },
   "outputs": [
    {
     "data": {
      "image/png": "[encoded data removed]",
      "text/plain": [
       "<Figure size 432x288 with 1 Axes>"
      ]
     },
     "metadata": {
      "needs_background": "light"
     },
     "output_type": "display_data"
    },
    {
     "data": {
      "image/png": "[encoded data removed]",
      "text/plain": [
       "<Figure size 432x288 with 1 Axes>"
      ]
     },
     "metadata": {
      "needs_background": "light"
     },
     "output_type": "display_data"
    }
   ],
   "source": [
    "plot_history(history)"
   ]
  },
  {
   "cell_type": "code",
   "execution_count": null,
   "metadata": {
    "colab": {
     "base_uri": "https://localhost:8080/"
    },
    "id": "gh6JJ61bGkM-",
    "outputId": "f459b167-1681-483e-9e01-a33770b98435"
   },
   "outputs": [
    {
     "name": "stdout",
     "output_type": "stream",
     "text": [
      "30/30 [==============================] - 0s 2ms/step - loss: 0.2514 - accuracy: 0.5074\n",
      "Test Accuracy: 50.739956\n"
     ]
    }
   ],
   "source": [
    "# evaluate\n",
    "loss, acc = model.evaluate(Xtest, y_test, verbose=1)\n",
    "print('Test Accuracy: %f' % (acc*100))"
   ]
  },
  {
   "cell_type": "markdown",
   "metadata": {
    "id": "ED1KrDinHC-H"
   },
   "source": []
  },
  {
   "cell_type": "markdown",
   "metadata": {
    "id": "Bc6WR0kLHIb2"
   },
   "source": [
    "##Dataset 2 Mail Spam"
   ]
  },
  {
   "cell_type": "code",
   "execution_count": null,
   "metadata": {
    "colab": {
     "base_uri": "https://localhost:8080/"
    },
    "id": "7wHjdgJAHJHE",
    "outputId": "7f61815f-e623-4576-f1c0-6e08265c5e6e"
   },
   "outputs": [
    {
     "name": "stdout",
     "output_type": "stream",
     "text": [
      "[nltk_data] Downloading package stopwords to /root/nltk_data...\n",
      "[nltk_data]   Package stopwords is already up-to-date!\n"
     ]
    }
   ],
   "source": [
    "import numpy as np \n",
    "import pandas as pd \n",
    "import re\n",
    "import nltk \n",
    "import matplotlib.pyplot as plt\n",
    "%matplotlib inline\n",
    "\n",
    "nltk.download('stopwords')\n",
    "from nltk.corpus import stopwords\n",
    "from sklearn.feature_extraction.text import TfidfVectorizer"
   ]
  },
  {
   "cell_type": "code",
   "execution_count": null,
   "metadata": {
    "id": "a0Ypnfy7HW8e"
   },
   "outputs": [],
   "source": [
    "data_train = pd.read_csv(\"SMS_train.csv\",encoding = \"ISO-8859-1\")\n",
    "data_test = pd.read_csv(\"SMS_test.csv\",encoding = \"ISO-8859-1\")"
   ]
  },
  {
   "cell_type": "code",
   "execution_count": null,
   "metadata": {
    "colab": {
     "base_uri": "https://localhost:8080/",
     "height": 225
    },
    "id": "voz7szR_HYDq",
    "outputId": "27ac4614-6282-4140-85da-9da724a6c19b"
   },
   "outputs": [
    {
     "name": "stdout",
     "output_type": "stream",
     "text": [
      "(957, 3)\n"
     ]
    },
    {
     "data": {
      "text/html": [
       "<div>\n",
       "<style scoped>\n",
       "    .dataframe tbody tr th:only-of-type {\n",
       "        vertical-align: middle;\n",
       "    }\n",
       "\n",
       "    .dataframe tbody tr th {\n",
       "        vertical-align: top;\n",
       "    }\n",
       "\n",
       "    .dataframe thead th {\n",
       "        text-align: right;\n",
       "    }\n",
       "</style>\n",
       "<table border=\"1\" class=\"dataframe\">\n",
       "  <thead>\n",
       "    <tr style=\"text-align: right;\">\n",
       "      <th></th>\n",
       "      <th>S. No.</th>\n",
       "      <th>Message_body</th>\n",
       "      <th>Label</th>\n",
       "    </tr>\n",
       "  </thead>\n",
       "  <tbody>\n",
       "    <tr>\n",
       "      <th>0</th>\n",
       "      <td>1</td>\n",
       "      <td>Rofl. Its true to its name</td>\n",
       "      <td>Non-Spam</td>\n",
       "    </tr>\n",
       "    <tr>\n",
       "      <th>1</th>\n",
       "      <td>2</td>\n",
       "      <td>The guy did some bitching but I acted like i'd...</td>\n",
       "      <td>Non-Spam</td>\n",
       "    </tr>\n",
       "    <tr>\n",
       "      <th>2</th>\n",
       "      <td>3</td>\n",
       "      <td>Pity, * was in mood for that. So...any other s...</td>\n",
       "      <td>Non-Spam</td>\n",
       "    </tr>\n",
       "    <tr>\n",
       "      <th>3</th>\n",
       "      <td>4</td>\n",
       "      <td>Will ü b going to esplanade fr home?</td>\n",
       "      <td>Non-Spam</td>\n",
       "    </tr>\n",
       "    <tr>\n",
       "      <th>4</th>\n",
       "      <td>5</td>\n",
       "      <td>This is the 2nd time we have tried 2 contact u...</td>\n",
       "      <td>Spam</td>\n",
       "    </tr>\n",
       "  </tbody>\n",
       "</table>\n",
       "</div>"
      ],
      "text/plain": [
       "   S. No.                                       Message_body     Label\n",
       "0       1                         Rofl. Its true to its name  Non-Spam\n",
       "1       2  The guy did some bitching but I acted like i'd...  Non-Spam\n",
       "2       3  Pity, * was in mood for that. So...any other s...  Non-Spam\n",
       "3       4               Will ü b going to esplanade fr home?  Non-Spam\n",
       "4       5  This is the 2nd time we have tried 2 contact u...      Spam"
      ]
     },
     "execution_count": 115,
     "metadata": {},
     "output_type": "execute_result"
    }
   ],
   "source": [
    "print(data_train.shape)\n",
    "data_train.head()"
   ]
  },
  {
   "cell_type": "code",
   "execution_count": null,
   "metadata": {
    "colab": {
     "base_uri": "https://localhost:8080/"
    },
    "id": "yHSSxa6PHZa2",
    "outputId": "c7842ea7-b869-4cbe-87d3-e78b5a2b2ce3"
   },
   "outputs": [
    {
     "data": {
      "text/plain": [
       "Non-Spam    835\n",
       "Spam        122\n",
       "Name: Label, dtype: int64"
      ]
     },
     "execution_count": 116,
     "metadata": {},
     "output_type": "execute_result"
    }
   ],
   "source": [
    "data_train.Label.value_counts()"
   ]
  },
  {
   "cell_type": "code",
   "execution_count": null,
   "metadata": {
    "colab": {
     "base_uri": "https://localhost:8080/",
     "height": 266
    },
    "id": "Au5fdRymHazw",
    "outputId": "adba7a68-8019-4f43-bcc7-6ea709d2884e"
   },
   "outputs": [
    {
     "data": {
      "text/plain": [
       "<matplotlib.axes._subplots.AxesSubplot at 0x7f7000046690>"
      ]
     },
     "execution_count": 117,
     "metadata": {},
     "output_type": "execute_result"
    },
    {
     "data": {
      "image/png": "[encoded data removed]",
      "text/plain": [
       "<Figure size 432x288 with 1 Axes>"
      ]
     },
     "metadata": {},
     "output_type": "display_data"
    }
   ],
   "source": [
    "data_train.Label.value_counts().plot(kind=\"pie\", autopct=\"%1.0f%%\")"
   ]
  },
  {
   "cell_type": "markdown",
   "metadata": {
    "id": "f0haUNXQHeNi"
   },
   "source": [
    "### Limpieza y transformación"
   ]
  },
  {
   "cell_type": "code",
   "execution_count": null,
   "metadata": {
    "id": "gVRw8HsrHcJt"
   },
   "outputs": [],
   "source": [
    "# Lowercase\n",
    "data_train[\"message_lower\"] = data_train[\"Message_body\"].str.lower()\n",
    "\n",
    "# Eliminacion de tags html\n",
    "data_train[\"message_lower\"] = data_train[\"message_lower\"].apply(lambda x: BeautifulSoup(x, 'html.parser').get_text().strip())\n",
    "\n",
    "# Eliminacion de stopwords y caracteres no alfanumericos\n",
    "data_train[\"message_sw\"] = data_train[\"message_lower\"].apply(transform_text)\n",
    "\n",
    "# Lematización\n",
    "data_train[\"message_lm\"] = data_train[\"message_sw\"].apply(lemmatizer_text)"
   ]
  },
  {
   "cell_type": "code",
   "execution_count": null,
   "metadata": {
    "id": "l109DEtJHh33"
   },
   "outputs": [],
   "source": [
    "# Lowercase\n",
    "data_test[\"message_lower\"] = data_test[\"Message_body\"].str.lower()\n",
    "\n",
    "# Eliminacion de tags html\n",
    "data_test[\"message_lower\"] = data_test[\"message_lower\"].apply(lambda x: BeautifulSoup(x, 'html.parser').get_text().strip())\n",
    "\n",
    "# Eliminacion de stopwords y caracteres no alfanumericos\n",
    "data_test[\"message_sw\"] = data_test[\"message_lower\"].apply(transform_text)\n",
    "\n",
    "# Lematización\n",
    "data_test[\"message_lm\"] = data_test[\"message_sw\"].apply(lemmatizer_text)"
   ]
  },
  {
   "cell_type": "code",
   "execution_count": null,
   "metadata": {
    "colab": {
     "base_uri": "https://localhost:8080/",
     "height": 206
    },
    "id": "G86vbbBZHjXU",
    "outputId": "cc30572f-482c-44be-dddd-56348c3410ad"
   },
   "outputs": [
    {
     "data": {
      "text/html": [
       "<div>\n",
       "<style scoped>\n",
       "    .dataframe tbody tr th:only-of-type {\n",
       "        vertical-align: middle;\n",
       "    }\n",
       "\n",
       "    .dataframe tbody tr th {\n",
       "        vertical-align: top;\n",
       "    }\n",
       "\n",
       "    .dataframe thead th {\n",
       "        text-align: right;\n",
       "    }\n",
       "</style>\n",
       "<table border=\"1\" class=\"dataframe\">\n",
       "  <thead>\n",
       "    <tr style=\"text-align: right;\">\n",
       "      <th></th>\n",
       "      <th>Message_body</th>\n",
       "      <th>message_lower</th>\n",
       "      <th>message_sw</th>\n",
       "      <th>message_lm</th>\n",
       "    </tr>\n",
       "  </thead>\n",
       "  <tbody>\n",
       "    <tr>\n",
       "      <th>0</th>\n",
       "      <td>Rofl. Its true to its name</td>\n",
       "      <td>rofl. its true to its name</td>\n",
       "      <td>rofl true name</td>\n",
       "      <td>rofl true name</td>\n",
       "    </tr>\n",
       "    <tr>\n",
       "      <th>1</th>\n",
       "      <td>The guy did some bitching but I acted like i'd...</td>\n",
       "      <td>the guy did some bitching but i acted like i'd...</td>\n",
       "      <td>guy bitching acted like interested buying some...</td>\n",
       "      <td>guy bitch act like interest buy something else...</td>\n",
       "    </tr>\n",
       "    <tr>\n",
       "      <th>2</th>\n",
       "      <td>Pity, * was in mood for that. So...any other s...</td>\n",
       "      <td>pity, * was in mood for that. so...any other s...</td>\n",
       "      <td>pity mood  suggestions</td>\n",
       "      <td>pity mood suggestions</td>\n",
       "    </tr>\n",
       "    <tr>\n",
       "      <th>3</th>\n",
       "      <td>Will ü b going to esplanade fr home?</td>\n",
       "      <td>will ü b going to esplanade fr home?</td>\n",
       "      <td>going esplanade home</td>\n",
       "      <td>esplanade home</td>\n",
       "    </tr>\n",
       "    <tr>\n",
       "      <th>4</th>\n",
       "      <td>This is the 2nd time we have tried 2 contact u...</td>\n",
       "      <td>this is the 2nd time we have tried 2 contact u...</td>\n",
       "      <td>time tried contact pound prize claim easy call...</td>\n",
       "      <td>time try contact pound prize claim easy call p...</td>\n",
       "    </tr>\n",
       "  </tbody>\n",
       "</table>\n",
       "</div>"
      ],
      "text/plain": [
       "                                        Message_body  ...                                         message_lm\n",
       "0                         Rofl. Its true to its name  ...                                     rofl true name\n",
       "1  The guy did some bitching but I acted like i'd...  ...  guy bitch act like interest buy something else...\n",
       "2  Pity, * was in mood for that. So...any other s...  ...                              pity mood suggestions\n",
       "3               Will ü b going to esplanade fr home?  ...                                     esplanade home\n",
       "4  This is the 2nd time we have tried 2 contact u...  ...  time try contact pound prize claim easy call p...\n",
       "\n",
       "[5 rows x 4 columns]"
      ]
     },
     "execution_count": 120,
     "metadata": {},
     "output_type": "execute_result"
    }
   ],
   "source": [
    "data_train[['Message_body','message_lower', 'message_sw', 'message_lm']].head(5)"
   ]
  },
  {
   "cell_type": "code",
   "execution_count": null,
   "metadata": {
    "colab": {
     "base_uri": "https://localhost:8080/",
     "height": 206
    },
    "id": "t3cSylh1Hkr5",
    "outputId": "833d2f48-e766-482e-9784-9680640b419c"
   },
   "outputs": [
    {
     "data": {
      "text/html": [
       "<div>\n",
       "<style scoped>\n",
       "    .dataframe tbody tr th:only-of-type {\n",
       "        vertical-align: middle;\n",
       "    }\n",
       "\n",
       "    .dataframe tbody tr th {\n",
       "        vertical-align: top;\n",
       "    }\n",
       "\n",
       "    .dataframe thead th {\n",
       "        text-align: right;\n",
       "    }\n",
       "</style>\n",
       "<table border=\"1\" class=\"dataframe\">\n",
       "  <thead>\n",
       "    <tr style=\"text-align: right;\">\n",
       "      <th></th>\n",
       "      <th>Message_body</th>\n",
       "      <th>message_lower</th>\n",
       "      <th>message_sw</th>\n",
       "      <th>message_lm</th>\n",
       "    </tr>\n",
       "  </thead>\n",
       "  <tbody>\n",
       "    <tr>\n",
       "      <th>0</th>\n",
       "      <td>UpgrdCentre Orange customer, you may now claim...</td>\n",
       "      <td>upgrdcentre orange customer, you may now claim...</td>\n",
       "      <td>upgrdcentre orange customer may claim free cam...</td>\n",
       "      <td>upgrdcentre orange customer may claim free cam...</td>\n",
       "    </tr>\n",
       "    <tr>\n",
       "      <th>1</th>\n",
       "      <td>Loan for any purpose £500 - £75,000. Homeowner...</td>\n",
       "      <td>loan for any purpose £500 - £75,000. homeowner...</td>\n",
       "      <td>loan purpose homeowners tenants welcome previo...</td>\n",
       "      <td>loan purpose homeowners tenant welcome previou...</td>\n",
       "    </tr>\n",
       "    <tr>\n",
       "      <th>2</th>\n",
       "      <td>Congrats! Nokia 3650 video camera phone is you...</td>\n",
       "      <td>congrats! nokia 3650 video camera phone is you...</td>\n",
       "      <td>congrats nokia video camera phone call calls c...</td>\n",
       "      <td>congrats nokia video camera phone call call co...</td>\n",
       "    </tr>\n",
       "    <tr>\n",
       "      <th>3</th>\n",
       "      <td>URGENT! Your Mobile number has been awarded wi...</td>\n",
       "      <td>urgent! your mobile number has been awarded wi...</td>\n",
       "      <td>urgent mobile number awarded prize guaranteed ...</td>\n",
       "      <td>urgent mobile number award prize guarantee cal...</td>\n",
       "    </tr>\n",
       "    <tr>\n",
       "      <th>4</th>\n",
       "      <td>Someone has contacted our dating service and e...</td>\n",
       "      <td>someone has contacted our dating service and e...</td>\n",
       "      <td>someone contacted dating service entered phone...</td>\n",
       "      <td>someone contact date service enter phone fancy...</td>\n",
       "    </tr>\n",
       "  </tbody>\n",
       "</table>\n",
       "</div>"
      ],
      "text/plain": [
       "                                        Message_body  ...                                         message_lm\n",
       "0  UpgrdCentre Orange customer, you may now claim...  ...  upgrdcentre orange customer may claim free cam...\n",
       "1  Loan for any purpose £500 - £75,000. Homeowner...  ...  loan purpose homeowners tenant welcome previou...\n",
       "2  Congrats! Nokia 3650 video camera phone is you...  ...  congrats nokia video camera phone call call co...\n",
       "3  URGENT! Your Mobile number has been awarded wi...  ...  urgent mobile number award prize guarantee cal...\n",
       "4  Someone has contacted our dating service and e...  ...  someone contact date service enter phone fancy...\n",
       "\n",
       "[5 rows x 4 columns]"
      ]
     },
     "execution_count": 121,
     "metadata": {},
     "output_type": "execute_result"
    }
   ],
   "source": [
    "data_test[['Message_body','message_lower', 'message_sw', 'message_lm']].head(5)"
   ]
  },
  {
   "cell_type": "code",
   "execution_count": null,
   "metadata": {
    "id": "Sx-2imfdHl8B"
   },
   "outputs": [],
   "source": [
    "data_train[\"Label\"].replace(\"Non-Spam\", 1, inplace=True)\n",
    "data_train[\"Label\"].replace(\"Spam\", 0, inplace=True)\n",
    "data_test[\"Label\"].replace(\"Non-Spam\", 1, inplace=True)\n",
    "data_test[\"Label\"].replace(\"Spam\", 0, inplace=True)"
   ]
  },
  {
   "cell_type": "code",
   "execution_count": null,
   "metadata": {
    "id": "QJUP9zhBHnLC"
   },
   "outputs": [],
   "source": [
    "X_train = data_train[\"message_lm\"].to_numpy()\n",
    "y_train = data_train[\"Label\"].to_numpy()\n",
    "\n",
    "X_test = data_test[\"message_lm\"].to_numpy()\n",
    "y_test = data_test[\"Label\"].to_numpy()"
   ]
  },
  {
   "cell_type": "code",
   "execution_count": null,
   "metadata": {
    "id": "CP5J_69OHoPZ"
   },
   "outputs": [],
   "source": [
    "raw_embedding = load_embedding_glove('glove.6B.100d.txt')"
   ]
  },
  {
   "cell_type": "code",
   "execution_count": null,
   "metadata": {
    "id": "QGzdCEIqHpim"
   },
   "outputs": [],
   "source": [
    "tokenizer = Tokenizer()\n",
    "\n",
    "#Ajustamos el tokenizador sobre el train\n",
    "tokenizer.fit_on_texts(X_train)\n",
    "# Definimos el tamaño del vocabulario\n",
    "vocab_size = len(tokenizer.word_index) + 1"
   ]
  },
  {
   "cell_type": "code",
   "execution_count": null,
   "metadata": {
    "id": "F0agFzTHHqos"
   },
   "outputs": [],
   "source": [
    "#Codificamos\n",
    "encoded_docs = tokenizer.texts_to_sequences(X_train)\n",
    "#Pad sequences\n",
    "max_length = max([len(s.split()) for s in X_train])\n",
    "Xtrain = pad_sequences(encoded_docs, maxlen=max_length, padding='post')"
   ]
  },
  {
   "cell_type": "code",
   "execution_count": null,
   "metadata": {
    "id": "Fd4jlpPLHsAJ"
   },
   "outputs": [],
   "source": [
    "# fit the tokenizer on the test documents\n",
    "# sequence encode\n",
    "encoded_docs2 = tokenizer.texts_to_sequences(X_test)\n",
    "# pad sequences\n",
    "Xtest = pad_sequences(encoded_docs2, maxlen=max_length, padding='post')\n",
    "embedding_vectors = get_weight_matrix_glove(raw_embedding, tokenizer.word_index)"
   ]
  },
  {
   "cell_type": "markdown",
   "metadata": {
    "id": "rfDByid_HtHn"
   },
   "source": [
    "### Modelo"
   ]
  },
  {
   "cell_type": "code",
   "execution_count": null,
   "metadata": {
    "colab": {
     "base_uri": "https://localhost:8080/"
    },
    "id": "NKv_GvbkHuwq",
    "outputId": "17e7fee9-6345-469d-c54d-8b476cf0f413"
   },
   "outputs": [
    {
     "name": "stdout",
     "output_type": "stream",
     "text": [
      "Model: \"sequential_1\"\n",
      "_________________________________________________________________\n",
      "Layer (type)                 Output Shape              Param #   \n",
      "=================================================================\n",
      "embedding_1 (Embedding)      (None, 50, 100)           248200    \n",
      "_________________________________________________________________\n",
      "lambda_1 (Lambda)            (None, 100)               0         \n",
      "_________________________________________________________________\n",
      "dense_1 (Dense)              (None, 2)                 202       \n",
      "=================================================================\n",
      "Total params: 248,402\n",
      "Trainable params: 248,402\n",
      "Non-trainable params: 0\n",
      "_________________________________________________________________\n",
      "None\n"
     ]
    }
   ],
   "source": [
    "model = Sequential()\n",
    "\n",
    "model.add(layers.embeddings.Embedding(vocab_size, 100, weights=[embedding_vectors], input_length=max_length, trainable=True))\n",
    "model.add(layers.Lambda(lambda x: keras.backend.mean(x, axis=1)))\n",
    "model.add(layers.Dense(2, activation='relu'))\n",
    "\n",
    "print(model.summary())"
   ]
  },
  {
   "cell_type": "code",
   "execution_count": null,
   "metadata": {
    "id": "H4kcMhusHxW2"
   },
   "outputs": [],
   "source": [
    "model.compile(loss='binary_crossentropy', optimizer='adam', metrics=['accuracy'])"
   ]
  },
  {
   "cell_type": "code",
   "execution_count": null,
   "metadata": {
    "colab": {
     "base_uri": "https://localhost:8080/"
    },
    "id": "hmgMbJJVHyVj",
    "outputId": "13571562-923d-4f52-e2a7-7af8c534fc47"
   },
   "outputs": [
    {
     "name": "stdout",
     "output_type": "stream",
     "text": [
      "Epoch 1/30\n",
      "30/30 [==============================] - 1s 11ms/step - loss: 5.9675 - accuracy: 0.1735 - val_loss: 1.1131 - val_accuracy: 0.4400\n",
      "Epoch 2/30\n",
      "30/30 [==============================] - 0s 6ms/step - loss: 2.1748 - accuracy: 0.5089 - val_loss: 0.7885 - val_accuracy: 0.4000\n",
      "Epoch 3/30\n",
      "30/30 [==============================] - 0s 5ms/step - loss: 1.6766 - accuracy: 0.6750 - val_loss: 0.7280 - val_accuracy: 0.4320\n",
      "Epoch 4/30\n",
      "30/30 [==============================] - 0s 6ms/step - loss: 1.4606 - accuracy: 0.7388 - val_loss: 0.6838 - val_accuracy: 0.4400\n",
      "Epoch 5/30\n",
      "30/30 [==============================] - 0s 6ms/step - loss: 1.3030 - accuracy: 0.7670 - val_loss: 0.6482 - val_accuracy: 0.4400\n",
      "Epoch 6/30\n",
      "30/30 [==============================] - 0s 6ms/step - loss: 1.1888 - accuracy: 0.7858 - val_loss: 0.6182 - val_accuracy: 0.4400\n",
      "Epoch 7/30\n",
      "30/30 [==============================] - 0s 6ms/step - loss: 1.0900 - accuracy: 0.8036 - val_loss: 0.5923 - val_accuracy: 0.4400\n",
      "Epoch 8/30\n",
      "30/30 [==============================] - 0s 6ms/step - loss: 0.9993 - accuracy: 0.8119 - val_loss: 0.5697 - val_accuracy: 0.4480\n",
      "Epoch 9/30\n",
      "30/30 [==============================] - 0s 5ms/step - loss: 0.9144 - accuracy: 0.8203 - val_loss: 0.5499 - val_accuracy: 0.4480\n",
      "Epoch 10/30\n",
      "30/30 [==============================] - 0s 6ms/step - loss: 0.8346 - accuracy: 0.8307 - val_loss: 0.5334 - val_accuracy: 0.4560\n",
      "Epoch 11/30\n",
      "30/30 [==============================] - 0s 6ms/step - loss: 0.7588 - accuracy: 0.8401 - val_loss: 0.5193 - val_accuracy: 0.4640\n",
      "Epoch 12/30\n",
      "30/30 [==============================] - 0s 6ms/step - loss: 0.6869 - accuracy: 0.8495 - val_loss: 0.5081 - val_accuracy: 0.4560\n",
      "Epoch 13/30\n",
      "30/30 [==============================] - 0s 6ms/step - loss: 0.6183 - accuracy: 0.8548 - val_loss: 0.4993 - val_accuracy: 0.4480\n",
      "Epoch 14/30\n",
      "30/30 [==============================] - 0s 6ms/step - loss: 0.5529 - accuracy: 0.8631 - val_loss: 0.4942 - val_accuracy: 0.4560\n",
      "Epoch 15/30\n",
      "30/30 [==============================] - 0s 7ms/step - loss: 0.4900 - accuracy: 0.8746 - val_loss: 0.4915 - val_accuracy: 0.4560\n",
      "Epoch 16/30\n",
      "30/30 [==============================] - 0s 6ms/step - loss: 0.4302 - accuracy: 0.8788 - val_loss: 0.4933 - val_accuracy: 0.4560\n",
      "Epoch 17/30\n",
      "30/30 [==============================] - 0s 5ms/step - loss: 0.3727 - accuracy: 0.8871 - val_loss: 0.4998 - val_accuracy: 0.4720\n",
      "Epoch 18/30\n",
      "30/30 [==============================] - 0s 6ms/step - loss: 0.3177 - accuracy: 0.8966 - val_loss: 0.5078 - val_accuracy: 0.4960\n",
      "Epoch 19/30\n",
      "30/30 [==============================] - 0s 6ms/step - loss: 0.2663 - accuracy: 0.9049 - val_loss: 0.5234 - val_accuracy: 0.4960\n",
      "Epoch 20/30\n",
      "30/30 [==============================] - 0s 6ms/step - loss: 0.2187 - accuracy: 0.9112 - val_loss: 0.5459 - val_accuracy: 0.5200\n",
      "Epoch 21/30\n",
      "30/30 [==============================] - 0s 6ms/step - loss: 0.1794 - accuracy: 0.9206 - val_loss: 0.6285 - val_accuracy: 0.5280\n",
      "Epoch 22/30\n",
      "30/30 [==============================] - 0s 6ms/step - loss: 0.1476 - accuracy: 0.9195 - val_loss: 0.7348 - val_accuracy: 0.5600\n",
      "Epoch 23/30\n",
      "30/30 [==============================] - 0s 6ms/step - loss: 0.1249 - accuracy: 0.9154 - val_loss: 0.7317 - val_accuracy: 0.6160\n",
      "Epoch 24/30\n",
      "30/30 [==============================] - 0s 6ms/step - loss: 0.1069 - accuracy: 0.8966 - val_loss: 0.7949 - val_accuracy: 0.6400\n",
      "Epoch 25/30\n",
      "30/30 [==============================] - 0s 5ms/step - loss: 0.0910 - accuracy: 0.8757 - val_loss: 0.8939 - val_accuracy: 0.6640\n",
      "Epoch 26/30\n",
      "30/30 [==============================] - 0s 6ms/step - loss: 0.0799 - accuracy: 0.8443 - val_loss: 0.9047 - val_accuracy: 0.6960\n",
      "Epoch 27/30\n",
      "30/30 [==============================] - 0s 6ms/step - loss: 0.0717 - accuracy: 0.8015 - val_loss: 0.9844 - val_accuracy: 0.7040\n",
      "Epoch 28/30\n",
      "30/30 [==============================] - 0s 6ms/step - loss: 0.0653 - accuracy: 0.7367 - val_loss: 0.9741 - val_accuracy: 0.6960\n",
      "Epoch 29/30\n",
      "30/30 [==============================] - 0s 6ms/step - loss: 0.0604 - accuracy: 0.6834 - val_loss: 0.9644 - val_accuracy: 0.6880\n",
      "Epoch 30/30\n",
      "30/30 [==============================] - 0s 6ms/step - loss: 0.0563 - accuracy: 0.6499 - val_loss: 0.9534 - val_accuracy: 0.6880\n"
     ]
    }
   ],
   "source": [
    "history2 = model.fit(\n",
    "    Xtrain, y_train,\n",
    "    epochs=30,\n",
    "    validation_data=(Xtest, y_test),\n",
    "    verbose=1\n",
    ")"
   ]
  },
  {
   "cell_type": "code",
   "execution_count": null,
   "metadata": {
    "colab": {
     "base_uri": "https://localhost:8080/",
     "height": 573
    },
    "id": "2VP50aZ2Hzmf",
    "outputId": "72cfbfa6-b36d-41bc-8058-0d739413eeef"
   },
   "outputs": [
    {
     "data": {
      "image/png": "[encoded data removed]",
      "text/plain": [
       "<Figure size 432x288 with 1 Axes>"
      ]
     },
     "metadata": {
      "needs_background": "light"
     },
     "output_type": "display_data"
    },
    {
     "data": {
      "image/png": "[encoded data removed]",
      "text/plain": [
       "<Figure size 432x288 with 1 Axes>"
      ]
     },
     "metadata": {
      "needs_background": "light"
     },
     "output_type": "display_data"
    }
   ],
   "source": [
    "plot_history(history2)"
   ]
  },
  {
   "cell_type": "code",
   "execution_count": null,
   "metadata": {
    "colab": {
     "base_uri": "https://localhost:8080/"
    },
    "id": "zBjm8kPYH1Ph",
    "outputId": "170593e4-3b7e-492c-b6f9-0c4f41081253"
   },
   "outputs": [
    {
     "name": "stdout",
     "output_type": "stream",
     "text": [
      "4/4 [==============================] - 0s 4ms/step - loss: 0.9534 - accuracy: 0.6880\n",
      "Test Accuracy: 68.800002\n"
     ]
    }
   ],
   "source": [
    "# evaluate\n",
    "loss, acc = model.evaluate(Xtest, y_test, verbose=1)\n",
    "print('Test Accuracy: %f' % (acc*100))"
   ]
  },
  {
   "cell_type": "markdown",
   "metadata": {
    "id": "aLQid7ERH5dp"
   },
   "source": [
    "##Dataset 3 (synthetic) Comentarios de odio"
   ]
  },
  {
   "cell_type": "code",
   "execution_count": null,
   "metadata": {
    "id": "XevEpeZHH2sX"
   },
   "outputs": [],
   "source": [
    "import numpy as np \n",
    "import pandas as pd"
   ]
  },
  {
   "cell_type": "code",
   "execution_count": null,
   "metadata": {
    "colab": {
     "base_uri": "https://localhost:8080/",
     "height": 206
    },
    "id": "MwNLeccyH_Mh",
    "outputId": "580a1a71-cb89-471e-cd41-fa2ecbdc0f4f"
   },
   "outputs": [
    {
     "data": {
      "text/html": [
       "<div>\n",
       "<style scoped>\n",
       "    .dataframe tbody tr th:only-of-type {\n",
       "        vertical-align: middle;\n",
       "    }\n",
       "\n",
       "    .dataframe tbody tr th {\n",
       "        vertical-align: top;\n",
       "    }\n",
       "\n",
       "    .dataframe thead th {\n",
       "        text-align: right;\n",
       "    }\n",
       "</style>\n",
       "<table border=\"1\" class=\"dataframe\">\n",
       "  <thead>\n",
       "    <tr style=\"text-align: right;\">\n",
       "      <th></th>\n",
       "      <th>text</th>\n",
       "      <th>label</th>\n",
       "    </tr>\n",
       "  </thead>\n",
       "  <tbody>\n",
       "    <tr>\n",
       "      <th>0</th>\n",
       "      <td>It should be legal for a husband to rape his wife</td>\n",
       "      <td>hate</td>\n",
       "    </tr>\n",
       "    <tr>\n",
       "      <th>1</th>\n",
       "      <td>dalits are lowlife scum</td>\n",
       "      <td>hate</td>\n",
       "    </tr>\n",
       "    <tr>\n",
       "      <th>2</th>\n",
       "      <td>dalits are lowlives</td>\n",
       "      <td>hate</td>\n",
       "    </tr>\n",
       "    <tr>\n",
       "      <th>3</th>\n",
       "      <td>It was a better world when women dare not ques...</td>\n",
       "      <td>hate</td>\n",
       "    </tr>\n",
       "    <tr>\n",
       "      <th>4</th>\n",
       "      <td>I don't work this hard so that those immigrant...</td>\n",
       "      <td>hate</td>\n",
       "    </tr>\n",
       "  </tbody>\n",
       "</table>\n",
       "</div>"
      ],
      "text/plain": [
       "                                                text label\n",
       "0  It should be legal for a husband to rape his wife  hate\n",
       "1                            dalits are lowlife scum  hate\n",
       "2                                dalits are lowlives  hate\n",
       "3  It was a better world when women dare not ques...  hate\n",
       "4  I don't work this hard so that those immigrant...  hate"
      ]
     },
     "execution_count": 134,
     "metadata": {},
     "output_type": "execute_result"
    }
   ],
   "source": [
    "df = pd.read_csv(\"DynamicallyGeneratedHateDataset.csv\")\n",
    "df = df[[\"text\", \"label\"]]\n",
    "df.head()"
   ]
  },
  {
   "cell_type": "code",
   "execution_count": null,
   "metadata": {
    "colab": {
     "base_uri": "https://localhost:8080/"
    },
    "id": "I_Z8q2yFIAxu",
    "outputId": "c3c97b76-80fa-4186-860f-e6551d6106b5"
   },
   "outputs": [
    {
     "data": {
      "text/plain": [
       "False"
      ]
     },
     "execution_count": 135,
     "metadata": {},
     "output_type": "execute_result"
    }
   ],
   "source": [
    "#Ver si se presentan algún campo se encuentra nulo\n",
    "df[[\"text\"]].isnull().values.any()"
   ]
  },
  {
   "cell_type": "markdown",
   "metadata": {
    "id": "L-fs44jsIDdD"
   },
   "source": [
    "### Limpieza y transformación"
   ]
  },
  {
   "cell_type": "code",
   "execution_count": null,
   "metadata": {
    "colab": {
     "base_uri": "https://localhost:8080/"
    },
    "id": "_xJ3whzGID1h",
    "outputId": "8da147cb-a890-46c1-daae-30076c62ebea"
   },
   "outputs": [
    {
     "name": "stderr",
     "output_type": "stream",
     "text": [
      "/usr/local/lib/python3.7/dist-packages/bs4/__init__.py:273: UserWarning: \"b'.'\" looks like a filename, not markup. You should probably open this file and pass the filehandle into Beautiful Soup.\n",
      "  ' Beautiful Soup.' % markup)\n"
     ]
    }
   ],
   "source": [
    "# Lowercase\n",
    "df[\"text_lower\"] = df[\"text\"].str.lower()\n",
    "\n",
    "# Eliminacion de tags html\n",
    "df[\"text_lower\"] = df[\"text_lower\"].apply(lambda x: BeautifulSoup(x, 'html.parser').get_text().strip())\n",
    "\n",
    "# Eliminacion de stopwords y caracteres no alfanumericos\n",
    "df[\"text_sw\"] = df[\"text_lower\"].apply(transform_text)\n",
    "\n",
    "# Lematización\n",
    "df[\"text_lm\"] = df[\"text_sw\"].apply(lemmatizer_text)"
   ]
  },
  {
   "cell_type": "code",
   "execution_count": null,
   "metadata": {
    "colab": {
     "base_uri": "https://localhost:8080/",
     "height": 206
    },
    "id": "6__ykmk8IGnD",
    "outputId": "26f804fc-0e03-4231-b6a6-caac18aa64bf"
   },
   "outputs": [
    {
     "data": {
      "text/html": [
       "<div>\n",
       "<style scoped>\n",
       "    .dataframe tbody tr th:only-of-type {\n",
       "        vertical-align: middle;\n",
       "    }\n",
       "\n",
       "    .dataframe tbody tr th {\n",
       "        vertical-align: top;\n",
       "    }\n",
       "\n",
       "    .dataframe thead th {\n",
       "        text-align: right;\n",
       "    }\n",
       "</style>\n",
       "<table border=\"1\" class=\"dataframe\">\n",
       "  <thead>\n",
       "    <tr style=\"text-align: right;\">\n",
       "      <th></th>\n",
       "      <th>text</th>\n",
       "      <th>text_lower</th>\n",
       "      <th>text_sw</th>\n",
       "      <th>text_lm</th>\n",
       "    </tr>\n",
       "  </thead>\n",
       "  <tbody>\n",
       "    <tr>\n",
       "      <th>0</th>\n",
       "      <td>It should be legal for a husband to rape his wife</td>\n",
       "      <td>it should be legal for a husband to rape his wife</td>\n",
       "      <td>legal husband rape wife</td>\n",
       "      <td>legal husband rape wife</td>\n",
       "    </tr>\n",
       "    <tr>\n",
       "      <th>1</th>\n",
       "      <td>dalits are lowlife scum</td>\n",
       "      <td>dalits are lowlife scum</td>\n",
       "      <td>dalits lowlife scum</td>\n",
       "      <td>dalits lowlife scum</td>\n",
       "    </tr>\n",
       "    <tr>\n",
       "      <th>2</th>\n",
       "      <td>dalits are lowlives</td>\n",
       "      <td>dalits are lowlives</td>\n",
       "      <td>dalits lowlives</td>\n",
       "      <td>dalits lowlives</td>\n",
       "    </tr>\n",
       "    <tr>\n",
       "      <th>3</th>\n",
       "      <td>It was a better world when women dare not ques...</td>\n",
       "      <td>it was a better world when women dare not ques...</td>\n",
       "      <td>better world women dare question men</td>\n",
       "      <td>better world women dare question men</td>\n",
       "    </tr>\n",
       "    <tr>\n",
       "      <th>4</th>\n",
       "      <td>I don't work this hard so that those immigrant...</td>\n",
       "      <td>i don't work this hard so that those immigrant...</td>\n",
       "      <td>nt work hard immigrants take benefits</td>\n",
       "      <td>work hard immigrants take benefit</td>\n",
       "    </tr>\n",
       "  </tbody>\n",
       "</table>\n",
       "</div>"
      ],
      "text/plain": [
       "                                                text  ...                               text_lm\n",
       "0  It should be legal for a husband to rape his wife  ...               legal husband rape wife\n",
       "1                            dalits are lowlife scum  ...                   dalits lowlife scum\n",
       "2                                dalits are lowlives  ...                       dalits lowlives\n",
       "3  It was a better world when women dare not ques...  ...  better world women dare question men\n",
       "4  I don't work this hard so that those immigrant...  ...     work hard immigrants take benefit\n",
       "\n",
       "[5 rows x 4 columns]"
      ]
     },
     "execution_count": 137,
     "metadata": {},
     "output_type": "execute_result"
    }
   ],
   "source": [
    "df[['text','text_lower', 'text_sw', 'text_lm']].head(5)"
   ]
  },
  {
   "cell_type": "code",
   "execution_count": null,
   "metadata": {
    "id": "Mst6Sl97II2R"
   },
   "outputs": [],
   "source": [
    "df[\"label\"].replace(\"hate\", 1, inplace=True)\n",
    "df[\"label\"].replace(\"nothate\", 0, inplace=True)\n",
    "df[\"label\"].replace(\"hate\", 1, inplace=True)\n",
    "df[\"label\"].replace(\"nothate\", 0, inplace=True)"
   ]
  },
  {
   "cell_type": "code",
   "execution_count": null,
   "metadata": {
    "id": "qiaza4lcIJ5q"
   },
   "outputs": [],
   "source": [
    "hate = df[df['label']==1][['text_lm', 'label']]\n",
    "not_hate = df[df['label']== 0][['text_lm', 'label']]"
   ]
  },
  {
   "cell_type": "code",
   "execution_count": null,
   "metadata": {
    "id": "VkxhWukqILH_"
   },
   "outputs": [],
   "source": [
    "hate_arr = hate.to_numpy()\n",
    "nothate_arr = not_hate.to_numpy()\n",
    "\n",
    "X_pos = nothate_arr[:, 0]\n",
    "y_pos = nothate_arr[:, 1]\n",
    "X_neg = hate_arr[:, 0]\n",
    "y_neg = hate_arr[:, 1]"
   ]
  },
  {
   "cell_type": "code",
   "execution_count": null,
   "metadata": {
    "id": "X_hKyaxsIM1L"
   },
   "outputs": [],
   "source": [
    "X_train_pos, X_test_pos, y_train_pos, y_test_pos = train_test_split(X_pos, y_pos, train_size=0.7, random_state=432)\n",
    "X_train_neg, X_test_neg, y_train_neg, y_test_neg = train_test_split(X_neg, y_neg, train_size=0.7, random_state=432)"
   ]
  },
  {
   "cell_type": "code",
   "execution_count": null,
   "metadata": {
    "id": "VpC5vh8eIOEd"
   },
   "outputs": [],
   "source": [
    "X_train = np.concatenate((X_train_pos, X_train_neg))\n",
    "X_test = np.concatenate((X_test_pos, X_test_neg))\n",
    "\n",
    "y_train = np.concatenate((y_train_pos, y_train_neg))\n",
    "y_test = np.concatenate((y_test_pos, y_test_neg))"
   ]
  },
  {
   "cell_type": "code",
   "execution_count": null,
   "metadata": {
    "id": "eiwYPUJMIPUY"
   },
   "outputs": [],
   "source": [
    "raw_embedding = load_embedding_glove('glove.6B.100d.txt')"
   ]
  },
  {
   "cell_type": "code",
   "execution_count": null,
   "metadata": {
    "id": "JsHgl_CCIQsQ"
   },
   "outputs": [],
   "source": [
    "tokenizer = Tokenizer()\n",
    "\n",
    "#Ajustamos el tokenizador sobre el train\n",
    "tokenizer.fit_on_texts(X_train)\n",
    "\n",
    "# Definimos el tamaño del vocabulario\n",
    "vocab_size = len(tokenizer.word_index) + 1"
   ]
  },
  {
   "cell_type": "code",
   "execution_count": null,
   "metadata": {
    "id": "pH39qtYdIR6Q"
   },
   "outputs": [],
   "source": [
    "#Codificamos\n",
    "encoded_docs = tokenizer.texts_to_sequences(X_train)\n",
    "#Pad sequences\n",
    "max_length = max([len(s.split()) for s in X_train])\n",
    "Xtrain = pad_sequences(encoded_docs, maxlen=max_length, padding='post')\n",
    "\n",
    "# fit the tokenizer on the test documents\n",
    "# sequence encode\n",
    "encoded_docs2 = tokenizer.texts_to_sequences(X_test)\n",
    "# pad sequences\n",
    "Xtest = pad_sequences(encoded_docs2, maxlen=max_length, padding='post')"
   ]
  },
  {
   "cell_type": "code",
   "execution_count": null,
   "metadata": {
    "id": "OWu19OluITMT"
   },
   "outputs": [],
   "source": [
    "embedding_vectors = get_weight_matrix_glove(raw_embedding, tokenizer.word_index)"
   ]
  },
  {
   "cell_type": "code",
   "execution_count": null,
   "metadata": {
    "id": "-KD1ayFyIUJI"
   },
   "outputs": [],
   "source": [
    "y_train = np.asarray(y_train).astype('float32')\n",
    "y_test = np.asarray(y_test).astype('float32')"
   ]
  },
  {
   "cell_type": "markdown",
   "metadata": {
    "id": "VoTC7VyqIVps"
   },
   "source": [
    "### Modelo"
   ]
  },
  {
   "cell_type": "code",
   "execution_count": null,
   "metadata": {
    "colab": {
     "base_uri": "https://localhost:8080/"
    },
    "id": "FY8rJF-HIWWd",
    "outputId": "957754b9-a910-42e7-abf7-3b2dc687e954"
   },
   "outputs": [
    {
     "name": "stdout",
     "output_type": "stream",
     "text": [
      "Model: \"sequential_2\"\n",
      "_________________________________________________________________\n",
      "Layer (type)                 Output Shape              Param #   \n",
      "=================================================================\n",
      "embedding_2 (Embedding)      (None, 197, 100)          1536500   \n",
      "_________________________________________________________________\n",
      "lambda_2 (Lambda)            (None, 100)               0         \n",
      "_________________________________________________________________\n",
      "dense_2 (Dense)              (None, 2)                 202       \n",
      "=================================================================\n",
      "Total params: 1,536,702\n",
      "Trainable params: 1,536,702\n",
      "Non-trainable params: 0\n",
      "_________________________________________________________________\n",
      "None\n"
     ]
    }
   ],
   "source": [
    "model = Sequential()\n",
    "\n",
    "model.add(layers.embeddings.Embedding(vocab_size, 100, weights=[embedding_vectors], input_length=max_length, trainable=True))\n",
    "model.add(layers.Lambda(lambda x: keras.backend.mean(x, axis=1)))\n",
    "model.add(layers.Dense(2, activation='relu'))\n",
    "\n",
    "print(model.summary())"
   ]
  },
  {
   "cell_type": "code",
   "execution_count": null,
   "metadata": {
    "id": "_7h75kdSIY3z"
   },
   "outputs": [],
   "source": [
    "model.compile(loss='binary_crossentropy', optimizer='adam', metrics=['accuracy'])"
   ]
  },
  {
   "cell_type": "code",
   "execution_count": null,
   "metadata": {
    "colab": {
     "base_uri": "https://localhost:8080/"
    },
    "id": "9Pp3h9Q-IaBk",
    "outputId": "0d3b1943-c41f-40f4-8ad7-b5284541d0bf"
   },
   "outputs": [
    {
     "name": "stdout",
     "output_type": "stream",
     "text": [
      "Epoch 1/20\n",
      "889/889 [==============================] - 8s 8ms/step - loss: 0.8207 - accuracy: 0.5418 - val_loss: 0.6858 - val_accuracy: 0.5454\n",
      "Epoch 2/20\n",
      "889/889 [==============================] - 7s 8ms/step - loss: 0.6731 - accuracy: 0.5421 - val_loss: 0.6733 - val_accuracy: 0.5341\n",
      "Epoch 3/20\n",
      "889/889 [==============================] - 6s 7ms/step - loss: 0.6564 - accuracy: 0.6069 - val_loss: 0.6619 - val_accuracy: 0.6196\n",
      "Epoch 4/20\n",
      "889/889 [==============================] - 6s 7ms/step - loss: 0.6340 - accuracy: 0.6670 - val_loss: 0.6581 - val_accuracy: 0.6379\n",
      "Epoch 5/20\n",
      "889/889 [==============================] - 6s 7ms/step - loss: 0.6092 - accuracy: 0.6946 - val_loss: 0.6648 - val_accuracy: 0.6434\n",
      "Epoch 6/20\n",
      "889/889 [==============================] - 6s 7ms/step - loss: 0.5865 - accuracy: 0.6939 - val_loss: 0.6910 - val_accuracy: 0.6646\n",
      "Epoch 7/20\n",
      "889/889 [==============================] - 6s 7ms/step - loss: 0.6051 - accuracy: 0.7052 - val_loss: 0.9962 - val_accuracy: 0.5446\n",
      "Epoch 8/20\n",
      "889/889 [==============================] - 6s 7ms/step - loss: 0.5413 - accuracy: 0.6050 - val_loss: 0.7510 - val_accuracy: 0.5021\n",
      "Epoch 9/20\n",
      "889/889 [==============================] - 6s 7ms/step - loss: 0.5154 - accuracy: 0.4038 - val_loss: 0.8159 - val_accuracy: 0.3675\n",
      "Epoch 10/20\n",
      "889/889 [==============================] - 6s 7ms/step - loss: 1.1002 - accuracy: 0.4671 - val_loss: 0.7879 - val_accuracy: 0.5406\n",
      "Epoch 11/20\n",
      "889/889 [==============================] - 6s 7ms/step - loss: 0.4991 - accuracy: 0.4648 - val_loss: 0.8020 - val_accuracy: 0.4212\n",
      "Epoch 12/20\n",
      "889/889 [==============================] - 6s 7ms/step - loss: 0.4843 - accuracy: 0.4020 - val_loss: 0.8306 - val_accuracy: 0.4616\n",
      "Epoch 13/20\n",
      "889/889 [==============================] - 6s 7ms/step - loss: 0.4719 - accuracy: 0.4965 - val_loss: 0.8775 - val_accuracy: 0.5594\n",
      "Epoch 14/20\n",
      "889/889 [==============================] - 6s 7ms/step - loss: 0.4596 - accuracy: 0.6622 - val_loss: 0.9270 - val_accuracy: 0.6299\n",
      "Epoch 15/20\n",
      "889/889 [==============================] - 6s 7ms/step - loss: 0.4532 - accuracy: 0.6653 - val_loss: 0.9919 - val_accuracy: 0.6549\n",
      "Epoch 16/20\n",
      "889/889 [==============================] - 6s 7ms/step - loss: 0.4457 - accuracy: 0.6976 - val_loss: 1.0211 - val_accuracy: 0.6317\n",
      "Epoch 17/20\n",
      "889/889 [==============================] - 7s 8ms/step - loss: 0.4518 - accuracy: 0.6802 - val_loss: 1.0770 - val_accuracy: 0.6505\n",
      "Epoch 18/20\n",
      "889/889 [==============================] - 6s 7ms/step - loss: 0.4219 - accuracy: 0.6924 - val_loss: 1.1306 - val_accuracy: 0.6337\n",
      "Epoch 19/20\n",
      "889/889 [==============================] - 6s 7ms/step - loss: 0.4420 - accuracy: 0.5090 - val_loss: 1.1184 - val_accuracy: 0.4932\n",
      "Epoch 20/20\n",
      "889/889 [==============================] - 7s 8ms/step - loss: 0.8615 - accuracy: 0.5546 - val_loss: 1.3309 - val_accuracy: 0.5585\n"
     ]
    }
   ],
   "source": [
    "history3 = model.fit(\n",
    "    Xtrain, y_train,\n",
    "    epochs=20,\n",
    "    validation_data=(Xtest, y_test),\n",
    "    verbose=1\n",
    ")"
   ]
  },
  {
   "cell_type": "code",
   "execution_count": null,
   "metadata": {
    "colab": {
     "base_uri": "https://localhost:8080/",
     "height": 573
    },
    "id": "CP_HT7JwIbU0",
    "outputId": "a46a0987-178e-43e3-dbad-0985f380d8c8"
   },
   "outputs": [
    {
     "data": {
      "image/png": "[encoded data removed]",
      "text/plain": [
       "<Figure size 432x288 with 1 Axes>"
      ]
     },
     "metadata": {
      "needs_background": "light"
     },
     "output_type": "display_data"
    },
    {
     "data": {
      "image/png": "[encoded data removed]",
      "text/plain": [
       "<Figure size 432x288 with 1 Axes>"
      ]
     },
     "metadata": {
      "needs_background": "light"
     },
     "output_type": "display_data"
    }
   ],
   "source": [
    "plot_history(history3)"
   ]
  },
  {
   "cell_type": "code",
   "execution_count": null,
   "metadata": {
    "colab": {
     "base_uri": "https://localhost:8080/"
    },
    "id": "edMQntiNIcpW",
    "outputId": "b06df0f2-1236-40e3-90d4-a38950ea0e72"
   },
   "outputs": [
    {
     "name": "stdout",
     "output_type": "stream",
     "text": [
      "381/381 [==============================] - 1s 2ms/step - loss: 1.3309 - accuracy: 0.5585\n",
      "Test Accuracy: 55.850017\n"
     ]
    }
   ],
   "source": [
    "# evaluate\n",
    "loss, acc = model.evaluate(Xtest, y_test, verbose=1)\n",
    "print('Test Accuracy: %f' % (acc*100))"
   ]
  },
  {
   "cell_type": "markdown",
   "metadata": {
    "id": "MxGS6esTQX1r"
   },
   "source": [
    "# Parte 2. Desafío"
   ]
  },
  {
   "cell_type": "code",
   "execution_count": null,
   "metadata": {
    "colab": {
     "base_uri": "https://localhost:8080/"
    },
    "id": "BBN79MJlQYoF",
    "outputId": "b2ef2682-4e4f-46be-8fab-79ea36c42a08"
   },
   "outputs": [
    {
     "name": "stdout",
     "output_type": "stream",
     "text": [
      "[nltk_data] Downloading package wordnet to /root/nltk_data...\n",
      "[nltk_data]   Package wordnet is already up-to-date!\n",
      "[nltk_data] Downloading package stopwords to /root/nltk_data...\n",
      "[nltk_data]   Package stopwords is already up-to-date!\n",
      "[nltk_data] Downloading package averaged_perceptron_tagger to\n",
      "[nltk_data]     /root/nltk_data...\n",
      "[nltk_data]   Package averaged_perceptron_tagger is already up-to-\n",
      "[nltk_data]       date!\n"
     ]
    },
    {
     "data": {
      "text/plain": [
       "True"
      ]
     },
     "execution_count": 198,
     "metadata": {},
     "output_type": "execute_result"
    }
   ],
   "source": [
    "import pandas as pd\n",
    "import numpy as np\n",
    "import string\n",
    "import nltk\n",
    "from nltk.corpus import stopwords\n",
    "from sklearn.model_selection import train_test_split\n",
    "#!pip install category_encoders\n",
    "import category_encoders as ce\n",
    "from sklearn.preprocessing import RobustScaler\n",
    "from sklearn.naive_bayes import GaussianNB\n",
    "from sklearn.naive_bayes import MultinomialNB\n",
    "from sklearn.metrics import accuracy_score\n",
    "from sklearn.naive_bayes import BernoulliNB\n",
    "from sklearn.metrics import precision_recall_fscore_support\n",
    "from collections import Counter\n",
    "from nltk.stem.snowball import SnowballStemmer\n",
    "from nltk.corpus import wordnet\n",
    "from nltk.stem import WordNetLemmatizer\n",
    "from sklearn.naive_bayes import MultinomialNB\n",
    "from sklearn.feature_extraction.text import CountVectorizer, TfidfVectorizer\n",
    "\n",
    "nltk.download('wordnet')\n",
    "nltk.download('stopwords') \n",
    "nltk.download('averaged_perceptron_tagger')"
   ]
  },
  {
   "cell_type": "markdown",
   "metadata": {
    "id": "-dHSsd-eB83q"
   },
   "source": [
    "## Preprocesamiento"
   ]
  },
  {
   "cell_type": "code",
   "execution_count": null,
   "metadata": {
    "id": "ipDD_d7jQauF"
   },
   "outputs": [],
   "source": [
    "PUNCT_TO_REMOVE = string.punctuation\n",
    "def remove_punctuation(text):\n",
    "    \"\"\"custom function to remove the punctuation\"\"\"\n",
    "    return text.translate(str.maketrans('', '', PUNCT_TO_REMOVE))\n",
    "\n",
    "STOPWORDS = set(stopwords.words('italian'))\n",
    "def remove_stopwords(text):\n",
    "    \"\"\"custom function to remove the stopwords\"\"\"\n",
    "    return \" \".join([word for word in str(text).split() if word not in STOPWORDS])\n",
    "\n",
    "\n",
    "def common_words(data):\n",
    "    cnt = Counter()\n",
    "    for text in data.values:\n",
    "        for word in text.split():\n",
    "            cnt[word] += 1\n",
    "    return cnt\n",
    "\n",
    "def remove_freqwords(text):\n",
    "    \"\"\"custom function to remove the frequent words\"\"\"\n",
    "    return \" \".join([word for word in str(text).split() if word not in FREQWORDS])\n",
    "\n",
    "stemmer = SnowballStemmer(\"italian\")\n",
    "def stem_words(text):\n",
    "    return \" \".join([stemmer.stem(word) for word in text.split()])\n",
    "\n",
    "lemmatizer = WordNetLemmatizer()\n",
    "wordnet_map = {\"N\":wordnet.NOUN, \"V\":wordnet.VERB, \"J\":wordnet.ADJ, \"R\":wordnet.ADV}\n",
    "def lemmatize_words(text):\n",
    "    pos_tagged_text = nltk.pos_tag(text.split())\n",
    "    return \" \".join([lemmatizer.lemmatize(word, wordnet_map.get(pos[0], wordnet.NOUN)) for word, pos in pos_tagged_text])"
   ]
  },
  {
   "cell_type": "code",
   "execution_count": null,
   "metadata": {
    "id": "wmwAzwpKQce4"
   },
   "outputs": [],
   "source": [
    "data = pd.read_csv(\"ferramenta_competition_train.csv\")\n",
    "test = pd.read_csv(\"ferramenta_competition_test_without_labels.csv\")"
   ]
  },
  {
   "cell_type": "code",
   "execution_count": null,
   "metadata": {
    "id": "Wn5kZ176QeI1"
   },
   "outputs": [],
   "source": [
    "data = data[[\"image\", \"title\", \"description\", \"class\"]]"
   ]
  },
  {
   "cell_type": "code",
   "execution_count": null,
   "metadata": {
    "colab": {
     "base_uri": "https://localhost:8080/",
     "height": 81
    },
    "id": "NVfiHOp4QfjM",
    "outputId": "33c4bfd2-6855-451b-f725-41adb32ce0e6"
   },
   "outputs": [
    {
     "data": {
      "text/html": [
       "<div>\n",
       "<style scoped>\n",
       "    .dataframe tbody tr th:only-of-type {\n",
       "        vertical-align: middle;\n",
       "    }\n",
       "\n",
       "    .dataframe tbody tr th {\n",
       "        vertical-align: top;\n",
       "    }\n",
       "\n",
       "    .dataframe thead th {\n",
       "        text-align: right;\n",
       "    }\n",
       "</style>\n",
       "<table border=\"1\" class=\"dataframe\">\n",
       "  <thead>\n",
       "    <tr style=\"text-align: right;\">\n",
       "      <th></th>\n",
       "      <th>image</th>\n",
       "      <th>title</th>\n",
       "      <th>description</th>\n",
       "      <th>class</th>\n",
       "    </tr>\n",
       "  </thead>\n",
       "  <tbody>\n",
       "    <tr>\n",
       "      <th>0</th>\n",
       "      <td>181587231.jpg</td>\n",
       "      <td>record irwin irwin record 96 morsa da banco pe...</td>\n",
       "      <td>irwin record 96 morsa da banco per tubi 3 152 mm</td>\n",
       "      <td>_@morsetto_strettoio_</td>\n",
       "    </tr>\n",
       "  </tbody>\n",
       "</table>\n",
       "</div>"
      ],
      "text/plain": [
       "           image  ...                  class\n",
       "0  181587231.jpg  ...  _@morsetto_strettoio_\n",
       "\n",
       "[1 rows x 4 columns]"
      ]
     },
     "execution_count": 202,
     "metadata": {},
     "output_type": "execute_result"
    }
   ],
   "source": [
    "data.head(1)"
   ]
  },
  {
   "cell_type": "code",
   "execution_count": null,
   "metadata": {
    "id": "Fmwg99sSQhIq"
   },
   "outputs": [],
   "source": [
    "test = test[[\"image\", \"title\", \"description\"]]"
   ]
  },
  {
   "cell_type": "code",
   "execution_count": null,
   "metadata": {
    "colab": {
     "base_uri": "https://localhost:8080/",
     "height": 81
    },
    "id": "jFIpFjV0QhHB",
    "outputId": "2486994e-3525-45ba-a7f4-4f6806ab1333"
   },
   "outputs": [
    {
     "data": {
      "text/html": [
       "<div>\n",
       "<style scoped>\n",
       "    .dataframe tbody tr th:only-of-type {\n",
       "        vertical-align: middle;\n",
       "    }\n",
       "\n",
       "    .dataframe tbody tr th {\n",
       "        vertical-align: top;\n",
       "    }\n",
       "\n",
       "    .dataframe thead th {\n",
       "        text-align: right;\n",
       "    }\n",
       "</style>\n",
       "<table border=\"1\" class=\"dataframe\">\n",
       "  <thead>\n",
       "    <tr style=\"text-align: right;\">\n",
       "      <th></th>\n",
       "      <th>image</th>\n",
       "      <th>title</th>\n",
       "      <th>description</th>\n",
       "    </tr>\n",
       "  </thead>\n",
       "  <tbody>\n",
       "    <tr>\n",
       "      <th>0</th>\n",
       "      <td>193298868.jpg</td>\n",
       "      <td>durlach magnat plus morsa da banco con mds 160...</td>\n",
       "      <td>durlach magnat plus morsa da banco con mds 160...</td>\n",
       "    </tr>\n",
       "  </tbody>\n",
       "</table>\n",
       "</div>"
      ],
      "text/plain": [
       "           image  ...                                        description\n",
       "0  193298868.jpg  ...  durlach magnat plus morsa da banco con mds 160...\n",
       "\n",
       "[1 rows x 3 columns]"
      ]
     },
     "execution_count": 204,
     "metadata": {},
     "output_type": "execute_result"
    }
   ],
   "source": [
    "test.head(1)"
   ]
  },
  {
   "cell_type": "code",
   "execution_count": null,
   "metadata": {
    "id": "rCWyT59dQk3C"
   },
   "outputs": [],
   "source": [
    "data[\"description\"] = data[\"description\"].str.lower()\n",
    "data[\"description\"] = data[\"description\"].apply(lambda text: remove_punctuation(text))\n",
    "data[\"description\"] = data[\"description\"].apply(lambda text: remove_stopwords(text))\n",
    "cnt = Counter()\n",
    "for text in data[\"description\"].values:\n",
    "    for word in text.split():\n",
    "        cnt[word] += 1\n",
    "FREQWORDS = set([w for (w, wc) in cnt.most_common(10)])\n",
    "data[\"description\"] = data[\"description\"].apply(lambda text: remove_freqwords(text))\n",
    "data[\"description\"] = data[\"description\"].apply(lambda text: lemmatize_words(text))"
   ]
  },
  {
   "cell_type": "code",
   "execution_count": null,
   "metadata": {
    "id": "9-2i8kgAQmdg"
   },
   "outputs": [],
   "source": [
    "data[\"title\"] = data[\"title\"].str.lower()\n",
    "data[\"title\"] = data[\"title\"].apply(lambda text: remove_punctuation(text))\n",
    "data[\"title\"] = data[\"title\"].apply(lambda text: remove_stopwords(text))\n",
    "cnt = Counter()\n",
    "for text in data[\"title\"].values:\n",
    "    for word in text.split():\n",
    "        cnt[word] += 1\n",
    "FREQWORDS = set([w for (w, wc) in cnt.most_common(10)])\n",
    "data[\"title\"] = data[\"title\"].apply(lambda text: remove_freqwords(text))\n",
    "data[\"title\"] = data[\"title\"].apply(lambda text: lemmatize_words(text))"
   ]
  },
  {
   "cell_type": "code",
   "execution_count": null,
   "metadata": {
    "id": "jmio5aEwQofy"
   },
   "outputs": [],
   "source": [
    "test[\"description\"] = test[\"description\"].str.lower()\n",
    "test[\"description\"] = test[\"description\"].apply(lambda text: remove_punctuation(text))\n",
    "test[\"description\"] = test[\"description\"].apply(lambda text: remove_stopwords(text))\n",
    "cnt = Counter()\n",
    "for text in test[\"description\"].values:\n",
    "    for word in text.split():\n",
    "        cnt[word] += 1\n",
    "FREQWORDS = set([w for (w, wc) in cnt.most_common(10)])\n",
    "test[\"description\"] = test[\"description\"].apply(lambda text: remove_freqwords(text))\n",
    "test[\"description\"] = test[\"description\"].apply(lambda text: lemmatize_words(text))"
   ]
  },
  {
   "cell_type": "code",
   "execution_count": null,
   "metadata": {
    "id": "T8A_n8p-QqP7"
   },
   "outputs": [],
   "source": [
    "test[\"title\"] = test[\"title\"].str.lower()\n",
    "test[\"title\"] = test[\"title\"].apply(lambda text: remove_punctuation(text))\n",
    "test[\"title\"] = test[\"title\"].apply(lambda text: remove_stopwords(text))\n",
    "cnt = Counter()\n",
    "for text in test[\"title\"].values:\n",
    "    for word in text.split():\n",
    "        cnt[word] += 1\n",
    "FREQWORDS = set([w for (w, wc) in cnt.most_common(10)])\n",
    "test[\"title\"] = test[\"title\"].apply(lambda text: remove_freqwords(text))\n",
    "test[\"title\"] = test[\"title\"].apply(lambda text: lemmatize_words(text))"
   ]
  },
  {
   "cell_type": "code",
   "execution_count": null,
   "metadata": {
    "id": "WVB0UDbqQrdx"
   },
   "outputs": [],
   "source": [
    "X_train = data[[\"title\", \"description\"]]\n",
    "y_train = data[[\"class\"]]"
   ]
  },
  {
   "cell_type": "code",
   "execution_count": null,
   "metadata": {
    "id": "Eo6Yf6loQs6w"
   },
   "outputs": [],
   "source": [
    "tokenizer = TfidfVectorizer().build_tokenizer() #Return a function that splits a string into a sequence of tokens considering unicode characters\n",
    "stemmer = SnowballStemmer(\"italian\") \n",
    "lemmatizer = WordNetLemmatizer()\n",
    "\n",
    "##stop-words: el vectorizador ya las remueve pero para mostrar las palabras más frecuente tiene sentido activarlo\n",
    "remove_stops_here = False\n",
    "\n",
    "def my_pre_processer(text, debug = False):\n",
    "    results = []\n",
    "    if (debug):\n",
    "        print(\"Tokenizer result: \", tokenizer(text))\n",
    "    for token in tokenizer(text):\n",
    "        clean_token = token.lower().strip('-').strip('_')\n",
    "        if remove_stops_here and (clean_token in stopwords.words('italian')):\n",
    "          continue\n",
    "        #token_pro = stemmer.stem(clean_token) #podemos probar stemming en vez de lematizacion\n",
    "        token_pro = lemmatizer.lemmatize(clean_token) \n",
    "        if len(token_pro) > 2 and not token_pro[0].isdigit(): #elimina palabra largo menor a 2\n",
    "            results.append(token_pro)\n",
    "    return results"
   ]
  },
  {
   "cell_type": "code",
   "execution_count": null,
   "metadata": {
    "id": "ZF5yHCPsQum4"
   },
   "outputs": [],
   "source": [
    "max_features = 10000 \n",
    "max_df = 0.8\n",
    "min_df = 21\n",
    "\n",
    "### NUMBER OF N GRAMS TO CONSIDER\n",
    "# Contar ya no las veces que ocurren las palabras, sino contar las\n",
    "# veces que aparecer conjuntos de palabras. Que sea 1 es que solo 1 palabra. Si es > 1 se hace lento el procesamiento.\n",
    "ngram_max = 1"
   ]
  },
  {
   "cell_type": "code",
   "execution_count": null,
   "metadata": {
    "id": "kyDGKA4lQv7T"
   },
   "outputs": [],
   "source": [
    "def data_sets(X_train, y_train, test, val_split=False):\n",
    "    if val_split:\n",
    "        X_train, X_val, y_train, y_val = train_test_split(X_train, y_train, test_size=0.2, random_state=432)\n",
    "        \n",
    "        #Fit a X_train[\"title\"] y transform a train, val y test\n",
    "        vectorizer = CountVectorizer(stop_words=STOPWORDS, tokenizer=my_pre_processer,min_df=min_df, max_df=max_df, max_features=max_features,\n",
    "                              binary=False, ngram_range=(1, ngram_max))\n",
    "        vectorizer.fit(X_train['title'])\n",
    "        X_title = vectorizer.transform(X_train['title'])\n",
    "        X_val_title = vectorizer.transform(X_val['title'])\n",
    "        X_test_title = vectorizer.transform(test['title'])\n",
    "        \n",
    "        #Fit a X_train[\"description\"] y transform a train, val y test\n",
    "        vectorizer = CountVectorizer(stop_words=STOPWORDS, tokenizer=my_pre_processer,min_df=min_df, max_df=max_df, max_features=max_features,\n",
    "                              binary=False, ngram_range=(1, ngram_max))\n",
    "        vectorizer.fit(X_train['description']) \n",
    "        X_desc = vectorizer.transform(X_train['description'])\n",
    "        X_val_desc = vectorizer.transform(X_val['description'])\n",
    "        X_test_desc = vectorizer.transform(test['description'])\n",
    "        \n",
    "        X_t = X_title.todense()\n",
    "        X_d = X_desc.todense()\n",
    "        X_train = np.hstack((X_t, X_d))\n",
    "        \n",
    "        X_val_desc = X_val_desc.todense()\n",
    "        X_val_title = X_val_title.todense()\n",
    "        X_val = np.hstack((X_val_title, X_val_desc))\n",
    "        \n",
    "        X_test_desc = X_test_desc.todense()\n",
    "        X_test_title = X_test_title.todense()\n",
    "        X_test = np.hstack((X_test_title, X_test_desc))\n",
    "        \n",
    "        return X_train, X_val, X_test, y_train, y_val\n",
    "    else:\n",
    "        #Fit a X_train[\"title\"] y transform a train y test\n",
    "        vectorizer = CountVectorizer(stop_words=STOPWORDS, tokenizer=my_pre_processer,min_df=min_df, max_df=max_df, max_features=max_features,\n",
    "                              binary=False, ngram_range=(1, ngram_max))\n",
    "        vectorizer.fit(X_train['title'])\n",
    "        X_title = vectorizer.transform(X_train['title'])\n",
    "        X_test_title = vectorizer.transform(test['title'])\n",
    "        \n",
    "        #Fit a X_train[\"description\"] y transform a train y test\n",
    "        vectorizer = CountVectorizer(stop_words=STOPWORDS, tokenizer=my_pre_processer,min_df=min_df, max_df=max_df, max_features=max_features,\n",
    "                              binary=False, ngram_range=(1, ngram_max))\n",
    "        vectorizer.fit(X_train['description']) \n",
    "        X_desc = vectorizer.transform(X_train['description'])\n",
    "        X_test_desc = vectorizer.transform(test['description'])\n",
    "        \n",
    "        X_t = X_title.todense()\n",
    "        X_d = X_desc.todense()\n",
    "        X_train = np.hstack((X_t, X_d))\n",
    "        \n",
    "        X_test_desc = X_test_desc.todense()\n",
    "        X_test_title = X_test_title.todense()\n",
    "        X_test = np.hstack((X_test_title, X_test_desc))\n",
    "        \n",
    "        return X_train, None, X_test, y_train, None"
   ]
  },
  {
   "cell_type": "code",
   "execution_count": null,
   "metadata": {
    "colab": {
     "base_uri": "https://localhost:8080/"
    },
    "id": "KNC_Iw5eQxlX",
    "outputId": "d74aeb80-e253-4bc4-ac0d-5c8b0944a30c"
   },
   "outputs": [
    {
     "name": "stderr",
     "output_type": "stream",
     "text": [
      "/usr/local/lib/python3.7/dist-packages/sklearn/feature_extraction/text.py:507: UserWarning: The parameter 'token_pattern' will not be used since 'tokenizer' is not None'\n",
      "  warnings.warn(\"The parameter 'token_pattern' will not be used\"\n",
      "/usr/local/lib/python3.7/dist-packages/sklearn/feature_extraction/text.py:385: UserWarning: Your stop_words may be inconsistent with your preprocessing. Tokenizing the stop words generated tokens ['quantum'] not in stop_words.\n",
      "  'stop_words.' % sorted(inconsistent))\n"
     ]
    }
   ],
   "source": [
    "# val_split=False para hacer submissions\n",
    "# val_split=True para testear con validation\n",
    "X_train, X_val, X_test, y_train, y_val = data_sets(X_train, y_train, test, val_split=True)"
   ]
  },
  {
   "cell_type": "markdown",
   "metadata": {
    "id": "EC9ca44_Q05B"
   },
   "source": [
    "## Entrenamiento de modelo"
   ]
  },
  {
   "cell_type": "code",
   "execution_count": null,
   "metadata": {
    "colab": {
     "base_uri": "https://localhost:8080/"
    },
    "id": "PDDj4eycQytr",
    "outputId": "c62e416e-e9ac-4e33-8e3c-f2136ef62f3f"
   },
   "outputs": [
    {
     "name": "stderr",
     "output_type": "stream",
     "text": [
      "/usr/local/lib/python3.7/dist-packages/sklearn/utils/validation.py:760: DataConversionWarning: A column-vector y was passed when a 1d array was expected. Please change the shape of y to (n_samples, ), for example using ravel().\n",
      "  y = column_or_1d(y, warn=True)\n"
     ]
    },
    {
     "data": {
      "text/plain": [
       "MultinomialNB(alpha=1.0, class_prior=None, fit_prior=True)"
      ]
     },
     "execution_count": 214,
     "metadata": {},
     "output_type": "execute_result"
    }
   ],
   "source": [
    "model = MultinomialNB()\n",
    "model.fit(X_train, y_train)"
   ]
  },
  {
   "cell_type": "markdown",
   "metadata": {
    "id": "fHKcOVetQ4YC"
   },
   "source": [
    "## Predicción"
   ]
  },
  {
   "cell_type": "code",
   "execution_count": null,
   "metadata": {
    "colab": {
     "base_uri": "https://localhost:8080/"
    },
    "id": "H11jFwkeQ43G",
    "outputId": "09aecb27-f484-4704-cd94-441f61c6d587"
   },
   "outputs": [
    {
     "name": "stdout",
     "output_type": "stream",
     "text": [
      "0.899009900990099\n"
     ]
    }
   ],
   "source": [
    "if X_val.any():\n",
    "    predictions = model.predict(X_val)\n",
    "    predictions = predictions.flatten()\n",
    "    print(accuracy_score(predictions, y_val))\n",
    "else:\n",
    "    predictions = model.predict(X_test)\n",
    "    predictions = predictions.flatten()"
   ]
  },
  {
   "cell_type": "code",
   "execution_count": null,
   "metadata": {
    "colab": {
     "base_uri": "https://localhost:8080/"
    },
    "id": "ohIOAbbQQ7e9",
    "outputId": "cf6615d5-d2ed-4ccb-fd32-a31beb3bc5ac"
   },
   "outputs": [
    {
     "data": {
      "text/plain": [
       "array(['_@cazzuola_frattone_', '_@cerniera_bandella_', '_@pinzetta_',\n",
       "       '_@chiavistello_', '_@spazzola_', '_@staffa_squadretta_',\n",
       "       '_@staffa_squadretta_', '_@bancale_cargo_', '_@collare_',\n",
       "       '_@staffa_squadretta_', '_@cerniera_bandella_',\n",
       "       '_@morsetto_strettoio_', '_@coltello_', '_@staffa_squadretta_',\n",
       "       '_@chiodo_rivetto_', '_@spazzola_', '_@staffa_squadretta_',\n",
       "       '_@pinzetta_', '_@spazzola_', '_@chiodo_rivetto_', '_@collare_',\n",
       "       '_@pinzetta_', '_@spatola_raschietto_', '_@pennello_',\n",
       "       '_@spazzola_', '_@chiodo_rivetto_', '_@estrattore_',\n",
       "       '_@accessori_saldatore_', '_@spazzola_', '_@morsetto_strettoio_',\n",
       "       '_@chiodo_rivetto_', '_@accessori_saldatore_',\n",
       "       '_@cerniera_bandella_', '_@vernice_', '_@pinzetta_', '_@vernice_',\n",
       "       '_@cerniera_bandella_', '_@spatola_raschietto_',\n",
       "       '_@cerniera_bandella_', '_@chiodo_rivetto_',\n",
       "       '_@cerniera_bandella_', '_@spazzola_', '_@chiavistello_',\n",
       "       '_@pinzetta_', '_@spazzola_', '_@morsetto_strettoio_',\n",
       "       '_@pinzetta_', '_@cerniera_bandella_', '_@spatola_raschietto_',\n",
       "       '_@collare_', '_@pinzetta_', '_@morsetto_strettoio_',\n",
       "       '_@spatola_raschietto_', '_@staffa_squadretta_',\n",
       "       '_@morsetto_strettoio_', '_@staffa_squadretta_', '_@pinzetta_',\n",
       "       '_@coltello_', '_@spatola_raschietto_', '_@spatola_raschietto_',\n",
       "       '_@pinzetta_', '_@cerniera_bandella_', '_@estrattore_',\n",
       "       '_@vernice_', '_@cerniera_bandella_', '_@chiodo_rivetto_',\n",
       "       '_@chiodo_rivetto_', '_@vernice_', '_@coltello_',\n",
       "       '_@bancale_cargo_', '_@collare_', '_@cerniera_bandella_',\n",
       "       '_@staffa_squadretta_', '_@cerniera_bandella_',\n",
       "       '_@morsetto_strettoio_', '_@chiodo_rivetto_',\n",
       "       '_@cerniera_bandella_', '_@chiodo_rivetto_',\n",
       "       '_@staffa_squadretta_', '_@bancale_cargo_', '_@staffa_squadretta_',\n",
       "       '_@staffa_squadretta_', '_@vernice_', '_@coltello_',\n",
       "       '_@bancale_cargo_', '_@spazzola_', '_@vernice_',\n",
       "       '_@cazzuola_frattone_', '_@cerniera_bandella_', '_@pinzetta_',\n",
       "       '_@accessori_saldatore_', '_@staffa_squadretta_',\n",
       "       '_@morsetto_strettoio_', '_@staffa_squadretta_', '_@pinzetta_',\n",
       "       '_@spazzola_', '_@pinzetta_', '_@pennello_',\n",
       "       '_@morsetto_strettoio_', '_@morsetto_strettoio_',\n",
       "       '_@staffa_squadretta_', '_@spazzola_', '_@accessori_saldatore_',\n",
       "       '_@accessori_saldatore_', '_@coltello_', '_@cerniera_bandella_',\n",
       "       '_@staffa_squadretta_', '_@vernice_', '_@pinzetta_',\n",
       "       '_@morsetto_strettoio_', '_@pinzetta_', '_@vernice_',\n",
       "       '_@chiavistello_', '_@vernice_', '_@collare_',\n",
       "       '_@accessori_saldatore_', '_@pennello_', '_@spazzola_',\n",
       "       '_@bancale_cargo_', '_@cerniera_bandella_',\n",
       "       '_@morsetto_strettoio_', '_@vernice_', '_@spazzola_',\n",
       "       '_@staffa_squadretta_', '_@vernice_', '_@pennello_',\n",
       "       '_@morsetto_strettoio_', '_@accessori_saldatore_', '_@vernice_',\n",
       "       '_@spatola_raschietto_', '_@pinzetta_', '_@accessori_saldatore_',\n",
       "       '_@staffa_squadretta_', '_@cerniera_bandella_', '_@vernice_',\n",
       "       '_@staffa_squadretta_', '_@chiavistello_', '_@staffa_squadretta_',\n",
       "       '_@spatola_raschietto_', '_@vernice_', '_@pinzetta_', '_@collare_',\n",
       "       '_@staffa_squadretta_', '_@staffa_squadretta_', '_@spazzola_',\n",
       "       '_@spazzola_', '_@estrattore_', '_@pinzetta_', '_@vernice_',\n",
       "       '_@pennello_', '_@estrattore_', '_@vernice_', '_@coltello_',\n",
       "       '_@staffa_squadretta_', '_@estrattore_', '_@chiodo_rivetto_',\n",
       "       '_@staffa_squadretta_', '_@pinzetta_', '_@estrattore_',\n",
       "       '_@pennello_', '_@chiodo_rivetto_', '_@pennello_', '_@pinzetta_',\n",
       "       '_@chiodo_rivetto_', '_@spazzola_', '_@chiodo_rivetto_',\n",
       "       '_@spatola_raschietto_', '_@estrattore_', '_@pennello_',\n",
       "       '_@staffa_squadretta_', '_@coltello_', '_@chiodo_rivetto_',\n",
       "       '_@staffa_squadretta_', '_@chiavistello_', '_@morsetto_strettoio_',\n",
       "       '_@accessori_saldatore_', '_@pennello_', '_@chiavistello_',\n",
       "       '_@pinzetta_', '_@bancale_cargo_', '_@spatola_raschietto_',\n",
       "       '_@pinzetta_', '_@estrattore_', '_@vernice_', '_@pennello_',\n",
       "       '_@cerniera_bandella_', '_@pinzetta_', '_@collare_',\n",
       "       '_@spatola_raschietto_', '_@pinzetta_', '_@coltello_',\n",
       "       '_@collare_', '_@cerniera_bandella_', '_@cerniera_bandella_',\n",
       "       '_@pinzetta_', '_@collare_', '_@cazzuola_frattone_',\n",
       "       '_@staffa_squadretta_', '_@coltello_', '_@pinzetta_',\n",
       "       '_@morsetto_strettoio_', '_@cazzuola_frattone_', '_@spazzola_',\n",
       "       '_@morsetto_strettoio_', '_@spazzola_', '_@staffa_squadretta_',\n",
       "       '_@spatola_raschietto_', '_@vernice_', '_@spazzola_',\n",
       "       '_@cazzuola_frattone_', '_@morsetto_strettoio_',\n",
       "       '_@chiodo_rivetto_', '_@chiodo_rivetto_', '_@collare_',\n",
       "       '_@chiavistello_', '_@pinzetta_', '_@morsetto_strettoio_',\n",
       "       '_@morsetto_strettoio_', '_@accessori_saldatore_',\n",
       "       '_@cazzuola_frattone_', '_@staffa_squadretta_', '_@pinzetta_',\n",
       "       '_@pennello_', '_@estrattore_', '_@accessori_saldatore_',\n",
       "       '_@coltello_', '_@chiavistello_', '_@vernice_', '_@collare_',\n",
       "       '_@staffa_squadretta_', '_@cerniera_bandella_',\n",
       "       '_@morsetto_strettoio_', '_@chiodo_rivetto_',\n",
       "       '_@spatola_raschietto_', '_@coltello_', '_@collare_',\n",
       "       '_@staffa_squadretta_', '_@pennello_', '_@pennello_',\n",
       "       '_@staffa_squadretta_', '_@collare_', '_@staffa_squadretta_',\n",
       "       '_@coltello_', '_@vernice_', '_@vernice_', '_@pennello_',\n",
       "       '_@accessori_saldatore_', '_@spatola_raschietto_',\n",
       "       '_@cerniera_bandella_', '_@morsetto_strettoio_', '_@collare_',\n",
       "       '_@chiavistello_', '_@collare_', '_@chiodo_rivetto_', '_@vernice_',\n",
       "       '_@pinzetta_', '_@pennello_', '_@staffa_squadretta_',\n",
       "       '_@bancale_cargo_', '_@pinzetta_', '_@cerniera_bandella_',\n",
       "       '_@estrattore_', '_@morsetto_strettoio_', '_@vernice_',\n",
       "       '_@pinzetta_', '_@vernice_', '_@spazzola_', '_@estrattore_',\n",
       "       '_@collare_', '_@cazzuola_frattone_', '_@estrattore_',\n",
       "       '_@cerniera_bandella_', '_@spazzola_', '_@accessori_saldatore_',\n",
       "       '_@vernice_', '_@morsetto_strettoio_', '_@pinzetta_',\n",
       "       '_@chiodo_rivetto_', '_@spazzola_', '_@cerniera_bandella_',\n",
       "       '_@morsetto_strettoio_', '_@cerniera_bandella_',\n",
       "       '_@bancale_cargo_', '_@staffa_squadretta_', '_@chiodo_rivetto_',\n",
       "       '_@cerniera_bandella_', '_@morsetto_strettoio_',\n",
       "       '_@staffa_squadretta_', '_@staffa_squadretta_', '_@spazzola_',\n",
       "       '_@chiodo_rivetto_', '_@coltello_', '_@spatola_raschietto_',\n",
       "       '_@staffa_squadretta_', '_@accessori_saldatore_', '_@vernice_',\n",
       "       '_@pinzetta_', '_@cazzuola_frattone_', '_@pinzetta_',\n",
       "       '_@cerniera_bandella_', '_@coltello_', '_@spatola_raschietto_',\n",
       "       '_@accessori_saldatore_', '_@morsetto_strettoio_',\n",
       "       '_@morsetto_strettoio_', '_@pinzetta_', '_@cazzuola_frattone_',\n",
       "       '_@bancale_cargo_', '_@cazzuola_frattone_', '_@vernice_',\n",
       "       '_@vernice_', '_@spatola_raschietto_', '_@pennello_', '_@vernice_',\n",
       "       '_@cerniera_bandella_', '_@accessori_saldatore_', '_@estrattore_',\n",
       "       '_@morsetto_strettoio_', '_@pennello_', '_@bancale_cargo_',\n",
       "       '_@coltello_', '_@collare_', '_@spazzola_',\n",
       "       '_@morsetto_strettoio_', '_@spatola_raschietto_',\n",
       "       '_@chiodo_rivetto_', '_@accessori_saldatore_', '_@estrattore_',\n",
       "       '_@morsetto_strettoio_', '_@vernice_', '_@staffa_squadretta_',\n",
       "       '_@coltello_', '_@chiavistello_', '_@pinzetta_', '_@pennello_',\n",
       "       '_@spazzola_', '_@cerniera_bandella_', '_@spazzola_',\n",
       "       '_@pennello_', '_@morsetto_strettoio_', '_@spatola_raschietto_',\n",
       "       '_@cerniera_bandella_', '_@estrattore_', '_@pennello_',\n",
       "       '_@collare_', '_@staffa_squadretta_', '_@vernice_',\n",
       "       '_@cerniera_bandella_', '_@collare_', '_@staffa_squadretta_',\n",
       "       '_@staffa_squadretta_', '_@chiodo_rivetto_',\n",
       "       '_@morsetto_strettoio_', '_@cerniera_bandella_',\n",
       "       '_@cerniera_bandella_', '_@accessori_saldatore_',\n",
       "       '_@morsetto_strettoio_', '_@cerniera_bandella_',\n",
       "       '_@spatola_raschietto_', '_@cerniera_bandella_', '_@vernice_',\n",
       "       '_@bancale_cargo_', '_@chiavistello_', '_@collare_',\n",
       "       '_@staffa_squadretta_', '_@morsetto_strettoio_', '_@spazzola_',\n",
       "       '_@staffa_squadretta_', '_@spazzola_', '_@vernice_',\n",
       "       '_@estrattore_', '_@estrattore_', '_@chiodo_rivetto_',\n",
       "       '_@spatola_raschietto_', '_@cazzuola_frattone_',\n",
       "       '_@morsetto_strettoio_', '_@cerniera_bandella_',\n",
       "       '_@morsetto_strettoio_', '_@coltello_', '_@vernice_',\n",
       "       '_@cerniera_bandella_', '_@vernice_', '_@vernice_',\n",
       "       '_@bancale_cargo_', '_@morsetto_strettoio_',\n",
       "       '_@morsetto_strettoio_', '_@collare_', '_@collare_', '_@spazzola_',\n",
       "       '_@cazzuola_frattone_', '_@spazzola_', '_@morsetto_strettoio_',\n",
       "       '_@staffa_squadretta_', '_@staffa_squadretta_', '_@collare_',\n",
       "       '_@morsetto_strettoio_', '_@vernice_', '_@staffa_squadretta_',\n",
       "       '_@pinzetta_', '_@staffa_squadretta_', '_@vernice_',\n",
       "       '_@cerniera_bandella_', '_@morsetto_strettoio_', '_@vernice_',\n",
       "       '_@cerniera_bandella_', '_@pennello_', '_@vernice_', '_@pinzetta_',\n",
       "       '_@spatola_raschietto_', '_@bancale_cargo_', '_@vernice_',\n",
       "       '_@bancale_cargo_', '_@spazzola_', '_@staffa_squadretta_',\n",
       "       '_@cerniera_bandella_', '_@cerniera_bandella_',\n",
       "       '_@cerniera_bandella_', '_@estrattore_', '_@cerniera_bandella_',\n",
       "       '_@accessori_saldatore_', '_@morsetto_strettoio_',\n",
       "       '_@morsetto_strettoio_', '_@vernice_', '_@cerniera_bandella_',\n",
       "       '_@vernice_', '_@vernice_', '_@chiavistello_',\n",
       "       '_@morsetto_strettoio_', '_@cazzuola_frattone_', '_@vernice_',\n",
       "       '_@vernice_', '_@pinzetta_', '_@estrattore_',\n",
       "       '_@staffa_squadretta_', '_@morsetto_strettoio_',\n",
       "       '_@cerniera_bandella_', '_@pinzetta_', '_@spazzola_',\n",
       "       '_@morsetto_strettoio_', '_@spazzola_', '_@estrattore_',\n",
       "       '_@cerniera_bandella_', '_@spazzola_', '_@morsetto_strettoio_',\n",
       "       '_@cerniera_bandella_', '_@coltello_', '_@staffa_squadretta_',\n",
       "       '_@coltello_', '_@spazzola_', '_@vernice_', '_@pinzetta_',\n",
       "       '_@cerniera_bandella_', '_@accessori_saldatore_', '_@pennello_',\n",
       "       '_@cerniera_bandella_', '_@pinzetta_', '_@cerniera_bandella_',\n",
       "       '_@pennello_', '_@spatola_raschietto_', '_@estrattore_',\n",
       "       '_@pennello_', '_@morsetto_strettoio_', '_@spatola_raschietto_',\n",
       "       '_@coltello_', '_@staffa_squadretta_', '_@cazzuola_frattone_',\n",
       "       '_@pinzetta_', '_@morsetto_strettoio_', '_@spatola_raschietto_',\n",
       "       '_@bancale_cargo_', '_@staffa_squadretta_',\n",
       "       '_@morsetto_strettoio_', '_@cerniera_bandella_', '_@pinzetta_',\n",
       "       '_@chiodo_rivetto_', '_@morsetto_strettoio_', '_@spazzola_',\n",
       "       '_@cerniera_bandella_', '_@cerniera_bandella_',\n",
       "       '_@cerniera_bandella_', '_@coltello_', '_@spazzola_',\n",
       "       '_@morsetto_strettoio_', '_@chiodo_rivetto_', '_@pinzetta_',\n",
       "       '_@cazzuola_frattone_', '_@morsetto_strettoio_',\n",
       "       '_@cerniera_bandella_', '_@staffa_squadretta_',\n",
       "       '_@cerniera_bandella_', '_@staffa_squadretta_',\n",
       "       '_@accessori_saldatore_', '_@cerniera_bandella_',\n",
       "       '_@cerniera_bandella_', '_@bancale_cargo_', '_@pennello_',\n",
       "       '_@estrattore_', '_@morsetto_strettoio_', '_@accessori_saldatore_',\n",
       "       '_@collare_', '_@morsetto_strettoio_', '_@morsetto_strettoio_',\n",
       "       '_@cazzuola_frattone_', '_@cerniera_bandella_', '_@vernice_'],\n",
       "      dtype='<U22')"
      ]
     },
     "execution_count": 216,
     "metadata": {},
     "output_type": "execute_result"
    }
   ],
   "source": [
    "predictions"
   ]
  },
  {
   "cell_type": "markdown",
   "metadata": {
    "id": "ng4DYgmjQ-u7"
   },
   "source": [
    "## Resultados a CSV\n",
    "(Correr solamente cuando val_split = False)"
   ]
  },
  {
   "cell_type": "code",
   "execution_count": null,
   "metadata": {
    "id": "c78GfL6YQ_LD"
   },
   "outputs": [],
   "source": [
    "if not X_val:\n",
    "    df = pd.DataFrame({\n",
    "        \"image\": test[\"image\"],\n",
    "        \"class\": predictions\n",
    "    })\n",
    "    df.to_csv(\"rakim_ken-y_don-omar_3.csv\", index=False)"
   ]
  },
  {
   "cell_type": "markdown",
   "metadata": {
    "id": "998a1MREgg0g"
   },
   "source": [
    "#Declaración de Honestidad\n",
    "\n",
    "Como grupo se declara que este trabajo es 100% frutos del esfuerzo de los 3 integrantes de este grupo, apoyados con las referencias, ya sean los links mencionados y la ayudantía. El desarrollo de este trabajo fue de la siguiente manera: Rodrigo Cayazaya junto a Jean-Franco Zárate trabajaron realizando todo lo relacionado a Naive Bayes mientras que Ethiel Carmona trabajó con lo relacionado a AWE, de tal manera de optimizar el trabajo y poder comparar los resultados. El desafío se realizó en conjunto."
   ]
  },
  {
   "cell_type": "markdown",
   "metadata": {
    "id": "aU91DZONtmh6"
   },
   "source": [
    "#Video explicación\n",
    "https://youtu.be/rxgS_4VpC2I"
   ]
  }
 ],
 "metadata": {
  "accelerator": "GPU",
  "colab": {
   "collapsed_sections": [
    "Fyf-ehE_OCeB",
    "bmVvmNjKJWkj",
    "uQP5KbRyFmKM",
    "CXsgQCp-OBXW",
    "ZP0SvqCWF9PV",
    "MxGS6esTQX1r"
   ],
   "name": "Taller1ML.ipynb",
   "provenance": [],
   "toc_visible": true
  },
  "kernelspec": {
   "display_name": "Python 3 (ipykernel)",
   "language": "python",
   "name": "python3"
  },
  "language_info": {
   "codemirror_mode": {
    "name": "ipython",
    "version": 3
   },
   "file_extension": ".py",
   "mimetype": "text/x-python",
   "name": "python",
   "nbconvert_exporter": "python",
   "pygments_lexer": "ipython3",
   "version": "3.9.7"
  }
 },
 "nbformat": 4,
 "nbformat_minor": 1
}
